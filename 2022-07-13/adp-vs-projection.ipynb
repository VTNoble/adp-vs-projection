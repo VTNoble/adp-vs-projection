{
 "cells": [
  {
   "cell_type": "markdown",
   "id": "69d3f861",
   "metadata": {},
   "source": [
    "# Analysis of ADP data and projected statistics / fantasy production\n",
    "\n",
    "* This analysis uses PPR ADP data provided by the Sleeper APP on July 13, 2022 and stat projections provided by Pro Football Focus at the time of analysis."
   ]
  },
  {
   "cell_type": "code",
   "execution_count": 27,
   "id": "18e5e371",
   "metadata": {},
   "outputs": [],
   "source": [
    "# Dependencies\n",
    "import pandas as pd\n",
    "import plotly.express as px"
   ]
  },
  {
   "cell_type": "code",
   "execution_count": 28,
   "id": "0f0ab125",
   "metadata": {},
   "outputs": [],
   "source": [
    "# Files to load\n",
    "adp_csv = 'data/adp.csv'\n",
    "proj_csv = 'data/projections.csv'\n",
    "\n",
    "# Read in data from csv files and store into DataFrames\n",
    "adp_data = pd.read_csv(adp_csv)\n",
    "proj_data = pd.read_csv(proj_csv)"
   ]
  },
  {
   "cell_type": "code",
   "execution_count": 29,
   "id": "efdac4dd",
   "metadata": {},
   "outputs": [
    {
     "data": {
      "text/html": [
       "<div>\n",
       "<style scoped>\n",
       "    .dataframe tbody tr th:only-of-type {\n",
       "        vertical-align: middle;\n",
       "    }\n",
       "\n",
       "    .dataframe tbody tr th {\n",
       "        vertical-align: top;\n",
       "    }\n",
       "\n",
       "    .dataframe thead th {\n",
       "        text-align: right;\n",
       "    }\n",
       "</style>\n",
       "<table border=\"1\" class=\"dataframe\">\n",
       "  <thead>\n",
       "    <tr style=\"text-align: right;\">\n",
       "      <th></th>\n",
       "      <th>Date</th>\n",
       "      <th>Redraft PPR ADP</th>\n",
       "      <th>Redraft SF ADP</th>\n",
       "      <th>Redraft Half PPR ADP</th>\n",
       "      <th>Dynasty PPR ADP</th>\n",
       "      <th>Dynasty SF ADP</th>\n",
       "      <th>Dynasty Half PPR ADP</th>\n",
       "      <th>IDP ADP</th>\n",
       "      <th>Player Team</th>\n",
       "      <th>Player First Name</th>\n",
       "      <th>Player Last Name</th>\n",
       "      <th>Fantasy Player Positions</th>\n",
       "      <th>Player Id</th>\n",
       "      <th>Positional Rank</th>\n",
       "    </tr>\n",
       "  </thead>\n",
       "  <tbody>\n",
       "    <tr>\n",
       "      <th>0</th>\n",
       "      <td>13-Jul-22</td>\n",
       "      <td>20.3</td>\n",
       "      <td>1.9</td>\n",
       "      <td>17.5</td>\n",
       "      <td>13.5</td>\n",
       "      <td>1.5</td>\n",
       "      <td>15.2</td>\n",
       "      <td>2.4</td>\n",
       "      <td>BUF</td>\n",
       "      <td>Josh</td>\n",
       "      <td>Allen</td>\n",
       "      <td>QB</td>\n",
       "      <td>4984</td>\n",
       "      <td>QB1</td>\n",
       "    </tr>\n",
       "    <tr>\n",
       "      <th>1</th>\n",
       "      <td>13-Jul-22</td>\n",
       "      <td>31.0</td>\n",
       "      <td>4.8</td>\n",
       "      <td>29.9</td>\n",
       "      <td>23.8</td>\n",
       "      <td>2.0</td>\n",
       "      <td>23.6</td>\n",
       "      <td>6.8</td>\n",
       "      <td>KC</td>\n",
       "      <td>Patrick</td>\n",
       "      <td>Mahomes</td>\n",
       "      <td>QB</td>\n",
       "      <td>4046</td>\n",
       "      <td>QB2</td>\n",
       "    </tr>\n",
       "    <tr>\n",
       "      <th>2</th>\n",
       "      <td>13-Jul-22</td>\n",
       "      <td>34.8</td>\n",
       "      <td>3.4</td>\n",
       "      <td>33.7</td>\n",
       "      <td>24.4</td>\n",
       "      <td>3.8</td>\n",
       "      <td>24.5</td>\n",
       "      <td>5.7</td>\n",
       "      <td>LAC</td>\n",
       "      <td>Justin</td>\n",
       "      <td>Herbert</td>\n",
       "      <td>QB</td>\n",
       "      <td>6797</td>\n",
       "      <td>QB3</td>\n",
       "    </tr>\n",
       "    <tr>\n",
       "      <th>3</th>\n",
       "      <td>13-Jul-22</td>\n",
       "      <td>1.3</td>\n",
       "      <td>2.7</td>\n",
       "      <td>1.4</td>\n",
       "      <td>1.0</td>\n",
       "      <td>4.9</td>\n",
       "      <td>1.1</td>\n",
       "      <td>1.9</td>\n",
       "      <td>IND</td>\n",
       "      <td>Jonathan</td>\n",
       "      <td>Taylor</td>\n",
       "      <td>RB</td>\n",
       "      <td>6813</td>\n",
       "      <td>RB1</td>\n",
       "    </tr>\n",
       "    <tr>\n",
       "      <th>4</th>\n",
       "      <td>13-Jul-22</td>\n",
       "      <td>53.7</td>\n",
       "      <td>6.2</td>\n",
       "      <td>53.9</td>\n",
       "      <td>33.1</td>\n",
       "      <td>5.4</td>\n",
       "      <td>33.2</td>\n",
       "      <td>8.3</td>\n",
       "      <td>CIN</td>\n",
       "      <td>Joe</td>\n",
       "      <td>Burrow</td>\n",
       "      <td>QB</td>\n",
       "      <td>6770</td>\n",
       "      <td>QB4</td>\n",
       "    </tr>\n",
       "  </tbody>\n",
       "</table>\n",
       "</div>"
      ],
      "text/plain": [
       "        Date  Redraft PPR ADP  Redraft SF ADP  Redraft Half PPR ADP  \\\n",
       "0  13-Jul-22             20.3             1.9                  17.5   \n",
       "1  13-Jul-22             31.0             4.8                  29.9   \n",
       "2  13-Jul-22             34.8             3.4                  33.7   \n",
       "3  13-Jul-22              1.3             2.7                   1.4   \n",
       "4  13-Jul-22             53.7             6.2                  53.9   \n",
       "\n",
       "   Dynasty PPR ADP  Dynasty SF ADP  Dynasty Half PPR ADP  IDP ADP Player Team  \\\n",
       "0             13.5             1.5                  15.2      2.4         BUF   \n",
       "1             23.8             2.0                  23.6      6.8          KC   \n",
       "2             24.4             3.8                  24.5      5.7         LAC   \n",
       "3              1.0             4.9                   1.1      1.9         IND   \n",
       "4             33.1             5.4                  33.2      8.3         CIN   \n",
       "\n",
       "  Player First Name Player Last Name Fantasy Player Positions Player Id  \\\n",
       "0              Josh            Allen                       QB      4984   \n",
       "1           Patrick          Mahomes                       QB      4046   \n",
       "2            Justin          Herbert                       QB      6797   \n",
       "3          Jonathan           Taylor                       RB      6813   \n",
       "4               Joe           Burrow                       QB      6770   \n",
       "\n",
       "  Positional Rank  \n",
       "0             QB1  \n",
       "1             QB2  \n",
       "2             QB3  \n",
       "3             RB1  \n",
       "4             QB4  "
      ]
     },
     "execution_count": 29,
     "metadata": {},
     "output_type": "execute_result"
    },
    {
     "data": {
      "text/html": [
       "<div>\n",
       "<style scoped>\n",
       "    .dataframe tbody tr th:only-of-type {\n",
       "        vertical-align: middle;\n",
       "    }\n",
       "\n",
       "    .dataframe tbody tr th {\n",
       "        vertical-align: top;\n",
       "    }\n",
       "\n",
       "    .dataframe thead th {\n",
       "        text-align: right;\n",
       "    }\n",
       "</style>\n",
       "<table border=\"1\" class=\"dataframe\">\n",
       "  <thead>\n",
       "    <tr style=\"text-align: right;\">\n",
       "      <th></th>\n",
       "      <th>Date</th>\n",
       "      <th>Redraft PPR ADP</th>\n",
       "      <th>Redraft SF ADP</th>\n",
       "      <th>Redraft Half PPR ADP</th>\n",
       "      <th>Dynasty PPR ADP</th>\n",
       "      <th>Dynasty SF ADP</th>\n",
       "      <th>Dynasty Half PPR ADP</th>\n",
       "      <th>IDP ADP</th>\n",
       "      <th>Player Team</th>\n",
       "      <th>Player First Name</th>\n",
       "      <th>Player Last Name</th>\n",
       "      <th>Fantasy Player Positions</th>\n",
       "      <th>Player Id</th>\n",
       "      <th>Positional Rank</th>\n",
       "    </tr>\n",
       "  </thead>\n",
       "  <tbody>\n",
       "    <tr>\n",
       "      <th>0</th>\n",
       "      <td>13-Jul-22</td>\n",
       "      <td>20.3</td>\n",
       "      <td>1.9</td>\n",
       "      <td>17.5</td>\n",
       "      <td>13.5</td>\n",
       "      <td>1.5</td>\n",
       "      <td>15.2</td>\n",
       "      <td>2.4</td>\n",
       "      <td>BUF</td>\n",
       "      <td>Josh</td>\n",
       "      <td>Allen</td>\n",
       "      <td>QB</td>\n",
       "      <td>4984</td>\n",
       "      <td>QB1</td>\n",
       "    </tr>\n",
       "    <tr>\n",
       "      <th>1</th>\n",
       "      <td>13-Jul-22</td>\n",
       "      <td>31.0</td>\n",
       "      <td>4.8</td>\n",
       "      <td>29.9</td>\n",
       "      <td>23.8</td>\n",
       "      <td>2.0</td>\n",
       "      <td>23.6</td>\n",
       "      <td>6.8</td>\n",
       "      <td>KC</td>\n",
       "      <td>Patrick</td>\n",
       "      <td>Mahomes</td>\n",
       "      <td>QB</td>\n",
       "      <td>4046</td>\n",
       "      <td>QB2</td>\n",
       "    </tr>\n",
       "    <tr>\n",
       "      <th>2</th>\n",
       "      <td>13-Jul-22</td>\n",
       "      <td>34.8</td>\n",
       "      <td>3.4</td>\n",
       "      <td>33.7</td>\n",
       "      <td>24.4</td>\n",
       "      <td>3.8</td>\n",
       "      <td>24.5</td>\n",
       "      <td>5.7</td>\n",
       "      <td>LAC</td>\n",
       "      <td>Justin</td>\n",
       "      <td>Herbert</td>\n",
       "      <td>QB</td>\n",
       "      <td>6797</td>\n",
       "      <td>QB3</td>\n",
       "    </tr>\n",
       "    <tr>\n",
       "      <th>3</th>\n",
       "      <td>13-Jul-22</td>\n",
       "      <td>1.3</td>\n",
       "      <td>2.7</td>\n",
       "      <td>1.4</td>\n",
       "      <td>1.0</td>\n",
       "      <td>4.9</td>\n",
       "      <td>1.1</td>\n",
       "      <td>1.9</td>\n",
       "      <td>IND</td>\n",
       "      <td>Jonathan</td>\n",
       "      <td>Taylor</td>\n",
       "      <td>RB</td>\n",
       "      <td>6813</td>\n",
       "      <td>RB1</td>\n",
       "    </tr>\n",
       "    <tr>\n",
       "      <th>4</th>\n",
       "      <td>13-Jul-22</td>\n",
       "      <td>53.7</td>\n",
       "      <td>6.2</td>\n",
       "      <td>53.9</td>\n",
       "      <td>33.1</td>\n",
       "      <td>5.4</td>\n",
       "      <td>33.2</td>\n",
       "      <td>8.3</td>\n",
       "      <td>CIN</td>\n",
       "      <td>Joe</td>\n",
       "      <td>Burrow</td>\n",
       "      <td>QB</td>\n",
       "      <td>6770</td>\n",
       "      <td>QB4</td>\n",
       "    </tr>\n",
       "  </tbody>\n",
       "</table>\n",
       "</div>"
      ],
      "text/plain": [
       "        Date  Redraft PPR ADP  Redraft SF ADP  Redraft Half PPR ADP  \\\n",
       "0  13-Jul-22             20.3             1.9                  17.5   \n",
       "1  13-Jul-22             31.0             4.8                  29.9   \n",
       "2  13-Jul-22             34.8             3.4                  33.7   \n",
       "3  13-Jul-22              1.3             2.7                   1.4   \n",
       "4  13-Jul-22             53.7             6.2                  53.9   \n",
       "\n",
       "   Dynasty PPR ADP  Dynasty SF ADP  Dynasty Half PPR ADP  IDP ADP Player Team  \\\n",
       "0             13.5             1.5                  15.2      2.4         BUF   \n",
       "1             23.8             2.0                  23.6      6.8          KC   \n",
       "2             24.4             3.8                  24.5      5.7         LAC   \n",
       "3              1.0             4.9                   1.1      1.9         IND   \n",
       "4             33.1             5.4                  33.2      8.3         CIN   \n",
       "\n",
       "  Player First Name Player Last Name Fantasy Player Positions Player Id  \\\n",
       "0              Josh            Allen                       QB      4984   \n",
       "1           Patrick          Mahomes                       QB      4046   \n",
       "2            Justin          Herbert                       QB      6797   \n",
       "3          Jonathan           Taylor                       RB      6813   \n",
       "4               Joe           Burrow                       QB      6770   \n",
       "\n",
       "  Positional Rank  \n",
       "0             QB1  \n",
       "1             QB2  \n",
       "2             QB3  \n",
       "3             RB1  \n",
       "4             QB4  "
      ]
     },
     "execution_count": 29,
     "metadata": {},
     "output_type": "execute_result"
    }
   ],
   "source": [
    "# preview adp\n",
    "adp_data.head()"
   ]
  },
  {
   "cell_type": "code",
   "execution_count": 30,
   "id": "4ae9835e",
   "metadata": {},
   "outputs": [
    {
     "data": {
      "text/html": [
       "<div>\n",
       "<style scoped>\n",
       "    .dataframe tbody tr th:only-of-type {\n",
       "        vertical-align: middle;\n",
       "    }\n",
       "\n",
       "    .dataframe tbody tr th {\n",
       "        vertical-align: top;\n",
       "    }\n",
       "\n",
       "    .dataframe thead th {\n",
       "        text-align: right;\n",
       "    }\n",
       "</style>\n",
       "<table border=\"1\" class=\"dataframe\">\n",
       "  <thead>\n",
       "    <tr style=\"text-align: right;\">\n",
       "      <th></th>\n",
       "      <th>playerName</th>\n",
       "      <th>teamName</th>\n",
       "      <th>position</th>\n",
       "      <th>adp</th>\n",
       "    </tr>\n",
       "  </thead>\n",
       "  <tbody>\n",
       "    <tr>\n",
       "      <th>0</th>\n",
       "      <td>Josh Allen</td>\n",
       "      <td>BUF</td>\n",
       "      <td>QB</td>\n",
       "      <td>17.5</td>\n",
       "    </tr>\n",
       "    <tr>\n",
       "      <th>1</th>\n",
       "      <td>Patrick Mahomes</td>\n",
       "      <td>KC</td>\n",
       "      <td>QB</td>\n",
       "      <td>29.9</td>\n",
       "    </tr>\n",
       "    <tr>\n",
       "      <th>2</th>\n",
       "      <td>Justin Herbert</td>\n",
       "      <td>LAC</td>\n",
       "      <td>QB</td>\n",
       "      <td>33.7</td>\n",
       "    </tr>\n",
       "    <tr>\n",
       "      <th>3</th>\n",
       "      <td>Jonathan Taylor</td>\n",
       "      <td>IND</td>\n",
       "      <td>RB</td>\n",
       "      <td>1.4</td>\n",
       "    </tr>\n",
       "    <tr>\n",
       "      <th>4</th>\n",
       "      <td>Joe Burrow</td>\n",
       "      <td>CIN</td>\n",
       "      <td>QB</td>\n",
       "      <td>53.9</td>\n",
       "    </tr>\n",
       "  </tbody>\n",
       "</table>\n",
       "</div>"
      ],
      "text/plain": [
       "        playerName teamName position   adp\n",
       "0       Josh Allen      BUF       QB  17.5\n",
       "1  Patrick Mahomes       KC       QB  29.9\n",
       "2   Justin Herbert      LAC       QB  33.7\n",
       "3  Jonathan Taylor      IND       RB   1.4\n",
       "4       Joe Burrow      CIN       QB  53.9"
      ]
     },
     "execution_count": 30,
     "metadata": {},
     "output_type": "execute_result"
    },
    {
     "data": {
      "text/html": [
       "<div>\n",
       "<style scoped>\n",
       "    .dataframe tbody tr th:only-of-type {\n",
       "        vertical-align: middle;\n",
       "    }\n",
       "\n",
       "    .dataframe tbody tr th {\n",
       "        vertical-align: top;\n",
       "    }\n",
       "\n",
       "    .dataframe thead th {\n",
       "        text-align: right;\n",
       "    }\n",
       "</style>\n",
       "<table border=\"1\" class=\"dataframe\">\n",
       "  <thead>\n",
       "    <tr style=\"text-align: right;\">\n",
       "      <th></th>\n",
       "      <th>playerName</th>\n",
       "      <th>teamName</th>\n",
       "      <th>position</th>\n",
       "      <th>adp</th>\n",
       "    </tr>\n",
       "  </thead>\n",
       "  <tbody>\n",
       "    <tr>\n",
       "      <th>0</th>\n",
       "      <td>Josh Allen</td>\n",
       "      <td>BUF</td>\n",
       "      <td>QB</td>\n",
       "      <td>17.5</td>\n",
       "    </tr>\n",
       "    <tr>\n",
       "      <th>1</th>\n",
       "      <td>Patrick Mahomes</td>\n",
       "      <td>KC</td>\n",
       "      <td>QB</td>\n",
       "      <td>29.9</td>\n",
       "    </tr>\n",
       "    <tr>\n",
       "      <th>2</th>\n",
       "      <td>Justin Herbert</td>\n",
       "      <td>LAC</td>\n",
       "      <td>QB</td>\n",
       "      <td>33.7</td>\n",
       "    </tr>\n",
       "    <tr>\n",
       "      <th>3</th>\n",
       "      <td>Jonathan Taylor</td>\n",
       "      <td>IND</td>\n",
       "      <td>RB</td>\n",
       "      <td>1.4</td>\n",
       "    </tr>\n",
       "    <tr>\n",
       "      <th>4</th>\n",
       "      <td>Joe Burrow</td>\n",
       "      <td>CIN</td>\n",
       "      <td>QB</td>\n",
       "      <td>53.9</td>\n",
       "    </tr>\n",
       "  </tbody>\n",
       "</table>\n",
       "</div>"
      ],
      "text/plain": [
       "        playerName teamName position   adp\n",
       "0       Josh Allen      BUF       QB  17.5\n",
       "1  Patrick Mahomes       KC       QB  29.9\n",
       "2   Justin Herbert      LAC       QB  33.7\n",
       "3  Jonathan Taylor      IND       RB   1.4\n",
       "4       Joe Burrow      CIN       QB  53.9"
      ]
     },
     "execution_count": 30,
     "metadata": {},
     "output_type": "execute_result"
    }
   ],
   "source": [
    "# trim to only include relevant columns. preserve adp_data as the original dataframe from csv.\n",
    "adp_df = adp_data[['Player First Name', 'Player Last Name', 'Player Team', 'Fantasy Player Positions', 'Redraft Half PPR ADP']]\n",
    "\n",
    "# rename columns\n",
    "cols = {\n",
    "    'Player First Name': 'firstName',\n",
    "    'Player Last Name': 'lastName',\n",
    "    'Player Team': 'teamName',\n",
    "    'Fantasy Player Positions': 'position',\n",
    "    'Redraft Half PPR ADP': 'adp'    \n",
    "}\n",
    "\n",
    "adp_df = adp_df.rename(columns = cols)\n",
    "\n",
    "# add column with full name\n",
    "# \n",
    "adp_df['playerName'] = adp_df[\"firstName\"].map(str) + \" \" + adp_df[\"lastName\"].map(str)\n",
    "\n",
    "# remove first and last name columns as they are not needed for merge. reorder columns.\n",
    "adp_df = adp_df[['playerName', 'teamName', 'position', 'adp']]\n",
    "\n",
    "# preview new df\n",
    "adp_df.head()"
   ]
  },
  {
   "cell_type": "code",
   "execution_count": 31,
   "id": "bbde7372",
   "metadata": {},
   "outputs": [],
   "source": [
    "# preview projections\n",
    "#proj_data.head()"
   ]
  },
  {
   "cell_type": "code",
   "execution_count": 32,
   "id": "5fa6af1b",
   "metadata": {},
   "outputs": [
    {
     "data": {
      "text/html": [
       "<div>\n",
       "<style scoped>\n",
       "    .dataframe tbody tr th:only-of-type {\n",
       "        vertical-align: middle;\n",
       "    }\n",
       "\n",
       "    .dataframe tbody tr th {\n",
       "        vertical-align: top;\n",
       "    }\n",
       "\n",
       "    .dataframe thead th {\n",
       "        text-align: right;\n",
       "    }\n",
       "</style>\n",
       "<table border=\"1\" class=\"dataframe\">\n",
       "  <thead>\n",
       "    <tr style=\"text-align: right;\">\n",
       "      <th></th>\n",
       "      <th>playerName</th>\n",
       "      <th>teamName</th>\n",
       "      <th>fantasyPoints</th>\n",
       "    </tr>\n",
       "  </thead>\n",
       "  <tbody>\n",
       "    <tr>\n",
       "      <th>0</th>\n",
       "      <td>Christian McCaffrey</td>\n",
       "      <td>CAR</td>\n",
       "      <td>327.8</td>\n",
       "    </tr>\n",
       "    <tr>\n",
       "      <th>1</th>\n",
       "      <td>Derrick Henry</td>\n",
       "      <td>TEN</td>\n",
       "      <td>314.3</td>\n",
       "    </tr>\n",
       "    <tr>\n",
       "      <th>2</th>\n",
       "      <td>Najee Harris</td>\n",
       "      <td>PIT</td>\n",
       "      <td>296.7</td>\n",
       "    </tr>\n",
       "    <tr>\n",
       "      <th>3</th>\n",
       "      <td>Alvin Kamara</td>\n",
       "      <td>NO</td>\n",
       "      <td>295.4</td>\n",
       "    </tr>\n",
       "    <tr>\n",
       "      <th>4</th>\n",
       "      <td>Dalvin Cook</td>\n",
       "      <td>MIN</td>\n",
       "      <td>294.0</td>\n",
       "    </tr>\n",
       "  </tbody>\n",
       "</table>\n",
       "</div>"
      ],
      "text/plain": [
       "            playerName teamName  fantasyPoints\n",
       "0  Christian McCaffrey      CAR          327.8\n",
       "1        Derrick Henry      TEN          314.3\n",
       "2         Najee Harris      PIT          296.7\n",
       "3         Alvin Kamara       NO          295.4\n",
       "4          Dalvin Cook      MIN          294.0"
      ]
     },
     "execution_count": 32,
     "metadata": {},
     "output_type": "execute_result"
    },
    {
     "data": {
      "text/html": [
       "<div>\n",
       "<style scoped>\n",
       "    .dataframe tbody tr th:only-of-type {\n",
       "        vertical-align: middle;\n",
       "    }\n",
       "\n",
       "    .dataframe tbody tr th {\n",
       "        vertical-align: top;\n",
       "    }\n",
       "\n",
       "    .dataframe thead th {\n",
       "        text-align: right;\n",
       "    }\n",
       "</style>\n",
       "<table border=\"1\" class=\"dataframe\">\n",
       "  <thead>\n",
       "    <tr style=\"text-align: right;\">\n",
       "      <th></th>\n",
       "      <th>playerName</th>\n",
       "      <th>teamName</th>\n",
       "      <th>fantasyPoints</th>\n",
       "    </tr>\n",
       "  </thead>\n",
       "  <tbody>\n",
       "    <tr>\n",
       "      <th>0</th>\n",
       "      <td>Christian McCaffrey</td>\n",
       "      <td>CAR</td>\n",
       "      <td>327.8</td>\n",
       "    </tr>\n",
       "    <tr>\n",
       "      <th>1</th>\n",
       "      <td>Derrick Henry</td>\n",
       "      <td>TEN</td>\n",
       "      <td>314.3</td>\n",
       "    </tr>\n",
       "    <tr>\n",
       "      <th>2</th>\n",
       "      <td>Najee Harris</td>\n",
       "      <td>PIT</td>\n",
       "      <td>296.7</td>\n",
       "    </tr>\n",
       "    <tr>\n",
       "      <th>3</th>\n",
       "      <td>Alvin Kamara</td>\n",
       "      <td>NO</td>\n",
       "      <td>295.4</td>\n",
       "    </tr>\n",
       "    <tr>\n",
       "      <th>4</th>\n",
       "      <td>Dalvin Cook</td>\n",
       "      <td>MIN</td>\n",
       "      <td>294.0</td>\n",
       "    </tr>\n",
       "  </tbody>\n",
       "</table>\n",
       "</div>"
      ],
      "text/plain": [
       "            playerName teamName  fantasyPoints\n",
       "0  Christian McCaffrey      CAR          327.8\n",
       "1        Derrick Henry      TEN          314.3\n",
       "2         Najee Harris      PIT          296.7\n",
       "3         Alvin Kamara       NO          295.4\n",
       "4          Dalvin Cook      MIN          294.0"
      ]
     },
     "execution_count": 32,
     "metadata": {},
     "output_type": "execute_result"
    }
   ],
   "source": [
    "# trim to only include relevant columns. preserve proj_data as the original dataframe from csv.\n",
    "# for this df we only really need name, team and fantasy points\n",
    "proj_df = proj_data[['playerName', 'teamName', 'fantasyPoints']]\n",
    "\n",
    "# preview new df\n",
    "proj_df.head()"
   ]
  },
  {
   "cell_type": "markdown",
   "id": "4743d770",
   "metadata": {},
   "source": [
    "### Check to make sure teamName abbreviations match"
   ]
  },
  {
   "cell_type": "code",
   "execution_count": 33,
   "id": "d3859cc1",
   "metadata": {},
   "outputs": [],
   "source": [
    "# create lists of unique team names in adp_df\n",
    "a_teams = list(adp_df['teamName'].unique())"
   ]
  },
  {
   "cell_type": "code",
   "execution_count": 34,
   "id": "8a949df0",
   "metadata": {},
   "outputs": [],
   "source": [
    "# create lists of unique team names in proj_df\n",
    "p_teams = list(proj_df['teamName'].unique())"
   ]
  },
  {
   "cell_type": "code",
   "execution_count": 35,
   "id": "1a74fa02",
   "metadata": {},
   "outputs": [
    {
     "name": "stdout",
     "output_type": "stream",
     "text": [
      "ARI\n",
      "BAL\n",
      "LAR\n",
      "CLE\n",
      "HOU\n",
      "ARI\n",
      "BAL\n",
      "LAR\n",
      "CLE\n",
      "HOU\n"
     ]
    }
   ],
   "source": [
    "# All teamNames in the adp data should be in the proj data\n",
    "# Loop to print teamNames that are in adp but not proj data\n",
    "\n",
    "for team in a_teams:\n",
    "    if team not in p_teams:\n",
    "        print(team)"
   ]
  },
  {
   "cell_type": "code",
   "execution_count": 36,
   "id": "84d0499d",
   "metadata": {},
   "outputs": [
    {
     "data": {
      "text/plain": [
       "['CAR',\n",
       " 'TEN',\n",
       " 'PIT',\n",
       " 'NO',\n",
       " 'MIN',\n",
       " 'LA',\n",
       " 'IND',\n",
       " 'LAC',\n",
       " 'KC',\n",
       " 'TB',\n",
       " 'DET',\n",
       " 'DAL',\n",
       " 'NYG',\n",
       " 'CIN',\n",
       " 'BLT',\n",
       " 'GB',\n",
       " 'BUF',\n",
       " 'LV',\n",
       " 'JAX',\n",
       " 'ARZ',\n",
       " 'CLV',\n",
       " 'CHI',\n",
       " 'MIA',\n",
       " 'SF',\n",
       " 'DEN',\n",
       " 'ATL',\n",
       " 'PHI',\n",
       " 'WAS',\n",
       " 'SEA',\n",
       " 'HST',\n",
       " 'NYJ',\n",
       " 'NE']"
      ]
     },
     "execution_count": 36,
     "metadata": {},
     "output_type": "execute_result"
    },
    {
     "data": {
      "text/plain": [
       "['CAR',\n",
       " 'TEN',\n",
       " 'PIT',\n",
       " 'NO',\n",
       " 'MIN',\n",
       " 'LA',\n",
       " 'IND',\n",
       " 'LAC',\n",
       " 'KC',\n",
       " 'TB',\n",
       " 'DET',\n",
       " 'DAL',\n",
       " 'NYG',\n",
       " 'CIN',\n",
       " 'BLT',\n",
       " 'GB',\n",
       " 'BUF',\n",
       " 'LV',\n",
       " 'JAX',\n",
       " 'ARZ',\n",
       " 'CLV',\n",
       " 'CHI',\n",
       " 'MIA',\n",
       " 'SF',\n",
       " 'DEN',\n",
       " 'ATL',\n",
       " 'PHI',\n",
       " 'WAS',\n",
       " 'SEA',\n",
       " 'HST',\n",
       " 'NYJ',\n",
       " 'NE']"
      ]
     },
     "execution_count": 36,
     "metadata": {},
     "output_type": "execute_result"
    }
   ],
   "source": [
    "# look at p_teams to identify mismatches\n",
    "p_teams"
   ]
  },
  {
   "cell_type": "code",
   "execution_count": 37,
   "id": "a57851bc",
   "metadata": {},
   "outputs": [],
   "source": [
    "# dictionary with names to rename\n",
    "rename_dict = {\n",
    "            'ARZ' : 'ARI',\n",
    "            'BLT' : 'BAL',\n",
    "            'LA' : 'LAR',\n",
    "            'CLV' : 'CLE',\n",
    "            'HST' : 'HOU'\n",
    "            }\n",
    "\n",
    "# rename countries in population dataframe\n",
    "proj_df = proj_df.replace({\"teamName\": rename_dict})"
   ]
  },
  {
   "cell_type": "code",
   "execution_count": 38,
   "id": "36240ac1",
   "metadata": {},
   "outputs": [],
   "source": [
    "# Confirm mistmatches have been resolved\n",
    "\n",
    "# create lists of unique team names in adp_df\n",
    "a_teams = list(adp_df['teamName'].unique())\n",
    "\n",
    "# create lists of unique team names in proj_df\n",
    "p_teams = list(proj_df['teamName'].unique())\n",
    "\n",
    "# All teamNames in the adp data should be in the proj data\n",
    "# Loop to print teamNames that are in adp but not proj data\n",
    "\n",
    "for team in a_teams:\n",
    "    if team not in p_teams:\n",
    "        print(team)"
   ]
  },
  {
   "cell_type": "code",
   "execution_count": 39,
   "id": "5af0b221",
   "metadata": {},
   "outputs": [
    {
     "data": {
      "text/html": [
       "<div>\n",
       "<style scoped>\n",
       "    .dataframe tbody tr th:only-of-type {\n",
       "        vertical-align: middle;\n",
       "    }\n",
       "\n",
       "    .dataframe tbody tr th {\n",
       "        vertical-align: top;\n",
       "    }\n",
       "\n",
       "    .dataframe thead th {\n",
       "        text-align: right;\n",
       "    }\n",
       "</style>\n",
       "<table border=\"1\" class=\"dataframe\">\n",
       "  <thead>\n",
       "    <tr style=\"text-align: right;\">\n",
       "      <th></th>\n",
       "      <th>playerName</th>\n",
       "      <th>teamName</th>\n",
       "      <th>position</th>\n",
       "      <th>adp</th>\n",
       "      <th>fantasyPoints</th>\n",
       "    </tr>\n",
       "  </thead>\n",
       "  <tbody>\n",
       "    <tr>\n",
       "      <th>0</th>\n",
       "      <td>Josh Allen</td>\n",
       "      <td>BUF</td>\n",
       "      <td>QB</td>\n",
       "      <td>17.5</td>\n",
       "      <td>415.9</td>\n",
       "    </tr>\n",
       "    <tr>\n",
       "      <th>1</th>\n",
       "      <td>Patrick Mahomes</td>\n",
       "      <td>KC</td>\n",
       "      <td>QB</td>\n",
       "      <td>29.9</td>\n",
       "      <td>369.4</td>\n",
       "    </tr>\n",
       "    <tr>\n",
       "      <th>2</th>\n",
       "      <td>Justin Herbert</td>\n",
       "      <td>LAC</td>\n",
       "      <td>QB</td>\n",
       "      <td>33.7</td>\n",
       "      <td>358.0</td>\n",
       "    </tr>\n",
       "    <tr>\n",
       "      <th>3</th>\n",
       "      <td>Jonathan Taylor</td>\n",
       "      <td>IND</td>\n",
       "      <td>RB</td>\n",
       "      <td>1.4</td>\n",
       "      <td>275.0</td>\n",
       "    </tr>\n",
       "    <tr>\n",
       "      <th>4</th>\n",
       "      <td>Joe Burrow</td>\n",
       "      <td>CIN</td>\n",
       "      <td>QB</td>\n",
       "      <td>53.9</td>\n",
       "      <td>329.0</td>\n",
       "    </tr>\n",
       "  </tbody>\n",
       "</table>\n",
       "</div>"
      ],
      "text/plain": [
       "        playerName teamName position   adp  fantasyPoints\n",
       "0       Josh Allen      BUF       QB  17.5          415.9\n",
       "1  Patrick Mahomes       KC       QB  29.9          369.4\n",
       "2   Justin Herbert      LAC       QB  33.7          358.0\n",
       "3  Jonathan Taylor      IND       RB   1.4          275.0\n",
       "4       Joe Burrow      CIN       QB  53.9          329.0"
      ]
     },
     "execution_count": 39,
     "metadata": {},
     "output_type": "execute_result"
    },
    {
     "data": {
      "text/html": [
       "<div>\n",
       "<style scoped>\n",
       "    .dataframe tbody tr th:only-of-type {\n",
       "        vertical-align: middle;\n",
       "    }\n",
       "\n",
       "    .dataframe tbody tr th {\n",
       "        vertical-align: top;\n",
       "    }\n",
       "\n",
       "    .dataframe thead th {\n",
       "        text-align: right;\n",
       "    }\n",
       "</style>\n",
       "<table border=\"1\" class=\"dataframe\">\n",
       "  <thead>\n",
       "    <tr style=\"text-align: right;\">\n",
       "      <th></th>\n",
       "      <th>playerName</th>\n",
       "      <th>teamName</th>\n",
       "      <th>position</th>\n",
       "      <th>adp</th>\n",
       "      <th>fantasyPoints</th>\n",
       "    </tr>\n",
       "  </thead>\n",
       "  <tbody>\n",
       "    <tr>\n",
       "      <th>0</th>\n",
       "      <td>Josh Allen</td>\n",
       "      <td>BUF</td>\n",
       "      <td>QB</td>\n",
       "      <td>17.5</td>\n",
       "      <td>415.9</td>\n",
       "    </tr>\n",
       "    <tr>\n",
       "      <th>1</th>\n",
       "      <td>Patrick Mahomes</td>\n",
       "      <td>KC</td>\n",
       "      <td>QB</td>\n",
       "      <td>29.9</td>\n",
       "      <td>369.4</td>\n",
       "    </tr>\n",
       "    <tr>\n",
       "      <th>2</th>\n",
       "      <td>Justin Herbert</td>\n",
       "      <td>LAC</td>\n",
       "      <td>QB</td>\n",
       "      <td>33.7</td>\n",
       "      <td>358.0</td>\n",
       "    </tr>\n",
       "    <tr>\n",
       "      <th>3</th>\n",
       "      <td>Jonathan Taylor</td>\n",
       "      <td>IND</td>\n",
       "      <td>RB</td>\n",
       "      <td>1.4</td>\n",
       "      <td>275.0</td>\n",
       "    </tr>\n",
       "    <tr>\n",
       "      <th>4</th>\n",
       "      <td>Joe Burrow</td>\n",
       "      <td>CIN</td>\n",
       "      <td>QB</td>\n",
       "      <td>53.9</td>\n",
       "      <td>329.0</td>\n",
       "    </tr>\n",
       "  </tbody>\n",
       "</table>\n",
       "</div>"
      ],
      "text/plain": [
       "        playerName teamName position   adp  fantasyPoints\n",
       "0       Josh Allen      BUF       QB  17.5          415.9\n",
       "1  Patrick Mahomes       KC       QB  29.9          369.4\n",
       "2   Justin Herbert      LAC       QB  33.7          358.0\n",
       "3  Jonathan Taylor      IND       RB   1.4          275.0\n",
       "4       Joe Burrow      CIN       QB  53.9          329.0"
      ]
     },
     "execution_count": 39,
     "metadata": {},
     "output_type": "execute_result"
    }
   ],
   "source": [
    "# merge dataframes\n",
    "df = adp_df.merge(proj_df)\n",
    "\n",
    "# preview merged df\n",
    "df.head()"
   ]
  },
  {
   "cell_type": "markdown",
   "id": "8beac3a9",
   "metadata": {},
   "source": [
    "### Assign ranks based on ADP and Projected FP"
   ]
  },
  {
   "cell_type": "code",
   "execution_count": 40,
   "id": "e9c96cc9",
   "metadata": {},
   "outputs": [
    {
     "data": {
      "text/html": [
       "<div>\n",
       "<style scoped>\n",
       "    .dataframe tbody tr th:only-of-type {\n",
       "        vertical-align: middle;\n",
       "    }\n",
       "\n",
       "    .dataframe tbody tr th {\n",
       "        vertical-align: top;\n",
       "    }\n",
       "\n",
       "    .dataframe thead th {\n",
       "        text-align: right;\n",
       "    }\n",
       "</style>\n",
       "<table border=\"1\" class=\"dataframe\">\n",
       "  <thead>\n",
       "    <tr style=\"text-align: right;\">\n",
       "      <th></th>\n",
       "      <th>playerName</th>\n",
       "      <th>teamName</th>\n",
       "      <th>position</th>\n",
       "      <th>adp</th>\n",
       "      <th>fantasyPoints</th>\n",
       "      <th>adp_rank</th>\n",
       "      <th>fp_rank</th>\n",
       "      <th>delta</th>\n",
       "    </tr>\n",
       "  </thead>\n",
       "  <tbody>\n",
       "    <tr>\n",
       "      <th>0</th>\n",
       "      <td>Josh Allen</td>\n",
       "      <td>BUF</td>\n",
       "      <td>QB</td>\n",
       "      <td>17.5</td>\n",
       "      <td>415.9</td>\n",
       "      <td>18.0</td>\n",
       "      <td>1.0</td>\n",
       "      <td>17.0</td>\n",
       "    </tr>\n",
       "    <tr>\n",
       "      <th>1</th>\n",
       "      <td>Patrick Mahomes</td>\n",
       "      <td>KC</td>\n",
       "      <td>QB</td>\n",
       "      <td>29.9</td>\n",
       "      <td>369.4</td>\n",
       "      <td>29.0</td>\n",
       "      <td>4.0</td>\n",
       "      <td>25.0</td>\n",
       "    </tr>\n",
       "    <tr>\n",
       "      <th>2</th>\n",
       "      <td>Justin Herbert</td>\n",
       "      <td>LAC</td>\n",
       "      <td>QB</td>\n",
       "      <td>33.7</td>\n",
       "      <td>358.0</td>\n",
       "      <td>33.0</td>\n",
       "      <td>6.0</td>\n",
       "      <td>27.0</td>\n",
       "    </tr>\n",
       "    <tr>\n",
       "      <th>3</th>\n",
       "      <td>Jonathan Taylor</td>\n",
       "      <td>IND</td>\n",
       "      <td>RB</td>\n",
       "      <td>1.4</td>\n",
       "      <td>275.0</td>\n",
       "      <td>1.0</td>\n",
       "      <td>41.0</td>\n",
       "      <td>-40.0</td>\n",
       "    </tr>\n",
       "    <tr>\n",
       "      <th>4</th>\n",
       "      <td>Joe Burrow</td>\n",
       "      <td>CIN</td>\n",
       "      <td>QB</td>\n",
       "      <td>53.9</td>\n",
       "      <td>329.0</td>\n",
       "      <td>53.0</td>\n",
       "      <td>13.0</td>\n",
       "      <td>40.0</td>\n",
       "    </tr>\n",
       "  </tbody>\n",
       "</table>\n",
       "</div>"
      ],
      "text/plain": [
       "        playerName teamName position   adp  fantasyPoints  adp_rank  fp_rank  \\\n",
       "0       Josh Allen      BUF       QB  17.5          415.9      18.0      1.0   \n",
       "1  Patrick Mahomes       KC       QB  29.9          369.4      29.0      4.0   \n",
       "2   Justin Herbert      LAC       QB  33.7          358.0      33.0      6.0   \n",
       "3  Jonathan Taylor      IND       RB   1.4          275.0       1.0     41.0   \n",
       "4       Joe Burrow      CIN       QB  53.9          329.0      53.0     13.0   \n",
       "\n",
       "   delta  \n",
       "0   17.0  \n",
       "1   25.0  \n",
       "2   27.0  \n",
       "3  -40.0  \n",
       "4   40.0  "
      ]
     },
     "execution_count": 40,
     "metadata": {},
     "output_type": "execute_result"
    },
    {
     "data": {
      "text/html": [
       "<div>\n",
       "<style scoped>\n",
       "    .dataframe tbody tr th:only-of-type {\n",
       "        vertical-align: middle;\n",
       "    }\n",
       "\n",
       "    .dataframe tbody tr th {\n",
       "        vertical-align: top;\n",
       "    }\n",
       "\n",
       "    .dataframe thead th {\n",
       "        text-align: right;\n",
       "    }\n",
       "</style>\n",
       "<table border=\"1\" class=\"dataframe\">\n",
       "  <thead>\n",
       "    <tr style=\"text-align: right;\">\n",
       "      <th></th>\n",
       "      <th>playerName</th>\n",
       "      <th>teamName</th>\n",
       "      <th>position</th>\n",
       "      <th>adp</th>\n",
       "      <th>fantasyPoints</th>\n",
       "      <th>adp_rank</th>\n",
       "      <th>fp_rank</th>\n",
       "      <th>delta</th>\n",
       "    </tr>\n",
       "  </thead>\n",
       "  <tbody>\n",
       "    <tr>\n",
       "      <th>0</th>\n",
       "      <td>Josh Allen</td>\n",
       "      <td>BUF</td>\n",
       "      <td>QB</td>\n",
       "      <td>17.5</td>\n",
       "      <td>415.9</td>\n",
       "      <td>18.0</td>\n",
       "      <td>1.0</td>\n",
       "      <td>17.0</td>\n",
       "    </tr>\n",
       "    <tr>\n",
       "      <th>1</th>\n",
       "      <td>Patrick Mahomes</td>\n",
       "      <td>KC</td>\n",
       "      <td>QB</td>\n",
       "      <td>29.9</td>\n",
       "      <td>369.4</td>\n",
       "      <td>29.0</td>\n",
       "      <td>4.0</td>\n",
       "      <td>25.0</td>\n",
       "    </tr>\n",
       "    <tr>\n",
       "      <th>2</th>\n",
       "      <td>Justin Herbert</td>\n",
       "      <td>LAC</td>\n",
       "      <td>QB</td>\n",
       "      <td>33.7</td>\n",
       "      <td>358.0</td>\n",
       "      <td>33.0</td>\n",
       "      <td>6.0</td>\n",
       "      <td>27.0</td>\n",
       "    </tr>\n",
       "    <tr>\n",
       "      <th>3</th>\n",
       "      <td>Jonathan Taylor</td>\n",
       "      <td>IND</td>\n",
       "      <td>RB</td>\n",
       "      <td>1.4</td>\n",
       "      <td>275.0</td>\n",
       "      <td>1.0</td>\n",
       "      <td>41.0</td>\n",
       "      <td>-40.0</td>\n",
       "    </tr>\n",
       "    <tr>\n",
       "      <th>4</th>\n",
       "      <td>Joe Burrow</td>\n",
       "      <td>CIN</td>\n",
       "      <td>QB</td>\n",
       "      <td>53.9</td>\n",
       "      <td>329.0</td>\n",
       "      <td>53.0</td>\n",
       "      <td>13.0</td>\n",
       "      <td>40.0</td>\n",
       "    </tr>\n",
       "  </tbody>\n",
       "</table>\n",
       "</div>"
      ],
      "text/plain": [
       "        playerName teamName position   adp  fantasyPoints  adp_rank  fp_rank  \\\n",
       "0       Josh Allen      BUF       QB  17.5          415.9      18.0      1.0   \n",
       "1  Patrick Mahomes       KC       QB  29.9          369.4      29.0      4.0   \n",
       "2   Justin Herbert      LAC       QB  33.7          358.0      33.0      6.0   \n",
       "3  Jonathan Taylor      IND       RB   1.4          275.0       1.0     41.0   \n",
       "4       Joe Burrow      CIN       QB  53.9          329.0      53.0     13.0   \n",
       "\n",
       "   delta  \n",
       "0   17.0  \n",
       "1   25.0  \n",
       "2   27.0  \n",
       "3  -40.0  \n",
       "4   40.0  "
      ]
     },
     "execution_count": 40,
     "metadata": {},
     "output_type": "execute_result"
    }
   ],
   "source": [
    "# create new columns with ranks for adp and fp\n",
    "df['adp_rank'] = df['adp'].rank()\n",
    "df['fp_rank'] = df['fantasyPoints'].rank(ascending=False)\n",
    "\n",
    "# add column to reflect the delta between adp rank and fp rank\n",
    "df['delta'] = df['adp_rank'] - df['fp_rank']\n",
    "\n",
    "df.head()"
   ]
  },
  {
   "cell_type": "markdown",
   "id": "b980a72b",
   "metadata": {},
   "source": [
    "### Create isolated dataframes by position for ease of use"
   ]
  },
  {
   "cell_type": "code",
   "execution_count": 41,
   "id": "a4a78a87",
   "metadata": {},
   "outputs": [],
   "source": [
    "# create qb df\n",
    "qb = df.loc[df['position'] == 'QB']\n",
    "\n",
    "# sort by adp\n",
    "qb = qb.sort_values(by='adp')\n",
    "\n",
    "# adjust rank columns to reflect only this position group\n",
    "qb['adp_rank'] = qb['adp'].rank()\n",
    "qb['fp_rank'] = qb['fantasyPoints'].rank(ascending=False)\n",
    "\n",
    "# add column to reflect the delta between adp rank and fp rank\n",
    "qb['delta'] = qb['adp_rank'] - qb['fp_rank']\n",
    "\n",
    "# preview\n",
    "#qb.head()"
   ]
  },
  {
   "cell_type": "code",
   "execution_count": 42,
   "id": "bf2c52a1",
   "metadata": {},
   "outputs": [],
   "source": [
    "# create rb df\n",
    "rb = df.loc[df['position'] == 'RB']\n",
    "\n",
    "# sort by adp\n",
    "rb = rb.sort_values(by='adp')\n",
    "\n",
    "# adjust rank columns to reflect only this position group\n",
    "rb['adp_rank'] = rb['adp'].rank()\n",
    "rb['fp_rank'] = rb['fantasyPoints'].rank(ascending=False)\n",
    "\n",
    "# add column to reflect the delta between adp rank and fp rank\n",
    "rb['delta'] = rb['adp_rank'] - rb['fp_rank']\n",
    "\n",
    "# preview\n",
    "#rb.head()"
   ]
  },
  {
   "cell_type": "code",
   "execution_count": 43,
   "id": "2caedf89",
   "metadata": {},
   "outputs": [],
   "source": [
    "# create wr df\n",
    "wr = df.loc[df['position'] == 'WR']\n",
    "\n",
    "# sort by adp\n",
    "wr = wr.sort_values(by='adp')\n",
    "\n",
    "# adjust rank columns to reflect only this position group\n",
    "wr['adp_rank'] = wr['adp'].rank()\n",
    "wr['fp_rank'] = wr['fantasyPoints'].rank(ascending=False)\n",
    "\n",
    "# add column to reflect the delta between adp rank and fp rank\n",
    "wr['delta'] = wr['adp_rank'] - wr['fp_rank']\n",
    "\n",
    "# preview\n",
    "#wr.head()"
   ]
  },
  {
   "cell_type": "code",
   "execution_count": 44,
   "id": "35e4f44a",
   "metadata": {},
   "outputs": [],
   "source": [
    "# create te df\n",
    "te = df.loc[df['position'] == 'TE']\n",
    "\n",
    "# sort by adp\n",
    "te = te.sort_values(by='adp')\n",
    "\n",
    "# adjust rank columns to reflect only this position group\n",
    "te['adp_rank'] = te['adp'].rank()\n",
    "te['fp_rank'] = te['fantasyPoints'].rank(ascending=False)\n",
    "\n",
    "# add column to reflect the delta between adp rank and fp rank\n",
    "te['delta'] = te['adp_rank'] - te['fp_rank']\n",
    "\n",
    "# preview\n",
    "#te.head()"
   ]
  },
  {
   "cell_type": "code",
   "execution_count": 45,
   "id": "b16b3c19",
   "metadata": {},
   "outputs": [
    {
     "data": {
      "application/vnd.plotly.v1+json": {
       "config": {
        "plotlyServerURL": "https://plot.ly"
       },
       "data": [
        {
         "customdata": [
          [
           "Josh Allen",
           "BUF"
          ],
          [
           "Patrick Mahomes",
           "KC"
          ],
          [
           "Justin Herbert",
           "LAC"
          ],
          [
           "Lamar Jackson",
           "BAL"
          ],
          [
           "Joe Burrow",
           "CIN"
          ],
          [
           "Kyler Murray",
           "ARI"
          ],
          [
           "Jalen Hurts",
           "PHI"
          ],
          [
           "Dak Prescott",
           "DAL"
          ],
          [
           "Russell Wilson",
           "DEN"
          ],
          [
           "Tom Brady",
           "TB"
          ],
          [
           "Aaron Rodgers",
           "GB"
          ],
          [
           "Matthew Stafford",
           "LAR"
          ],
          [
           "Trey Lance",
           "SF"
          ],
          [
           "Derek Carr",
           "LV"
          ],
          [
           "Deshaun Watson",
           "CLE"
          ],
          [
           "Kirk Cousins",
           "MIN"
          ],
          [
           "Tua Tagovailoa",
           "MIA"
          ],
          [
           "Justin Fields",
           "CHI"
          ],
          [
           "Trevor Lawrence",
           "JAX"
          ],
          [
           "Matt Ryan",
           "IND"
          ],
          [
           "Jameis Winston",
           "NO"
          ],
          [
           "Mac Jones",
           "NE"
          ],
          [
           "Zach Wilson",
           "NYJ"
          ],
          [
           "Ryan Tannehill",
           "TEN"
          ]
         ],
         "hovertemplate": "adp=%{marker.color}<br>fantasyPoints=%{y}<br>playerName=%{customdata[0]}<br>teamName=%{customdata[1]}<extra></extra>",
         "legendgroup": "",
         "marker": {
          "color": [
           17.5,
           29.9,
           33.7,
           49.3,
           53.9,
           57,
           71.5,
           79.3,
           80.5,
           87.7,
           96.6,
           98.1,
           109.9,
           112.8,
           116.7,
           125.1,
           131.7,
           140.5,
           150.9,
           166.5,
           168.3,
           173.8,
           183.8,
           188.4
          ],
          "coloraxis": "coloraxis",
          "size": 10,
          "symbol": "circle"
         },
         "mode": "markers+text",
         "name": "",
         "orientation": "v",
         "showlegend": false,
         "text": [
          "Josh Allen",
          "Patrick Mahomes",
          "Justin Herbert",
          "Lamar Jackson",
          "Joe Burrow",
          "Kyler Murray",
          "Jalen Hurts",
          "Dak Prescott",
          "Russell Wilson",
          "Tom Brady",
          "Aaron Rodgers",
          "Matthew Stafford",
          "Trey Lance",
          "Derek Carr",
          "Deshaun Watson",
          "Kirk Cousins",
          "Tua Tagovailoa",
          "Justin Fields",
          "Trevor Lawrence",
          "Matt Ryan",
          "Jameis Winston",
          "Mac Jones",
          "Zach Wilson",
          "Ryan Tannehill"
         ],
         "textfont": {
          "size": 6
         },
         "textposition": "top center",
         "type": "scatter",
         "x": [
          17.5,
          29.9,
          33.7,
          49.3,
          53.9,
          57,
          71.5,
          79.3,
          80.5,
          87.7,
          96.6,
          98.1,
          109.9,
          112.8,
          116.7,
          125.1,
          131.7,
          140.5,
          150.9,
          166.5,
          168.3,
          173.8,
          183.8,
          188.4
         ],
         "xaxis": "x",
         "y": [
          415.9,
          369.4,
          358,
          395.7,
          329,
          356.4,
          387.1,
          336.9,
          320.2,
          361.8,
          336.6,
          336,
          325.9,
          303.6,
          311.9,
          306.7,
          313,
          296.9,
          300.6,
          285.9,
          256.5,
          287.4,
          288.2,
          314.1
         ],
         "yaxis": "y"
        },
        {
         "hovertemplate": "<b>OLS trendline</b><br>fantasyPoints = -0.64843 * adp + 397.081<br>R<sup>2</sup>=0.732819<br><br>adp=%{x}<br>fantasyPoints=%{y} <b>(trend)</b><extra></extra>",
         "legendgroup": "",
         "marker": {
          "size": 10,
          "symbol": "circle"
         },
         "mode": "lines",
         "name": "",
         "showlegend": false,
         "textfont": {
          "size": 6
         },
         "textposition": "top center",
         "type": "scatter",
         "x": [
          17.5,
          29.9,
          33.7,
          49.3,
          53.9,
          57,
          71.5,
          79.3,
          80.5,
          87.7,
          96.6,
          98.1,
          109.9,
          112.8,
          116.7,
          125.1,
          131.7,
          140.5,
          150.9,
          166.5,
          168.3,
          173.8,
          183.8,
          188.4
         ],
         "xaxis": "x",
         "y": [
          385.73363487640023,
          377.69310538166945,
          375.2290721494133,
          365.11356730120366,
          362.1307902305777,
          360.12065785689504,
          350.7184257864438,
          345.66067336233897,
          344.8825576047844,
          340.21386305945686,
          334.44283785759364,
          333.4701931606504,
          325.818721544697,
          323.9382751306067,
          321.4093989185543,
          315.9625886156722,
          311.68295194912196,
          305.976769727055,
          299.23309982824856,
          289.1175949800389,
          287.95042134370703,
          284.3840574549152,
          277.89975947529365,
          274.9169824046677
         ],
         "yaxis": "y"
        }
       ],
       "layout": {
        "coloraxis": {
         "colorbar": {
          "title": {
           "text": "adp"
          }
         },
         "colorscale": [
          [
           0,
           "#0d0887"
          ],
          [
           0.1111111111111111,
           "#46039f"
          ],
          [
           0.2222222222222222,
           "#7201a8"
          ],
          [
           0.3333333333333333,
           "#9c179e"
          ],
          [
           0.4444444444444444,
           "#bd3786"
          ],
          [
           0.5555555555555556,
           "#d8576b"
          ],
          [
           0.6666666666666666,
           "#ed7953"
          ],
          [
           0.7777777777777778,
           "#fb9f3a"
          ],
          [
           0.8888888888888888,
           "#fdca26"
          ],
          [
           1,
           "#f0f921"
          ]
         ]
        },
        "legend": {
         "tracegroupgap": 0
        },
        "template": {
         "data": {
          "bar": [
           {
            "error_x": {
             "color": "#2a3f5f"
            },
            "error_y": {
             "color": "#2a3f5f"
            },
            "marker": {
             "line": {
              "color": "#E5ECF6",
              "width": 0.5
             },
             "pattern": {
              "fillmode": "overlay",
              "size": 10,
              "solidity": 0.2
             }
            },
            "type": "bar"
           }
          ],
          "barpolar": [
           {
            "marker": {
             "line": {
              "color": "#E5ECF6",
              "width": 0.5
             },
             "pattern": {
              "fillmode": "overlay",
              "size": 10,
              "solidity": 0.2
             }
            },
            "type": "barpolar"
           }
          ],
          "carpet": [
           {
            "aaxis": {
             "endlinecolor": "#2a3f5f",
             "gridcolor": "white",
             "linecolor": "white",
             "minorgridcolor": "white",
             "startlinecolor": "#2a3f5f"
            },
            "baxis": {
             "endlinecolor": "#2a3f5f",
             "gridcolor": "white",
             "linecolor": "white",
             "minorgridcolor": "white",
             "startlinecolor": "#2a3f5f"
            },
            "type": "carpet"
           }
          ],
          "choropleth": [
           {
            "colorbar": {
             "outlinewidth": 0,
             "ticks": ""
            },
            "type": "choropleth"
           }
          ],
          "contour": [
           {
            "colorbar": {
             "outlinewidth": 0,
             "ticks": ""
            },
            "colorscale": [
             [
              0,
              "#0d0887"
             ],
             [
              0.1111111111111111,
              "#46039f"
             ],
             [
              0.2222222222222222,
              "#7201a8"
             ],
             [
              0.3333333333333333,
              "#9c179e"
             ],
             [
              0.4444444444444444,
              "#bd3786"
             ],
             [
              0.5555555555555556,
              "#d8576b"
             ],
             [
              0.6666666666666666,
              "#ed7953"
             ],
             [
              0.7777777777777778,
              "#fb9f3a"
             ],
             [
              0.8888888888888888,
              "#fdca26"
             ],
             [
              1,
              "#f0f921"
             ]
            ],
            "type": "contour"
           }
          ],
          "contourcarpet": [
           {
            "colorbar": {
             "outlinewidth": 0,
             "ticks": ""
            },
            "type": "contourcarpet"
           }
          ],
          "heatmap": [
           {
            "colorbar": {
             "outlinewidth": 0,
             "ticks": ""
            },
            "colorscale": [
             [
              0,
              "#0d0887"
             ],
             [
              0.1111111111111111,
              "#46039f"
             ],
             [
              0.2222222222222222,
              "#7201a8"
             ],
             [
              0.3333333333333333,
              "#9c179e"
             ],
             [
              0.4444444444444444,
              "#bd3786"
             ],
             [
              0.5555555555555556,
              "#d8576b"
             ],
             [
              0.6666666666666666,
              "#ed7953"
             ],
             [
              0.7777777777777778,
              "#fb9f3a"
             ],
             [
              0.8888888888888888,
              "#fdca26"
             ],
             [
              1,
              "#f0f921"
             ]
            ],
            "type": "heatmap"
           }
          ],
          "heatmapgl": [
           {
            "colorbar": {
             "outlinewidth": 0,
             "ticks": ""
            },
            "colorscale": [
             [
              0,
              "#0d0887"
             ],
             [
              0.1111111111111111,
              "#46039f"
             ],
             [
              0.2222222222222222,
              "#7201a8"
             ],
             [
              0.3333333333333333,
              "#9c179e"
             ],
             [
              0.4444444444444444,
              "#bd3786"
             ],
             [
              0.5555555555555556,
              "#d8576b"
             ],
             [
              0.6666666666666666,
              "#ed7953"
             ],
             [
              0.7777777777777778,
              "#fb9f3a"
             ],
             [
              0.8888888888888888,
              "#fdca26"
             ],
             [
              1,
              "#f0f921"
             ]
            ],
            "type": "heatmapgl"
           }
          ],
          "histogram": [
           {
            "marker": {
             "pattern": {
              "fillmode": "overlay",
              "size": 10,
              "solidity": 0.2
             }
            },
            "type": "histogram"
           }
          ],
          "histogram2d": [
           {
            "colorbar": {
             "outlinewidth": 0,
             "ticks": ""
            },
            "colorscale": [
             [
              0,
              "#0d0887"
             ],
             [
              0.1111111111111111,
              "#46039f"
             ],
             [
              0.2222222222222222,
              "#7201a8"
             ],
             [
              0.3333333333333333,
              "#9c179e"
             ],
             [
              0.4444444444444444,
              "#bd3786"
             ],
             [
              0.5555555555555556,
              "#d8576b"
             ],
             [
              0.6666666666666666,
              "#ed7953"
             ],
             [
              0.7777777777777778,
              "#fb9f3a"
             ],
             [
              0.8888888888888888,
              "#fdca26"
             ],
             [
              1,
              "#f0f921"
             ]
            ],
            "type": "histogram2d"
           }
          ],
          "histogram2dcontour": [
           {
            "colorbar": {
             "outlinewidth": 0,
             "ticks": ""
            },
            "colorscale": [
             [
              0,
              "#0d0887"
             ],
             [
              0.1111111111111111,
              "#46039f"
             ],
             [
              0.2222222222222222,
              "#7201a8"
             ],
             [
              0.3333333333333333,
              "#9c179e"
             ],
             [
              0.4444444444444444,
              "#bd3786"
             ],
             [
              0.5555555555555556,
              "#d8576b"
             ],
             [
              0.6666666666666666,
              "#ed7953"
             ],
             [
              0.7777777777777778,
              "#fb9f3a"
             ],
             [
              0.8888888888888888,
              "#fdca26"
             ],
             [
              1,
              "#f0f921"
             ]
            ],
            "type": "histogram2dcontour"
           }
          ],
          "mesh3d": [
           {
            "colorbar": {
             "outlinewidth": 0,
             "ticks": ""
            },
            "type": "mesh3d"
           }
          ],
          "parcoords": [
           {
            "line": {
             "colorbar": {
              "outlinewidth": 0,
              "ticks": ""
             }
            },
            "type": "parcoords"
           }
          ],
          "pie": [
           {
            "automargin": true,
            "type": "pie"
           }
          ],
          "scatter": [
           {
            "fillpattern": {
             "fillmode": "overlay",
             "size": 10,
             "solidity": 0.2
            },
            "type": "scatter"
           }
          ],
          "scatter3d": [
           {
            "line": {
             "colorbar": {
              "outlinewidth": 0,
              "ticks": ""
             }
            },
            "marker": {
             "colorbar": {
              "outlinewidth": 0,
              "ticks": ""
             }
            },
            "type": "scatter3d"
           }
          ],
          "scattercarpet": [
           {
            "marker": {
             "colorbar": {
              "outlinewidth": 0,
              "ticks": ""
             }
            },
            "type": "scattercarpet"
           }
          ],
          "scattergeo": [
           {
            "marker": {
             "colorbar": {
              "outlinewidth": 0,
              "ticks": ""
             }
            },
            "type": "scattergeo"
           }
          ],
          "scattergl": [
           {
            "marker": {
             "colorbar": {
              "outlinewidth": 0,
              "ticks": ""
             }
            },
            "type": "scattergl"
           }
          ],
          "scattermapbox": [
           {
            "marker": {
             "colorbar": {
              "outlinewidth": 0,
              "ticks": ""
             }
            },
            "type": "scattermapbox"
           }
          ],
          "scatterpolar": [
           {
            "marker": {
             "colorbar": {
              "outlinewidth": 0,
              "ticks": ""
             }
            },
            "type": "scatterpolar"
           }
          ],
          "scatterpolargl": [
           {
            "marker": {
             "colorbar": {
              "outlinewidth": 0,
              "ticks": ""
             }
            },
            "type": "scatterpolargl"
           }
          ],
          "scatterternary": [
           {
            "marker": {
             "colorbar": {
              "outlinewidth": 0,
              "ticks": ""
             }
            },
            "type": "scatterternary"
           }
          ],
          "surface": [
           {
            "colorbar": {
             "outlinewidth": 0,
             "ticks": ""
            },
            "colorscale": [
             [
              0,
              "#0d0887"
             ],
             [
              0.1111111111111111,
              "#46039f"
             ],
             [
              0.2222222222222222,
              "#7201a8"
             ],
             [
              0.3333333333333333,
              "#9c179e"
             ],
             [
              0.4444444444444444,
              "#bd3786"
             ],
             [
              0.5555555555555556,
              "#d8576b"
             ],
             [
              0.6666666666666666,
              "#ed7953"
             ],
             [
              0.7777777777777778,
              "#fb9f3a"
             ],
             [
              0.8888888888888888,
              "#fdca26"
             ],
             [
              1,
              "#f0f921"
             ]
            ],
            "type": "surface"
           }
          ],
          "table": [
           {
            "cells": {
             "fill": {
              "color": "#EBF0F8"
             },
             "line": {
              "color": "white"
             }
            },
            "header": {
             "fill": {
              "color": "#C8D4E3"
             },
             "line": {
              "color": "white"
             }
            },
            "type": "table"
           }
          ]
         },
         "layout": {
          "annotationdefaults": {
           "arrowcolor": "#2a3f5f",
           "arrowhead": 0,
           "arrowwidth": 1
          },
          "autotypenumbers": "strict",
          "coloraxis": {
           "colorbar": {
            "outlinewidth": 0,
            "ticks": ""
           }
          },
          "colorscale": {
           "diverging": [
            [
             0,
             "#8e0152"
            ],
            [
             0.1,
             "#c51b7d"
            ],
            [
             0.2,
             "#de77ae"
            ],
            [
             0.3,
             "#f1b6da"
            ],
            [
             0.4,
             "#fde0ef"
            ],
            [
             0.5,
             "#f7f7f7"
            ],
            [
             0.6,
             "#e6f5d0"
            ],
            [
             0.7,
             "#b8e186"
            ],
            [
             0.8,
             "#7fbc41"
            ],
            [
             0.9,
             "#4d9221"
            ],
            [
             1,
             "#276419"
            ]
           ],
           "sequential": [
            [
             0,
             "#0d0887"
            ],
            [
             0.1111111111111111,
             "#46039f"
            ],
            [
             0.2222222222222222,
             "#7201a8"
            ],
            [
             0.3333333333333333,
             "#9c179e"
            ],
            [
             0.4444444444444444,
             "#bd3786"
            ],
            [
             0.5555555555555556,
             "#d8576b"
            ],
            [
             0.6666666666666666,
             "#ed7953"
            ],
            [
             0.7777777777777778,
             "#fb9f3a"
            ],
            [
             0.8888888888888888,
             "#fdca26"
            ],
            [
             1,
             "#f0f921"
            ]
           ],
           "sequentialminus": [
            [
             0,
             "#0d0887"
            ],
            [
             0.1111111111111111,
             "#46039f"
            ],
            [
             0.2222222222222222,
             "#7201a8"
            ],
            [
             0.3333333333333333,
             "#9c179e"
            ],
            [
             0.4444444444444444,
             "#bd3786"
            ],
            [
             0.5555555555555556,
             "#d8576b"
            ],
            [
             0.6666666666666666,
             "#ed7953"
            ],
            [
             0.7777777777777778,
             "#fb9f3a"
            ],
            [
             0.8888888888888888,
             "#fdca26"
            ],
            [
             1,
             "#f0f921"
            ]
           ]
          },
          "colorway": [
           "#636efa",
           "#EF553B",
           "#00cc96",
           "#ab63fa",
           "#FFA15A",
           "#19d3f3",
           "#FF6692",
           "#B6E880",
           "#FF97FF",
           "#FECB52"
          ],
          "font": {
           "color": "#2a3f5f"
          },
          "geo": {
           "bgcolor": "white",
           "lakecolor": "white",
           "landcolor": "#E5ECF6",
           "showlakes": true,
           "showland": true,
           "subunitcolor": "white"
          },
          "hoverlabel": {
           "align": "left"
          },
          "hovermode": "closest",
          "mapbox": {
           "style": "light"
          },
          "paper_bgcolor": "white",
          "plot_bgcolor": "#E5ECF6",
          "polar": {
           "angularaxis": {
            "gridcolor": "white",
            "linecolor": "white",
            "ticks": ""
           },
           "bgcolor": "#E5ECF6",
           "radialaxis": {
            "gridcolor": "white",
            "linecolor": "white",
            "ticks": ""
           }
          },
          "scene": {
           "xaxis": {
            "backgroundcolor": "#E5ECF6",
            "gridcolor": "white",
            "gridwidth": 2,
            "linecolor": "white",
            "showbackground": true,
            "ticks": "",
            "zerolinecolor": "white"
           },
           "yaxis": {
            "backgroundcolor": "#E5ECF6",
            "gridcolor": "white",
            "gridwidth": 2,
            "linecolor": "white",
            "showbackground": true,
            "ticks": "",
            "zerolinecolor": "white"
           },
           "zaxis": {
            "backgroundcolor": "#E5ECF6",
            "gridcolor": "white",
            "gridwidth": 2,
            "linecolor": "white",
            "showbackground": true,
            "ticks": "",
            "zerolinecolor": "white"
           }
          },
          "shapedefaults": {
           "line": {
            "color": "#2a3f5f"
           }
          },
          "ternary": {
           "aaxis": {
            "gridcolor": "white",
            "linecolor": "white",
            "ticks": ""
           },
           "baxis": {
            "gridcolor": "white",
            "linecolor": "white",
            "ticks": ""
           },
           "bgcolor": "#E5ECF6",
           "caxis": {
            "gridcolor": "white",
            "linecolor": "white",
            "ticks": ""
           }
          },
          "title": {
           "x": 0.05
          },
          "xaxis": {
           "automargin": true,
           "gridcolor": "white",
           "linecolor": "white",
           "ticks": "",
           "title": {
            "standoff": 15
           },
           "zerolinecolor": "white",
           "zerolinewidth": 2
          },
          "yaxis": {
           "automargin": true,
           "gridcolor": "white",
           "linecolor": "white",
           "ticks": "",
           "title": {
            "standoff": 15
           },
           "zerolinecolor": "white",
           "zerolinewidth": 2
          }
         }
        },
        "title": {
         "text": "Top 24 QBs | ADP vs Projected FP"
        },
        "xaxis": {
         "anchor": "y",
         "domain": [
          0,
          1
         ],
         "title": {
          "text": "adp"
         }
        },
        "yaxis": {
         "anchor": "x",
         "domain": [
          0,
          1
         ],
         "title": {
          "text": "fantasyPoints"
         }
        }
       }
      },
      "text/html": [
       "<div>                            <div id=\"b7f825ba-25e4-43fb-aded-4ae653d202e4\" class=\"plotly-graph-div\" style=\"height:525px; width:100%;\"></div>            <script type=\"text/javascript\">                require([\"plotly\"], function(Plotly) {                    window.PLOTLYENV=window.PLOTLYENV || {};                                    if (document.getElementById(\"b7f825ba-25e4-43fb-aded-4ae653d202e4\")) {                    Plotly.newPlot(                        \"b7f825ba-25e4-43fb-aded-4ae653d202e4\",                        [{\"customdata\":[[\"Josh Allen\",\"BUF\"],[\"Patrick Mahomes\",\"KC\"],[\"Justin Herbert\",\"LAC\"],[\"Lamar Jackson\",\"BAL\"],[\"Joe Burrow\",\"CIN\"],[\"Kyler Murray\",\"ARI\"],[\"Jalen Hurts\",\"PHI\"],[\"Dak Prescott\",\"DAL\"],[\"Russell Wilson\",\"DEN\"],[\"Tom Brady\",\"TB\"],[\"Aaron Rodgers\",\"GB\"],[\"Matthew Stafford\",\"LAR\"],[\"Trey Lance\",\"SF\"],[\"Derek Carr\",\"LV\"],[\"Deshaun Watson\",\"CLE\"],[\"Kirk Cousins\",\"MIN\"],[\"Tua Tagovailoa\",\"MIA\"],[\"Justin Fields\",\"CHI\"],[\"Trevor Lawrence\",\"JAX\"],[\"Matt Ryan\",\"IND\"],[\"Jameis Winston\",\"NO\"],[\"Mac Jones\",\"NE\"],[\"Zach Wilson\",\"NYJ\"],[\"Ryan Tannehill\",\"TEN\"]],\"hovertemplate\":\"adp=%{marker.color}<br>fantasyPoints=%{y}<br>playerName=%{customdata[0]}<br>teamName=%{customdata[1]}<extra></extra>\",\"legendgroup\":\"\",\"marker\":{\"color\":[17.5,29.9,33.7,49.3,53.9,57.0,71.5,79.3,80.5,87.7,96.6,98.1,109.9,112.8,116.7,125.1,131.7,140.5,150.9,166.5,168.3,173.8,183.8,188.4],\"coloraxis\":\"coloraxis\",\"symbol\":\"circle\",\"size\":10},\"mode\":\"markers+text\",\"name\":\"\",\"orientation\":\"v\",\"showlegend\":false,\"text\":[\"Josh Allen\",\"Patrick Mahomes\",\"Justin Herbert\",\"Lamar Jackson\",\"Joe Burrow\",\"Kyler Murray\",\"Jalen Hurts\",\"Dak Prescott\",\"Russell Wilson\",\"Tom Brady\",\"Aaron Rodgers\",\"Matthew Stafford\",\"Trey Lance\",\"Derek Carr\",\"Deshaun Watson\",\"Kirk Cousins\",\"Tua Tagovailoa\",\"Justin Fields\",\"Trevor Lawrence\",\"Matt Ryan\",\"Jameis Winston\",\"Mac Jones\",\"Zach Wilson\",\"Ryan Tannehill\"],\"x\":[17.5,29.9,33.7,49.3,53.9,57.0,71.5,79.3,80.5,87.7,96.6,98.1,109.9,112.8,116.7,125.1,131.7,140.5,150.9,166.5,168.3,173.8,183.8,188.4],\"xaxis\":\"x\",\"y\":[415.9,369.4,358.0,395.7,329.0,356.4,387.1,336.9,320.2,361.8,336.6,336.0,325.9,303.6,311.9,306.7,313.0,296.9,300.6,285.9,256.5,287.4,288.2,314.1],\"yaxis\":\"y\",\"type\":\"scatter\",\"textfont\":{\"size\":6},\"textposition\":\"top center\"},{\"hovertemplate\":\"<b>OLS trendline</b><br>fantasyPoints = -0.64843 * adp + 397.081<br>R<sup>2</sup>=0.732819<br><br>adp=%{x}<br>fantasyPoints=%{y} <b>(trend)</b><extra></extra>\",\"legendgroup\":\"\",\"marker\":{\"symbol\":\"circle\",\"size\":10},\"mode\":\"lines\",\"name\":\"\",\"showlegend\":false,\"x\":[17.5,29.9,33.7,49.3,53.9,57.0,71.5,79.3,80.5,87.7,96.6,98.1,109.9,112.8,116.7,125.1,131.7,140.5,150.9,166.5,168.3,173.8,183.8,188.4],\"xaxis\":\"x\",\"y\":[385.73363487640023,377.69310538166945,375.2290721494133,365.11356730120366,362.1307902305777,360.12065785689504,350.7184257864438,345.66067336233897,344.8825576047844,340.21386305945686,334.44283785759364,333.4701931606504,325.818721544697,323.9382751306067,321.4093989185543,315.9625886156722,311.68295194912196,305.976769727055,299.23309982824856,289.1175949800389,287.95042134370703,284.3840574549152,277.89975947529365,274.9169824046677],\"yaxis\":\"y\",\"type\":\"scatter\",\"textfont\":{\"size\":6},\"textposition\":\"top center\"}],                        {\"template\":{\"data\":{\"histogram2dcontour\":[{\"type\":\"histogram2dcontour\",\"colorbar\":{\"outlinewidth\":0,\"ticks\":\"\"},\"colorscale\":[[0.0,\"#0d0887\"],[0.1111111111111111,\"#46039f\"],[0.2222222222222222,\"#7201a8\"],[0.3333333333333333,\"#9c179e\"],[0.4444444444444444,\"#bd3786\"],[0.5555555555555556,\"#d8576b\"],[0.6666666666666666,\"#ed7953\"],[0.7777777777777778,\"#fb9f3a\"],[0.8888888888888888,\"#fdca26\"],[1.0,\"#f0f921\"]]}],\"choropleth\":[{\"type\":\"choropleth\",\"colorbar\":{\"outlinewidth\":0,\"ticks\":\"\"}}],\"histogram2d\":[{\"type\":\"histogram2d\",\"colorbar\":{\"outlinewidth\":0,\"ticks\":\"\"},\"colorscale\":[[0.0,\"#0d0887\"],[0.1111111111111111,\"#46039f\"],[0.2222222222222222,\"#7201a8\"],[0.3333333333333333,\"#9c179e\"],[0.4444444444444444,\"#bd3786\"],[0.5555555555555556,\"#d8576b\"],[0.6666666666666666,\"#ed7953\"],[0.7777777777777778,\"#fb9f3a\"],[0.8888888888888888,\"#fdca26\"],[1.0,\"#f0f921\"]]}],\"heatmap\":[{\"type\":\"heatmap\",\"colorbar\":{\"outlinewidth\":0,\"ticks\":\"\"},\"colorscale\":[[0.0,\"#0d0887\"],[0.1111111111111111,\"#46039f\"],[0.2222222222222222,\"#7201a8\"],[0.3333333333333333,\"#9c179e\"],[0.4444444444444444,\"#bd3786\"],[0.5555555555555556,\"#d8576b\"],[0.6666666666666666,\"#ed7953\"],[0.7777777777777778,\"#fb9f3a\"],[0.8888888888888888,\"#fdca26\"],[1.0,\"#f0f921\"]]}],\"heatmapgl\":[{\"type\":\"heatmapgl\",\"colorbar\":{\"outlinewidth\":0,\"ticks\":\"\"},\"colorscale\":[[0.0,\"#0d0887\"],[0.1111111111111111,\"#46039f\"],[0.2222222222222222,\"#7201a8\"],[0.3333333333333333,\"#9c179e\"],[0.4444444444444444,\"#bd3786\"],[0.5555555555555556,\"#d8576b\"],[0.6666666666666666,\"#ed7953\"],[0.7777777777777778,\"#fb9f3a\"],[0.8888888888888888,\"#fdca26\"],[1.0,\"#f0f921\"]]}],\"contourcarpet\":[{\"type\":\"contourcarpet\",\"colorbar\":{\"outlinewidth\":0,\"ticks\":\"\"}}],\"contour\":[{\"type\":\"contour\",\"colorbar\":{\"outlinewidth\":0,\"ticks\":\"\"},\"colorscale\":[[0.0,\"#0d0887\"],[0.1111111111111111,\"#46039f\"],[0.2222222222222222,\"#7201a8\"],[0.3333333333333333,\"#9c179e\"],[0.4444444444444444,\"#bd3786\"],[0.5555555555555556,\"#d8576b\"],[0.6666666666666666,\"#ed7953\"],[0.7777777777777778,\"#fb9f3a\"],[0.8888888888888888,\"#fdca26\"],[1.0,\"#f0f921\"]]}],\"surface\":[{\"type\":\"surface\",\"colorbar\":{\"outlinewidth\":0,\"ticks\":\"\"},\"colorscale\":[[0.0,\"#0d0887\"],[0.1111111111111111,\"#46039f\"],[0.2222222222222222,\"#7201a8\"],[0.3333333333333333,\"#9c179e\"],[0.4444444444444444,\"#bd3786\"],[0.5555555555555556,\"#d8576b\"],[0.6666666666666666,\"#ed7953\"],[0.7777777777777778,\"#fb9f3a\"],[0.8888888888888888,\"#fdca26\"],[1.0,\"#f0f921\"]]}],\"mesh3d\":[{\"type\":\"mesh3d\",\"colorbar\":{\"outlinewidth\":0,\"ticks\":\"\"}}],\"scatter\":[{\"fillpattern\":{\"fillmode\":\"overlay\",\"size\":10,\"solidity\":0.2},\"type\":\"scatter\"}],\"parcoords\":[{\"type\":\"parcoords\",\"line\":{\"colorbar\":{\"outlinewidth\":0,\"ticks\":\"\"}}}],\"scatterpolargl\":[{\"type\":\"scatterpolargl\",\"marker\":{\"colorbar\":{\"outlinewidth\":0,\"ticks\":\"\"}}}],\"bar\":[{\"error_x\":{\"color\":\"#2a3f5f\"},\"error_y\":{\"color\":\"#2a3f5f\"},\"marker\":{\"line\":{\"color\":\"#E5ECF6\",\"width\":0.5},\"pattern\":{\"fillmode\":\"overlay\",\"size\":10,\"solidity\":0.2}},\"type\":\"bar\"}],\"scattergeo\":[{\"type\":\"scattergeo\",\"marker\":{\"colorbar\":{\"outlinewidth\":0,\"ticks\":\"\"}}}],\"scatterpolar\":[{\"type\":\"scatterpolar\",\"marker\":{\"colorbar\":{\"outlinewidth\":0,\"ticks\":\"\"}}}],\"histogram\":[{\"marker\":{\"pattern\":{\"fillmode\":\"overlay\",\"size\":10,\"solidity\":0.2}},\"type\":\"histogram\"}],\"scattergl\":[{\"type\":\"scattergl\",\"marker\":{\"colorbar\":{\"outlinewidth\":0,\"ticks\":\"\"}}}],\"scatter3d\":[{\"type\":\"scatter3d\",\"line\":{\"colorbar\":{\"outlinewidth\":0,\"ticks\":\"\"}},\"marker\":{\"colorbar\":{\"outlinewidth\":0,\"ticks\":\"\"}}}],\"scattermapbox\":[{\"type\":\"scattermapbox\",\"marker\":{\"colorbar\":{\"outlinewidth\":0,\"ticks\":\"\"}}}],\"scatterternary\":[{\"type\":\"scatterternary\",\"marker\":{\"colorbar\":{\"outlinewidth\":0,\"ticks\":\"\"}}}],\"scattercarpet\":[{\"type\":\"scattercarpet\",\"marker\":{\"colorbar\":{\"outlinewidth\":0,\"ticks\":\"\"}}}],\"carpet\":[{\"aaxis\":{\"endlinecolor\":\"#2a3f5f\",\"gridcolor\":\"white\",\"linecolor\":\"white\",\"minorgridcolor\":\"white\",\"startlinecolor\":\"#2a3f5f\"},\"baxis\":{\"endlinecolor\":\"#2a3f5f\",\"gridcolor\":\"white\",\"linecolor\":\"white\",\"minorgridcolor\":\"white\",\"startlinecolor\":\"#2a3f5f\"},\"type\":\"carpet\"}],\"table\":[{\"cells\":{\"fill\":{\"color\":\"#EBF0F8\"},\"line\":{\"color\":\"white\"}},\"header\":{\"fill\":{\"color\":\"#C8D4E3\"},\"line\":{\"color\":\"white\"}},\"type\":\"table\"}],\"barpolar\":[{\"marker\":{\"line\":{\"color\":\"#E5ECF6\",\"width\":0.5},\"pattern\":{\"fillmode\":\"overlay\",\"size\":10,\"solidity\":0.2}},\"type\":\"barpolar\"}],\"pie\":[{\"automargin\":true,\"type\":\"pie\"}]},\"layout\":{\"autotypenumbers\":\"strict\",\"colorway\":[\"#636efa\",\"#EF553B\",\"#00cc96\",\"#ab63fa\",\"#FFA15A\",\"#19d3f3\",\"#FF6692\",\"#B6E880\",\"#FF97FF\",\"#FECB52\"],\"font\":{\"color\":\"#2a3f5f\"},\"hovermode\":\"closest\",\"hoverlabel\":{\"align\":\"left\"},\"paper_bgcolor\":\"white\",\"plot_bgcolor\":\"#E5ECF6\",\"polar\":{\"bgcolor\":\"#E5ECF6\",\"angularaxis\":{\"gridcolor\":\"white\",\"linecolor\":\"white\",\"ticks\":\"\"},\"radialaxis\":{\"gridcolor\":\"white\",\"linecolor\":\"white\",\"ticks\":\"\"}},\"ternary\":{\"bgcolor\":\"#E5ECF6\",\"aaxis\":{\"gridcolor\":\"white\",\"linecolor\":\"white\",\"ticks\":\"\"},\"baxis\":{\"gridcolor\":\"white\",\"linecolor\":\"white\",\"ticks\":\"\"},\"caxis\":{\"gridcolor\":\"white\",\"linecolor\":\"white\",\"ticks\":\"\"}},\"coloraxis\":{\"colorbar\":{\"outlinewidth\":0,\"ticks\":\"\"}},\"colorscale\":{\"sequential\":[[0.0,\"#0d0887\"],[0.1111111111111111,\"#46039f\"],[0.2222222222222222,\"#7201a8\"],[0.3333333333333333,\"#9c179e\"],[0.4444444444444444,\"#bd3786\"],[0.5555555555555556,\"#d8576b\"],[0.6666666666666666,\"#ed7953\"],[0.7777777777777778,\"#fb9f3a\"],[0.8888888888888888,\"#fdca26\"],[1.0,\"#f0f921\"]],\"sequentialminus\":[[0.0,\"#0d0887\"],[0.1111111111111111,\"#46039f\"],[0.2222222222222222,\"#7201a8\"],[0.3333333333333333,\"#9c179e\"],[0.4444444444444444,\"#bd3786\"],[0.5555555555555556,\"#d8576b\"],[0.6666666666666666,\"#ed7953\"],[0.7777777777777778,\"#fb9f3a\"],[0.8888888888888888,\"#fdca26\"],[1.0,\"#f0f921\"]],\"diverging\":[[0,\"#8e0152\"],[0.1,\"#c51b7d\"],[0.2,\"#de77ae\"],[0.3,\"#f1b6da\"],[0.4,\"#fde0ef\"],[0.5,\"#f7f7f7\"],[0.6,\"#e6f5d0\"],[0.7,\"#b8e186\"],[0.8,\"#7fbc41\"],[0.9,\"#4d9221\"],[1,\"#276419\"]]},\"xaxis\":{\"gridcolor\":\"white\",\"linecolor\":\"white\",\"ticks\":\"\",\"title\":{\"standoff\":15},\"zerolinecolor\":\"white\",\"automargin\":true,\"zerolinewidth\":2},\"yaxis\":{\"gridcolor\":\"white\",\"linecolor\":\"white\",\"ticks\":\"\",\"title\":{\"standoff\":15},\"zerolinecolor\":\"white\",\"automargin\":true,\"zerolinewidth\":2},\"scene\":{\"xaxis\":{\"backgroundcolor\":\"#E5ECF6\",\"gridcolor\":\"white\",\"linecolor\":\"white\",\"showbackground\":true,\"ticks\":\"\",\"zerolinecolor\":\"white\",\"gridwidth\":2},\"yaxis\":{\"backgroundcolor\":\"#E5ECF6\",\"gridcolor\":\"white\",\"linecolor\":\"white\",\"showbackground\":true,\"ticks\":\"\",\"zerolinecolor\":\"white\",\"gridwidth\":2},\"zaxis\":{\"backgroundcolor\":\"#E5ECF6\",\"gridcolor\":\"white\",\"linecolor\":\"white\",\"showbackground\":true,\"ticks\":\"\",\"zerolinecolor\":\"white\",\"gridwidth\":2}},\"shapedefaults\":{\"line\":{\"color\":\"#2a3f5f\"}},\"annotationdefaults\":{\"arrowcolor\":\"#2a3f5f\",\"arrowhead\":0,\"arrowwidth\":1},\"geo\":{\"bgcolor\":\"white\",\"landcolor\":\"#E5ECF6\",\"subunitcolor\":\"white\",\"showland\":true,\"showlakes\":true,\"lakecolor\":\"white\"},\"title\":{\"x\":0.05},\"mapbox\":{\"style\":\"light\"}}},\"xaxis\":{\"anchor\":\"y\",\"domain\":[0.0,1.0],\"title\":{\"text\":\"adp\"}},\"yaxis\":{\"anchor\":\"x\",\"domain\":[0.0,1.0],\"title\":{\"text\":\"fantasyPoints\"}},\"coloraxis\":{\"colorbar\":{\"title\":{\"text\":\"adp\"}},\"colorscale\":[[0.0,\"#0d0887\"],[0.1111111111111111,\"#46039f\"],[0.2222222222222222,\"#7201a8\"],[0.3333333333333333,\"#9c179e\"],[0.4444444444444444,\"#bd3786\"],[0.5555555555555556,\"#d8576b\"],[0.6666666666666666,\"#ed7953\"],[0.7777777777777778,\"#fb9f3a\"],[0.8888888888888888,\"#fdca26\"],[1.0,\"#f0f921\"]]},\"legend\":{\"tracegroupgap\":0},\"title\":{\"text\":\"Top 24 QBs | ADP vs Projected FP\"}},                        {\"responsive\": true}                    ).then(function(){\n",
       "                            \n",
       "var gd = document.getElementById('b7f825ba-25e4-43fb-aded-4ae653d202e4');\n",
       "var x = new MutationObserver(function (mutations, observer) {{\n",
       "        var display = window.getComputedStyle(gd).display;\n",
       "        if (!display || display === 'none') {{\n",
       "            console.log([gd, 'removed!']);\n",
       "            Plotly.purge(gd);\n",
       "            observer.disconnect();\n",
       "        }}\n",
       "}});\n",
       "\n",
       "// Listen for the removal of the full notebook cells\n",
       "var notebookContainer = gd.closest('#notebook-container');\n",
       "if (notebookContainer) {{\n",
       "    x.observe(notebookContainer, {childList: true});\n",
       "}}\n",
       "\n",
       "// Listen for the clearing of the current output cell\n",
       "var outputEl = gd.closest('.output');\n",
       "if (outputEl) {{\n",
       "    x.observe(outputEl, {childList: true});\n",
       "}}\n",
       "\n",
       "                        })                };                });            </script>        </div>"
      ]
     },
     "metadata": {},
     "output_type": "display_data"
    },
    {
     "data": {
      "application/vnd.plotly.v1+json": {
       "config": {
        "plotlyServerURL": "https://plot.ly"
       },
       "data": [
        {
         "customdata": [
          [
           "Josh Allen",
           "BUF"
          ],
          [
           "Patrick Mahomes",
           "KC"
          ],
          [
           "Justin Herbert",
           "LAC"
          ],
          [
           "Lamar Jackson",
           "BAL"
          ],
          [
           "Joe Burrow",
           "CIN"
          ],
          [
           "Kyler Murray",
           "ARI"
          ],
          [
           "Jalen Hurts",
           "PHI"
          ],
          [
           "Dak Prescott",
           "DAL"
          ],
          [
           "Russell Wilson",
           "DEN"
          ],
          [
           "Tom Brady",
           "TB"
          ],
          [
           "Aaron Rodgers",
           "GB"
          ],
          [
           "Matthew Stafford",
           "LAR"
          ],
          [
           "Trey Lance",
           "SF"
          ],
          [
           "Derek Carr",
           "LV"
          ],
          [
           "Deshaun Watson",
           "CLE"
          ],
          [
           "Kirk Cousins",
           "MIN"
          ],
          [
           "Tua Tagovailoa",
           "MIA"
          ],
          [
           "Justin Fields",
           "CHI"
          ],
          [
           "Trevor Lawrence",
           "JAX"
          ],
          [
           "Matt Ryan",
           "IND"
          ],
          [
           "Jameis Winston",
           "NO"
          ],
          [
           "Mac Jones",
           "NE"
          ],
          [
           "Zach Wilson",
           "NYJ"
          ],
          [
           "Ryan Tannehill",
           "TEN"
          ]
         ],
         "hovertemplate": "adp=%{marker.color}<br>fantasyPoints=%{y}<br>playerName=%{customdata[0]}<br>teamName=%{customdata[1]}<extra></extra>",
         "legendgroup": "",
         "marker": {
          "color": [
           17.5,
           29.9,
           33.7,
           49.3,
           53.9,
           57,
           71.5,
           79.3,
           80.5,
           87.7,
           96.6,
           98.1,
           109.9,
           112.8,
           116.7,
           125.1,
           131.7,
           140.5,
           150.9,
           166.5,
           168.3,
           173.8,
           183.8,
           188.4
          ],
          "coloraxis": "coloraxis",
          "size": 10,
          "symbol": "circle"
         },
         "mode": "markers+text",
         "name": "",
         "orientation": "v",
         "showlegend": false,
         "text": [
          "Josh Allen",
          "Patrick Mahomes",
          "Justin Herbert",
          "Lamar Jackson",
          "Joe Burrow",
          "Kyler Murray",
          "Jalen Hurts",
          "Dak Prescott",
          "Russell Wilson",
          "Tom Brady",
          "Aaron Rodgers",
          "Matthew Stafford",
          "Trey Lance",
          "Derek Carr",
          "Deshaun Watson",
          "Kirk Cousins",
          "Tua Tagovailoa",
          "Justin Fields",
          "Trevor Lawrence",
          "Matt Ryan",
          "Jameis Winston",
          "Mac Jones",
          "Zach Wilson",
          "Ryan Tannehill"
         ],
         "textfont": {
          "size": 6
         },
         "textposition": "top center",
         "type": "scatter",
         "x": [
          17.5,
          29.9,
          33.7,
          49.3,
          53.9,
          57,
          71.5,
          79.3,
          80.5,
          87.7,
          96.6,
          98.1,
          109.9,
          112.8,
          116.7,
          125.1,
          131.7,
          140.5,
          150.9,
          166.5,
          168.3,
          173.8,
          183.8,
          188.4
         ],
         "xaxis": "x",
         "y": [
          415.9,
          369.4,
          358,
          395.7,
          329,
          356.4,
          387.1,
          336.9,
          320.2,
          361.8,
          336.6,
          336,
          325.9,
          303.6,
          311.9,
          306.7,
          313,
          296.9,
          300.6,
          285.9,
          256.5,
          287.4,
          288.2,
          314.1
         ],
         "yaxis": "y"
        },
        {
         "hovertemplate": "<b>OLS trendline</b><br>fantasyPoints = -0.64843 * adp + 397.081<br>R<sup>2</sup>=0.732819<br><br>adp=%{x}<br>fantasyPoints=%{y} <b>(trend)</b><extra></extra>",
         "legendgroup": "",
         "marker": {
          "size": 10,
          "symbol": "circle"
         },
         "mode": "lines",
         "name": "",
         "showlegend": false,
         "textfont": {
          "size": 6
         },
         "textposition": "top center",
         "type": "scatter",
         "x": [
          17.5,
          29.9,
          33.7,
          49.3,
          53.9,
          57,
          71.5,
          79.3,
          80.5,
          87.7,
          96.6,
          98.1,
          109.9,
          112.8,
          116.7,
          125.1,
          131.7,
          140.5,
          150.9,
          166.5,
          168.3,
          173.8,
          183.8,
          188.4
         ],
         "xaxis": "x",
         "y": [
          385.73363487640023,
          377.69310538166945,
          375.2290721494133,
          365.11356730120366,
          362.1307902305777,
          360.12065785689504,
          350.7184257864438,
          345.66067336233897,
          344.8825576047844,
          340.21386305945686,
          334.44283785759364,
          333.4701931606504,
          325.818721544697,
          323.9382751306067,
          321.4093989185543,
          315.9625886156722,
          311.68295194912196,
          305.976769727055,
          299.23309982824856,
          289.1175949800389,
          287.95042134370703,
          284.3840574549152,
          277.89975947529365,
          274.9169824046677
         ],
         "yaxis": "y"
        }
       ],
       "layout": {
        "coloraxis": {
         "colorbar": {
          "title": {
           "text": "adp"
          }
         },
         "colorscale": [
          [
           0,
           "#0d0887"
          ],
          [
           0.1111111111111111,
           "#46039f"
          ],
          [
           0.2222222222222222,
           "#7201a8"
          ],
          [
           0.3333333333333333,
           "#9c179e"
          ],
          [
           0.4444444444444444,
           "#bd3786"
          ],
          [
           0.5555555555555556,
           "#d8576b"
          ],
          [
           0.6666666666666666,
           "#ed7953"
          ],
          [
           0.7777777777777778,
           "#fb9f3a"
          ],
          [
           0.8888888888888888,
           "#fdca26"
          ],
          [
           1,
           "#f0f921"
          ]
         ]
        },
        "legend": {
         "tracegroupgap": 0
        },
        "template": {
         "data": {
          "bar": [
           {
            "error_x": {
             "color": "#2a3f5f"
            },
            "error_y": {
             "color": "#2a3f5f"
            },
            "marker": {
             "line": {
              "color": "#E5ECF6",
              "width": 0.5
             },
             "pattern": {
              "fillmode": "overlay",
              "size": 10,
              "solidity": 0.2
             }
            },
            "type": "bar"
           }
          ],
          "barpolar": [
           {
            "marker": {
             "line": {
              "color": "#E5ECF6",
              "width": 0.5
             },
             "pattern": {
              "fillmode": "overlay",
              "size": 10,
              "solidity": 0.2
             }
            },
            "type": "barpolar"
           }
          ],
          "carpet": [
           {
            "aaxis": {
             "endlinecolor": "#2a3f5f",
             "gridcolor": "white",
             "linecolor": "white",
             "minorgridcolor": "white",
             "startlinecolor": "#2a3f5f"
            },
            "baxis": {
             "endlinecolor": "#2a3f5f",
             "gridcolor": "white",
             "linecolor": "white",
             "minorgridcolor": "white",
             "startlinecolor": "#2a3f5f"
            },
            "type": "carpet"
           }
          ],
          "choropleth": [
           {
            "colorbar": {
             "outlinewidth": 0,
             "ticks": ""
            },
            "type": "choropleth"
           }
          ],
          "contour": [
           {
            "colorbar": {
             "outlinewidth": 0,
             "ticks": ""
            },
            "colorscale": [
             [
              0,
              "#0d0887"
             ],
             [
              0.1111111111111111,
              "#46039f"
             ],
             [
              0.2222222222222222,
              "#7201a8"
             ],
             [
              0.3333333333333333,
              "#9c179e"
             ],
             [
              0.4444444444444444,
              "#bd3786"
             ],
             [
              0.5555555555555556,
              "#d8576b"
             ],
             [
              0.6666666666666666,
              "#ed7953"
             ],
             [
              0.7777777777777778,
              "#fb9f3a"
             ],
             [
              0.8888888888888888,
              "#fdca26"
             ],
             [
              1,
              "#f0f921"
             ]
            ],
            "type": "contour"
           }
          ],
          "contourcarpet": [
           {
            "colorbar": {
             "outlinewidth": 0,
             "ticks": ""
            },
            "type": "contourcarpet"
           }
          ],
          "heatmap": [
           {
            "colorbar": {
             "outlinewidth": 0,
             "ticks": ""
            },
            "colorscale": [
             [
              0,
              "#0d0887"
             ],
             [
              0.1111111111111111,
              "#46039f"
             ],
             [
              0.2222222222222222,
              "#7201a8"
             ],
             [
              0.3333333333333333,
              "#9c179e"
             ],
             [
              0.4444444444444444,
              "#bd3786"
             ],
             [
              0.5555555555555556,
              "#d8576b"
             ],
             [
              0.6666666666666666,
              "#ed7953"
             ],
             [
              0.7777777777777778,
              "#fb9f3a"
             ],
             [
              0.8888888888888888,
              "#fdca26"
             ],
             [
              1,
              "#f0f921"
             ]
            ],
            "type": "heatmap"
           }
          ],
          "heatmapgl": [
           {
            "colorbar": {
             "outlinewidth": 0,
             "ticks": ""
            },
            "colorscale": [
             [
              0,
              "#0d0887"
             ],
             [
              0.1111111111111111,
              "#46039f"
             ],
             [
              0.2222222222222222,
              "#7201a8"
             ],
             [
              0.3333333333333333,
              "#9c179e"
             ],
             [
              0.4444444444444444,
              "#bd3786"
             ],
             [
              0.5555555555555556,
              "#d8576b"
             ],
             [
              0.6666666666666666,
              "#ed7953"
             ],
             [
              0.7777777777777778,
              "#fb9f3a"
             ],
             [
              0.8888888888888888,
              "#fdca26"
             ],
             [
              1,
              "#f0f921"
             ]
            ],
            "type": "heatmapgl"
           }
          ],
          "histogram": [
           {
            "marker": {
             "pattern": {
              "fillmode": "overlay",
              "size": 10,
              "solidity": 0.2
             }
            },
            "type": "histogram"
           }
          ],
          "histogram2d": [
           {
            "colorbar": {
             "outlinewidth": 0,
             "ticks": ""
            },
            "colorscale": [
             [
              0,
              "#0d0887"
             ],
             [
              0.1111111111111111,
              "#46039f"
             ],
             [
              0.2222222222222222,
              "#7201a8"
             ],
             [
              0.3333333333333333,
              "#9c179e"
             ],
             [
              0.4444444444444444,
              "#bd3786"
             ],
             [
              0.5555555555555556,
              "#d8576b"
             ],
             [
              0.6666666666666666,
              "#ed7953"
             ],
             [
              0.7777777777777778,
              "#fb9f3a"
             ],
             [
              0.8888888888888888,
              "#fdca26"
             ],
             [
              1,
              "#f0f921"
             ]
            ],
            "type": "histogram2d"
           }
          ],
          "histogram2dcontour": [
           {
            "colorbar": {
             "outlinewidth": 0,
             "ticks": ""
            },
            "colorscale": [
             [
              0,
              "#0d0887"
             ],
             [
              0.1111111111111111,
              "#46039f"
             ],
             [
              0.2222222222222222,
              "#7201a8"
             ],
             [
              0.3333333333333333,
              "#9c179e"
             ],
             [
              0.4444444444444444,
              "#bd3786"
             ],
             [
              0.5555555555555556,
              "#d8576b"
             ],
             [
              0.6666666666666666,
              "#ed7953"
             ],
             [
              0.7777777777777778,
              "#fb9f3a"
             ],
             [
              0.8888888888888888,
              "#fdca26"
             ],
             [
              1,
              "#f0f921"
             ]
            ],
            "type": "histogram2dcontour"
           }
          ],
          "mesh3d": [
           {
            "colorbar": {
             "outlinewidth": 0,
             "ticks": ""
            },
            "type": "mesh3d"
           }
          ],
          "parcoords": [
           {
            "line": {
             "colorbar": {
              "outlinewidth": 0,
              "ticks": ""
             }
            },
            "type": "parcoords"
           }
          ],
          "pie": [
           {
            "automargin": true,
            "type": "pie"
           }
          ],
          "scatter": [
           {
            "fillpattern": {
             "fillmode": "overlay",
             "size": 10,
             "solidity": 0.2
            },
            "type": "scatter"
           }
          ],
          "scatter3d": [
           {
            "line": {
             "colorbar": {
              "outlinewidth": 0,
              "ticks": ""
             }
            },
            "marker": {
             "colorbar": {
              "outlinewidth": 0,
              "ticks": ""
             }
            },
            "type": "scatter3d"
           }
          ],
          "scattercarpet": [
           {
            "marker": {
             "colorbar": {
              "outlinewidth": 0,
              "ticks": ""
             }
            },
            "type": "scattercarpet"
           }
          ],
          "scattergeo": [
           {
            "marker": {
             "colorbar": {
              "outlinewidth": 0,
              "ticks": ""
             }
            },
            "type": "scattergeo"
           }
          ],
          "scattergl": [
           {
            "marker": {
             "colorbar": {
              "outlinewidth": 0,
              "ticks": ""
             }
            },
            "type": "scattergl"
           }
          ],
          "scattermapbox": [
           {
            "marker": {
             "colorbar": {
              "outlinewidth": 0,
              "ticks": ""
             }
            },
            "type": "scattermapbox"
           }
          ],
          "scatterpolar": [
           {
            "marker": {
             "colorbar": {
              "outlinewidth": 0,
              "ticks": ""
             }
            },
            "type": "scatterpolar"
           }
          ],
          "scatterpolargl": [
           {
            "marker": {
             "colorbar": {
              "outlinewidth": 0,
              "ticks": ""
             }
            },
            "type": "scatterpolargl"
           }
          ],
          "scatterternary": [
           {
            "marker": {
             "colorbar": {
              "outlinewidth": 0,
              "ticks": ""
             }
            },
            "type": "scatterternary"
           }
          ],
          "surface": [
           {
            "colorbar": {
             "outlinewidth": 0,
             "ticks": ""
            },
            "colorscale": [
             [
              0,
              "#0d0887"
             ],
             [
              0.1111111111111111,
              "#46039f"
             ],
             [
              0.2222222222222222,
              "#7201a8"
             ],
             [
              0.3333333333333333,
              "#9c179e"
             ],
             [
              0.4444444444444444,
              "#bd3786"
             ],
             [
              0.5555555555555556,
              "#d8576b"
             ],
             [
              0.6666666666666666,
              "#ed7953"
             ],
             [
              0.7777777777777778,
              "#fb9f3a"
             ],
             [
              0.8888888888888888,
              "#fdca26"
             ],
             [
              1,
              "#f0f921"
             ]
            ],
            "type": "surface"
           }
          ],
          "table": [
           {
            "cells": {
             "fill": {
              "color": "#EBF0F8"
             },
             "line": {
              "color": "white"
             }
            },
            "header": {
             "fill": {
              "color": "#C8D4E3"
             },
             "line": {
              "color": "white"
             }
            },
            "type": "table"
           }
          ]
         },
         "layout": {
          "annotationdefaults": {
           "arrowcolor": "#2a3f5f",
           "arrowhead": 0,
           "arrowwidth": 1
          },
          "autotypenumbers": "strict",
          "coloraxis": {
           "colorbar": {
            "outlinewidth": 0,
            "ticks": ""
           }
          },
          "colorscale": {
           "diverging": [
            [
             0,
             "#8e0152"
            ],
            [
             0.1,
             "#c51b7d"
            ],
            [
             0.2,
             "#de77ae"
            ],
            [
             0.3,
             "#f1b6da"
            ],
            [
             0.4,
             "#fde0ef"
            ],
            [
             0.5,
             "#f7f7f7"
            ],
            [
             0.6,
             "#e6f5d0"
            ],
            [
             0.7,
             "#b8e186"
            ],
            [
             0.8,
             "#7fbc41"
            ],
            [
             0.9,
             "#4d9221"
            ],
            [
             1,
             "#276419"
            ]
           ],
           "sequential": [
            [
             0,
             "#0d0887"
            ],
            [
             0.1111111111111111,
             "#46039f"
            ],
            [
             0.2222222222222222,
             "#7201a8"
            ],
            [
             0.3333333333333333,
             "#9c179e"
            ],
            [
             0.4444444444444444,
             "#bd3786"
            ],
            [
             0.5555555555555556,
             "#d8576b"
            ],
            [
             0.6666666666666666,
             "#ed7953"
            ],
            [
             0.7777777777777778,
             "#fb9f3a"
            ],
            [
             0.8888888888888888,
             "#fdca26"
            ],
            [
             1,
             "#f0f921"
            ]
           ],
           "sequentialminus": [
            [
             0,
             "#0d0887"
            ],
            [
             0.1111111111111111,
             "#46039f"
            ],
            [
             0.2222222222222222,
             "#7201a8"
            ],
            [
             0.3333333333333333,
             "#9c179e"
            ],
            [
             0.4444444444444444,
             "#bd3786"
            ],
            [
             0.5555555555555556,
             "#d8576b"
            ],
            [
             0.6666666666666666,
             "#ed7953"
            ],
            [
             0.7777777777777778,
             "#fb9f3a"
            ],
            [
             0.8888888888888888,
             "#fdca26"
            ],
            [
             1,
             "#f0f921"
            ]
           ]
          },
          "colorway": [
           "#636efa",
           "#EF553B",
           "#00cc96",
           "#ab63fa",
           "#FFA15A",
           "#19d3f3",
           "#FF6692",
           "#B6E880",
           "#FF97FF",
           "#FECB52"
          ],
          "font": {
           "color": "#2a3f5f"
          },
          "geo": {
           "bgcolor": "white",
           "lakecolor": "white",
           "landcolor": "#E5ECF6",
           "showlakes": true,
           "showland": true,
           "subunitcolor": "white"
          },
          "hoverlabel": {
           "align": "left"
          },
          "hovermode": "closest",
          "mapbox": {
           "style": "light"
          },
          "paper_bgcolor": "white",
          "plot_bgcolor": "#E5ECF6",
          "polar": {
           "angularaxis": {
            "gridcolor": "white",
            "linecolor": "white",
            "ticks": ""
           },
           "bgcolor": "#E5ECF6",
           "radialaxis": {
            "gridcolor": "white",
            "linecolor": "white",
            "ticks": ""
           }
          },
          "scene": {
           "xaxis": {
            "backgroundcolor": "#E5ECF6",
            "gridcolor": "white",
            "gridwidth": 2,
            "linecolor": "white",
            "showbackground": true,
            "ticks": "",
            "zerolinecolor": "white"
           },
           "yaxis": {
            "backgroundcolor": "#E5ECF6",
            "gridcolor": "white",
            "gridwidth": 2,
            "linecolor": "white",
            "showbackground": true,
            "ticks": "",
            "zerolinecolor": "white"
           },
           "zaxis": {
            "backgroundcolor": "#E5ECF6",
            "gridcolor": "white",
            "gridwidth": 2,
            "linecolor": "white",
            "showbackground": true,
            "ticks": "",
            "zerolinecolor": "white"
           }
          },
          "shapedefaults": {
           "line": {
            "color": "#2a3f5f"
           }
          },
          "ternary": {
           "aaxis": {
            "gridcolor": "white",
            "linecolor": "white",
            "ticks": ""
           },
           "baxis": {
            "gridcolor": "white",
            "linecolor": "white",
            "ticks": ""
           },
           "bgcolor": "#E5ECF6",
           "caxis": {
            "gridcolor": "white",
            "linecolor": "white",
            "ticks": ""
           }
          },
          "title": {
           "x": 0.05
          },
          "xaxis": {
           "automargin": true,
           "gridcolor": "white",
           "linecolor": "white",
           "ticks": "",
           "title": {
            "standoff": 15
           },
           "zerolinecolor": "white",
           "zerolinewidth": 2
          },
          "yaxis": {
           "automargin": true,
           "gridcolor": "white",
           "linecolor": "white",
           "ticks": "",
           "title": {
            "standoff": 15
           },
           "zerolinecolor": "white",
           "zerolinewidth": 2
          }
         }
        },
        "title": {
         "text": "Top 24 QBs | ADP vs Projected FP"
        },
        "xaxis": {
         "anchor": "y",
         "domain": [
          0,
          1
         ],
         "title": {
          "text": "adp"
         }
        },
        "yaxis": {
         "anchor": "x",
         "domain": [
          0,
          1
         ],
         "title": {
          "text": "fantasyPoints"
         }
        }
       }
      },
      "text/html": [
       "<div>                            <div id=\"b7f825ba-25e4-43fb-aded-4ae653d202e4\" class=\"plotly-graph-div\" style=\"height:525px; width:100%;\"></div>            <script type=\"text/javascript\">                require([\"plotly\"], function(Plotly) {                    window.PLOTLYENV=window.PLOTLYENV || {};                                    if (document.getElementById(\"b7f825ba-25e4-43fb-aded-4ae653d202e4\")) {                    Plotly.newPlot(                        \"b7f825ba-25e4-43fb-aded-4ae653d202e4\",                        [{\"customdata\":[[\"Josh Allen\",\"BUF\"],[\"Patrick Mahomes\",\"KC\"],[\"Justin Herbert\",\"LAC\"],[\"Lamar Jackson\",\"BAL\"],[\"Joe Burrow\",\"CIN\"],[\"Kyler Murray\",\"ARI\"],[\"Jalen Hurts\",\"PHI\"],[\"Dak Prescott\",\"DAL\"],[\"Russell Wilson\",\"DEN\"],[\"Tom Brady\",\"TB\"],[\"Aaron Rodgers\",\"GB\"],[\"Matthew Stafford\",\"LAR\"],[\"Trey Lance\",\"SF\"],[\"Derek Carr\",\"LV\"],[\"Deshaun Watson\",\"CLE\"],[\"Kirk Cousins\",\"MIN\"],[\"Tua Tagovailoa\",\"MIA\"],[\"Justin Fields\",\"CHI\"],[\"Trevor Lawrence\",\"JAX\"],[\"Matt Ryan\",\"IND\"],[\"Jameis Winston\",\"NO\"],[\"Mac Jones\",\"NE\"],[\"Zach Wilson\",\"NYJ\"],[\"Ryan Tannehill\",\"TEN\"]],\"hovertemplate\":\"adp=%{marker.color}<br>fantasyPoints=%{y}<br>playerName=%{customdata[0]}<br>teamName=%{customdata[1]}<extra></extra>\",\"legendgroup\":\"\",\"marker\":{\"color\":[17.5,29.9,33.7,49.3,53.9,57.0,71.5,79.3,80.5,87.7,96.6,98.1,109.9,112.8,116.7,125.1,131.7,140.5,150.9,166.5,168.3,173.8,183.8,188.4],\"coloraxis\":\"coloraxis\",\"symbol\":\"circle\",\"size\":10},\"mode\":\"markers+text\",\"name\":\"\",\"orientation\":\"v\",\"showlegend\":false,\"text\":[\"Josh Allen\",\"Patrick Mahomes\",\"Justin Herbert\",\"Lamar Jackson\",\"Joe Burrow\",\"Kyler Murray\",\"Jalen Hurts\",\"Dak Prescott\",\"Russell Wilson\",\"Tom Brady\",\"Aaron Rodgers\",\"Matthew Stafford\",\"Trey Lance\",\"Derek Carr\",\"Deshaun Watson\",\"Kirk Cousins\",\"Tua Tagovailoa\",\"Justin Fields\",\"Trevor Lawrence\",\"Matt Ryan\",\"Jameis Winston\",\"Mac Jones\",\"Zach Wilson\",\"Ryan Tannehill\"],\"x\":[17.5,29.9,33.7,49.3,53.9,57.0,71.5,79.3,80.5,87.7,96.6,98.1,109.9,112.8,116.7,125.1,131.7,140.5,150.9,166.5,168.3,173.8,183.8,188.4],\"xaxis\":\"x\",\"y\":[415.9,369.4,358.0,395.7,329.0,356.4,387.1,336.9,320.2,361.8,336.6,336.0,325.9,303.6,311.9,306.7,313.0,296.9,300.6,285.9,256.5,287.4,288.2,314.1],\"yaxis\":\"y\",\"type\":\"scatter\",\"textfont\":{\"size\":6},\"textposition\":\"top center\"},{\"hovertemplate\":\"<b>OLS trendline</b><br>fantasyPoints = -0.64843 * adp + 397.081<br>R<sup>2</sup>=0.732819<br><br>adp=%{x}<br>fantasyPoints=%{y} <b>(trend)</b><extra></extra>\",\"legendgroup\":\"\",\"marker\":{\"symbol\":\"circle\",\"size\":10},\"mode\":\"lines\",\"name\":\"\",\"showlegend\":false,\"x\":[17.5,29.9,33.7,49.3,53.9,57.0,71.5,79.3,80.5,87.7,96.6,98.1,109.9,112.8,116.7,125.1,131.7,140.5,150.9,166.5,168.3,173.8,183.8,188.4],\"xaxis\":\"x\",\"y\":[385.73363487640023,377.69310538166945,375.2290721494133,365.11356730120366,362.1307902305777,360.12065785689504,350.7184257864438,345.66067336233897,344.8825576047844,340.21386305945686,334.44283785759364,333.4701931606504,325.818721544697,323.9382751306067,321.4093989185543,315.9625886156722,311.68295194912196,305.976769727055,299.23309982824856,289.1175949800389,287.95042134370703,284.3840574549152,277.89975947529365,274.9169824046677],\"yaxis\":\"y\",\"type\":\"scatter\",\"textfont\":{\"size\":6},\"textposition\":\"top center\"}],                        {\"template\":{\"data\":{\"histogram2dcontour\":[{\"type\":\"histogram2dcontour\",\"colorbar\":{\"outlinewidth\":0,\"ticks\":\"\"},\"colorscale\":[[0.0,\"#0d0887\"],[0.1111111111111111,\"#46039f\"],[0.2222222222222222,\"#7201a8\"],[0.3333333333333333,\"#9c179e\"],[0.4444444444444444,\"#bd3786\"],[0.5555555555555556,\"#d8576b\"],[0.6666666666666666,\"#ed7953\"],[0.7777777777777778,\"#fb9f3a\"],[0.8888888888888888,\"#fdca26\"],[1.0,\"#f0f921\"]]}],\"choropleth\":[{\"type\":\"choropleth\",\"colorbar\":{\"outlinewidth\":0,\"ticks\":\"\"}}],\"histogram2d\":[{\"type\":\"histogram2d\",\"colorbar\":{\"outlinewidth\":0,\"ticks\":\"\"},\"colorscale\":[[0.0,\"#0d0887\"],[0.1111111111111111,\"#46039f\"],[0.2222222222222222,\"#7201a8\"],[0.3333333333333333,\"#9c179e\"],[0.4444444444444444,\"#bd3786\"],[0.5555555555555556,\"#d8576b\"],[0.6666666666666666,\"#ed7953\"],[0.7777777777777778,\"#fb9f3a\"],[0.8888888888888888,\"#fdca26\"],[1.0,\"#f0f921\"]]}],\"heatmap\":[{\"type\":\"heatmap\",\"colorbar\":{\"outlinewidth\":0,\"ticks\":\"\"},\"colorscale\":[[0.0,\"#0d0887\"],[0.1111111111111111,\"#46039f\"],[0.2222222222222222,\"#7201a8\"],[0.3333333333333333,\"#9c179e\"],[0.4444444444444444,\"#bd3786\"],[0.5555555555555556,\"#d8576b\"],[0.6666666666666666,\"#ed7953\"],[0.7777777777777778,\"#fb9f3a\"],[0.8888888888888888,\"#fdca26\"],[1.0,\"#f0f921\"]]}],\"heatmapgl\":[{\"type\":\"heatmapgl\",\"colorbar\":{\"outlinewidth\":0,\"ticks\":\"\"},\"colorscale\":[[0.0,\"#0d0887\"],[0.1111111111111111,\"#46039f\"],[0.2222222222222222,\"#7201a8\"],[0.3333333333333333,\"#9c179e\"],[0.4444444444444444,\"#bd3786\"],[0.5555555555555556,\"#d8576b\"],[0.6666666666666666,\"#ed7953\"],[0.7777777777777778,\"#fb9f3a\"],[0.8888888888888888,\"#fdca26\"],[1.0,\"#f0f921\"]]}],\"contourcarpet\":[{\"type\":\"contourcarpet\",\"colorbar\":{\"outlinewidth\":0,\"ticks\":\"\"}}],\"contour\":[{\"type\":\"contour\",\"colorbar\":{\"outlinewidth\":0,\"ticks\":\"\"},\"colorscale\":[[0.0,\"#0d0887\"],[0.1111111111111111,\"#46039f\"],[0.2222222222222222,\"#7201a8\"],[0.3333333333333333,\"#9c179e\"],[0.4444444444444444,\"#bd3786\"],[0.5555555555555556,\"#d8576b\"],[0.6666666666666666,\"#ed7953\"],[0.7777777777777778,\"#fb9f3a\"],[0.8888888888888888,\"#fdca26\"],[1.0,\"#f0f921\"]]}],\"surface\":[{\"type\":\"surface\",\"colorbar\":{\"outlinewidth\":0,\"ticks\":\"\"},\"colorscale\":[[0.0,\"#0d0887\"],[0.1111111111111111,\"#46039f\"],[0.2222222222222222,\"#7201a8\"],[0.3333333333333333,\"#9c179e\"],[0.4444444444444444,\"#bd3786\"],[0.5555555555555556,\"#d8576b\"],[0.6666666666666666,\"#ed7953\"],[0.7777777777777778,\"#fb9f3a\"],[0.8888888888888888,\"#fdca26\"],[1.0,\"#f0f921\"]]}],\"mesh3d\":[{\"type\":\"mesh3d\",\"colorbar\":{\"outlinewidth\":0,\"ticks\":\"\"}}],\"scatter\":[{\"fillpattern\":{\"fillmode\":\"overlay\",\"size\":10,\"solidity\":0.2},\"type\":\"scatter\"}],\"parcoords\":[{\"type\":\"parcoords\",\"line\":{\"colorbar\":{\"outlinewidth\":0,\"ticks\":\"\"}}}],\"scatterpolargl\":[{\"type\":\"scatterpolargl\",\"marker\":{\"colorbar\":{\"outlinewidth\":0,\"ticks\":\"\"}}}],\"bar\":[{\"error_x\":{\"color\":\"#2a3f5f\"},\"error_y\":{\"color\":\"#2a3f5f\"},\"marker\":{\"line\":{\"color\":\"#E5ECF6\",\"width\":0.5},\"pattern\":{\"fillmode\":\"overlay\",\"size\":10,\"solidity\":0.2}},\"type\":\"bar\"}],\"scattergeo\":[{\"type\":\"scattergeo\",\"marker\":{\"colorbar\":{\"outlinewidth\":0,\"ticks\":\"\"}}}],\"scatterpolar\":[{\"type\":\"scatterpolar\",\"marker\":{\"colorbar\":{\"outlinewidth\":0,\"ticks\":\"\"}}}],\"histogram\":[{\"marker\":{\"pattern\":{\"fillmode\":\"overlay\",\"size\":10,\"solidity\":0.2}},\"type\":\"histogram\"}],\"scattergl\":[{\"type\":\"scattergl\",\"marker\":{\"colorbar\":{\"outlinewidth\":0,\"ticks\":\"\"}}}],\"scatter3d\":[{\"type\":\"scatter3d\",\"line\":{\"colorbar\":{\"outlinewidth\":0,\"ticks\":\"\"}},\"marker\":{\"colorbar\":{\"outlinewidth\":0,\"ticks\":\"\"}}}],\"scattermapbox\":[{\"type\":\"scattermapbox\",\"marker\":{\"colorbar\":{\"outlinewidth\":0,\"ticks\":\"\"}}}],\"scatterternary\":[{\"type\":\"scatterternary\",\"marker\":{\"colorbar\":{\"outlinewidth\":0,\"ticks\":\"\"}}}],\"scattercarpet\":[{\"type\":\"scattercarpet\",\"marker\":{\"colorbar\":{\"outlinewidth\":0,\"ticks\":\"\"}}}],\"carpet\":[{\"aaxis\":{\"endlinecolor\":\"#2a3f5f\",\"gridcolor\":\"white\",\"linecolor\":\"white\",\"minorgridcolor\":\"white\",\"startlinecolor\":\"#2a3f5f\"},\"baxis\":{\"endlinecolor\":\"#2a3f5f\",\"gridcolor\":\"white\",\"linecolor\":\"white\",\"minorgridcolor\":\"white\",\"startlinecolor\":\"#2a3f5f\"},\"type\":\"carpet\"}],\"table\":[{\"cells\":{\"fill\":{\"color\":\"#EBF0F8\"},\"line\":{\"color\":\"white\"}},\"header\":{\"fill\":{\"color\":\"#C8D4E3\"},\"line\":{\"color\":\"white\"}},\"type\":\"table\"}],\"barpolar\":[{\"marker\":{\"line\":{\"color\":\"#E5ECF6\",\"width\":0.5},\"pattern\":{\"fillmode\":\"overlay\",\"size\":10,\"solidity\":0.2}},\"type\":\"barpolar\"}],\"pie\":[{\"automargin\":true,\"type\":\"pie\"}]},\"layout\":{\"autotypenumbers\":\"strict\",\"colorway\":[\"#636efa\",\"#EF553B\",\"#00cc96\",\"#ab63fa\",\"#FFA15A\",\"#19d3f3\",\"#FF6692\",\"#B6E880\",\"#FF97FF\",\"#FECB52\"],\"font\":{\"color\":\"#2a3f5f\"},\"hovermode\":\"closest\",\"hoverlabel\":{\"align\":\"left\"},\"paper_bgcolor\":\"white\",\"plot_bgcolor\":\"#E5ECF6\",\"polar\":{\"bgcolor\":\"#E5ECF6\",\"angularaxis\":{\"gridcolor\":\"white\",\"linecolor\":\"white\",\"ticks\":\"\"},\"radialaxis\":{\"gridcolor\":\"white\",\"linecolor\":\"white\",\"ticks\":\"\"}},\"ternary\":{\"bgcolor\":\"#E5ECF6\",\"aaxis\":{\"gridcolor\":\"white\",\"linecolor\":\"white\",\"ticks\":\"\"},\"baxis\":{\"gridcolor\":\"white\",\"linecolor\":\"white\",\"ticks\":\"\"},\"caxis\":{\"gridcolor\":\"white\",\"linecolor\":\"white\",\"ticks\":\"\"}},\"coloraxis\":{\"colorbar\":{\"outlinewidth\":0,\"ticks\":\"\"}},\"colorscale\":{\"sequential\":[[0.0,\"#0d0887\"],[0.1111111111111111,\"#46039f\"],[0.2222222222222222,\"#7201a8\"],[0.3333333333333333,\"#9c179e\"],[0.4444444444444444,\"#bd3786\"],[0.5555555555555556,\"#d8576b\"],[0.6666666666666666,\"#ed7953\"],[0.7777777777777778,\"#fb9f3a\"],[0.8888888888888888,\"#fdca26\"],[1.0,\"#f0f921\"]],\"sequentialminus\":[[0.0,\"#0d0887\"],[0.1111111111111111,\"#46039f\"],[0.2222222222222222,\"#7201a8\"],[0.3333333333333333,\"#9c179e\"],[0.4444444444444444,\"#bd3786\"],[0.5555555555555556,\"#d8576b\"],[0.6666666666666666,\"#ed7953\"],[0.7777777777777778,\"#fb9f3a\"],[0.8888888888888888,\"#fdca26\"],[1.0,\"#f0f921\"]],\"diverging\":[[0,\"#8e0152\"],[0.1,\"#c51b7d\"],[0.2,\"#de77ae\"],[0.3,\"#f1b6da\"],[0.4,\"#fde0ef\"],[0.5,\"#f7f7f7\"],[0.6,\"#e6f5d0\"],[0.7,\"#b8e186\"],[0.8,\"#7fbc41\"],[0.9,\"#4d9221\"],[1,\"#276419\"]]},\"xaxis\":{\"gridcolor\":\"white\",\"linecolor\":\"white\",\"ticks\":\"\",\"title\":{\"standoff\":15},\"zerolinecolor\":\"white\",\"automargin\":true,\"zerolinewidth\":2},\"yaxis\":{\"gridcolor\":\"white\",\"linecolor\":\"white\",\"ticks\":\"\",\"title\":{\"standoff\":15},\"zerolinecolor\":\"white\",\"automargin\":true,\"zerolinewidth\":2},\"scene\":{\"xaxis\":{\"backgroundcolor\":\"#E5ECF6\",\"gridcolor\":\"white\",\"linecolor\":\"white\",\"showbackground\":true,\"ticks\":\"\",\"zerolinecolor\":\"white\",\"gridwidth\":2},\"yaxis\":{\"backgroundcolor\":\"#E5ECF6\",\"gridcolor\":\"white\",\"linecolor\":\"white\",\"showbackground\":true,\"ticks\":\"\",\"zerolinecolor\":\"white\",\"gridwidth\":2},\"zaxis\":{\"backgroundcolor\":\"#E5ECF6\",\"gridcolor\":\"white\",\"linecolor\":\"white\",\"showbackground\":true,\"ticks\":\"\",\"zerolinecolor\":\"white\",\"gridwidth\":2}},\"shapedefaults\":{\"line\":{\"color\":\"#2a3f5f\"}},\"annotationdefaults\":{\"arrowcolor\":\"#2a3f5f\",\"arrowhead\":0,\"arrowwidth\":1},\"geo\":{\"bgcolor\":\"white\",\"landcolor\":\"#E5ECF6\",\"subunitcolor\":\"white\",\"showland\":true,\"showlakes\":true,\"lakecolor\":\"white\"},\"title\":{\"x\":0.05},\"mapbox\":{\"style\":\"light\"}}},\"xaxis\":{\"anchor\":\"y\",\"domain\":[0.0,1.0],\"title\":{\"text\":\"adp\"}},\"yaxis\":{\"anchor\":\"x\",\"domain\":[0.0,1.0],\"title\":{\"text\":\"fantasyPoints\"}},\"coloraxis\":{\"colorbar\":{\"title\":{\"text\":\"adp\"}},\"colorscale\":[[0.0,\"#0d0887\"],[0.1111111111111111,\"#46039f\"],[0.2222222222222222,\"#7201a8\"],[0.3333333333333333,\"#9c179e\"],[0.4444444444444444,\"#bd3786\"],[0.5555555555555556,\"#d8576b\"],[0.6666666666666666,\"#ed7953\"],[0.7777777777777778,\"#fb9f3a\"],[0.8888888888888888,\"#fdca26\"],[1.0,\"#f0f921\"]]},\"legend\":{\"tracegroupgap\":0},\"title\":{\"text\":\"Top 24 QBs | ADP vs Projected FP\"}},                        {\"responsive\": true}                    ).then(function(){\n",
       "                            \n",
       "var gd = document.getElementById('b7f825ba-25e4-43fb-aded-4ae653d202e4');\n",
       "var x = new MutationObserver(function (mutations, observer) {{\n",
       "        var display = window.getComputedStyle(gd).display;\n",
       "        if (!display || display === 'none') {{\n",
       "            console.log([gd, 'removed!']);\n",
       "            Plotly.purge(gd);\n",
       "            observer.disconnect();\n",
       "        }}\n",
       "}});\n",
       "\n",
       "// Listen for the removal of the full notebook cells\n",
       "var notebookContainer = gd.closest('#notebook-container');\n",
       "if (notebookContainer) {{\n",
       "    x.observe(notebookContainer, {childList: true});\n",
       "}}\n",
       "\n",
       "// Listen for the clearing of the current output cell\n",
       "var outputEl = gd.closest('.output');\n",
       "if (outputEl) {{\n",
       "    x.observe(outputEl, {childList: true});\n",
       "}}\n",
       "\n",
       "                        })                };                });            </script>        </div>"
      ]
     },
     "metadata": {},
     "output_type": "display_data"
    }
   ],
   "source": [
    "# create scatterplot comparing adp vs projected fantasy points for top 24 QBs\n",
    "qb_24 = qb.head(24)\n",
    "\n",
    "fig = px.scatter(qb_24, x=\"adp\", y=\"fantasyPoints\", color='adp', text='playerName', hover_data=['playerName', 'teamName'], trendline=\"ols\", title=\"Top 24 QBs | ADP vs Projected FP\")\n",
    "fig.update_traces(marker_size=10)\n",
    "fig.update_traces(textposition='top center', textfont_size=6)\n",
    "fig.show()\n",
    "fig.write_html(\"fig/qb_scatter.html\")\n",
    "fig.write_image(\"images/qb_scatter.png\")"
   ]
  },
  {
   "cell_type": "code",
   "execution_count": 46,
   "id": "657065a9",
   "metadata": {},
   "outputs": [
    {
     "data": {
      "application/vnd.plotly.v1+json": {
       "config": {
        "plotlyServerURL": "https://plot.ly"
       },
       "data": [
        {
         "customdata": [
          [
           "Jonathan Taylor",
           "IND"
          ],
          [
           "Christian McCaffrey",
           "CAR"
          ],
          [
           "Derrick Henry",
           "TEN"
          ],
          [
           "Austin Ekeler",
           "LAC"
          ],
          [
           "Dalvin Cook",
           "MIN"
          ],
          [
           "Najee Harris",
           "PIT"
          ],
          [
           "Joe Mixon",
           "CIN"
          ],
          [
           "D'Andre Swift",
           "DET"
          ],
          [
           "Nick Chubb",
           "CLE"
          ],
          [
           "Alvin Kamara",
           "NO"
          ],
          [
           "Saquon Barkley",
           "NYG"
          ],
          [
           "Javonte Williams",
           "DEN"
          ],
          [
           "Aaron Jones",
           "GB"
          ],
          [
           "Leonard Fournette",
           "TB"
          ],
          [
           "Ezekiel Elliott",
           "DAL"
          ],
          [
           "Cam Akers",
           "LAR"
          ],
          [
           "James Conner",
           "ARI"
          ],
          [
           "David Montgomery",
           "CHI"
          ],
          [
           "Antonio Gibson",
           "WAS"
          ],
          [
           "Breece Hall",
           "NYJ"
          ],
          [
           "J.K. Dobbins",
           "BAL"
          ],
          [
           "Josh Jacobs",
           "LV"
          ],
          [
           "Travis Etienne",
           "JAX"
          ],
          [
           "Elijah Mitchell",
           "SF"
          ],
          [
           "Clyde Edwards-Helaire",
           "KC"
          ],
          [
           "Damien Harris",
           "NE"
          ],
          [
           "Miles Sanders",
           "PHI"
          ],
          [
           "A.J. Dillon",
           "GB"
          ],
          [
           "Kareem Hunt",
           "CLE"
          ],
          [
           "Cordarrelle Patterson",
           "ATL"
          ],
          [
           "Tony Pollard",
           "DAL"
          ],
          [
           "Devin Singletary",
           "BUF"
          ],
          [
           "Chase Edmonds",
           "MIA"
          ],
          [
           "James Cook",
           "BUF"
          ],
          [
           "Rashaad Penny",
           "SEA"
          ],
          [
           "Michael Carter",
           "NYJ"
          ],
          [
           "James Robinson",
           "JAX"
          ],
          [
           "Isaiah Spiller",
           "LAC"
          ],
          [
           "Rhamondre Stevenson",
           "NE"
          ],
          [
           "Ronald Jones",
           "KC"
          ],
          [
           "Dameon Pierce",
           "HOU"
          ],
          [
           "Alexander Mattison",
           "MIN"
          ],
          [
           "Rachaad White",
           "TB"
          ],
          [
           "Nyheim Hines",
           "IND"
          ],
          [
           "Darrell Henderson",
           "LAR"
          ],
          [
           "Tyler Allgeier",
           "ATL"
          ],
          [
           "Marlon Mack",
           "HOU"
          ],
          [
           "Kenneth Gainwell",
           "PHI"
          ],
          [
           "J.D. McKissic",
           "WAS"
          ],
          [
           "Raheem Mostert",
           "MIA"
          ],
          [
           "Khalil Herbert",
           "CHI"
          ],
          [
           "Darrel Williams",
           "ARI"
          ],
          [
           "Gus Edwards",
           "BAL"
          ],
          [
           "Jamaal Williams",
           "DET"
          ],
          [
           "Chuba Hubbard",
           "CAR"
          ],
          [
           "Tyrion Davis-Price",
           "SF"
          ],
          [
           "Zamir White",
           "LV"
          ],
          [
           "D'Onta Foreman",
           "CAR"
          ],
          [
           "Myles Gaskin",
           "MIA"
          ],
          [
           "Keaontay Ingram",
           "ARI"
          ]
         ],
         "hovertemplate": "adp=%{marker.color}<br>fantasyPoints=%{y}<br>playerName=%{customdata[0]}<br>teamName=%{customdata[1]}<extra></extra>",
         "legendgroup": "",
         "marker": {
          "color": [
           1.4,
           2.3,
           3.2,
           4,
           6,
           8.3,
           10.5,
           14.7,
           15.9,
           16.5,
           22.3,
           23.9,
           24.1,
           26.5,
           31.5,
           34.3,
           35.7,
           37.2,
           38.9,
           43.4,
           44.1,
           44.9,
           48,
           58.5,
           62.9,
           65.2,
           66.9,
           70.4,
           80.4,
           84.4,
           89.3,
           94.7,
           98.5,
           100.2,
           104.7,
           107.4,
           111.7,
           113.2,
           118.7,
           121.4,
           128.8,
           129.6,
           136,
           137.8,
           142.6,
           145.7,
           152.4,
           152.6,
           154.2,
           155,
           175.9,
           176.2,
           177.8,
           186.9,
           187.7,
           189,
           196.1,
           199,
           224.3,
           230.7
          ],
          "coloraxis": "coloraxis",
          "size": 10,
          "symbol": "circle"
         },
         "mode": "markers+text",
         "name": "",
         "orientation": "v",
         "showlegend": false,
         "text": [
          "Jonathan Taylor",
          "Christian McCaffrey",
          "Derrick Henry",
          "Austin Ekeler",
          "Dalvin Cook",
          "Najee Harris",
          "Joe Mixon",
          "D'Andre Swift",
          "Nick Chubb",
          "Alvin Kamara",
          "Saquon Barkley",
          "Javonte Williams",
          "Aaron Jones",
          "Leonard Fournette",
          "Ezekiel Elliott",
          "Cam Akers",
          "James Conner",
          "David Montgomery",
          "Antonio Gibson",
          "Breece Hall",
          "J.K. Dobbins",
          "Josh Jacobs",
          "Travis Etienne",
          "Elijah Mitchell",
          "Clyde Edwards-Helaire",
          "Damien Harris",
          "Miles Sanders",
          "A.J. Dillon",
          "Kareem Hunt",
          "Cordarrelle Patterson",
          "Tony Pollard",
          "Devin Singletary",
          "Chase Edmonds",
          "James Cook",
          "Rashaad Penny",
          "Michael Carter",
          "James Robinson",
          "Isaiah Spiller",
          "Rhamondre Stevenson",
          "Ronald Jones",
          "Dameon Pierce",
          "Alexander Mattison",
          "Rachaad White",
          "Nyheim Hines",
          "Darrell Henderson",
          "Tyler Allgeier",
          "Marlon Mack",
          "Kenneth Gainwell",
          "J.D. McKissic",
          "Raheem Mostert",
          "Khalil Herbert",
          "Darrel Williams",
          "Gus Edwards",
          "Jamaal Williams",
          "Chuba Hubbard",
          "Tyrion Davis-Price",
          "Zamir White",
          "D'Onta Foreman",
          "Myles Gaskin",
          "Keaontay Ingram"
         ],
         "textfont": {
          "size": 6
         },
         "textposition": "top center",
         "type": "scatter",
         "x": [
          1.4,
          2.3,
          3.2,
          4,
          6,
          8.3,
          10.5,
          14.7,
          15.9,
          16.5,
          22.3,
          23.9,
          24.1,
          26.5,
          31.5,
          34.3,
          35.7,
          37.2,
          38.9,
          43.4,
          44.1,
          44.9,
          48,
          58.5,
          62.9,
          65.2,
          66.9,
          70.4,
          80.4,
          84.4,
          89.3,
          94.7,
          98.5,
          100.2,
          104.7,
          107.4,
          111.7,
          113.2,
          118.7,
          121.4,
          128.8,
          129.6,
          136,
          137.8,
          142.6,
          145.7,
          152.4,
          152.6,
          154.2,
          155,
          175.9,
          176.2,
          177.8,
          186.9,
          187.7,
          189,
          196.1,
          199,
          224.3,
          230.7
         ],
         "xaxis": "x",
         "y": [
          275,
          327.8,
          314.3,
          272.3,
          294,
          296.7,
          241.4,
          256,
          213.5,
          295.4,
          245.2,
          205,
          235.7,
          268.3,
          250.8,
          190.6,
          223.4,
          212.4,
          181,
          147.3,
          186.6,
          198.2,
          225.9,
          178.4,
          193,
          145.9,
          161.4,
          172.3,
          160.2,
          197.2,
          172.9,
          107.5,
          156.8,
          129,
          143.2,
          120.2,
          64.4,
          92.5,
          110.8,
          111.6,
          123.5,
          92.3,
          102.6,
          125.3,
          135,
          42.8,
          97.2,
          54.2,
          123.5,
          111.3,
          66.5,
          82.9,
          90,
          124.9,
          59.9,
          12.6,
          74.5,
          31.3,
          19.8,
          47.4
         ],
         "yaxis": "y"
        },
        {
         "hovertemplate": "<b>OLS trendline</b><br>fantasyPoints = -1.11898 * adp + 261.769<br>R<sup>2</sup>=0.840996<br><br>adp=%{x}<br>fantasyPoints=%{y} <b>(trend)</b><extra></extra>",
         "legendgroup": "",
         "marker": {
          "size": 10,
          "symbol": "circle"
         },
         "mode": "lines",
         "name": "",
         "showlegend": false,
         "textfont": {
          "size": 6
         },
         "textposition": "top center",
         "type": "scatter",
         "x": [
          1.4,
          2.3,
          3.2,
          4,
          6,
          8.3,
          10.5,
          14.7,
          15.9,
          16.5,
          22.3,
          23.9,
          24.1,
          26.5,
          31.5,
          34.3,
          35.7,
          37.2,
          38.9,
          43.4,
          44.1,
          44.9,
          48,
          58.5,
          62.9,
          65.2,
          66.9,
          70.4,
          80.4,
          84.4,
          89.3,
          94.7,
          98.5,
          100.2,
          104.7,
          107.4,
          111.7,
          113.2,
          118.7,
          121.4,
          128.8,
          129.6,
          136,
          137.8,
          142.6,
          145.7,
          152.4,
          152.6,
          154.2,
          155,
          175.9,
          176.2,
          177.8,
          186.9,
          187.7,
          189,
          196.1,
          199,
          224.3,
          230.7
         ],
         "xaxis": "x",
         "y": [
          260.20256078943964,
          259.1954798507307,
          258.18839891202174,
          257.2932158553915,
          255.05525821381602,
          252.48160692600422,
          250.01985352027117,
          245.32014247296266,
          243.97736788801737,
          243.30598059554472,
          236.8159034349758,
          235.0255373217154,
          234.80174155755788,
          232.11619238766727,
          226.52129828372856,
          223.3881575855229,
          221.82158723642004,
          220.14311900523842,
          218.24085500989926,
          213.20545031635442,
          212.422165141803,
          211.5269820851728,
          208.0581477407308,
          196.3088701224595,
          191.3853633109934,
          188.8117120231816,
          186.90944802784242,
          182.99302215508533,
          171.8032339472079,
          167.32731866405692,
          161.84432244219698,
          155.80183680994315,
          151.54971729094973,
          149.64745329561055,
          144.61204860206573,
          141.5908057859388,
          136.7791968565515,
          135.1007286253699,
          128.9463451110373,
          125.92510229491037,
          117.64465902108108,
          116.74947596445091,
          109.58801151140932,
          107.57384963399139,
          102.20275129421023,
          98.73391694976823,
          91.23675885049033,
          91.0129630863328,
          89.2225969730724,
          88.3274139164422,
          64.94075656197836,
          64.60506291574205,
          62.81469680248162,
          52.631989533313174,
          51.736806476683,
          50.282134009658904,
          42.33738438206595,
          39.09234580178148,
          10.782181635851543,
          3.620717182809983
         ],
         "yaxis": "y"
        }
       ],
       "layout": {
        "coloraxis": {
         "colorbar": {
          "title": {
           "text": "adp"
          }
         },
         "colorscale": [
          [
           0,
           "#0d0887"
          ],
          [
           0.1111111111111111,
           "#46039f"
          ],
          [
           0.2222222222222222,
           "#7201a8"
          ],
          [
           0.3333333333333333,
           "#9c179e"
          ],
          [
           0.4444444444444444,
           "#bd3786"
          ],
          [
           0.5555555555555556,
           "#d8576b"
          ],
          [
           0.6666666666666666,
           "#ed7953"
          ],
          [
           0.7777777777777778,
           "#fb9f3a"
          ],
          [
           0.8888888888888888,
           "#fdca26"
          ],
          [
           1,
           "#f0f921"
          ]
         ]
        },
        "legend": {
         "tracegroupgap": 0
        },
        "template": {
         "data": {
          "bar": [
           {
            "error_x": {
             "color": "#2a3f5f"
            },
            "error_y": {
             "color": "#2a3f5f"
            },
            "marker": {
             "line": {
              "color": "#E5ECF6",
              "width": 0.5
             },
             "pattern": {
              "fillmode": "overlay",
              "size": 10,
              "solidity": 0.2
             }
            },
            "type": "bar"
           }
          ],
          "barpolar": [
           {
            "marker": {
             "line": {
              "color": "#E5ECF6",
              "width": 0.5
             },
             "pattern": {
              "fillmode": "overlay",
              "size": 10,
              "solidity": 0.2
             }
            },
            "type": "barpolar"
           }
          ],
          "carpet": [
           {
            "aaxis": {
             "endlinecolor": "#2a3f5f",
             "gridcolor": "white",
             "linecolor": "white",
             "minorgridcolor": "white",
             "startlinecolor": "#2a3f5f"
            },
            "baxis": {
             "endlinecolor": "#2a3f5f",
             "gridcolor": "white",
             "linecolor": "white",
             "minorgridcolor": "white",
             "startlinecolor": "#2a3f5f"
            },
            "type": "carpet"
           }
          ],
          "choropleth": [
           {
            "colorbar": {
             "outlinewidth": 0,
             "ticks": ""
            },
            "type": "choropleth"
           }
          ],
          "contour": [
           {
            "colorbar": {
             "outlinewidth": 0,
             "ticks": ""
            },
            "colorscale": [
             [
              0,
              "#0d0887"
             ],
             [
              0.1111111111111111,
              "#46039f"
             ],
             [
              0.2222222222222222,
              "#7201a8"
             ],
             [
              0.3333333333333333,
              "#9c179e"
             ],
             [
              0.4444444444444444,
              "#bd3786"
             ],
             [
              0.5555555555555556,
              "#d8576b"
             ],
             [
              0.6666666666666666,
              "#ed7953"
             ],
             [
              0.7777777777777778,
              "#fb9f3a"
             ],
             [
              0.8888888888888888,
              "#fdca26"
             ],
             [
              1,
              "#f0f921"
             ]
            ],
            "type": "contour"
           }
          ],
          "contourcarpet": [
           {
            "colorbar": {
             "outlinewidth": 0,
             "ticks": ""
            },
            "type": "contourcarpet"
           }
          ],
          "heatmap": [
           {
            "colorbar": {
             "outlinewidth": 0,
             "ticks": ""
            },
            "colorscale": [
             [
              0,
              "#0d0887"
             ],
             [
              0.1111111111111111,
              "#46039f"
             ],
             [
              0.2222222222222222,
              "#7201a8"
             ],
             [
              0.3333333333333333,
              "#9c179e"
             ],
             [
              0.4444444444444444,
              "#bd3786"
             ],
             [
              0.5555555555555556,
              "#d8576b"
             ],
             [
              0.6666666666666666,
              "#ed7953"
             ],
             [
              0.7777777777777778,
              "#fb9f3a"
             ],
             [
              0.8888888888888888,
              "#fdca26"
             ],
             [
              1,
              "#f0f921"
             ]
            ],
            "type": "heatmap"
           }
          ],
          "heatmapgl": [
           {
            "colorbar": {
             "outlinewidth": 0,
             "ticks": ""
            },
            "colorscale": [
             [
              0,
              "#0d0887"
             ],
             [
              0.1111111111111111,
              "#46039f"
             ],
             [
              0.2222222222222222,
              "#7201a8"
             ],
             [
              0.3333333333333333,
              "#9c179e"
             ],
             [
              0.4444444444444444,
              "#bd3786"
             ],
             [
              0.5555555555555556,
              "#d8576b"
             ],
             [
              0.6666666666666666,
              "#ed7953"
             ],
             [
              0.7777777777777778,
              "#fb9f3a"
             ],
             [
              0.8888888888888888,
              "#fdca26"
             ],
             [
              1,
              "#f0f921"
             ]
            ],
            "type": "heatmapgl"
           }
          ],
          "histogram": [
           {
            "marker": {
             "pattern": {
              "fillmode": "overlay",
              "size": 10,
              "solidity": 0.2
             }
            },
            "type": "histogram"
           }
          ],
          "histogram2d": [
           {
            "colorbar": {
             "outlinewidth": 0,
             "ticks": ""
            },
            "colorscale": [
             [
              0,
              "#0d0887"
             ],
             [
              0.1111111111111111,
              "#46039f"
             ],
             [
              0.2222222222222222,
              "#7201a8"
             ],
             [
              0.3333333333333333,
              "#9c179e"
             ],
             [
              0.4444444444444444,
              "#bd3786"
             ],
             [
              0.5555555555555556,
              "#d8576b"
             ],
             [
              0.6666666666666666,
              "#ed7953"
             ],
             [
              0.7777777777777778,
              "#fb9f3a"
             ],
             [
              0.8888888888888888,
              "#fdca26"
             ],
             [
              1,
              "#f0f921"
             ]
            ],
            "type": "histogram2d"
           }
          ],
          "histogram2dcontour": [
           {
            "colorbar": {
             "outlinewidth": 0,
             "ticks": ""
            },
            "colorscale": [
             [
              0,
              "#0d0887"
             ],
             [
              0.1111111111111111,
              "#46039f"
             ],
             [
              0.2222222222222222,
              "#7201a8"
             ],
             [
              0.3333333333333333,
              "#9c179e"
             ],
             [
              0.4444444444444444,
              "#bd3786"
             ],
             [
              0.5555555555555556,
              "#d8576b"
             ],
             [
              0.6666666666666666,
              "#ed7953"
             ],
             [
              0.7777777777777778,
              "#fb9f3a"
             ],
             [
              0.8888888888888888,
              "#fdca26"
             ],
             [
              1,
              "#f0f921"
             ]
            ],
            "type": "histogram2dcontour"
           }
          ],
          "mesh3d": [
           {
            "colorbar": {
             "outlinewidth": 0,
             "ticks": ""
            },
            "type": "mesh3d"
           }
          ],
          "parcoords": [
           {
            "line": {
             "colorbar": {
              "outlinewidth": 0,
              "ticks": ""
             }
            },
            "type": "parcoords"
           }
          ],
          "pie": [
           {
            "automargin": true,
            "type": "pie"
           }
          ],
          "scatter": [
           {
            "fillpattern": {
             "fillmode": "overlay",
             "size": 10,
             "solidity": 0.2
            },
            "type": "scatter"
           }
          ],
          "scatter3d": [
           {
            "line": {
             "colorbar": {
              "outlinewidth": 0,
              "ticks": ""
             }
            },
            "marker": {
             "colorbar": {
              "outlinewidth": 0,
              "ticks": ""
             }
            },
            "type": "scatter3d"
           }
          ],
          "scattercarpet": [
           {
            "marker": {
             "colorbar": {
              "outlinewidth": 0,
              "ticks": ""
             }
            },
            "type": "scattercarpet"
           }
          ],
          "scattergeo": [
           {
            "marker": {
             "colorbar": {
              "outlinewidth": 0,
              "ticks": ""
             }
            },
            "type": "scattergeo"
           }
          ],
          "scattergl": [
           {
            "marker": {
             "colorbar": {
              "outlinewidth": 0,
              "ticks": ""
             }
            },
            "type": "scattergl"
           }
          ],
          "scattermapbox": [
           {
            "marker": {
             "colorbar": {
              "outlinewidth": 0,
              "ticks": ""
             }
            },
            "type": "scattermapbox"
           }
          ],
          "scatterpolar": [
           {
            "marker": {
             "colorbar": {
              "outlinewidth": 0,
              "ticks": ""
             }
            },
            "type": "scatterpolar"
           }
          ],
          "scatterpolargl": [
           {
            "marker": {
             "colorbar": {
              "outlinewidth": 0,
              "ticks": ""
             }
            },
            "type": "scatterpolargl"
           }
          ],
          "scatterternary": [
           {
            "marker": {
             "colorbar": {
              "outlinewidth": 0,
              "ticks": ""
             }
            },
            "type": "scatterternary"
           }
          ],
          "surface": [
           {
            "colorbar": {
             "outlinewidth": 0,
             "ticks": ""
            },
            "colorscale": [
             [
              0,
              "#0d0887"
             ],
             [
              0.1111111111111111,
              "#46039f"
             ],
             [
              0.2222222222222222,
              "#7201a8"
             ],
             [
              0.3333333333333333,
              "#9c179e"
             ],
             [
              0.4444444444444444,
              "#bd3786"
             ],
             [
              0.5555555555555556,
              "#d8576b"
             ],
             [
              0.6666666666666666,
              "#ed7953"
             ],
             [
              0.7777777777777778,
              "#fb9f3a"
             ],
             [
              0.8888888888888888,
              "#fdca26"
             ],
             [
              1,
              "#f0f921"
             ]
            ],
            "type": "surface"
           }
          ],
          "table": [
           {
            "cells": {
             "fill": {
              "color": "#EBF0F8"
             },
             "line": {
              "color": "white"
             }
            },
            "header": {
             "fill": {
              "color": "#C8D4E3"
             },
             "line": {
              "color": "white"
             }
            },
            "type": "table"
           }
          ]
         },
         "layout": {
          "annotationdefaults": {
           "arrowcolor": "#2a3f5f",
           "arrowhead": 0,
           "arrowwidth": 1
          },
          "autotypenumbers": "strict",
          "coloraxis": {
           "colorbar": {
            "outlinewidth": 0,
            "ticks": ""
           }
          },
          "colorscale": {
           "diverging": [
            [
             0,
             "#8e0152"
            ],
            [
             0.1,
             "#c51b7d"
            ],
            [
             0.2,
             "#de77ae"
            ],
            [
             0.3,
             "#f1b6da"
            ],
            [
             0.4,
             "#fde0ef"
            ],
            [
             0.5,
             "#f7f7f7"
            ],
            [
             0.6,
             "#e6f5d0"
            ],
            [
             0.7,
             "#b8e186"
            ],
            [
             0.8,
             "#7fbc41"
            ],
            [
             0.9,
             "#4d9221"
            ],
            [
             1,
             "#276419"
            ]
           ],
           "sequential": [
            [
             0,
             "#0d0887"
            ],
            [
             0.1111111111111111,
             "#46039f"
            ],
            [
             0.2222222222222222,
             "#7201a8"
            ],
            [
             0.3333333333333333,
             "#9c179e"
            ],
            [
             0.4444444444444444,
             "#bd3786"
            ],
            [
             0.5555555555555556,
             "#d8576b"
            ],
            [
             0.6666666666666666,
             "#ed7953"
            ],
            [
             0.7777777777777778,
             "#fb9f3a"
            ],
            [
             0.8888888888888888,
             "#fdca26"
            ],
            [
             1,
             "#f0f921"
            ]
           ],
           "sequentialminus": [
            [
             0,
             "#0d0887"
            ],
            [
             0.1111111111111111,
             "#46039f"
            ],
            [
             0.2222222222222222,
             "#7201a8"
            ],
            [
             0.3333333333333333,
             "#9c179e"
            ],
            [
             0.4444444444444444,
             "#bd3786"
            ],
            [
             0.5555555555555556,
             "#d8576b"
            ],
            [
             0.6666666666666666,
             "#ed7953"
            ],
            [
             0.7777777777777778,
             "#fb9f3a"
            ],
            [
             0.8888888888888888,
             "#fdca26"
            ],
            [
             1,
             "#f0f921"
            ]
           ]
          },
          "colorway": [
           "#636efa",
           "#EF553B",
           "#00cc96",
           "#ab63fa",
           "#FFA15A",
           "#19d3f3",
           "#FF6692",
           "#B6E880",
           "#FF97FF",
           "#FECB52"
          ],
          "font": {
           "color": "#2a3f5f"
          },
          "geo": {
           "bgcolor": "white",
           "lakecolor": "white",
           "landcolor": "#E5ECF6",
           "showlakes": true,
           "showland": true,
           "subunitcolor": "white"
          },
          "hoverlabel": {
           "align": "left"
          },
          "hovermode": "closest",
          "mapbox": {
           "style": "light"
          },
          "paper_bgcolor": "white",
          "plot_bgcolor": "#E5ECF6",
          "polar": {
           "angularaxis": {
            "gridcolor": "white",
            "linecolor": "white",
            "ticks": ""
           },
           "bgcolor": "#E5ECF6",
           "radialaxis": {
            "gridcolor": "white",
            "linecolor": "white",
            "ticks": ""
           }
          },
          "scene": {
           "xaxis": {
            "backgroundcolor": "#E5ECF6",
            "gridcolor": "white",
            "gridwidth": 2,
            "linecolor": "white",
            "showbackground": true,
            "ticks": "",
            "zerolinecolor": "white"
           },
           "yaxis": {
            "backgroundcolor": "#E5ECF6",
            "gridcolor": "white",
            "gridwidth": 2,
            "linecolor": "white",
            "showbackground": true,
            "ticks": "",
            "zerolinecolor": "white"
           },
           "zaxis": {
            "backgroundcolor": "#E5ECF6",
            "gridcolor": "white",
            "gridwidth": 2,
            "linecolor": "white",
            "showbackground": true,
            "ticks": "",
            "zerolinecolor": "white"
           }
          },
          "shapedefaults": {
           "line": {
            "color": "#2a3f5f"
           }
          },
          "ternary": {
           "aaxis": {
            "gridcolor": "white",
            "linecolor": "white",
            "ticks": ""
           },
           "baxis": {
            "gridcolor": "white",
            "linecolor": "white",
            "ticks": ""
           },
           "bgcolor": "#E5ECF6",
           "caxis": {
            "gridcolor": "white",
            "linecolor": "white",
            "ticks": ""
           }
          },
          "title": {
           "x": 0.05
          },
          "xaxis": {
           "automargin": true,
           "gridcolor": "white",
           "linecolor": "white",
           "ticks": "",
           "title": {
            "standoff": 15
           },
           "zerolinecolor": "white",
           "zerolinewidth": 2
          },
          "yaxis": {
           "automargin": true,
           "gridcolor": "white",
           "linecolor": "white",
           "ticks": "",
           "title": {
            "standoff": 15
           },
           "zerolinecolor": "white",
           "zerolinewidth": 2
          }
         }
        },
        "title": {
         "text": "Top 60 RBs | ADP vs Projected FP"
        },
        "xaxis": {
         "anchor": "y",
         "domain": [
          0,
          1
         ],
         "title": {
          "text": "adp"
         }
        },
        "yaxis": {
         "anchor": "x",
         "domain": [
          0,
          1
         ],
         "title": {
          "text": "fantasyPoints"
         }
        }
       }
      },
      "text/html": [
       "<div>                            <div id=\"6ca174a6-19f4-49f8-82be-17189bf207a7\" class=\"plotly-graph-div\" style=\"height:525px; width:100%;\"></div>            <script type=\"text/javascript\">                require([\"plotly\"], function(Plotly) {                    window.PLOTLYENV=window.PLOTLYENV || {};                                    if (document.getElementById(\"6ca174a6-19f4-49f8-82be-17189bf207a7\")) {                    Plotly.newPlot(                        \"6ca174a6-19f4-49f8-82be-17189bf207a7\",                        [{\"customdata\":[[\"Jonathan Taylor\",\"IND\"],[\"Christian McCaffrey\",\"CAR\"],[\"Derrick Henry\",\"TEN\"],[\"Austin Ekeler\",\"LAC\"],[\"Dalvin Cook\",\"MIN\"],[\"Najee Harris\",\"PIT\"],[\"Joe Mixon\",\"CIN\"],[\"D'Andre Swift\",\"DET\"],[\"Nick Chubb\",\"CLE\"],[\"Alvin Kamara\",\"NO\"],[\"Saquon Barkley\",\"NYG\"],[\"Javonte Williams\",\"DEN\"],[\"Aaron Jones\",\"GB\"],[\"Leonard Fournette\",\"TB\"],[\"Ezekiel Elliott\",\"DAL\"],[\"Cam Akers\",\"LAR\"],[\"James Conner\",\"ARI\"],[\"David Montgomery\",\"CHI\"],[\"Antonio Gibson\",\"WAS\"],[\"Breece Hall\",\"NYJ\"],[\"J.K. Dobbins\",\"BAL\"],[\"Josh Jacobs\",\"LV\"],[\"Travis Etienne\",\"JAX\"],[\"Elijah Mitchell\",\"SF\"],[\"Clyde Edwards-Helaire\",\"KC\"],[\"Damien Harris\",\"NE\"],[\"Miles Sanders\",\"PHI\"],[\"A.J. Dillon\",\"GB\"],[\"Kareem Hunt\",\"CLE\"],[\"Cordarrelle Patterson\",\"ATL\"],[\"Tony Pollard\",\"DAL\"],[\"Devin Singletary\",\"BUF\"],[\"Chase Edmonds\",\"MIA\"],[\"James Cook\",\"BUF\"],[\"Rashaad Penny\",\"SEA\"],[\"Michael Carter\",\"NYJ\"],[\"James Robinson\",\"JAX\"],[\"Isaiah Spiller\",\"LAC\"],[\"Rhamondre Stevenson\",\"NE\"],[\"Ronald Jones\",\"KC\"],[\"Dameon Pierce\",\"HOU\"],[\"Alexander Mattison\",\"MIN\"],[\"Rachaad White\",\"TB\"],[\"Nyheim Hines\",\"IND\"],[\"Darrell Henderson\",\"LAR\"],[\"Tyler Allgeier\",\"ATL\"],[\"Marlon Mack\",\"HOU\"],[\"Kenneth Gainwell\",\"PHI\"],[\"J.D. McKissic\",\"WAS\"],[\"Raheem Mostert\",\"MIA\"],[\"Khalil Herbert\",\"CHI\"],[\"Darrel Williams\",\"ARI\"],[\"Gus Edwards\",\"BAL\"],[\"Jamaal Williams\",\"DET\"],[\"Chuba Hubbard\",\"CAR\"],[\"Tyrion Davis-Price\",\"SF\"],[\"Zamir White\",\"LV\"],[\"D'Onta Foreman\",\"CAR\"],[\"Myles Gaskin\",\"MIA\"],[\"Keaontay Ingram\",\"ARI\"]],\"hovertemplate\":\"adp=%{marker.color}<br>fantasyPoints=%{y}<br>playerName=%{customdata[0]}<br>teamName=%{customdata[1]}<extra></extra>\",\"legendgroup\":\"\",\"marker\":{\"color\":[1.4,2.3,3.2,4.0,6.0,8.3,10.5,14.7,15.9,16.5,22.3,23.9,24.1,26.5,31.5,34.3,35.7,37.2,38.9,43.4,44.1,44.9,48.0,58.5,62.9,65.2,66.9,70.4,80.4,84.4,89.3,94.7,98.5,100.2,104.7,107.4,111.7,113.2,118.7,121.4,128.8,129.6,136.0,137.8,142.6,145.7,152.4,152.6,154.2,155.0,175.9,176.2,177.8,186.9,187.7,189.0,196.1,199.0,224.3,230.7],\"coloraxis\":\"coloraxis\",\"symbol\":\"circle\",\"size\":10},\"mode\":\"markers+text\",\"name\":\"\",\"orientation\":\"v\",\"showlegend\":false,\"text\":[\"Jonathan Taylor\",\"Christian McCaffrey\",\"Derrick Henry\",\"Austin Ekeler\",\"Dalvin Cook\",\"Najee Harris\",\"Joe Mixon\",\"D'Andre Swift\",\"Nick Chubb\",\"Alvin Kamara\",\"Saquon Barkley\",\"Javonte Williams\",\"Aaron Jones\",\"Leonard Fournette\",\"Ezekiel Elliott\",\"Cam Akers\",\"James Conner\",\"David Montgomery\",\"Antonio Gibson\",\"Breece Hall\",\"J.K. Dobbins\",\"Josh Jacobs\",\"Travis Etienne\",\"Elijah Mitchell\",\"Clyde Edwards-Helaire\",\"Damien Harris\",\"Miles Sanders\",\"A.J. Dillon\",\"Kareem Hunt\",\"Cordarrelle Patterson\",\"Tony Pollard\",\"Devin Singletary\",\"Chase Edmonds\",\"James Cook\",\"Rashaad Penny\",\"Michael Carter\",\"James Robinson\",\"Isaiah Spiller\",\"Rhamondre Stevenson\",\"Ronald Jones\",\"Dameon Pierce\",\"Alexander Mattison\",\"Rachaad White\",\"Nyheim Hines\",\"Darrell Henderson\",\"Tyler Allgeier\",\"Marlon Mack\",\"Kenneth Gainwell\",\"J.D. McKissic\",\"Raheem Mostert\",\"Khalil Herbert\",\"Darrel Williams\",\"Gus Edwards\",\"Jamaal Williams\",\"Chuba Hubbard\",\"Tyrion Davis-Price\",\"Zamir White\",\"D'Onta Foreman\",\"Myles Gaskin\",\"Keaontay Ingram\"],\"x\":[1.4,2.3,3.2,4.0,6.0,8.3,10.5,14.7,15.9,16.5,22.3,23.9,24.1,26.5,31.5,34.3,35.7,37.2,38.9,43.4,44.1,44.9,48.0,58.5,62.9,65.2,66.9,70.4,80.4,84.4,89.3,94.7,98.5,100.2,104.7,107.4,111.7,113.2,118.7,121.4,128.8,129.6,136.0,137.8,142.6,145.7,152.4,152.6,154.2,155.0,175.9,176.2,177.8,186.9,187.7,189.0,196.1,199.0,224.3,230.7],\"xaxis\":\"x\",\"y\":[275.0,327.8,314.3,272.3,294.0,296.7,241.4,256.0,213.5,295.4,245.2,205.0,235.7,268.3,250.8,190.6,223.4,212.4,181.0,147.3,186.6,198.2,225.9,178.4,193.0,145.9,161.4,172.3,160.2,197.2,172.9,107.5,156.8,129.0,143.2,120.2,64.4,92.5,110.8,111.6,123.5,92.3,102.6,125.3,135.0,42.8,97.2,54.2,123.5,111.3,66.5,82.9,90.0,124.9,59.9,12.6,74.5,31.3,19.8,47.4],\"yaxis\":\"y\",\"type\":\"scatter\",\"textfont\":{\"size\":6},\"textposition\":\"top center\"},{\"hovertemplate\":\"<b>OLS trendline</b><br>fantasyPoints = -1.11898 * adp + 261.769<br>R<sup>2</sup>=0.840996<br><br>adp=%{x}<br>fantasyPoints=%{y} <b>(trend)</b><extra></extra>\",\"legendgroup\":\"\",\"marker\":{\"symbol\":\"circle\",\"size\":10},\"mode\":\"lines\",\"name\":\"\",\"showlegend\":false,\"x\":[1.4,2.3,3.2,4.0,6.0,8.3,10.5,14.7,15.9,16.5,22.3,23.9,24.1,26.5,31.5,34.3,35.7,37.2,38.9,43.4,44.1,44.9,48.0,58.5,62.9,65.2,66.9,70.4,80.4,84.4,89.3,94.7,98.5,100.2,104.7,107.4,111.7,113.2,118.7,121.4,128.8,129.6,136.0,137.8,142.6,145.7,152.4,152.6,154.2,155.0,175.9,176.2,177.8,186.9,187.7,189.0,196.1,199.0,224.3,230.7],\"xaxis\":\"x\",\"y\":[260.20256078943964,259.1954798507307,258.18839891202174,257.2932158553915,255.05525821381602,252.48160692600422,250.01985352027117,245.32014247296266,243.97736788801737,243.30598059554472,236.8159034349758,235.0255373217154,234.80174155755788,232.11619238766727,226.52129828372856,223.3881575855229,221.82158723642004,220.14311900523842,218.24085500989926,213.20545031635442,212.422165141803,211.5269820851728,208.0581477407308,196.3088701224595,191.3853633109934,188.8117120231816,186.90944802784242,182.99302215508533,171.8032339472079,167.32731866405692,161.84432244219698,155.80183680994315,151.54971729094973,149.64745329561055,144.61204860206573,141.5908057859388,136.7791968565515,135.1007286253699,128.9463451110373,125.92510229491037,117.64465902108108,116.74947596445091,109.58801151140932,107.57384963399139,102.20275129421023,98.73391694976823,91.23675885049033,91.0129630863328,89.2225969730724,88.3274139164422,64.94075656197836,64.60506291574205,62.81469680248162,52.631989533313174,51.736806476683,50.282134009658904,42.33738438206595,39.09234580178148,10.782181635851543,3.620717182809983],\"yaxis\":\"y\",\"type\":\"scatter\",\"textfont\":{\"size\":6},\"textposition\":\"top center\"}],                        {\"template\":{\"data\":{\"histogram2dcontour\":[{\"type\":\"histogram2dcontour\",\"colorbar\":{\"outlinewidth\":0,\"ticks\":\"\"},\"colorscale\":[[0.0,\"#0d0887\"],[0.1111111111111111,\"#46039f\"],[0.2222222222222222,\"#7201a8\"],[0.3333333333333333,\"#9c179e\"],[0.4444444444444444,\"#bd3786\"],[0.5555555555555556,\"#d8576b\"],[0.6666666666666666,\"#ed7953\"],[0.7777777777777778,\"#fb9f3a\"],[0.8888888888888888,\"#fdca26\"],[1.0,\"#f0f921\"]]}],\"choropleth\":[{\"type\":\"choropleth\",\"colorbar\":{\"outlinewidth\":0,\"ticks\":\"\"}}],\"histogram2d\":[{\"type\":\"histogram2d\",\"colorbar\":{\"outlinewidth\":0,\"ticks\":\"\"},\"colorscale\":[[0.0,\"#0d0887\"],[0.1111111111111111,\"#46039f\"],[0.2222222222222222,\"#7201a8\"],[0.3333333333333333,\"#9c179e\"],[0.4444444444444444,\"#bd3786\"],[0.5555555555555556,\"#d8576b\"],[0.6666666666666666,\"#ed7953\"],[0.7777777777777778,\"#fb9f3a\"],[0.8888888888888888,\"#fdca26\"],[1.0,\"#f0f921\"]]}],\"heatmap\":[{\"type\":\"heatmap\",\"colorbar\":{\"outlinewidth\":0,\"ticks\":\"\"},\"colorscale\":[[0.0,\"#0d0887\"],[0.1111111111111111,\"#46039f\"],[0.2222222222222222,\"#7201a8\"],[0.3333333333333333,\"#9c179e\"],[0.4444444444444444,\"#bd3786\"],[0.5555555555555556,\"#d8576b\"],[0.6666666666666666,\"#ed7953\"],[0.7777777777777778,\"#fb9f3a\"],[0.8888888888888888,\"#fdca26\"],[1.0,\"#f0f921\"]]}],\"heatmapgl\":[{\"type\":\"heatmapgl\",\"colorbar\":{\"outlinewidth\":0,\"ticks\":\"\"},\"colorscale\":[[0.0,\"#0d0887\"],[0.1111111111111111,\"#46039f\"],[0.2222222222222222,\"#7201a8\"],[0.3333333333333333,\"#9c179e\"],[0.4444444444444444,\"#bd3786\"],[0.5555555555555556,\"#d8576b\"],[0.6666666666666666,\"#ed7953\"],[0.7777777777777778,\"#fb9f3a\"],[0.8888888888888888,\"#fdca26\"],[1.0,\"#f0f921\"]]}],\"contourcarpet\":[{\"type\":\"contourcarpet\",\"colorbar\":{\"outlinewidth\":0,\"ticks\":\"\"}}],\"contour\":[{\"type\":\"contour\",\"colorbar\":{\"outlinewidth\":0,\"ticks\":\"\"},\"colorscale\":[[0.0,\"#0d0887\"],[0.1111111111111111,\"#46039f\"],[0.2222222222222222,\"#7201a8\"],[0.3333333333333333,\"#9c179e\"],[0.4444444444444444,\"#bd3786\"],[0.5555555555555556,\"#d8576b\"],[0.6666666666666666,\"#ed7953\"],[0.7777777777777778,\"#fb9f3a\"],[0.8888888888888888,\"#fdca26\"],[1.0,\"#f0f921\"]]}],\"surface\":[{\"type\":\"surface\",\"colorbar\":{\"outlinewidth\":0,\"ticks\":\"\"},\"colorscale\":[[0.0,\"#0d0887\"],[0.1111111111111111,\"#46039f\"],[0.2222222222222222,\"#7201a8\"],[0.3333333333333333,\"#9c179e\"],[0.4444444444444444,\"#bd3786\"],[0.5555555555555556,\"#d8576b\"],[0.6666666666666666,\"#ed7953\"],[0.7777777777777778,\"#fb9f3a\"],[0.8888888888888888,\"#fdca26\"],[1.0,\"#f0f921\"]]}],\"mesh3d\":[{\"type\":\"mesh3d\",\"colorbar\":{\"outlinewidth\":0,\"ticks\":\"\"}}],\"scatter\":[{\"fillpattern\":{\"fillmode\":\"overlay\",\"size\":10,\"solidity\":0.2},\"type\":\"scatter\"}],\"parcoords\":[{\"type\":\"parcoords\",\"line\":{\"colorbar\":{\"outlinewidth\":0,\"ticks\":\"\"}}}],\"scatterpolargl\":[{\"type\":\"scatterpolargl\",\"marker\":{\"colorbar\":{\"outlinewidth\":0,\"ticks\":\"\"}}}],\"bar\":[{\"error_x\":{\"color\":\"#2a3f5f\"},\"error_y\":{\"color\":\"#2a3f5f\"},\"marker\":{\"line\":{\"color\":\"#E5ECF6\",\"width\":0.5},\"pattern\":{\"fillmode\":\"overlay\",\"size\":10,\"solidity\":0.2}},\"type\":\"bar\"}],\"scattergeo\":[{\"type\":\"scattergeo\",\"marker\":{\"colorbar\":{\"outlinewidth\":0,\"ticks\":\"\"}}}],\"scatterpolar\":[{\"type\":\"scatterpolar\",\"marker\":{\"colorbar\":{\"outlinewidth\":0,\"ticks\":\"\"}}}],\"histogram\":[{\"marker\":{\"pattern\":{\"fillmode\":\"overlay\",\"size\":10,\"solidity\":0.2}},\"type\":\"histogram\"}],\"scattergl\":[{\"type\":\"scattergl\",\"marker\":{\"colorbar\":{\"outlinewidth\":0,\"ticks\":\"\"}}}],\"scatter3d\":[{\"type\":\"scatter3d\",\"line\":{\"colorbar\":{\"outlinewidth\":0,\"ticks\":\"\"}},\"marker\":{\"colorbar\":{\"outlinewidth\":0,\"ticks\":\"\"}}}],\"scattermapbox\":[{\"type\":\"scattermapbox\",\"marker\":{\"colorbar\":{\"outlinewidth\":0,\"ticks\":\"\"}}}],\"scatterternary\":[{\"type\":\"scatterternary\",\"marker\":{\"colorbar\":{\"outlinewidth\":0,\"ticks\":\"\"}}}],\"scattercarpet\":[{\"type\":\"scattercarpet\",\"marker\":{\"colorbar\":{\"outlinewidth\":0,\"ticks\":\"\"}}}],\"carpet\":[{\"aaxis\":{\"endlinecolor\":\"#2a3f5f\",\"gridcolor\":\"white\",\"linecolor\":\"white\",\"minorgridcolor\":\"white\",\"startlinecolor\":\"#2a3f5f\"},\"baxis\":{\"endlinecolor\":\"#2a3f5f\",\"gridcolor\":\"white\",\"linecolor\":\"white\",\"minorgridcolor\":\"white\",\"startlinecolor\":\"#2a3f5f\"},\"type\":\"carpet\"}],\"table\":[{\"cells\":{\"fill\":{\"color\":\"#EBF0F8\"},\"line\":{\"color\":\"white\"}},\"header\":{\"fill\":{\"color\":\"#C8D4E3\"},\"line\":{\"color\":\"white\"}},\"type\":\"table\"}],\"barpolar\":[{\"marker\":{\"line\":{\"color\":\"#E5ECF6\",\"width\":0.5},\"pattern\":{\"fillmode\":\"overlay\",\"size\":10,\"solidity\":0.2}},\"type\":\"barpolar\"}],\"pie\":[{\"automargin\":true,\"type\":\"pie\"}]},\"layout\":{\"autotypenumbers\":\"strict\",\"colorway\":[\"#636efa\",\"#EF553B\",\"#00cc96\",\"#ab63fa\",\"#FFA15A\",\"#19d3f3\",\"#FF6692\",\"#B6E880\",\"#FF97FF\",\"#FECB52\"],\"font\":{\"color\":\"#2a3f5f\"},\"hovermode\":\"closest\",\"hoverlabel\":{\"align\":\"left\"},\"paper_bgcolor\":\"white\",\"plot_bgcolor\":\"#E5ECF6\",\"polar\":{\"bgcolor\":\"#E5ECF6\",\"angularaxis\":{\"gridcolor\":\"white\",\"linecolor\":\"white\",\"ticks\":\"\"},\"radialaxis\":{\"gridcolor\":\"white\",\"linecolor\":\"white\",\"ticks\":\"\"}},\"ternary\":{\"bgcolor\":\"#E5ECF6\",\"aaxis\":{\"gridcolor\":\"white\",\"linecolor\":\"white\",\"ticks\":\"\"},\"baxis\":{\"gridcolor\":\"white\",\"linecolor\":\"white\",\"ticks\":\"\"},\"caxis\":{\"gridcolor\":\"white\",\"linecolor\":\"white\",\"ticks\":\"\"}},\"coloraxis\":{\"colorbar\":{\"outlinewidth\":0,\"ticks\":\"\"}},\"colorscale\":{\"sequential\":[[0.0,\"#0d0887\"],[0.1111111111111111,\"#46039f\"],[0.2222222222222222,\"#7201a8\"],[0.3333333333333333,\"#9c179e\"],[0.4444444444444444,\"#bd3786\"],[0.5555555555555556,\"#d8576b\"],[0.6666666666666666,\"#ed7953\"],[0.7777777777777778,\"#fb9f3a\"],[0.8888888888888888,\"#fdca26\"],[1.0,\"#f0f921\"]],\"sequentialminus\":[[0.0,\"#0d0887\"],[0.1111111111111111,\"#46039f\"],[0.2222222222222222,\"#7201a8\"],[0.3333333333333333,\"#9c179e\"],[0.4444444444444444,\"#bd3786\"],[0.5555555555555556,\"#d8576b\"],[0.6666666666666666,\"#ed7953\"],[0.7777777777777778,\"#fb9f3a\"],[0.8888888888888888,\"#fdca26\"],[1.0,\"#f0f921\"]],\"diverging\":[[0,\"#8e0152\"],[0.1,\"#c51b7d\"],[0.2,\"#de77ae\"],[0.3,\"#f1b6da\"],[0.4,\"#fde0ef\"],[0.5,\"#f7f7f7\"],[0.6,\"#e6f5d0\"],[0.7,\"#b8e186\"],[0.8,\"#7fbc41\"],[0.9,\"#4d9221\"],[1,\"#276419\"]]},\"xaxis\":{\"gridcolor\":\"white\",\"linecolor\":\"white\",\"ticks\":\"\",\"title\":{\"standoff\":15},\"zerolinecolor\":\"white\",\"automargin\":true,\"zerolinewidth\":2},\"yaxis\":{\"gridcolor\":\"white\",\"linecolor\":\"white\",\"ticks\":\"\",\"title\":{\"standoff\":15},\"zerolinecolor\":\"white\",\"automargin\":true,\"zerolinewidth\":2},\"scene\":{\"xaxis\":{\"backgroundcolor\":\"#E5ECF6\",\"gridcolor\":\"white\",\"linecolor\":\"white\",\"showbackground\":true,\"ticks\":\"\",\"zerolinecolor\":\"white\",\"gridwidth\":2},\"yaxis\":{\"backgroundcolor\":\"#E5ECF6\",\"gridcolor\":\"white\",\"linecolor\":\"white\",\"showbackground\":true,\"ticks\":\"\",\"zerolinecolor\":\"white\",\"gridwidth\":2},\"zaxis\":{\"backgroundcolor\":\"#E5ECF6\",\"gridcolor\":\"white\",\"linecolor\":\"white\",\"showbackground\":true,\"ticks\":\"\",\"zerolinecolor\":\"white\",\"gridwidth\":2}},\"shapedefaults\":{\"line\":{\"color\":\"#2a3f5f\"}},\"annotationdefaults\":{\"arrowcolor\":\"#2a3f5f\",\"arrowhead\":0,\"arrowwidth\":1},\"geo\":{\"bgcolor\":\"white\",\"landcolor\":\"#E5ECF6\",\"subunitcolor\":\"white\",\"showland\":true,\"showlakes\":true,\"lakecolor\":\"white\"},\"title\":{\"x\":0.05},\"mapbox\":{\"style\":\"light\"}}},\"xaxis\":{\"anchor\":\"y\",\"domain\":[0.0,1.0],\"title\":{\"text\":\"adp\"}},\"yaxis\":{\"anchor\":\"x\",\"domain\":[0.0,1.0],\"title\":{\"text\":\"fantasyPoints\"}},\"coloraxis\":{\"colorbar\":{\"title\":{\"text\":\"adp\"}},\"colorscale\":[[0.0,\"#0d0887\"],[0.1111111111111111,\"#46039f\"],[0.2222222222222222,\"#7201a8\"],[0.3333333333333333,\"#9c179e\"],[0.4444444444444444,\"#bd3786\"],[0.5555555555555556,\"#d8576b\"],[0.6666666666666666,\"#ed7953\"],[0.7777777777777778,\"#fb9f3a\"],[0.8888888888888888,\"#fdca26\"],[1.0,\"#f0f921\"]]},\"legend\":{\"tracegroupgap\":0},\"title\":{\"text\":\"Top 60 RBs | ADP vs Projected FP\"}},                        {\"responsive\": true}                    ).then(function(){\n",
       "                            \n",
       "var gd = document.getElementById('6ca174a6-19f4-49f8-82be-17189bf207a7');\n",
       "var x = new MutationObserver(function (mutations, observer) {{\n",
       "        var display = window.getComputedStyle(gd).display;\n",
       "        if (!display || display === 'none') {{\n",
       "            console.log([gd, 'removed!']);\n",
       "            Plotly.purge(gd);\n",
       "            observer.disconnect();\n",
       "        }}\n",
       "}});\n",
       "\n",
       "// Listen for the removal of the full notebook cells\n",
       "var notebookContainer = gd.closest('#notebook-container');\n",
       "if (notebookContainer) {{\n",
       "    x.observe(notebookContainer, {childList: true});\n",
       "}}\n",
       "\n",
       "// Listen for the clearing of the current output cell\n",
       "var outputEl = gd.closest('.output');\n",
       "if (outputEl) {{\n",
       "    x.observe(outputEl, {childList: true});\n",
       "}}\n",
       "\n",
       "                        })                };                });            </script>        </div>"
      ]
     },
     "metadata": {},
     "output_type": "display_data"
    },
    {
     "data": {
      "application/vnd.plotly.v1+json": {
       "config": {
        "plotlyServerURL": "https://plot.ly"
       },
       "data": [
        {
         "customdata": [
          [
           "Jonathan Taylor",
           "IND"
          ],
          [
           "Christian McCaffrey",
           "CAR"
          ],
          [
           "Derrick Henry",
           "TEN"
          ],
          [
           "Austin Ekeler",
           "LAC"
          ],
          [
           "Dalvin Cook",
           "MIN"
          ],
          [
           "Najee Harris",
           "PIT"
          ],
          [
           "Joe Mixon",
           "CIN"
          ],
          [
           "D'Andre Swift",
           "DET"
          ],
          [
           "Nick Chubb",
           "CLE"
          ],
          [
           "Alvin Kamara",
           "NO"
          ],
          [
           "Saquon Barkley",
           "NYG"
          ],
          [
           "Javonte Williams",
           "DEN"
          ],
          [
           "Aaron Jones",
           "GB"
          ],
          [
           "Leonard Fournette",
           "TB"
          ],
          [
           "Ezekiel Elliott",
           "DAL"
          ],
          [
           "Cam Akers",
           "LAR"
          ],
          [
           "James Conner",
           "ARI"
          ],
          [
           "David Montgomery",
           "CHI"
          ],
          [
           "Antonio Gibson",
           "WAS"
          ],
          [
           "Breece Hall",
           "NYJ"
          ],
          [
           "J.K. Dobbins",
           "BAL"
          ],
          [
           "Josh Jacobs",
           "LV"
          ],
          [
           "Travis Etienne",
           "JAX"
          ],
          [
           "Elijah Mitchell",
           "SF"
          ],
          [
           "Clyde Edwards-Helaire",
           "KC"
          ],
          [
           "Damien Harris",
           "NE"
          ],
          [
           "Miles Sanders",
           "PHI"
          ],
          [
           "A.J. Dillon",
           "GB"
          ],
          [
           "Kareem Hunt",
           "CLE"
          ],
          [
           "Cordarrelle Patterson",
           "ATL"
          ],
          [
           "Tony Pollard",
           "DAL"
          ],
          [
           "Devin Singletary",
           "BUF"
          ],
          [
           "Chase Edmonds",
           "MIA"
          ],
          [
           "James Cook",
           "BUF"
          ],
          [
           "Rashaad Penny",
           "SEA"
          ],
          [
           "Michael Carter",
           "NYJ"
          ],
          [
           "James Robinson",
           "JAX"
          ],
          [
           "Isaiah Spiller",
           "LAC"
          ],
          [
           "Rhamondre Stevenson",
           "NE"
          ],
          [
           "Ronald Jones",
           "KC"
          ],
          [
           "Dameon Pierce",
           "HOU"
          ],
          [
           "Alexander Mattison",
           "MIN"
          ],
          [
           "Rachaad White",
           "TB"
          ],
          [
           "Nyheim Hines",
           "IND"
          ],
          [
           "Darrell Henderson",
           "LAR"
          ],
          [
           "Tyler Allgeier",
           "ATL"
          ],
          [
           "Marlon Mack",
           "HOU"
          ],
          [
           "Kenneth Gainwell",
           "PHI"
          ],
          [
           "J.D. McKissic",
           "WAS"
          ],
          [
           "Raheem Mostert",
           "MIA"
          ],
          [
           "Khalil Herbert",
           "CHI"
          ],
          [
           "Darrel Williams",
           "ARI"
          ],
          [
           "Gus Edwards",
           "BAL"
          ],
          [
           "Jamaal Williams",
           "DET"
          ],
          [
           "Chuba Hubbard",
           "CAR"
          ],
          [
           "Tyrion Davis-Price",
           "SF"
          ],
          [
           "Zamir White",
           "LV"
          ],
          [
           "D'Onta Foreman",
           "CAR"
          ],
          [
           "Myles Gaskin",
           "MIA"
          ],
          [
           "Keaontay Ingram",
           "ARI"
          ]
         ],
         "hovertemplate": "adp=%{marker.color}<br>fantasyPoints=%{y}<br>playerName=%{customdata[0]}<br>teamName=%{customdata[1]}<extra></extra>",
         "legendgroup": "",
         "marker": {
          "color": [
           1.4,
           2.3,
           3.2,
           4,
           6,
           8.3,
           10.5,
           14.7,
           15.9,
           16.5,
           22.3,
           23.9,
           24.1,
           26.5,
           31.5,
           34.3,
           35.7,
           37.2,
           38.9,
           43.4,
           44.1,
           44.9,
           48,
           58.5,
           62.9,
           65.2,
           66.9,
           70.4,
           80.4,
           84.4,
           89.3,
           94.7,
           98.5,
           100.2,
           104.7,
           107.4,
           111.7,
           113.2,
           118.7,
           121.4,
           128.8,
           129.6,
           136,
           137.8,
           142.6,
           145.7,
           152.4,
           152.6,
           154.2,
           155,
           175.9,
           176.2,
           177.8,
           186.9,
           187.7,
           189,
           196.1,
           199,
           224.3,
           230.7
          ],
          "coloraxis": "coloraxis",
          "size": 10,
          "symbol": "circle"
         },
         "mode": "markers+text",
         "name": "",
         "orientation": "v",
         "showlegend": false,
         "text": [
          "Jonathan Taylor",
          "Christian McCaffrey",
          "Derrick Henry",
          "Austin Ekeler",
          "Dalvin Cook",
          "Najee Harris",
          "Joe Mixon",
          "D'Andre Swift",
          "Nick Chubb",
          "Alvin Kamara",
          "Saquon Barkley",
          "Javonte Williams",
          "Aaron Jones",
          "Leonard Fournette",
          "Ezekiel Elliott",
          "Cam Akers",
          "James Conner",
          "David Montgomery",
          "Antonio Gibson",
          "Breece Hall",
          "J.K. Dobbins",
          "Josh Jacobs",
          "Travis Etienne",
          "Elijah Mitchell",
          "Clyde Edwards-Helaire",
          "Damien Harris",
          "Miles Sanders",
          "A.J. Dillon",
          "Kareem Hunt",
          "Cordarrelle Patterson",
          "Tony Pollard",
          "Devin Singletary",
          "Chase Edmonds",
          "James Cook",
          "Rashaad Penny",
          "Michael Carter",
          "James Robinson",
          "Isaiah Spiller",
          "Rhamondre Stevenson",
          "Ronald Jones",
          "Dameon Pierce",
          "Alexander Mattison",
          "Rachaad White",
          "Nyheim Hines",
          "Darrell Henderson",
          "Tyler Allgeier",
          "Marlon Mack",
          "Kenneth Gainwell",
          "J.D. McKissic",
          "Raheem Mostert",
          "Khalil Herbert",
          "Darrel Williams",
          "Gus Edwards",
          "Jamaal Williams",
          "Chuba Hubbard",
          "Tyrion Davis-Price",
          "Zamir White",
          "D'Onta Foreman",
          "Myles Gaskin",
          "Keaontay Ingram"
         ],
         "textfont": {
          "size": 6
         },
         "textposition": "top center",
         "type": "scatter",
         "x": [
          1.4,
          2.3,
          3.2,
          4,
          6,
          8.3,
          10.5,
          14.7,
          15.9,
          16.5,
          22.3,
          23.9,
          24.1,
          26.5,
          31.5,
          34.3,
          35.7,
          37.2,
          38.9,
          43.4,
          44.1,
          44.9,
          48,
          58.5,
          62.9,
          65.2,
          66.9,
          70.4,
          80.4,
          84.4,
          89.3,
          94.7,
          98.5,
          100.2,
          104.7,
          107.4,
          111.7,
          113.2,
          118.7,
          121.4,
          128.8,
          129.6,
          136,
          137.8,
          142.6,
          145.7,
          152.4,
          152.6,
          154.2,
          155,
          175.9,
          176.2,
          177.8,
          186.9,
          187.7,
          189,
          196.1,
          199,
          224.3,
          230.7
         ],
         "xaxis": "x",
         "y": [
          275,
          327.8,
          314.3,
          272.3,
          294,
          296.7,
          241.4,
          256,
          213.5,
          295.4,
          245.2,
          205,
          235.7,
          268.3,
          250.8,
          190.6,
          223.4,
          212.4,
          181,
          147.3,
          186.6,
          198.2,
          225.9,
          178.4,
          193,
          145.9,
          161.4,
          172.3,
          160.2,
          197.2,
          172.9,
          107.5,
          156.8,
          129,
          143.2,
          120.2,
          64.4,
          92.5,
          110.8,
          111.6,
          123.5,
          92.3,
          102.6,
          125.3,
          135,
          42.8,
          97.2,
          54.2,
          123.5,
          111.3,
          66.5,
          82.9,
          90,
          124.9,
          59.9,
          12.6,
          74.5,
          31.3,
          19.8,
          47.4
         ],
         "yaxis": "y"
        },
        {
         "hovertemplate": "<b>OLS trendline</b><br>fantasyPoints = -1.11898 * adp + 261.769<br>R<sup>2</sup>=0.840996<br><br>adp=%{x}<br>fantasyPoints=%{y} <b>(trend)</b><extra></extra>",
         "legendgroup": "",
         "marker": {
          "size": 10,
          "symbol": "circle"
         },
         "mode": "lines",
         "name": "",
         "showlegend": false,
         "textfont": {
          "size": 6
         },
         "textposition": "top center",
         "type": "scatter",
         "x": [
          1.4,
          2.3,
          3.2,
          4,
          6,
          8.3,
          10.5,
          14.7,
          15.9,
          16.5,
          22.3,
          23.9,
          24.1,
          26.5,
          31.5,
          34.3,
          35.7,
          37.2,
          38.9,
          43.4,
          44.1,
          44.9,
          48,
          58.5,
          62.9,
          65.2,
          66.9,
          70.4,
          80.4,
          84.4,
          89.3,
          94.7,
          98.5,
          100.2,
          104.7,
          107.4,
          111.7,
          113.2,
          118.7,
          121.4,
          128.8,
          129.6,
          136,
          137.8,
          142.6,
          145.7,
          152.4,
          152.6,
          154.2,
          155,
          175.9,
          176.2,
          177.8,
          186.9,
          187.7,
          189,
          196.1,
          199,
          224.3,
          230.7
         ],
         "xaxis": "x",
         "y": [
          260.20256078943964,
          259.1954798507307,
          258.18839891202174,
          257.2932158553915,
          255.05525821381602,
          252.48160692600422,
          250.01985352027117,
          245.32014247296266,
          243.97736788801737,
          243.30598059554472,
          236.8159034349758,
          235.0255373217154,
          234.80174155755788,
          232.11619238766727,
          226.52129828372856,
          223.3881575855229,
          221.82158723642004,
          220.14311900523842,
          218.24085500989926,
          213.20545031635442,
          212.422165141803,
          211.5269820851728,
          208.0581477407308,
          196.3088701224595,
          191.3853633109934,
          188.8117120231816,
          186.90944802784242,
          182.99302215508533,
          171.8032339472079,
          167.32731866405692,
          161.84432244219698,
          155.80183680994315,
          151.54971729094973,
          149.64745329561055,
          144.61204860206573,
          141.5908057859388,
          136.7791968565515,
          135.1007286253699,
          128.9463451110373,
          125.92510229491037,
          117.64465902108108,
          116.74947596445091,
          109.58801151140932,
          107.57384963399139,
          102.20275129421023,
          98.73391694976823,
          91.23675885049033,
          91.0129630863328,
          89.2225969730724,
          88.3274139164422,
          64.94075656197836,
          64.60506291574205,
          62.81469680248162,
          52.631989533313174,
          51.736806476683,
          50.282134009658904,
          42.33738438206595,
          39.09234580178148,
          10.782181635851543,
          3.620717182809983
         ],
         "yaxis": "y"
        }
       ],
       "layout": {
        "coloraxis": {
         "colorbar": {
          "title": {
           "text": "adp"
          }
         },
         "colorscale": [
          [
           0,
           "#0d0887"
          ],
          [
           0.1111111111111111,
           "#46039f"
          ],
          [
           0.2222222222222222,
           "#7201a8"
          ],
          [
           0.3333333333333333,
           "#9c179e"
          ],
          [
           0.4444444444444444,
           "#bd3786"
          ],
          [
           0.5555555555555556,
           "#d8576b"
          ],
          [
           0.6666666666666666,
           "#ed7953"
          ],
          [
           0.7777777777777778,
           "#fb9f3a"
          ],
          [
           0.8888888888888888,
           "#fdca26"
          ],
          [
           1,
           "#f0f921"
          ]
         ]
        },
        "legend": {
         "tracegroupgap": 0
        },
        "template": {
         "data": {
          "bar": [
           {
            "error_x": {
             "color": "#2a3f5f"
            },
            "error_y": {
             "color": "#2a3f5f"
            },
            "marker": {
             "line": {
              "color": "#E5ECF6",
              "width": 0.5
             },
             "pattern": {
              "fillmode": "overlay",
              "size": 10,
              "solidity": 0.2
             }
            },
            "type": "bar"
           }
          ],
          "barpolar": [
           {
            "marker": {
             "line": {
              "color": "#E5ECF6",
              "width": 0.5
             },
             "pattern": {
              "fillmode": "overlay",
              "size": 10,
              "solidity": 0.2
             }
            },
            "type": "barpolar"
           }
          ],
          "carpet": [
           {
            "aaxis": {
             "endlinecolor": "#2a3f5f",
             "gridcolor": "white",
             "linecolor": "white",
             "minorgridcolor": "white",
             "startlinecolor": "#2a3f5f"
            },
            "baxis": {
             "endlinecolor": "#2a3f5f",
             "gridcolor": "white",
             "linecolor": "white",
             "minorgridcolor": "white",
             "startlinecolor": "#2a3f5f"
            },
            "type": "carpet"
           }
          ],
          "choropleth": [
           {
            "colorbar": {
             "outlinewidth": 0,
             "ticks": ""
            },
            "type": "choropleth"
           }
          ],
          "contour": [
           {
            "colorbar": {
             "outlinewidth": 0,
             "ticks": ""
            },
            "colorscale": [
             [
              0,
              "#0d0887"
             ],
             [
              0.1111111111111111,
              "#46039f"
             ],
             [
              0.2222222222222222,
              "#7201a8"
             ],
             [
              0.3333333333333333,
              "#9c179e"
             ],
             [
              0.4444444444444444,
              "#bd3786"
             ],
             [
              0.5555555555555556,
              "#d8576b"
             ],
             [
              0.6666666666666666,
              "#ed7953"
             ],
             [
              0.7777777777777778,
              "#fb9f3a"
             ],
             [
              0.8888888888888888,
              "#fdca26"
             ],
             [
              1,
              "#f0f921"
             ]
            ],
            "type": "contour"
           }
          ],
          "contourcarpet": [
           {
            "colorbar": {
             "outlinewidth": 0,
             "ticks": ""
            },
            "type": "contourcarpet"
           }
          ],
          "heatmap": [
           {
            "colorbar": {
             "outlinewidth": 0,
             "ticks": ""
            },
            "colorscale": [
             [
              0,
              "#0d0887"
             ],
             [
              0.1111111111111111,
              "#46039f"
             ],
             [
              0.2222222222222222,
              "#7201a8"
             ],
             [
              0.3333333333333333,
              "#9c179e"
             ],
             [
              0.4444444444444444,
              "#bd3786"
             ],
             [
              0.5555555555555556,
              "#d8576b"
             ],
             [
              0.6666666666666666,
              "#ed7953"
             ],
             [
              0.7777777777777778,
              "#fb9f3a"
             ],
             [
              0.8888888888888888,
              "#fdca26"
             ],
             [
              1,
              "#f0f921"
             ]
            ],
            "type": "heatmap"
           }
          ],
          "heatmapgl": [
           {
            "colorbar": {
             "outlinewidth": 0,
             "ticks": ""
            },
            "colorscale": [
             [
              0,
              "#0d0887"
             ],
             [
              0.1111111111111111,
              "#46039f"
             ],
             [
              0.2222222222222222,
              "#7201a8"
             ],
             [
              0.3333333333333333,
              "#9c179e"
             ],
             [
              0.4444444444444444,
              "#bd3786"
             ],
             [
              0.5555555555555556,
              "#d8576b"
             ],
             [
              0.6666666666666666,
              "#ed7953"
             ],
             [
              0.7777777777777778,
              "#fb9f3a"
             ],
             [
              0.8888888888888888,
              "#fdca26"
             ],
             [
              1,
              "#f0f921"
             ]
            ],
            "type": "heatmapgl"
           }
          ],
          "histogram": [
           {
            "marker": {
             "pattern": {
              "fillmode": "overlay",
              "size": 10,
              "solidity": 0.2
             }
            },
            "type": "histogram"
           }
          ],
          "histogram2d": [
           {
            "colorbar": {
             "outlinewidth": 0,
             "ticks": ""
            },
            "colorscale": [
             [
              0,
              "#0d0887"
             ],
             [
              0.1111111111111111,
              "#46039f"
             ],
             [
              0.2222222222222222,
              "#7201a8"
             ],
             [
              0.3333333333333333,
              "#9c179e"
             ],
             [
              0.4444444444444444,
              "#bd3786"
             ],
             [
              0.5555555555555556,
              "#d8576b"
             ],
             [
              0.6666666666666666,
              "#ed7953"
             ],
             [
              0.7777777777777778,
              "#fb9f3a"
             ],
             [
              0.8888888888888888,
              "#fdca26"
             ],
             [
              1,
              "#f0f921"
             ]
            ],
            "type": "histogram2d"
           }
          ],
          "histogram2dcontour": [
           {
            "colorbar": {
             "outlinewidth": 0,
             "ticks": ""
            },
            "colorscale": [
             [
              0,
              "#0d0887"
             ],
             [
              0.1111111111111111,
              "#46039f"
             ],
             [
              0.2222222222222222,
              "#7201a8"
             ],
             [
              0.3333333333333333,
              "#9c179e"
             ],
             [
              0.4444444444444444,
              "#bd3786"
             ],
             [
              0.5555555555555556,
              "#d8576b"
             ],
             [
              0.6666666666666666,
              "#ed7953"
             ],
             [
              0.7777777777777778,
              "#fb9f3a"
             ],
             [
              0.8888888888888888,
              "#fdca26"
             ],
             [
              1,
              "#f0f921"
             ]
            ],
            "type": "histogram2dcontour"
           }
          ],
          "mesh3d": [
           {
            "colorbar": {
             "outlinewidth": 0,
             "ticks": ""
            },
            "type": "mesh3d"
           }
          ],
          "parcoords": [
           {
            "line": {
             "colorbar": {
              "outlinewidth": 0,
              "ticks": ""
             }
            },
            "type": "parcoords"
           }
          ],
          "pie": [
           {
            "automargin": true,
            "type": "pie"
           }
          ],
          "scatter": [
           {
            "fillpattern": {
             "fillmode": "overlay",
             "size": 10,
             "solidity": 0.2
            },
            "type": "scatter"
           }
          ],
          "scatter3d": [
           {
            "line": {
             "colorbar": {
              "outlinewidth": 0,
              "ticks": ""
             }
            },
            "marker": {
             "colorbar": {
              "outlinewidth": 0,
              "ticks": ""
             }
            },
            "type": "scatter3d"
           }
          ],
          "scattercarpet": [
           {
            "marker": {
             "colorbar": {
              "outlinewidth": 0,
              "ticks": ""
             }
            },
            "type": "scattercarpet"
           }
          ],
          "scattergeo": [
           {
            "marker": {
             "colorbar": {
              "outlinewidth": 0,
              "ticks": ""
             }
            },
            "type": "scattergeo"
           }
          ],
          "scattergl": [
           {
            "marker": {
             "colorbar": {
              "outlinewidth": 0,
              "ticks": ""
             }
            },
            "type": "scattergl"
           }
          ],
          "scattermapbox": [
           {
            "marker": {
             "colorbar": {
              "outlinewidth": 0,
              "ticks": ""
             }
            },
            "type": "scattermapbox"
           }
          ],
          "scatterpolar": [
           {
            "marker": {
             "colorbar": {
              "outlinewidth": 0,
              "ticks": ""
             }
            },
            "type": "scatterpolar"
           }
          ],
          "scatterpolargl": [
           {
            "marker": {
             "colorbar": {
              "outlinewidth": 0,
              "ticks": ""
             }
            },
            "type": "scatterpolargl"
           }
          ],
          "scatterternary": [
           {
            "marker": {
             "colorbar": {
              "outlinewidth": 0,
              "ticks": ""
             }
            },
            "type": "scatterternary"
           }
          ],
          "surface": [
           {
            "colorbar": {
             "outlinewidth": 0,
             "ticks": ""
            },
            "colorscale": [
             [
              0,
              "#0d0887"
             ],
             [
              0.1111111111111111,
              "#46039f"
             ],
             [
              0.2222222222222222,
              "#7201a8"
             ],
             [
              0.3333333333333333,
              "#9c179e"
             ],
             [
              0.4444444444444444,
              "#bd3786"
             ],
             [
              0.5555555555555556,
              "#d8576b"
             ],
             [
              0.6666666666666666,
              "#ed7953"
             ],
             [
              0.7777777777777778,
              "#fb9f3a"
             ],
             [
              0.8888888888888888,
              "#fdca26"
             ],
             [
              1,
              "#f0f921"
             ]
            ],
            "type": "surface"
           }
          ],
          "table": [
           {
            "cells": {
             "fill": {
              "color": "#EBF0F8"
             },
             "line": {
              "color": "white"
             }
            },
            "header": {
             "fill": {
              "color": "#C8D4E3"
             },
             "line": {
              "color": "white"
             }
            },
            "type": "table"
           }
          ]
         },
         "layout": {
          "annotationdefaults": {
           "arrowcolor": "#2a3f5f",
           "arrowhead": 0,
           "arrowwidth": 1
          },
          "autotypenumbers": "strict",
          "coloraxis": {
           "colorbar": {
            "outlinewidth": 0,
            "ticks": ""
           }
          },
          "colorscale": {
           "diverging": [
            [
             0,
             "#8e0152"
            ],
            [
             0.1,
             "#c51b7d"
            ],
            [
             0.2,
             "#de77ae"
            ],
            [
             0.3,
             "#f1b6da"
            ],
            [
             0.4,
             "#fde0ef"
            ],
            [
             0.5,
             "#f7f7f7"
            ],
            [
             0.6,
             "#e6f5d0"
            ],
            [
             0.7,
             "#b8e186"
            ],
            [
             0.8,
             "#7fbc41"
            ],
            [
             0.9,
             "#4d9221"
            ],
            [
             1,
             "#276419"
            ]
           ],
           "sequential": [
            [
             0,
             "#0d0887"
            ],
            [
             0.1111111111111111,
             "#46039f"
            ],
            [
             0.2222222222222222,
             "#7201a8"
            ],
            [
             0.3333333333333333,
             "#9c179e"
            ],
            [
             0.4444444444444444,
             "#bd3786"
            ],
            [
             0.5555555555555556,
             "#d8576b"
            ],
            [
             0.6666666666666666,
             "#ed7953"
            ],
            [
             0.7777777777777778,
             "#fb9f3a"
            ],
            [
             0.8888888888888888,
             "#fdca26"
            ],
            [
             1,
             "#f0f921"
            ]
           ],
           "sequentialminus": [
            [
             0,
             "#0d0887"
            ],
            [
             0.1111111111111111,
             "#46039f"
            ],
            [
             0.2222222222222222,
             "#7201a8"
            ],
            [
             0.3333333333333333,
             "#9c179e"
            ],
            [
             0.4444444444444444,
             "#bd3786"
            ],
            [
             0.5555555555555556,
             "#d8576b"
            ],
            [
             0.6666666666666666,
             "#ed7953"
            ],
            [
             0.7777777777777778,
             "#fb9f3a"
            ],
            [
             0.8888888888888888,
             "#fdca26"
            ],
            [
             1,
             "#f0f921"
            ]
           ]
          },
          "colorway": [
           "#636efa",
           "#EF553B",
           "#00cc96",
           "#ab63fa",
           "#FFA15A",
           "#19d3f3",
           "#FF6692",
           "#B6E880",
           "#FF97FF",
           "#FECB52"
          ],
          "font": {
           "color": "#2a3f5f"
          },
          "geo": {
           "bgcolor": "white",
           "lakecolor": "white",
           "landcolor": "#E5ECF6",
           "showlakes": true,
           "showland": true,
           "subunitcolor": "white"
          },
          "hoverlabel": {
           "align": "left"
          },
          "hovermode": "closest",
          "mapbox": {
           "style": "light"
          },
          "paper_bgcolor": "white",
          "plot_bgcolor": "#E5ECF6",
          "polar": {
           "angularaxis": {
            "gridcolor": "white",
            "linecolor": "white",
            "ticks": ""
           },
           "bgcolor": "#E5ECF6",
           "radialaxis": {
            "gridcolor": "white",
            "linecolor": "white",
            "ticks": ""
           }
          },
          "scene": {
           "xaxis": {
            "backgroundcolor": "#E5ECF6",
            "gridcolor": "white",
            "gridwidth": 2,
            "linecolor": "white",
            "showbackground": true,
            "ticks": "",
            "zerolinecolor": "white"
           },
           "yaxis": {
            "backgroundcolor": "#E5ECF6",
            "gridcolor": "white",
            "gridwidth": 2,
            "linecolor": "white",
            "showbackground": true,
            "ticks": "",
            "zerolinecolor": "white"
           },
           "zaxis": {
            "backgroundcolor": "#E5ECF6",
            "gridcolor": "white",
            "gridwidth": 2,
            "linecolor": "white",
            "showbackground": true,
            "ticks": "",
            "zerolinecolor": "white"
           }
          },
          "shapedefaults": {
           "line": {
            "color": "#2a3f5f"
           }
          },
          "ternary": {
           "aaxis": {
            "gridcolor": "white",
            "linecolor": "white",
            "ticks": ""
           },
           "baxis": {
            "gridcolor": "white",
            "linecolor": "white",
            "ticks": ""
           },
           "bgcolor": "#E5ECF6",
           "caxis": {
            "gridcolor": "white",
            "linecolor": "white",
            "ticks": ""
           }
          },
          "title": {
           "x": 0.05
          },
          "xaxis": {
           "automargin": true,
           "gridcolor": "white",
           "linecolor": "white",
           "ticks": "",
           "title": {
            "standoff": 15
           },
           "zerolinecolor": "white",
           "zerolinewidth": 2
          },
          "yaxis": {
           "automargin": true,
           "gridcolor": "white",
           "linecolor": "white",
           "ticks": "",
           "title": {
            "standoff": 15
           },
           "zerolinecolor": "white",
           "zerolinewidth": 2
          }
         }
        },
        "title": {
         "text": "Top 60 RBs | ADP vs Projected FP"
        },
        "xaxis": {
         "anchor": "y",
         "domain": [
          0,
          1
         ],
         "title": {
          "text": "adp"
         }
        },
        "yaxis": {
         "anchor": "x",
         "domain": [
          0,
          1
         ],
         "title": {
          "text": "fantasyPoints"
         }
        }
       }
      },
      "text/html": [
       "<div>                            <div id=\"6ca174a6-19f4-49f8-82be-17189bf207a7\" class=\"plotly-graph-div\" style=\"height:525px; width:100%;\"></div>            <script type=\"text/javascript\">                require([\"plotly\"], function(Plotly) {                    window.PLOTLYENV=window.PLOTLYENV || {};                                    if (document.getElementById(\"6ca174a6-19f4-49f8-82be-17189bf207a7\")) {                    Plotly.newPlot(                        \"6ca174a6-19f4-49f8-82be-17189bf207a7\",                        [{\"customdata\":[[\"Jonathan Taylor\",\"IND\"],[\"Christian McCaffrey\",\"CAR\"],[\"Derrick Henry\",\"TEN\"],[\"Austin Ekeler\",\"LAC\"],[\"Dalvin Cook\",\"MIN\"],[\"Najee Harris\",\"PIT\"],[\"Joe Mixon\",\"CIN\"],[\"D'Andre Swift\",\"DET\"],[\"Nick Chubb\",\"CLE\"],[\"Alvin Kamara\",\"NO\"],[\"Saquon Barkley\",\"NYG\"],[\"Javonte Williams\",\"DEN\"],[\"Aaron Jones\",\"GB\"],[\"Leonard Fournette\",\"TB\"],[\"Ezekiel Elliott\",\"DAL\"],[\"Cam Akers\",\"LAR\"],[\"James Conner\",\"ARI\"],[\"David Montgomery\",\"CHI\"],[\"Antonio Gibson\",\"WAS\"],[\"Breece Hall\",\"NYJ\"],[\"J.K. Dobbins\",\"BAL\"],[\"Josh Jacobs\",\"LV\"],[\"Travis Etienne\",\"JAX\"],[\"Elijah Mitchell\",\"SF\"],[\"Clyde Edwards-Helaire\",\"KC\"],[\"Damien Harris\",\"NE\"],[\"Miles Sanders\",\"PHI\"],[\"A.J. Dillon\",\"GB\"],[\"Kareem Hunt\",\"CLE\"],[\"Cordarrelle Patterson\",\"ATL\"],[\"Tony Pollard\",\"DAL\"],[\"Devin Singletary\",\"BUF\"],[\"Chase Edmonds\",\"MIA\"],[\"James Cook\",\"BUF\"],[\"Rashaad Penny\",\"SEA\"],[\"Michael Carter\",\"NYJ\"],[\"James Robinson\",\"JAX\"],[\"Isaiah Spiller\",\"LAC\"],[\"Rhamondre Stevenson\",\"NE\"],[\"Ronald Jones\",\"KC\"],[\"Dameon Pierce\",\"HOU\"],[\"Alexander Mattison\",\"MIN\"],[\"Rachaad White\",\"TB\"],[\"Nyheim Hines\",\"IND\"],[\"Darrell Henderson\",\"LAR\"],[\"Tyler Allgeier\",\"ATL\"],[\"Marlon Mack\",\"HOU\"],[\"Kenneth Gainwell\",\"PHI\"],[\"J.D. McKissic\",\"WAS\"],[\"Raheem Mostert\",\"MIA\"],[\"Khalil Herbert\",\"CHI\"],[\"Darrel Williams\",\"ARI\"],[\"Gus Edwards\",\"BAL\"],[\"Jamaal Williams\",\"DET\"],[\"Chuba Hubbard\",\"CAR\"],[\"Tyrion Davis-Price\",\"SF\"],[\"Zamir White\",\"LV\"],[\"D'Onta Foreman\",\"CAR\"],[\"Myles Gaskin\",\"MIA\"],[\"Keaontay Ingram\",\"ARI\"]],\"hovertemplate\":\"adp=%{marker.color}<br>fantasyPoints=%{y}<br>playerName=%{customdata[0]}<br>teamName=%{customdata[1]}<extra></extra>\",\"legendgroup\":\"\",\"marker\":{\"color\":[1.4,2.3,3.2,4.0,6.0,8.3,10.5,14.7,15.9,16.5,22.3,23.9,24.1,26.5,31.5,34.3,35.7,37.2,38.9,43.4,44.1,44.9,48.0,58.5,62.9,65.2,66.9,70.4,80.4,84.4,89.3,94.7,98.5,100.2,104.7,107.4,111.7,113.2,118.7,121.4,128.8,129.6,136.0,137.8,142.6,145.7,152.4,152.6,154.2,155.0,175.9,176.2,177.8,186.9,187.7,189.0,196.1,199.0,224.3,230.7],\"coloraxis\":\"coloraxis\",\"symbol\":\"circle\",\"size\":10},\"mode\":\"markers+text\",\"name\":\"\",\"orientation\":\"v\",\"showlegend\":false,\"text\":[\"Jonathan Taylor\",\"Christian McCaffrey\",\"Derrick Henry\",\"Austin Ekeler\",\"Dalvin Cook\",\"Najee Harris\",\"Joe Mixon\",\"D'Andre Swift\",\"Nick Chubb\",\"Alvin Kamara\",\"Saquon Barkley\",\"Javonte Williams\",\"Aaron Jones\",\"Leonard Fournette\",\"Ezekiel Elliott\",\"Cam Akers\",\"James Conner\",\"David Montgomery\",\"Antonio Gibson\",\"Breece Hall\",\"J.K. Dobbins\",\"Josh Jacobs\",\"Travis Etienne\",\"Elijah Mitchell\",\"Clyde Edwards-Helaire\",\"Damien Harris\",\"Miles Sanders\",\"A.J. Dillon\",\"Kareem Hunt\",\"Cordarrelle Patterson\",\"Tony Pollard\",\"Devin Singletary\",\"Chase Edmonds\",\"James Cook\",\"Rashaad Penny\",\"Michael Carter\",\"James Robinson\",\"Isaiah Spiller\",\"Rhamondre Stevenson\",\"Ronald Jones\",\"Dameon Pierce\",\"Alexander Mattison\",\"Rachaad White\",\"Nyheim Hines\",\"Darrell Henderson\",\"Tyler Allgeier\",\"Marlon Mack\",\"Kenneth Gainwell\",\"J.D. McKissic\",\"Raheem Mostert\",\"Khalil Herbert\",\"Darrel Williams\",\"Gus Edwards\",\"Jamaal Williams\",\"Chuba Hubbard\",\"Tyrion Davis-Price\",\"Zamir White\",\"D'Onta Foreman\",\"Myles Gaskin\",\"Keaontay Ingram\"],\"x\":[1.4,2.3,3.2,4.0,6.0,8.3,10.5,14.7,15.9,16.5,22.3,23.9,24.1,26.5,31.5,34.3,35.7,37.2,38.9,43.4,44.1,44.9,48.0,58.5,62.9,65.2,66.9,70.4,80.4,84.4,89.3,94.7,98.5,100.2,104.7,107.4,111.7,113.2,118.7,121.4,128.8,129.6,136.0,137.8,142.6,145.7,152.4,152.6,154.2,155.0,175.9,176.2,177.8,186.9,187.7,189.0,196.1,199.0,224.3,230.7],\"xaxis\":\"x\",\"y\":[275.0,327.8,314.3,272.3,294.0,296.7,241.4,256.0,213.5,295.4,245.2,205.0,235.7,268.3,250.8,190.6,223.4,212.4,181.0,147.3,186.6,198.2,225.9,178.4,193.0,145.9,161.4,172.3,160.2,197.2,172.9,107.5,156.8,129.0,143.2,120.2,64.4,92.5,110.8,111.6,123.5,92.3,102.6,125.3,135.0,42.8,97.2,54.2,123.5,111.3,66.5,82.9,90.0,124.9,59.9,12.6,74.5,31.3,19.8,47.4],\"yaxis\":\"y\",\"type\":\"scatter\",\"textfont\":{\"size\":6},\"textposition\":\"top center\"},{\"hovertemplate\":\"<b>OLS trendline</b><br>fantasyPoints = -1.11898 * adp + 261.769<br>R<sup>2</sup>=0.840996<br><br>adp=%{x}<br>fantasyPoints=%{y} <b>(trend)</b><extra></extra>\",\"legendgroup\":\"\",\"marker\":{\"symbol\":\"circle\",\"size\":10},\"mode\":\"lines\",\"name\":\"\",\"showlegend\":false,\"x\":[1.4,2.3,3.2,4.0,6.0,8.3,10.5,14.7,15.9,16.5,22.3,23.9,24.1,26.5,31.5,34.3,35.7,37.2,38.9,43.4,44.1,44.9,48.0,58.5,62.9,65.2,66.9,70.4,80.4,84.4,89.3,94.7,98.5,100.2,104.7,107.4,111.7,113.2,118.7,121.4,128.8,129.6,136.0,137.8,142.6,145.7,152.4,152.6,154.2,155.0,175.9,176.2,177.8,186.9,187.7,189.0,196.1,199.0,224.3,230.7],\"xaxis\":\"x\",\"y\":[260.20256078943964,259.1954798507307,258.18839891202174,257.2932158553915,255.05525821381602,252.48160692600422,250.01985352027117,245.32014247296266,243.97736788801737,243.30598059554472,236.8159034349758,235.0255373217154,234.80174155755788,232.11619238766727,226.52129828372856,223.3881575855229,221.82158723642004,220.14311900523842,218.24085500989926,213.20545031635442,212.422165141803,211.5269820851728,208.0581477407308,196.3088701224595,191.3853633109934,188.8117120231816,186.90944802784242,182.99302215508533,171.8032339472079,167.32731866405692,161.84432244219698,155.80183680994315,151.54971729094973,149.64745329561055,144.61204860206573,141.5908057859388,136.7791968565515,135.1007286253699,128.9463451110373,125.92510229491037,117.64465902108108,116.74947596445091,109.58801151140932,107.57384963399139,102.20275129421023,98.73391694976823,91.23675885049033,91.0129630863328,89.2225969730724,88.3274139164422,64.94075656197836,64.60506291574205,62.81469680248162,52.631989533313174,51.736806476683,50.282134009658904,42.33738438206595,39.09234580178148,10.782181635851543,3.620717182809983],\"yaxis\":\"y\",\"type\":\"scatter\",\"textfont\":{\"size\":6},\"textposition\":\"top center\"}],                        {\"template\":{\"data\":{\"histogram2dcontour\":[{\"type\":\"histogram2dcontour\",\"colorbar\":{\"outlinewidth\":0,\"ticks\":\"\"},\"colorscale\":[[0.0,\"#0d0887\"],[0.1111111111111111,\"#46039f\"],[0.2222222222222222,\"#7201a8\"],[0.3333333333333333,\"#9c179e\"],[0.4444444444444444,\"#bd3786\"],[0.5555555555555556,\"#d8576b\"],[0.6666666666666666,\"#ed7953\"],[0.7777777777777778,\"#fb9f3a\"],[0.8888888888888888,\"#fdca26\"],[1.0,\"#f0f921\"]]}],\"choropleth\":[{\"type\":\"choropleth\",\"colorbar\":{\"outlinewidth\":0,\"ticks\":\"\"}}],\"histogram2d\":[{\"type\":\"histogram2d\",\"colorbar\":{\"outlinewidth\":0,\"ticks\":\"\"},\"colorscale\":[[0.0,\"#0d0887\"],[0.1111111111111111,\"#46039f\"],[0.2222222222222222,\"#7201a8\"],[0.3333333333333333,\"#9c179e\"],[0.4444444444444444,\"#bd3786\"],[0.5555555555555556,\"#d8576b\"],[0.6666666666666666,\"#ed7953\"],[0.7777777777777778,\"#fb9f3a\"],[0.8888888888888888,\"#fdca26\"],[1.0,\"#f0f921\"]]}],\"heatmap\":[{\"type\":\"heatmap\",\"colorbar\":{\"outlinewidth\":0,\"ticks\":\"\"},\"colorscale\":[[0.0,\"#0d0887\"],[0.1111111111111111,\"#46039f\"],[0.2222222222222222,\"#7201a8\"],[0.3333333333333333,\"#9c179e\"],[0.4444444444444444,\"#bd3786\"],[0.5555555555555556,\"#d8576b\"],[0.6666666666666666,\"#ed7953\"],[0.7777777777777778,\"#fb9f3a\"],[0.8888888888888888,\"#fdca26\"],[1.0,\"#f0f921\"]]}],\"heatmapgl\":[{\"type\":\"heatmapgl\",\"colorbar\":{\"outlinewidth\":0,\"ticks\":\"\"},\"colorscale\":[[0.0,\"#0d0887\"],[0.1111111111111111,\"#46039f\"],[0.2222222222222222,\"#7201a8\"],[0.3333333333333333,\"#9c179e\"],[0.4444444444444444,\"#bd3786\"],[0.5555555555555556,\"#d8576b\"],[0.6666666666666666,\"#ed7953\"],[0.7777777777777778,\"#fb9f3a\"],[0.8888888888888888,\"#fdca26\"],[1.0,\"#f0f921\"]]}],\"contourcarpet\":[{\"type\":\"contourcarpet\",\"colorbar\":{\"outlinewidth\":0,\"ticks\":\"\"}}],\"contour\":[{\"type\":\"contour\",\"colorbar\":{\"outlinewidth\":0,\"ticks\":\"\"},\"colorscale\":[[0.0,\"#0d0887\"],[0.1111111111111111,\"#46039f\"],[0.2222222222222222,\"#7201a8\"],[0.3333333333333333,\"#9c179e\"],[0.4444444444444444,\"#bd3786\"],[0.5555555555555556,\"#d8576b\"],[0.6666666666666666,\"#ed7953\"],[0.7777777777777778,\"#fb9f3a\"],[0.8888888888888888,\"#fdca26\"],[1.0,\"#f0f921\"]]}],\"surface\":[{\"type\":\"surface\",\"colorbar\":{\"outlinewidth\":0,\"ticks\":\"\"},\"colorscale\":[[0.0,\"#0d0887\"],[0.1111111111111111,\"#46039f\"],[0.2222222222222222,\"#7201a8\"],[0.3333333333333333,\"#9c179e\"],[0.4444444444444444,\"#bd3786\"],[0.5555555555555556,\"#d8576b\"],[0.6666666666666666,\"#ed7953\"],[0.7777777777777778,\"#fb9f3a\"],[0.8888888888888888,\"#fdca26\"],[1.0,\"#f0f921\"]]}],\"mesh3d\":[{\"type\":\"mesh3d\",\"colorbar\":{\"outlinewidth\":0,\"ticks\":\"\"}}],\"scatter\":[{\"fillpattern\":{\"fillmode\":\"overlay\",\"size\":10,\"solidity\":0.2},\"type\":\"scatter\"}],\"parcoords\":[{\"type\":\"parcoords\",\"line\":{\"colorbar\":{\"outlinewidth\":0,\"ticks\":\"\"}}}],\"scatterpolargl\":[{\"type\":\"scatterpolargl\",\"marker\":{\"colorbar\":{\"outlinewidth\":0,\"ticks\":\"\"}}}],\"bar\":[{\"error_x\":{\"color\":\"#2a3f5f\"},\"error_y\":{\"color\":\"#2a3f5f\"},\"marker\":{\"line\":{\"color\":\"#E5ECF6\",\"width\":0.5},\"pattern\":{\"fillmode\":\"overlay\",\"size\":10,\"solidity\":0.2}},\"type\":\"bar\"}],\"scattergeo\":[{\"type\":\"scattergeo\",\"marker\":{\"colorbar\":{\"outlinewidth\":0,\"ticks\":\"\"}}}],\"scatterpolar\":[{\"type\":\"scatterpolar\",\"marker\":{\"colorbar\":{\"outlinewidth\":0,\"ticks\":\"\"}}}],\"histogram\":[{\"marker\":{\"pattern\":{\"fillmode\":\"overlay\",\"size\":10,\"solidity\":0.2}},\"type\":\"histogram\"}],\"scattergl\":[{\"type\":\"scattergl\",\"marker\":{\"colorbar\":{\"outlinewidth\":0,\"ticks\":\"\"}}}],\"scatter3d\":[{\"type\":\"scatter3d\",\"line\":{\"colorbar\":{\"outlinewidth\":0,\"ticks\":\"\"}},\"marker\":{\"colorbar\":{\"outlinewidth\":0,\"ticks\":\"\"}}}],\"scattermapbox\":[{\"type\":\"scattermapbox\",\"marker\":{\"colorbar\":{\"outlinewidth\":0,\"ticks\":\"\"}}}],\"scatterternary\":[{\"type\":\"scatterternary\",\"marker\":{\"colorbar\":{\"outlinewidth\":0,\"ticks\":\"\"}}}],\"scattercarpet\":[{\"type\":\"scattercarpet\",\"marker\":{\"colorbar\":{\"outlinewidth\":0,\"ticks\":\"\"}}}],\"carpet\":[{\"aaxis\":{\"endlinecolor\":\"#2a3f5f\",\"gridcolor\":\"white\",\"linecolor\":\"white\",\"minorgridcolor\":\"white\",\"startlinecolor\":\"#2a3f5f\"},\"baxis\":{\"endlinecolor\":\"#2a3f5f\",\"gridcolor\":\"white\",\"linecolor\":\"white\",\"minorgridcolor\":\"white\",\"startlinecolor\":\"#2a3f5f\"},\"type\":\"carpet\"}],\"table\":[{\"cells\":{\"fill\":{\"color\":\"#EBF0F8\"},\"line\":{\"color\":\"white\"}},\"header\":{\"fill\":{\"color\":\"#C8D4E3\"},\"line\":{\"color\":\"white\"}},\"type\":\"table\"}],\"barpolar\":[{\"marker\":{\"line\":{\"color\":\"#E5ECF6\",\"width\":0.5},\"pattern\":{\"fillmode\":\"overlay\",\"size\":10,\"solidity\":0.2}},\"type\":\"barpolar\"}],\"pie\":[{\"automargin\":true,\"type\":\"pie\"}]},\"layout\":{\"autotypenumbers\":\"strict\",\"colorway\":[\"#636efa\",\"#EF553B\",\"#00cc96\",\"#ab63fa\",\"#FFA15A\",\"#19d3f3\",\"#FF6692\",\"#B6E880\",\"#FF97FF\",\"#FECB52\"],\"font\":{\"color\":\"#2a3f5f\"},\"hovermode\":\"closest\",\"hoverlabel\":{\"align\":\"left\"},\"paper_bgcolor\":\"white\",\"plot_bgcolor\":\"#E5ECF6\",\"polar\":{\"bgcolor\":\"#E5ECF6\",\"angularaxis\":{\"gridcolor\":\"white\",\"linecolor\":\"white\",\"ticks\":\"\"},\"radialaxis\":{\"gridcolor\":\"white\",\"linecolor\":\"white\",\"ticks\":\"\"}},\"ternary\":{\"bgcolor\":\"#E5ECF6\",\"aaxis\":{\"gridcolor\":\"white\",\"linecolor\":\"white\",\"ticks\":\"\"},\"baxis\":{\"gridcolor\":\"white\",\"linecolor\":\"white\",\"ticks\":\"\"},\"caxis\":{\"gridcolor\":\"white\",\"linecolor\":\"white\",\"ticks\":\"\"}},\"coloraxis\":{\"colorbar\":{\"outlinewidth\":0,\"ticks\":\"\"}},\"colorscale\":{\"sequential\":[[0.0,\"#0d0887\"],[0.1111111111111111,\"#46039f\"],[0.2222222222222222,\"#7201a8\"],[0.3333333333333333,\"#9c179e\"],[0.4444444444444444,\"#bd3786\"],[0.5555555555555556,\"#d8576b\"],[0.6666666666666666,\"#ed7953\"],[0.7777777777777778,\"#fb9f3a\"],[0.8888888888888888,\"#fdca26\"],[1.0,\"#f0f921\"]],\"sequentialminus\":[[0.0,\"#0d0887\"],[0.1111111111111111,\"#46039f\"],[0.2222222222222222,\"#7201a8\"],[0.3333333333333333,\"#9c179e\"],[0.4444444444444444,\"#bd3786\"],[0.5555555555555556,\"#d8576b\"],[0.6666666666666666,\"#ed7953\"],[0.7777777777777778,\"#fb9f3a\"],[0.8888888888888888,\"#fdca26\"],[1.0,\"#f0f921\"]],\"diverging\":[[0,\"#8e0152\"],[0.1,\"#c51b7d\"],[0.2,\"#de77ae\"],[0.3,\"#f1b6da\"],[0.4,\"#fde0ef\"],[0.5,\"#f7f7f7\"],[0.6,\"#e6f5d0\"],[0.7,\"#b8e186\"],[0.8,\"#7fbc41\"],[0.9,\"#4d9221\"],[1,\"#276419\"]]},\"xaxis\":{\"gridcolor\":\"white\",\"linecolor\":\"white\",\"ticks\":\"\",\"title\":{\"standoff\":15},\"zerolinecolor\":\"white\",\"automargin\":true,\"zerolinewidth\":2},\"yaxis\":{\"gridcolor\":\"white\",\"linecolor\":\"white\",\"ticks\":\"\",\"title\":{\"standoff\":15},\"zerolinecolor\":\"white\",\"automargin\":true,\"zerolinewidth\":2},\"scene\":{\"xaxis\":{\"backgroundcolor\":\"#E5ECF6\",\"gridcolor\":\"white\",\"linecolor\":\"white\",\"showbackground\":true,\"ticks\":\"\",\"zerolinecolor\":\"white\",\"gridwidth\":2},\"yaxis\":{\"backgroundcolor\":\"#E5ECF6\",\"gridcolor\":\"white\",\"linecolor\":\"white\",\"showbackground\":true,\"ticks\":\"\",\"zerolinecolor\":\"white\",\"gridwidth\":2},\"zaxis\":{\"backgroundcolor\":\"#E5ECF6\",\"gridcolor\":\"white\",\"linecolor\":\"white\",\"showbackground\":true,\"ticks\":\"\",\"zerolinecolor\":\"white\",\"gridwidth\":2}},\"shapedefaults\":{\"line\":{\"color\":\"#2a3f5f\"}},\"annotationdefaults\":{\"arrowcolor\":\"#2a3f5f\",\"arrowhead\":0,\"arrowwidth\":1},\"geo\":{\"bgcolor\":\"white\",\"landcolor\":\"#E5ECF6\",\"subunitcolor\":\"white\",\"showland\":true,\"showlakes\":true,\"lakecolor\":\"white\"},\"title\":{\"x\":0.05},\"mapbox\":{\"style\":\"light\"}}},\"xaxis\":{\"anchor\":\"y\",\"domain\":[0.0,1.0],\"title\":{\"text\":\"adp\"}},\"yaxis\":{\"anchor\":\"x\",\"domain\":[0.0,1.0],\"title\":{\"text\":\"fantasyPoints\"}},\"coloraxis\":{\"colorbar\":{\"title\":{\"text\":\"adp\"}},\"colorscale\":[[0.0,\"#0d0887\"],[0.1111111111111111,\"#46039f\"],[0.2222222222222222,\"#7201a8\"],[0.3333333333333333,\"#9c179e\"],[0.4444444444444444,\"#bd3786\"],[0.5555555555555556,\"#d8576b\"],[0.6666666666666666,\"#ed7953\"],[0.7777777777777778,\"#fb9f3a\"],[0.8888888888888888,\"#fdca26\"],[1.0,\"#f0f921\"]]},\"legend\":{\"tracegroupgap\":0},\"title\":{\"text\":\"Top 60 RBs | ADP vs Projected FP\"}},                        {\"responsive\": true}                    ).then(function(){\n",
       "                            \n",
       "var gd = document.getElementById('6ca174a6-19f4-49f8-82be-17189bf207a7');\n",
       "var x = new MutationObserver(function (mutations, observer) {{\n",
       "        var display = window.getComputedStyle(gd).display;\n",
       "        if (!display || display === 'none') {{\n",
       "            console.log([gd, 'removed!']);\n",
       "            Plotly.purge(gd);\n",
       "            observer.disconnect();\n",
       "        }}\n",
       "}});\n",
       "\n",
       "// Listen for the removal of the full notebook cells\n",
       "var notebookContainer = gd.closest('#notebook-container');\n",
       "if (notebookContainer) {{\n",
       "    x.observe(notebookContainer, {childList: true});\n",
       "}}\n",
       "\n",
       "// Listen for the clearing of the current output cell\n",
       "var outputEl = gd.closest('.output');\n",
       "if (outputEl) {{\n",
       "    x.observe(outputEl, {childList: true});\n",
       "}}\n",
       "\n",
       "                        })                };                });            </script>        </div>"
      ]
     },
     "metadata": {},
     "output_type": "display_data"
    }
   ],
   "source": [
    "# create scatterplot comparing adp vs projected fantasy points for top 60 RBs\n",
    "rb_60 = rb.head(60)\n",
    "\n",
    "fig = px.scatter(rb_60, x=\"adp\", y=\"fantasyPoints\", color='adp', text='playerName', hover_data=['playerName', 'teamName'], trendline=\"ols\", title=\"Top 60 RBs | ADP vs Projected FP\")\n",
    "fig.update_traces(marker_size=10)\n",
    "fig.update_traces(textposition='top center', textfont_size=6)\n",
    "fig.show()\n",
    "fig.write_html(\"fig/rb_scatter.html\")\n",
    "fig.write_image(\"images/rb_scatter.png\")"
   ]
  },
  {
   "cell_type": "code",
   "execution_count": 47,
   "id": "7d742867",
   "metadata": {},
   "outputs": [
    {
     "data": {
      "application/vnd.plotly.v1+json": {
       "config": {
        "plotlyServerURL": "https://plot.ly"
       },
       "data": [
        {
         "customdata": [
          [
           "Cooper Kupp",
           "LAR"
          ],
          [
           "Justin Jefferson",
           "MIN"
          ],
          [
           "Ja'Marr Chase",
           "CIN"
          ],
          [
           "Davante Adams",
           "LV"
          ],
          [
           "Stefon Diggs",
           "BUF"
          ],
          [
           "Tyreek Hill",
           "MIA"
          ],
          [
           "CeeDee Lamb",
           "DAL"
          ],
          [
           "Deebo Samuel",
           "SF"
          ],
          [
           "A.J. Brown",
           "PHI"
          ],
          [
           "Mike Evans",
           "TB"
          ],
          [
           "Keenan Allen",
           "LAC"
          ],
          [
           "Tee Higgins",
           "CIN"
          ],
          [
           "Diontae Johnson",
           "PIT"
          ],
          [
           "Terry McLaurin",
           "WAS"
          ],
          [
           "D.K. Metcalf",
           "SEA"
          ],
          [
           "Jaylen Waddle",
           "MIA"
          ],
          [
           "D.J. Moore",
           "CAR"
          ],
          [
           "Amari Cooper",
           "CLE"
          ],
          [
           "Jerry Jeudy",
           "DEN"
          ],
          [
           "Chris Godwin",
           "TB"
          ],
          [
           "Courtland Sutton",
           "DEN"
          ],
          [
           "Michael Thomas",
           "NO"
          ],
          [
           "Marquise Brown",
           "ARI"
          ],
          [
           "Mike Williams",
           "LAC"
          ],
          [
           "DeAndre Hopkins",
           "ARI"
          ],
          [
           "Amon-Ra St. Brown",
           "DET"
          ],
          [
           "Brandin Cooks",
           "HOU"
          ],
          [
           "Adam Thielen",
           "MIN"
          ],
          [
           "Treylon Burks",
           "TEN"
          ],
          [
           "Darnell Mooney",
           "CHI"
          ],
          [
           "Drake London",
           "ATL"
          ],
          [
           "JuJu Smith-Schuster",
           "KC"
          ],
          [
           "DeVonta Smith",
           "PHI"
          ],
          [
           "Garrett Wilson",
           "NYJ"
          ],
          [
           "Rashod Bateman",
           "BAL"
          ],
          [
           "Elijah Moore",
           "NYJ"
          ],
          [
           "Tyler Lockett",
           "SEA"
          ],
          [
           "Hunter Renfrow",
           "LV"
          ],
          [
           "Gabriel Davis",
           "BUF"
          ],
          [
           "Brandon Aiyuk",
           "SF"
          ],
          [
           "Chris Olave",
           "NO"
          ],
          [
           "Robert Woods",
           "TEN"
          ],
          [
           "Chase Claypool",
           "PIT"
          ],
          [
           "Christian Watson",
           "GB"
          ],
          [
           "Christian Kirk",
           "JAX"
          ],
          [
           "Skyy Moore",
           "KC"
          ],
          [
           "Jameson Williams",
           "DET"
          ],
          [
           "Kadarius Toney",
           "NYG"
          ],
          [
           "Allen Lazard",
           "GB"
          ],
          [
           "Michael Gallup",
           "DAL"
          ],
          [
           "Tyler Boyd",
           "CIN"
          ],
          [
           "Russell Gage",
           "TB"
          ],
          [
           "Marquez Valdes-Scantling",
           "KC"
          ],
          [
           "Kenny Golladay",
           "NYG"
          ],
          [
           "Jarvis Landry",
           "NO"
          ],
          [
           "George Pickens",
           "PIT"
          ],
          [
           "Jahan Dotson",
           "WAS"
          ],
          [
           "Rondale Moore",
           "ARI"
          ],
          [
           "Jakobi Meyers",
           "NE"
          ],
          [
           "Tim Patrick",
           "DEN"
          ]
         ],
         "hovertemplate": "adp=%{marker.color}<br>fantasyPoints=%{y}<br>playerName=%{customdata[0]}<br>teamName=%{customdata[1]}<extra></extra>",
         "legendgroup": "",
         "marker": {
          "color": [
           5.9,
           7.4,
           8.4,
           11.7,
           13.3,
           17,
           19,
           21.8,
           25.6,
           28.5,
           30.4,
           35.5,
           40.1,
           41.7,
           42.8,
           46.9,
           47.4,
           50.5,
           52.9,
           53.5,
           56.8,
           60.3,
           61.1,
           64,
           68.6,
           69.2,
           71.2,
           73.9,
           75.2,
           76.2,
           77.6,
           78,
           82.2,
           83.8,
           85.9,
           86.9,
           88.4,
           91.7,
           93.7,
           95.3,
           97.9,
           102.7,
           106.2,
           107.2,
           110,
           114.6,
           115.3,
           116.8,
           119.2,
           120.1,
           125.1,
           127.8,
           132.7,
           133,
           134.9,
           138,
           139,
           141.6,
           143.7,
           146
          ],
          "coloraxis": "coloraxis",
          "size": 10,
          "symbol": "circle"
         },
         "mode": "markers+text",
         "name": "",
         "orientation": "v",
         "showlegend": false,
         "text": [
          "Cooper Kupp",
          "Justin Jefferson",
          "Ja'Marr Chase",
          "Davante Adams",
          "Stefon Diggs",
          "Tyreek Hill",
          "CeeDee Lamb",
          "Deebo Samuel",
          "A.J. Brown",
          "Mike Evans",
          "Keenan Allen",
          "Tee Higgins",
          "Diontae Johnson",
          "Terry McLaurin",
          "D.K. Metcalf",
          "Jaylen Waddle",
          "D.J. Moore",
          "Amari Cooper",
          "Jerry Jeudy",
          "Chris Godwin",
          "Courtland Sutton",
          "Michael Thomas",
          "Marquise Brown",
          "Mike Williams",
          "DeAndre Hopkins",
          "Amon-Ra St. Brown",
          "Brandin Cooks",
          "Adam Thielen",
          "Treylon Burks",
          "Darnell Mooney",
          "Drake London",
          "JuJu Smith-Schuster",
          "DeVonta Smith",
          "Garrett Wilson",
          "Rashod Bateman",
          "Elijah Moore",
          "Tyler Lockett",
          "Hunter Renfrow",
          "Gabriel Davis",
          "Brandon Aiyuk",
          "Chris Olave",
          "Robert Woods",
          "Chase Claypool",
          "Christian Watson",
          "Christian Kirk",
          "Skyy Moore",
          "Jameson Williams",
          "Kadarius Toney",
          "Allen Lazard",
          "Michael Gallup",
          "Tyler Boyd",
          "Russell Gage",
          "Marquez Valdes-Scantling",
          "Kenny Golladay",
          "Jarvis Landry",
          "George Pickens",
          "Jahan Dotson",
          "Rondale Moore",
          "Jakobi Meyers",
          "Tim Patrick"
         ],
         "textfont": {
          "size": 6
         },
         "textposition": "top center",
         "type": "scatter",
         "x": [
          5.9,
          7.4,
          8.4,
          11.7,
          13.3,
          17,
          19,
          21.8,
          25.6,
          28.5,
          30.4,
          35.5,
          40.1,
          41.7,
          42.8,
          46.9,
          47.4,
          50.5,
          52.9,
          53.5,
          56.8,
          60.3,
          61.1,
          64,
          68.6,
          69.2,
          71.2,
          73.9,
          75.2,
          76.2,
          77.6,
          78,
          82.2,
          83.8,
          85.9,
          86.9,
          88.4,
          91.7,
          93.7,
          95.3,
          97.9,
          102.7,
          106.2,
          107.2,
          110,
          114.6,
          115.3,
          116.8,
          119.2,
          120.1,
          125.1,
          127.8,
          132.7,
          133,
          134.9,
          138,
          139,
          141.6,
          143.7,
          146
         ],
         "xaxis": "x",
         "y": [
          349.4,
          330.8,
          300.1,
          293,
          294.1,
          273.9,
          288.3,
          257.5,
          242.6,
          277.4,
          248.3,
          250.1,
          195.6,
          247.5,
          233.9,
          204.2,
          252.4,
          204,
          169.3,
          178.7,
          177.8,
          201.2,
          185.2,
          224.3,
          135,
          212.2,
          232.8,
          199.2,
          209.6,
          221.9,
          216.7,
          180.4,
          193.3,
          175.6,
          213.5,
          193,
          224.5,
          205.5,
          223.4,
          171.3,
          178.4,
          170.6,
          189.4,
          147,
          197.4,
          128.3,
          140,
          154,
          192.2,
          154.6,
          187.1,
          221.1,
          197,
          195.2,
          93.5,
          109.7,
          192.6,
          146.5,
          182,
          150.9
         ],
         "yaxis": "y"
        },
        {
         "hovertemplate": "<b>OLS trendline</b><br>fantasyPoints = -0.974322 * adp + 281.811<br>R<sup>2</sup>=0.608426<br><br>adp=%{x}<br>fantasyPoints=%{y} <b>(trend)</b><extra></extra>",
         "legendgroup": "",
         "marker": {
          "size": 10,
          "symbol": "circle"
         },
         "mode": "lines",
         "name": "",
         "showlegend": false,
         "textfont": {
          "size": 6
         },
         "textposition": "top center",
         "type": "scatter",
         "x": [
          5.9,
          7.4,
          8.4,
          11.7,
          13.3,
          17,
          19,
          21.8,
          25.6,
          28.5,
          30.4,
          35.5,
          40.1,
          41.7,
          42.8,
          46.9,
          47.4,
          50.5,
          52.9,
          53.5,
          56.8,
          60.3,
          61.1,
          64,
          68.6,
          69.2,
          71.2,
          73.9,
          75.2,
          76.2,
          77.6,
          78,
          82.2,
          83.8,
          85.9,
          86.9,
          88.4,
          91.7,
          93.7,
          95.3,
          97.9,
          102.7,
          106.2,
          107.2,
          110,
          114.6,
          115.3,
          116.8,
          119.2,
          120.1,
          125.1,
          127.8,
          132.7,
          133,
          134.9,
          138,
          139,
          141.6,
          143.7,
          146
         ],
         "xaxis": "x",
         "y": [
          276.0626508642027,
          274.60116837723,
          273.62684671924825,
          270.4115852479084,
          268.8526705951376,
          265.24768046060507,
          263.29903714464155,
          260.5709365022926,
          256.8685142019619,
          254.04298139381478,
          252.19177024364942,
          247.22272978794243,
          242.74085016122632,
          241.18193550845547,
          240.11018168467555,
          236.1154628869503,
          235.62830205795942,
          232.60790491821595,
          230.26953293905973,
          229.68493994427067,
          226.46967847293084,
          223.05955266999467,
          222.28009534360925,
          219.45456253546212,
          214.97268290874604,
          214.38808991395695,
          212.43944659799342,
          209.80877812144266,
          208.54215996606638,
          207.56783830808462,
          206.20378798691013,
          205.81405932371743,
          201.721908360194,
          200.1629937074232,
          198.1169182256615,
          197.14259656767973,
          195.68111408070706,
          192.46585260936723,
          190.5172092934037,
          188.95829464063291,
          186.4250583298803,
          181.74831437156786,
          178.33818856863167,
          177.3638669106499,
          174.63576626830096,
          170.15388664158485,
          169.4718614809976,
          168.01037899402496,
          165.6720070148687,
          164.79511752268513,
          159.92350923277633,
          157.29284075622553,
          152.5186646321149,
          152.22636813472036,
          150.37515698455502,
          147.35475984481155,
          146.3804381868298,
          143.8472018760772,
          141.8011263943155,
          139.56018658095743
         ],
         "yaxis": "y"
        }
       ],
       "layout": {
        "coloraxis": {
         "colorbar": {
          "title": {
           "text": "adp"
          }
         },
         "colorscale": [
          [
           0,
           "#0d0887"
          ],
          [
           0.1111111111111111,
           "#46039f"
          ],
          [
           0.2222222222222222,
           "#7201a8"
          ],
          [
           0.3333333333333333,
           "#9c179e"
          ],
          [
           0.4444444444444444,
           "#bd3786"
          ],
          [
           0.5555555555555556,
           "#d8576b"
          ],
          [
           0.6666666666666666,
           "#ed7953"
          ],
          [
           0.7777777777777778,
           "#fb9f3a"
          ],
          [
           0.8888888888888888,
           "#fdca26"
          ],
          [
           1,
           "#f0f921"
          ]
         ]
        },
        "legend": {
         "tracegroupgap": 0
        },
        "template": {
         "data": {
          "bar": [
           {
            "error_x": {
             "color": "#2a3f5f"
            },
            "error_y": {
             "color": "#2a3f5f"
            },
            "marker": {
             "line": {
              "color": "#E5ECF6",
              "width": 0.5
             },
             "pattern": {
              "fillmode": "overlay",
              "size": 10,
              "solidity": 0.2
             }
            },
            "type": "bar"
           }
          ],
          "barpolar": [
           {
            "marker": {
             "line": {
              "color": "#E5ECF6",
              "width": 0.5
             },
             "pattern": {
              "fillmode": "overlay",
              "size": 10,
              "solidity": 0.2
             }
            },
            "type": "barpolar"
           }
          ],
          "carpet": [
           {
            "aaxis": {
             "endlinecolor": "#2a3f5f",
             "gridcolor": "white",
             "linecolor": "white",
             "minorgridcolor": "white",
             "startlinecolor": "#2a3f5f"
            },
            "baxis": {
             "endlinecolor": "#2a3f5f",
             "gridcolor": "white",
             "linecolor": "white",
             "minorgridcolor": "white",
             "startlinecolor": "#2a3f5f"
            },
            "type": "carpet"
           }
          ],
          "choropleth": [
           {
            "colorbar": {
             "outlinewidth": 0,
             "ticks": ""
            },
            "type": "choropleth"
           }
          ],
          "contour": [
           {
            "colorbar": {
             "outlinewidth": 0,
             "ticks": ""
            },
            "colorscale": [
             [
              0,
              "#0d0887"
             ],
             [
              0.1111111111111111,
              "#46039f"
             ],
             [
              0.2222222222222222,
              "#7201a8"
             ],
             [
              0.3333333333333333,
              "#9c179e"
             ],
             [
              0.4444444444444444,
              "#bd3786"
             ],
             [
              0.5555555555555556,
              "#d8576b"
             ],
             [
              0.6666666666666666,
              "#ed7953"
             ],
             [
              0.7777777777777778,
              "#fb9f3a"
             ],
             [
              0.8888888888888888,
              "#fdca26"
             ],
             [
              1,
              "#f0f921"
             ]
            ],
            "type": "contour"
           }
          ],
          "contourcarpet": [
           {
            "colorbar": {
             "outlinewidth": 0,
             "ticks": ""
            },
            "type": "contourcarpet"
           }
          ],
          "heatmap": [
           {
            "colorbar": {
             "outlinewidth": 0,
             "ticks": ""
            },
            "colorscale": [
             [
              0,
              "#0d0887"
             ],
             [
              0.1111111111111111,
              "#46039f"
             ],
             [
              0.2222222222222222,
              "#7201a8"
             ],
             [
              0.3333333333333333,
              "#9c179e"
             ],
             [
              0.4444444444444444,
              "#bd3786"
             ],
             [
              0.5555555555555556,
              "#d8576b"
             ],
             [
              0.6666666666666666,
              "#ed7953"
             ],
             [
              0.7777777777777778,
              "#fb9f3a"
             ],
             [
              0.8888888888888888,
              "#fdca26"
             ],
             [
              1,
              "#f0f921"
             ]
            ],
            "type": "heatmap"
           }
          ],
          "heatmapgl": [
           {
            "colorbar": {
             "outlinewidth": 0,
             "ticks": ""
            },
            "colorscale": [
             [
              0,
              "#0d0887"
             ],
             [
              0.1111111111111111,
              "#46039f"
             ],
             [
              0.2222222222222222,
              "#7201a8"
             ],
             [
              0.3333333333333333,
              "#9c179e"
             ],
             [
              0.4444444444444444,
              "#bd3786"
             ],
             [
              0.5555555555555556,
              "#d8576b"
             ],
             [
              0.6666666666666666,
              "#ed7953"
             ],
             [
              0.7777777777777778,
              "#fb9f3a"
             ],
             [
              0.8888888888888888,
              "#fdca26"
             ],
             [
              1,
              "#f0f921"
             ]
            ],
            "type": "heatmapgl"
           }
          ],
          "histogram": [
           {
            "marker": {
             "pattern": {
              "fillmode": "overlay",
              "size": 10,
              "solidity": 0.2
             }
            },
            "type": "histogram"
           }
          ],
          "histogram2d": [
           {
            "colorbar": {
             "outlinewidth": 0,
             "ticks": ""
            },
            "colorscale": [
             [
              0,
              "#0d0887"
             ],
             [
              0.1111111111111111,
              "#46039f"
             ],
             [
              0.2222222222222222,
              "#7201a8"
             ],
             [
              0.3333333333333333,
              "#9c179e"
             ],
             [
              0.4444444444444444,
              "#bd3786"
             ],
             [
              0.5555555555555556,
              "#d8576b"
             ],
             [
              0.6666666666666666,
              "#ed7953"
             ],
             [
              0.7777777777777778,
              "#fb9f3a"
             ],
             [
              0.8888888888888888,
              "#fdca26"
             ],
             [
              1,
              "#f0f921"
             ]
            ],
            "type": "histogram2d"
           }
          ],
          "histogram2dcontour": [
           {
            "colorbar": {
             "outlinewidth": 0,
             "ticks": ""
            },
            "colorscale": [
             [
              0,
              "#0d0887"
             ],
             [
              0.1111111111111111,
              "#46039f"
             ],
             [
              0.2222222222222222,
              "#7201a8"
             ],
             [
              0.3333333333333333,
              "#9c179e"
             ],
             [
              0.4444444444444444,
              "#bd3786"
             ],
             [
              0.5555555555555556,
              "#d8576b"
             ],
             [
              0.6666666666666666,
              "#ed7953"
             ],
             [
              0.7777777777777778,
              "#fb9f3a"
             ],
             [
              0.8888888888888888,
              "#fdca26"
             ],
             [
              1,
              "#f0f921"
             ]
            ],
            "type": "histogram2dcontour"
           }
          ],
          "mesh3d": [
           {
            "colorbar": {
             "outlinewidth": 0,
             "ticks": ""
            },
            "type": "mesh3d"
           }
          ],
          "parcoords": [
           {
            "line": {
             "colorbar": {
              "outlinewidth": 0,
              "ticks": ""
             }
            },
            "type": "parcoords"
           }
          ],
          "pie": [
           {
            "automargin": true,
            "type": "pie"
           }
          ],
          "scatter": [
           {
            "fillpattern": {
             "fillmode": "overlay",
             "size": 10,
             "solidity": 0.2
            },
            "type": "scatter"
           }
          ],
          "scatter3d": [
           {
            "line": {
             "colorbar": {
              "outlinewidth": 0,
              "ticks": ""
             }
            },
            "marker": {
             "colorbar": {
              "outlinewidth": 0,
              "ticks": ""
             }
            },
            "type": "scatter3d"
           }
          ],
          "scattercarpet": [
           {
            "marker": {
             "colorbar": {
              "outlinewidth": 0,
              "ticks": ""
             }
            },
            "type": "scattercarpet"
           }
          ],
          "scattergeo": [
           {
            "marker": {
             "colorbar": {
              "outlinewidth": 0,
              "ticks": ""
             }
            },
            "type": "scattergeo"
           }
          ],
          "scattergl": [
           {
            "marker": {
             "colorbar": {
              "outlinewidth": 0,
              "ticks": ""
             }
            },
            "type": "scattergl"
           }
          ],
          "scattermapbox": [
           {
            "marker": {
             "colorbar": {
              "outlinewidth": 0,
              "ticks": ""
             }
            },
            "type": "scattermapbox"
           }
          ],
          "scatterpolar": [
           {
            "marker": {
             "colorbar": {
              "outlinewidth": 0,
              "ticks": ""
             }
            },
            "type": "scatterpolar"
           }
          ],
          "scatterpolargl": [
           {
            "marker": {
             "colorbar": {
              "outlinewidth": 0,
              "ticks": ""
             }
            },
            "type": "scatterpolargl"
           }
          ],
          "scatterternary": [
           {
            "marker": {
             "colorbar": {
              "outlinewidth": 0,
              "ticks": ""
             }
            },
            "type": "scatterternary"
           }
          ],
          "surface": [
           {
            "colorbar": {
             "outlinewidth": 0,
             "ticks": ""
            },
            "colorscale": [
             [
              0,
              "#0d0887"
             ],
             [
              0.1111111111111111,
              "#46039f"
             ],
             [
              0.2222222222222222,
              "#7201a8"
             ],
             [
              0.3333333333333333,
              "#9c179e"
             ],
             [
              0.4444444444444444,
              "#bd3786"
             ],
             [
              0.5555555555555556,
              "#d8576b"
             ],
             [
              0.6666666666666666,
              "#ed7953"
             ],
             [
              0.7777777777777778,
              "#fb9f3a"
             ],
             [
              0.8888888888888888,
              "#fdca26"
             ],
             [
              1,
              "#f0f921"
             ]
            ],
            "type": "surface"
           }
          ],
          "table": [
           {
            "cells": {
             "fill": {
              "color": "#EBF0F8"
             },
             "line": {
              "color": "white"
             }
            },
            "header": {
             "fill": {
              "color": "#C8D4E3"
             },
             "line": {
              "color": "white"
             }
            },
            "type": "table"
           }
          ]
         },
         "layout": {
          "annotationdefaults": {
           "arrowcolor": "#2a3f5f",
           "arrowhead": 0,
           "arrowwidth": 1
          },
          "autotypenumbers": "strict",
          "coloraxis": {
           "colorbar": {
            "outlinewidth": 0,
            "ticks": ""
           }
          },
          "colorscale": {
           "diverging": [
            [
             0,
             "#8e0152"
            ],
            [
             0.1,
             "#c51b7d"
            ],
            [
             0.2,
             "#de77ae"
            ],
            [
             0.3,
             "#f1b6da"
            ],
            [
             0.4,
             "#fde0ef"
            ],
            [
             0.5,
             "#f7f7f7"
            ],
            [
             0.6,
             "#e6f5d0"
            ],
            [
             0.7,
             "#b8e186"
            ],
            [
             0.8,
             "#7fbc41"
            ],
            [
             0.9,
             "#4d9221"
            ],
            [
             1,
             "#276419"
            ]
           ],
           "sequential": [
            [
             0,
             "#0d0887"
            ],
            [
             0.1111111111111111,
             "#46039f"
            ],
            [
             0.2222222222222222,
             "#7201a8"
            ],
            [
             0.3333333333333333,
             "#9c179e"
            ],
            [
             0.4444444444444444,
             "#bd3786"
            ],
            [
             0.5555555555555556,
             "#d8576b"
            ],
            [
             0.6666666666666666,
             "#ed7953"
            ],
            [
             0.7777777777777778,
             "#fb9f3a"
            ],
            [
             0.8888888888888888,
             "#fdca26"
            ],
            [
             1,
             "#f0f921"
            ]
           ],
           "sequentialminus": [
            [
             0,
             "#0d0887"
            ],
            [
             0.1111111111111111,
             "#46039f"
            ],
            [
             0.2222222222222222,
             "#7201a8"
            ],
            [
             0.3333333333333333,
             "#9c179e"
            ],
            [
             0.4444444444444444,
             "#bd3786"
            ],
            [
             0.5555555555555556,
             "#d8576b"
            ],
            [
             0.6666666666666666,
             "#ed7953"
            ],
            [
             0.7777777777777778,
             "#fb9f3a"
            ],
            [
             0.8888888888888888,
             "#fdca26"
            ],
            [
             1,
             "#f0f921"
            ]
           ]
          },
          "colorway": [
           "#636efa",
           "#EF553B",
           "#00cc96",
           "#ab63fa",
           "#FFA15A",
           "#19d3f3",
           "#FF6692",
           "#B6E880",
           "#FF97FF",
           "#FECB52"
          ],
          "font": {
           "color": "#2a3f5f"
          },
          "geo": {
           "bgcolor": "white",
           "lakecolor": "white",
           "landcolor": "#E5ECF6",
           "showlakes": true,
           "showland": true,
           "subunitcolor": "white"
          },
          "hoverlabel": {
           "align": "left"
          },
          "hovermode": "closest",
          "mapbox": {
           "style": "light"
          },
          "paper_bgcolor": "white",
          "plot_bgcolor": "#E5ECF6",
          "polar": {
           "angularaxis": {
            "gridcolor": "white",
            "linecolor": "white",
            "ticks": ""
           },
           "bgcolor": "#E5ECF6",
           "radialaxis": {
            "gridcolor": "white",
            "linecolor": "white",
            "ticks": ""
           }
          },
          "scene": {
           "xaxis": {
            "backgroundcolor": "#E5ECF6",
            "gridcolor": "white",
            "gridwidth": 2,
            "linecolor": "white",
            "showbackground": true,
            "ticks": "",
            "zerolinecolor": "white"
           },
           "yaxis": {
            "backgroundcolor": "#E5ECF6",
            "gridcolor": "white",
            "gridwidth": 2,
            "linecolor": "white",
            "showbackground": true,
            "ticks": "",
            "zerolinecolor": "white"
           },
           "zaxis": {
            "backgroundcolor": "#E5ECF6",
            "gridcolor": "white",
            "gridwidth": 2,
            "linecolor": "white",
            "showbackground": true,
            "ticks": "",
            "zerolinecolor": "white"
           }
          },
          "shapedefaults": {
           "line": {
            "color": "#2a3f5f"
           }
          },
          "ternary": {
           "aaxis": {
            "gridcolor": "white",
            "linecolor": "white",
            "ticks": ""
           },
           "baxis": {
            "gridcolor": "white",
            "linecolor": "white",
            "ticks": ""
           },
           "bgcolor": "#E5ECF6",
           "caxis": {
            "gridcolor": "white",
            "linecolor": "white",
            "ticks": ""
           }
          },
          "title": {
           "x": 0.05
          },
          "xaxis": {
           "automargin": true,
           "gridcolor": "white",
           "linecolor": "white",
           "ticks": "",
           "title": {
            "standoff": 15
           },
           "zerolinecolor": "white",
           "zerolinewidth": 2
          },
          "yaxis": {
           "automargin": true,
           "gridcolor": "white",
           "linecolor": "white",
           "ticks": "",
           "title": {
            "standoff": 15
           },
           "zerolinecolor": "white",
           "zerolinewidth": 2
          }
         }
        },
        "title": {
         "text": "Top 60 WRs | ADP vs Projected FP"
        },
        "xaxis": {
         "anchor": "y",
         "domain": [
          0,
          1
         ],
         "title": {
          "text": "adp"
         }
        },
        "yaxis": {
         "anchor": "x",
         "domain": [
          0,
          1
         ],
         "title": {
          "text": "fantasyPoints"
         }
        }
       }
      },
      "text/html": [
       "<div>                            <div id=\"dbab16f3-e9dc-41d2-95b2-f7cdecd2631c\" class=\"plotly-graph-div\" style=\"height:525px; width:100%;\"></div>            <script type=\"text/javascript\">                require([\"plotly\"], function(Plotly) {                    window.PLOTLYENV=window.PLOTLYENV || {};                                    if (document.getElementById(\"dbab16f3-e9dc-41d2-95b2-f7cdecd2631c\")) {                    Plotly.newPlot(                        \"dbab16f3-e9dc-41d2-95b2-f7cdecd2631c\",                        [{\"customdata\":[[\"Cooper Kupp\",\"LAR\"],[\"Justin Jefferson\",\"MIN\"],[\"Ja'Marr Chase\",\"CIN\"],[\"Davante Adams\",\"LV\"],[\"Stefon Diggs\",\"BUF\"],[\"Tyreek Hill\",\"MIA\"],[\"CeeDee Lamb\",\"DAL\"],[\"Deebo Samuel\",\"SF\"],[\"A.J. Brown\",\"PHI\"],[\"Mike Evans\",\"TB\"],[\"Keenan Allen\",\"LAC\"],[\"Tee Higgins\",\"CIN\"],[\"Diontae Johnson\",\"PIT\"],[\"Terry McLaurin\",\"WAS\"],[\"D.K. Metcalf\",\"SEA\"],[\"Jaylen Waddle\",\"MIA\"],[\"D.J. Moore\",\"CAR\"],[\"Amari Cooper\",\"CLE\"],[\"Jerry Jeudy\",\"DEN\"],[\"Chris Godwin\",\"TB\"],[\"Courtland Sutton\",\"DEN\"],[\"Michael Thomas\",\"NO\"],[\"Marquise Brown\",\"ARI\"],[\"Mike Williams\",\"LAC\"],[\"DeAndre Hopkins\",\"ARI\"],[\"Amon-Ra St. Brown\",\"DET\"],[\"Brandin Cooks\",\"HOU\"],[\"Adam Thielen\",\"MIN\"],[\"Treylon Burks\",\"TEN\"],[\"Darnell Mooney\",\"CHI\"],[\"Drake London\",\"ATL\"],[\"JuJu Smith-Schuster\",\"KC\"],[\"DeVonta Smith\",\"PHI\"],[\"Garrett Wilson\",\"NYJ\"],[\"Rashod Bateman\",\"BAL\"],[\"Elijah Moore\",\"NYJ\"],[\"Tyler Lockett\",\"SEA\"],[\"Hunter Renfrow\",\"LV\"],[\"Gabriel Davis\",\"BUF\"],[\"Brandon Aiyuk\",\"SF\"],[\"Chris Olave\",\"NO\"],[\"Robert Woods\",\"TEN\"],[\"Chase Claypool\",\"PIT\"],[\"Christian Watson\",\"GB\"],[\"Christian Kirk\",\"JAX\"],[\"Skyy Moore\",\"KC\"],[\"Jameson Williams\",\"DET\"],[\"Kadarius Toney\",\"NYG\"],[\"Allen Lazard\",\"GB\"],[\"Michael Gallup\",\"DAL\"],[\"Tyler Boyd\",\"CIN\"],[\"Russell Gage\",\"TB\"],[\"Marquez Valdes-Scantling\",\"KC\"],[\"Kenny Golladay\",\"NYG\"],[\"Jarvis Landry\",\"NO\"],[\"George Pickens\",\"PIT\"],[\"Jahan Dotson\",\"WAS\"],[\"Rondale Moore\",\"ARI\"],[\"Jakobi Meyers\",\"NE\"],[\"Tim Patrick\",\"DEN\"]],\"hovertemplate\":\"adp=%{marker.color}<br>fantasyPoints=%{y}<br>playerName=%{customdata[0]}<br>teamName=%{customdata[1]}<extra></extra>\",\"legendgroup\":\"\",\"marker\":{\"color\":[5.9,7.4,8.4,11.7,13.3,17.0,19.0,21.8,25.6,28.5,30.4,35.5,40.1,41.7,42.8,46.9,47.4,50.5,52.9,53.5,56.8,60.3,61.1,64.0,68.6,69.2,71.2,73.9,75.2,76.2,77.6,78.0,82.2,83.8,85.9,86.9,88.4,91.7,93.7,95.3,97.9,102.7,106.2,107.2,110.0,114.6,115.3,116.8,119.2,120.1,125.1,127.8,132.7,133.0,134.9,138.0,139.0,141.6,143.7,146.0],\"coloraxis\":\"coloraxis\",\"symbol\":\"circle\",\"size\":10},\"mode\":\"markers+text\",\"name\":\"\",\"orientation\":\"v\",\"showlegend\":false,\"text\":[\"Cooper Kupp\",\"Justin Jefferson\",\"Ja'Marr Chase\",\"Davante Adams\",\"Stefon Diggs\",\"Tyreek Hill\",\"CeeDee Lamb\",\"Deebo Samuel\",\"A.J. Brown\",\"Mike Evans\",\"Keenan Allen\",\"Tee Higgins\",\"Diontae Johnson\",\"Terry McLaurin\",\"D.K. Metcalf\",\"Jaylen Waddle\",\"D.J. Moore\",\"Amari Cooper\",\"Jerry Jeudy\",\"Chris Godwin\",\"Courtland Sutton\",\"Michael Thomas\",\"Marquise Brown\",\"Mike Williams\",\"DeAndre Hopkins\",\"Amon-Ra St. Brown\",\"Brandin Cooks\",\"Adam Thielen\",\"Treylon Burks\",\"Darnell Mooney\",\"Drake London\",\"JuJu Smith-Schuster\",\"DeVonta Smith\",\"Garrett Wilson\",\"Rashod Bateman\",\"Elijah Moore\",\"Tyler Lockett\",\"Hunter Renfrow\",\"Gabriel Davis\",\"Brandon Aiyuk\",\"Chris Olave\",\"Robert Woods\",\"Chase Claypool\",\"Christian Watson\",\"Christian Kirk\",\"Skyy Moore\",\"Jameson Williams\",\"Kadarius Toney\",\"Allen Lazard\",\"Michael Gallup\",\"Tyler Boyd\",\"Russell Gage\",\"Marquez Valdes-Scantling\",\"Kenny Golladay\",\"Jarvis Landry\",\"George Pickens\",\"Jahan Dotson\",\"Rondale Moore\",\"Jakobi Meyers\",\"Tim Patrick\"],\"x\":[5.9,7.4,8.4,11.7,13.3,17.0,19.0,21.8,25.6,28.5,30.4,35.5,40.1,41.7,42.8,46.9,47.4,50.5,52.9,53.5,56.8,60.3,61.1,64.0,68.6,69.2,71.2,73.9,75.2,76.2,77.6,78.0,82.2,83.8,85.9,86.9,88.4,91.7,93.7,95.3,97.9,102.7,106.2,107.2,110.0,114.6,115.3,116.8,119.2,120.1,125.1,127.8,132.7,133.0,134.9,138.0,139.0,141.6,143.7,146.0],\"xaxis\":\"x\",\"y\":[349.4,330.8,300.1,293.0,294.1,273.9,288.3,257.5,242.6,277.4,248.3,250.1,195.6,247.5,233.9,204.2,252.4,204.0,169.3,178.7,177.8,201.2,185.2,224.3,135.0,212.2,232.8,199.2,209.6,221.9,216.7,180.4,193.3,175.6,213.5,193.0,224.5,205.5,223.4,171.3,178.4,170.6,189.4,147.0,197.4,128.3,140.0,154.0,192.2,154.6,187.1,221.1,197.0,195.2,93.5,109.7,192.6,146.5,182.0,150.9],\"yaxis\":\"y\",\"type\":\"scatter\",\"textfont\":{\"size\":6},\"textposition\":\"top center\"},{\"hovertemplate\":\"<b>OLS trendline</b><br>fantasyPoints = -0.974322 * adp + 281.811<br>R<sup>2</sup>=0.608426<br><br>adp=%{x}<br>fantasyPoints=%{y} <b>(trend)</b><extra></extra>\",\"legendgroup\":\"\",\"marker\":{\"symbol\":\"circle\",\"size\":10},\"mode\":\"lines\",\"name\":\"\",\"showlegend\":false,\"x\":[5.9,7.4,8.4,11.7,13.3,17.0,19.0,21.8,25.6,28.5,30.4,35.5,40.1,41.7,42.8,46.9,47.4,50.5,52.9,53.5,56.8,60.3,61.1,64.0,68.6,69.2,71.2,73.9,75.2,76.2,77.6,78.0,82.2,83.8,85.9,86.9,88.4,91.7,93.7,95.3,97.9,102.7,106.2,107.2,110.0,114.6,115.3,116.8,119.2,120.1,125.1,127.8,132.7,133.0,134.9,138.0,139.0,141.6,143.7,146.0],\"xaxis\":\"x\",\"y\":[276.0626508642027,274.60116837723,273.62684671924825,270.4115852479084,268.8526705951376,265.24768046060507,263.29903714464155,260.5709365022926,256.8685142019619,254.04298139381478,252.19177024364942,247.22272978794243,242.74085016122632,241.18193550845547,240.11018168467555,236.1154628869503,235.62830205795942,232.60790491821595,230.26953293905973,229.68493994427067,226.46967847293084,223.05955266999467,222.28009534360925,219.45456253546212,214.97268290874604,214.38808991395695,212.43944659799342,209.80877812144266,208.54215996606638,207.56783830808462,206.20378798691013,205.81405932371743,201.721908360194,200.1629937074232,198.1169182256615,197.14259656767973,195.68111408070706,192.46585260936723,190.5172092934037,188.95829464063291,186.4250583298803,181.74831437156786,178.33818856863167,177.3638669106499,174.63576626830096,170.15388664158485,169.4718614809976,168.01037899402496,165.6720070148687,164.79511752268513,159.92350923277633,157.29284075622553,152.5186646321149,152.22636813472036,150.37515698455502,147.35475984481155,146.3804381868298,143.8472018760772,141.8011263943155,139.56018658095743],\"yaxis\":\"y\",\"type\":\"scatter\",\"textfont\":{\"size\":6},\"textposition\":\"top center\"}],                        {\"template\":{\"data\":{\"histogram2dcontour\":[{\"type\":\"histogram2dcontour\",\"colorbar\":{\"outlinewidth\":0,\"ticks\":\"\"},\"colorscale\":[[0.0,\"#0d0887\"],[0.1111111111111111,\"#46039f\"],[0.2222222222222222,\"#7201a8\"],[0.3333333333333333,\"#9c179e\"],[0.4444444444444444,\"#bd3786\"],[0.5555555555555556,\"#d8576b\"],[0.6666666666666666,\"#ed7953\"],[0.7777777777777778,\"#fb9f3a\"],[0.8888888888888888,\"#fdca26\"],[1.0,\"#f0f921\"]]}],\"choropleth\":[{\"type\":\"choropleth\",\"colorbar\":{\"outlinewidth\":0,\"ticks\":\"\"}}],\"histogram2d\":[{\"type\":\"histogram2d\",\"colorbar\":{\"outlinewidth\":0,\"ticks\":\"\"},\"colorscale\":[[0.0,\"#0d0887\"],[0.1111111111111111,\"#46039f\"],[0.2222222222222222,\"#7201a8\"],[0.3333333333333333,\"#9c179e\"],[0.4444444444444444,\"#bd3786\"],[0.5555555555555556,\"#d8576b\"],[0.6666666666666666,\"#ed7953\"],[0.7777777777777778,\"#fb9f3a\"],[0.8888888888888888,\"#fdca26\"],[1.0,\"#f0f921\"]]}],\"heatmap\":[{\"type\":\"heatmap\",\"colorbar\":{\"outlinewidth\":0,\"ticks\":\"\"},\"colorscale\":[[0.0,\"#0d0887\"],[0.1111111111111111,\"#46039f\"],[0.2222222222222222,\"#7201a8\"],[0.3333333333333333,\"#9c179e\"],[0.4444444444444444,\"#bd3786\"],[0.5555555555555556,\"#d8576b\"],[0.6666666666666666,\"#ed7953\"],[0.7777777777777778,\"#fb9f3a\"],[0.8888888888888888,\"#fdca26\"],[1.0,\"#f0f921\"]]}],\"heatmapgl\":[{\"type\":\"heatmapgl\",\"colorbar\":{\"outlinewidth\":0,\"ticks\":\"\"},\"colorscale\":[[0.0,\"#0d0887\"],[0.1111111111111111,\"#46039f\"],[0.2222222222222222,\"#7201a8\"],[0.3333333333333333,\"#9c179e\"],[0.4444444444444444,\"#bd3786\"],[0.5555555555555556,\"#d8576b\"],[0.6666666666666666,\"#ed7953\"],[0.7777777777777778,\"#fb9f3a\"],[0.8888888888888888,\"#fdca26\"],[1.0,\"#f0f921\"]]}],\"contourcarpet\":[{\"type\":\"contourcarpet\",\"colorbar\":{\"outlinewidth\":0,\"ticks\":\"\"}}],\"contour\":[{\"type\":\"contour\",\"colorbar\":{\"outlinewidth\":0,\"ticks\":\"\"},\"colorscale\":[[0.0,\"#0d0887\"],[0.1111111111111111,\"#46039f\"],[0.2222222222222222,\"#7201a8\"],[0.3333333333333333,\"#9c179e\"],[0.4444444444444444,\"#bd3786\"],[0.5555555555555556,\"#d8576b\"],[0.6666666666666666,\"#ed7953\"],[0.7777777777777778,\"#fb9f3a\"],[0.8888888888888888,\"#fdca26\"],[1.0,\"#f0f921\"]]}],\"surface\":[{\"type\":\"surface\",\"colorbar\":{\"outlinewidth\":0,\"ticks\":\"\"},\"colorscale\":[[0.0,\"#0d0887\"],[0.1111111111111111,\"#46039f\"],[0.2222222222222222,\"#7201a8\"],[0.3333333333333333,\"#9c179e\"],[0.4444444444444444,\"#bd3786\"],[0.5555555555555556,\"#d8576b\"],[0.6666666666666666,\"#ed7953\"],[0.7777777777777778,\"#fb9f3a\"],[0.8888888888888888,\"#fdca26\"],[1.0,\"#f0f921\"]]}],\"mesh3d\":[{\"type\":\"mesh3d\",\"colorbar\":{\"outlinewidth\":0,\"ticks\":\"\"}}],\"scatter\":[{\"fillpattern\":{\"fillmode\":\"overlay\",\"size\":10,\"solidity\":0.2},\"type\":\"scatter\"}],\"parcoords\":[{\"type\":\"parcoords\",\"line\":{\"colorbar\":{\"outlinewidth\":0,\"ticks\":\"\"}}}],\"scatterpolargl\":[{\"type\":\"scatterpolargl\",\"marker\":{\"colorbar\":{\"outlinewidth\":0,\"ticks\":\"\"}}}],\"bar\":[{\"error_x\":{\"color\":\"#2a3f5f\"},\"error_y\":{\"color\":\"#2a3f5f\"},\"marker\":{\"line\":{\"color\":\"#E5ECF6\",\"width\":0.5},\"pattern\":{\"fillmode\":\"overlay\",\"size\":10,\"solidity\":0.2}},\"type\":\"bar\"}],\"scattergeo\":[{\"type\":\"scattergeo\",\"marker\":{\"colorbar\":{\"outlinewidth\":0,\"ticks\":\"\"}}}],\"scatterpolar\":[{\"type\":\"scatterpolar\",\"marker\":{\"colorbar\":{\"outlinewidth\":0,\"ticks\":\"\"}}}],\"histogram\":[{\"marker\":{\"pattern\":{\"fillmode\":\"overlay\",\"size\":10,\"solidity\":0.2}},\"type\":\"histogram\"}],\"scattergl\":[{\"type\":\"scattergl\",\"marker\":{\"colorbar\":{\"outlinewidth\":0,\"ticks\":\"\"}}}],\"scatter3d\":[{\"type\":\"scatter3d\",\"line\":{\"colorbar\":{\"outlinewidth\":0,\"ticks\":\"\"}},\"marker\":{\"colorbar\":{\"outlinewidth\":0,\"ticks\":\"\"}}}],\"scattermapbox\":[{\"type\":\"scattermapbox\",\"marker\":{\"colorbar\":{\"outlinewidth\":0,\"ticks\":\"\"}}}],\"scatterternary\":[{\"type\":\"scatterternary\",\"marker\":{\"colorbar\":{\"outlinewidth\":0,\"ticks\":\"\"}}}],\"scattercarpet\":[{\"type\":\"scattercarpet\",\"marker\":{\"colorbar\":{\"outlinewidth\":0,\"ticks\":\"\"}}}],\"carpet\":[{\"aaxis\":{\"endlinecolor\":\"#2a3f5f\",\"gridcolor\":\"white\",\"linecolor\":\"white\",\"minorgridcolor\":\"white\",\"startlinecolor\":\"#2a3f5f\"},\"baxis\":{\"endlinecolor\":\"#2a3f5f\",\"gridcolor\":\"white\",\"linecolor\":\"white\",\"minorgridcolor\":\"white\",\"startlinecolor\":\"#2a3f5f\"},\"type\":\"carpet\"}],\"table\":[{\"cells\":{\"fill\":{\"color\":\"#EBF0F8\"},\"line\":{\"color\":\"white\"}},\"header\":{\"fill\":{\"color\":\"#C8D4E3\"},\"line\":{\"color\":\"white\"}},\"type\":\"table\"}],\"barpolar\":[{\"marker\":{\"line\":{\"color\":\"#E5ECF6\",\"width\":0.5},\"pattern\":{\"fillmode\":\"overlay\",\"size\":10,\"solidity\":0.2}},\"type\":\"barpolar\"}],\"pie\":[{\"automargin\":true,\"type\":\"pie\"}]},\"layout\":{\"autotypenumbers\":\"strict\",\"colorway\":[\"#636efa\",\"#EF553B\",\"#00cc96\",\"#ab63fa\",\"#FFA15A\",\"#19d3f3\",\"#FF6692\",\"#B6E880\",\"#FF97FF\",\"#FECB52\"],\"font\":{\"color\":\"#2a3f5f\"},\"hovermode\":\"closest\",\"hoverlabel\":{\"align\":\"left\"},\"paper_bgcolor\":\"white\",\"plot_bgcolor\":\"#E5ECF6\",\"polar\":{\"bgcolor\":\"#E5ECF6\",\"angularaxis\":{\"gridcolor\":\"white\",\"linecolor\":\"white\",\"ticks\":\"\"},\"radialaxis\":{\"gridcolor\":\"white\",\"linecolor\":\"white\",\"ticks\":\"\"}},\"ternary\":{\"bgcolor\":\"#E5ECF6\",\"aaxis\":{\"gridcolor\":\"white\",\"linecolor\":\"white\",\"ticks\":\"\"},\"baxis\":{\"gridcolor\":\"white\",\"linecolor\":\"white\",\"ticks\":\"\"},\"caxis\":{\"gridcolor\":\"white\",\"linecolor\":\"white\",\"ticks\":\"\"}},\"coloraxis\":{\"colorbar\":{\"outlinewidth\":0,\"ticks\":\"\"}},\"colorscale\":{\"sequential\":[[0.0,\"#0d0887\"],[0.1111111111111111,\"#46039f\"],[0.2222222222222222,\"#7201a8\"],[0.3333333333333333,\"#9c179e\"],[0.4444444444444444,\"#bd3786\"],[0.5555555555555556,\"#d8576b\"],[0.6666666666666666,\"#ed7953\"],[0.7777777777777778,\"#fb9f3a\"],[0.8888888888888888,\"#fdca26\"],[1.0,\"#f0f921\"]],\"sequentialminus\":[[0.0,\"#0d0887\"],[0.1111111111111111,\"#46039f\"],[0.2222222222222222,\"#7201a8\"],[0.3333333333333333,\"#9c179e\"],[0.4444444444444444,\"#bd3786\"],[0.5555555555555556,\"#d8576b\"],[0.6666666666666666,\"#ed7953\"],[0.7777777777777778,\"#fb9f3a\"],[0.8888888888888888,\"#fdca26\"],[1.0,\"#f0f921\"]],\"diverging\":[[0,\"#8e0152\"],[0.1,\"#c51b7d\"],[0.2,\"#de77ae\"],[0.3,\"#f1b6da\"],[0.4,\"#fde0ef\"],[0.5,\"#f7f7f7\"],[0.6,\"#e6f5d0\"],[0.7,\"#b8e186\"],[0.8,\"#7fbc41\"],[0.9,\"#4d9221\"],[1,\"#276419\"]]},\"xaxis\":{\"gridcolor\":\"white\",\"linecolor\":\"white\",\"ticks\":\"\",\"title\":{\"standoff\":15},\"zerolinecolor\":\"white\",\"automargin\":true,\"zerolinewidth\":2},\"yaxis\":{\"gridcolor\":\"white\",\"linecolor\":\"white\",\"ticks\":\"\",\"title\":{\"standoff\":15},\"zerolinecolor\":\"white\",\"automargin\":true,\"zerolinewidth\":2},\"scene\":{\"xaxis\":{\"backgroundcolor\":\"#E5ECF6\",\"gridcolor\":\"white\",\"linecolor\":\"white\",\"showbackground\":true,\"ticks\":\"\",\"zerolinecolor\":\"white\",\"gridwidth\":2},\"yaxis\":{\"backgroundcolor\":\"#E5ECF6\",\"gridcolor\":\"white\",\"linecolor\":\"white\",\"showbackground\":true,\"ticks\":\"\",\"zerolinecolor\":\"white\",\"gridwidth\":2},\"zaxis\":{\"backgroundcolor\":\"#E5ECF6\",\"gridcolor\":\"white\",\"linecolor\":\"white\",\"showbackground\":true,\"ticks\":\"\",\"zerolinecolor\":\"white\",\"gridwidth\":2}},\"shapedefaults\":{\"line\":{\"color\":\"#2a3f5f\"}},\"annotationdefaults\":{\"arrowcolor\":\"#2a3f5f\",\"arrowhead\":0,\"arrowwidth\":1},\"geo\":{\"bgcolor\":\"white\",\"landcolor\":\"#E5ECF6\",\"subunitcolor\":\"white\",\"showland\":true,\"showlakes\":true,\"lakecolor\":\"white\"},\"title\":{\"x\":0.05},\"mapbox\":{\"style\":\"light\"}}},\"xaxis\":{\"anchor\":\"y\",\"domain\":[0.0,1.0],\"title\":{\"text\":\"adp\"}},\"yaxis\":{\"anchor\":\"x\",\"domain\":[0.0,1.0],\"title\":{\"text\":\"fantasyPoints\"}},\"coloraxis\":{\"colorbar\":{\"title\":{\"text\":\"adp\"}},\"colorscale\":[[0.0,\"#0d0887\"],[0.1111111111111111,\"#46039f\"],[0.2222222222222222,\"#7201a8\"],[0.3333333333333333,\"#9c179e\"],[0.4444444444444444,\"#bd3786\"],[0.5555555555555556,\"#d8576b\"],[0.6666666666666666,\"#ed7953\"],[0.7777777777777778,\"#fb9f3a\"],[0.8888888888888888,\"#fdca26\"],[1.0,\"#f0f921\"]]},\"legend\":{\"tracegroupgap\":0},\"title\":{\"text\":\"Top 60 WRs | ADP vs Projected FP\"}},                        {\"responsive\": true}                    ).then(function(){\n",
       "                            \n",
       "var gd = document.getElementById('dbab16f3-e9dc-41d2-95b2-f7cdecd2631c');\n",
       "var x = new MutationObserver(function (mutations, observer) {{\n",
       "        var display = window.getComputedStyle(gd).display;\n",
       "        if (!display || display === 'none') {{\n",
       "            console.log([gd, 'removed!']);\n",
       "            Plotly.purge(gd);\n",
       "            observer.disconnect();\n",
       "        }}\n",
       "}});\n",
       "\n",
       "// Listen for the removal of the full notebook cells\n",
       "var notebookContainer = gd.closest('#notebook-container');\n",
       "if (notebookContainer) {{\n",
       "    x.observe(notebookContainer, {childList: true});\n",
       "}}\n",
       "\n",
       "// Listen for the clearing of the current output cell\n",
       "var outputEl = gd.closest('.output');\n",
       "if (outputEl) {{\n",
       "    x.observe(outputEl, {childList: true});\n",
       "}}\n",
       "\n",
       "                        })                };                });            </script>        </div>"
      ]
     },
     "metadata": {},
     "output_type": "display_data"
    },
    {
     "data": {
      "application/vnd.plotly.v1+json": {
       "config": {
        "plotlyServerURL": "https://plot.ly"
       },
       "data": [
        {
         "customdata": [
          [
           "Cooper Kupp",
           "LAR"
          ],
          [
           "Justin Jefferson",
           "MIN"
          ],
          [
           "Ja'Marr Chase",
           "CIN"
          ],
          [
           "Davante Adams",
           "LV"
          ],
          [
           "Stefon Diggs",
           "BUF"
          ],
          [
           "Tyreek Hill",
           "MIA"
          ],
          [
           "CeeDee Lamb",
           "DAL"
          ],
          [
           "Deebo Samuel",
           "SF"
          ],
          [
           "A.J. Brown",
           "PHI"
          ],
          [
           "Mike Evans",
           "TB"
          ],
          [
           "Keenan Allen",
           "LAC"
          ],
          [
           "Tee Higgins",
           "CIN"
          ],
          [
           "Diontae Johnson",
           "PIT"
          ],
          [
           "Terry McLaurin",
           "WAS"
          ],
          [
           "D.K. Metcalf",
           "SEA"
          ],
          [
           "Jaylen Waddle",
           "MIA"
          ],
          [
           "D.J. Moore",
           "CAR"
          ],
          [
           "Amari Cooper",
           "CLE"
          ],
          [
           "Jerry Jeudy",
           "DEN"
          ],
          [
           "Chris Godwin",
           "TB"
          ],
          [
           "Courtland Sutton",
           "DEN"
          ],
          [
           "Michael Thomas",
           "NO"
          ],
          [
           "Marquise Brown",
           "ARI"
          ],
          [
           "Mike Williams",
           "LAC"
          ],
          [
           "DeAndre Hopkins",
           "ARI"
          ],
          [
           "Amon-Ra St. Brown",
           "DET"
          ],
          [
           "Brandin Cooks",
           "HOU"
          ],
          [
           "Adam Thielen",
           "MIN"
          ],
          [
           "Treylon Burks",
           "TEN"
          ],
          [
           "Darnell Mooney",
           "CHI"
          ],
          [
           "Drake London",
           "ATL"
          ],
          [
           "JuJu Smith-Schuster",
           "KC"
          ],
          [
           "DeVonta Smith",
           "PHI"
          ],
          [
           "Garrett Wilson",
           "NYJ"
          ],
          [
           "Rashod Bateman",
           "BAL"
          ],
          [
           "Elijah Moore",
           "NYJ"
          ],
          [
           "Tyler Lockett",
           "SEA"
          ],
          [
           "Hunter Renfrow",
           "LV"
          ],
          [
           "Gabriel Davis",
           "BUF"
          ],
          [
           "Brandon Aiyuk",
           "SF"
          ],
          [
           "Chris Olave",
           "NO"
          ],
          [
           "Robert Woods",
           "TEN"
          ],
          [
           "Chase Claypool",
           "PIT"
          ],
          [
           "Christian Watson",
           "GB"
          ],
          [
           "Christian Kirk",
           "JAX"
          ],
          [
           "Skyy Moore",
           "KC"
          ],
          [
           "Jameson Williams",
           "DET"
          ],
          [
           "Kadarius Toney",
           "NYG"
          ],
          [
           "Allen Lazard",
           "GB"
          ],
          [
           "Michael Gallup",
           "DAL"
          ],
          [
           "Tyler Boyd",
           "CIN"
          ],
          [
           "Russell Gage",
           "TB"
          ],
          [
           "Marquez Valdes-Scantling",
           "KC"
          ],
          [
           "Kenny Golladay",
           "NYG"
          ],
          [
           "Jarvis Landry",
           "NO"
          ],
          [
           "George Pickens",
           "PIT"
          ],
          [
           "Jahan Dotson",
           "WAS"
          ],
          [
           "Rondale Moore",
           "ARI"
          ],
          [
           "Jakobi Meyers",
           "NE"
          ],
          [
           "Tim Patrick",
           "DEN"
          ]
         ],
         "hovertemplate": "adp=%{marker.color}<br>fantasyPoints=%{y}<br>playerName=%{customdata[0]}<br>teamName=%{customdata[1]}<extra></extra>",
         "legendgroup": "",
         "marker": {
          "color": [
           5.9,
           7.4,
           8.4,
           11.7,
           13.3,
           17,
           19,
           21.8,
           25.6,
           28.5,
           30.4,
           35.5,
           40.1,
           41.7,
           42.8,
           46.9,
           47.4,
           50.5,
           52.9,
           53.5,
           56.8,
           60.3,
           61.1,
           64,
           68.6,
           69.2,
           71.2,
           73.9,
           75.2,
           76.2,
           77.6,
           78,
           82.2,
           83.8,
           85.9,
           86.9,
           88.4,
           91.7,
           93.7,
           95.3,
           97.9,
           102.7,
           106.2,
           107.2,
           110,
           114.6,
           115.3,
           116.8,
           119.2,
           120.1,
           125.1,
           127.8,
           132.7,
           133,
           134.9,
           138,
           139,
           141.6,
           143.7,
           146
          ],
          "coloraxis": "coloraxis",
          "size": 10,
          "symbol": "circle"
         },
         "mode": "markers+text",
         "name": "",
         "orientation": "v",
         "showlegend": false,
         "text": [
          "Cooper Kupp",
          "Justin Jefferson",
          "Ja'Marr Chase",
          "Davante Adams",
          "Stefon Diggs",
          "Tyreek Hill",
          "CeeDee Lamb",
          "Deebo Samuel",
          "A.J. Brown",
          "Mike Evans",
          "Keenan Allen",
          "Tee Higgins",
          "Diontae Johnson",
          "Terry McLaurin",
          "D.K. Metcalf",
          "Jaylen Waddle",
          "D.J. Moore",
          "Amari Cooper",
          "Jerry Jeudy",
          "Chris Godwin",
          "Courtland Sutton",
          "Michael Thomas",
          "Marquise Brown",
          "Mike Williams",
          "DeAndre Hopkins",
          "Amon-Ra St. Brown",
          "Brandin Cooks",
          "Adam Thielen",
          "Treylon Burks",
          "Darnell Mooney",
          "Drake London",
          "JuJu Smith-Schuster",
          "DeVonta Smith",
          "Garrett Wilson",
          "Rashod Bateman",
          "Elijah Moore",
          "Tyler Lockett",
          "Hunter Renfrow",
          "Gabriel Davis",
          "Brandon Aiyuk",
          "Chris Olave",
          "Robert Woods",
          "Chase Claypool",
          "Christian Watson",
          "Christian Kirk",
          "Skyy Moore",
          "Jameson Williams",
          "Kadarius Toney",
          "Allen Lazard",
          "Michael Gallup",
          "Tyler Boyd",
          "Russell Gage",
          "Marquez Valdes-Scantling",
          "Kenny Golladay",
          "Jarvis Landry",
          "George Pickens",
          "Jahan Dotson",
          "Rondale Moore",
          "Jakobi Meyers",
          "Tim Patrick"
         ],
         "textfont": {
          "size": 6
         },
         "textposition": "top center",
         "type": "scatter",
         "x": [
          5.9,
          7.4,
          8.4,
          11.7,
          13.3,
          17,
          19,
          21.8,
          25.6,
          28.5,
          30.4,
          35.5,
          40.1,
          41.7,
          42.8,
          46.9,
          47.4,
          50.5,
          52.9,
          53.5,
          56.8,
          60.3,
          61.1,
          64,
          68.6,
          69.2,
          71.2,
          73.9,
          75.2,
          76.2,
          77.6,
          78,
          82.2,
          83.8,
          85.9,
          86.9,
          88.4,
          91.7,
          93.7,
          95.3,
          97.9,
          102.7,
          106.2,
          107.2,
          110,
          114.6,
          115.3,
          116.8,
          119.2,
          120.1,
          125.1,
          127.8,
          132.7,
          133,
          134.9,
          138,
          139,
          141.6,
          143.7,
          146
         ],
         "xaxis": "x",
         "y": [
          349.4,
          330.8,
          300.1,
          293,
          294.1,
          273.9,
          288.3,
          257.5,
          242.6,
          277.4,
          248.3,
          250.1,
          195.6,
          247.5,
          233.9,
          204.2,
          252.4,
          204,
          169.3,
          178.7,
          177.8,
          201.2,
          185.2,
          224.3,
          135,
          212.2,
          232.8,
          199.2,
          209.6,
          221.9,
          216.7,
          180.4,
          193.3,
          175.6,
          213.5,
          193,
          224.5,
          205.5,
          223.4,
          171.3,
          178.4,
          170.6,
          189.4,
          147,
          197.4,
          128.3,
          140,
          154,
          192.2,
          154.6,
          187.1,
          221.1,
          197,
          195.2,
          93.5,
          109.7,
          192.6,
          146.5,
          182,
          150.9
         ],
         "yaxis": "y"
        },
        {
         "hovertemplate": "<b>OLS trendline</b><br>fantasyPoints = -0.974322 * adp + 281.811<br>R<sup>2</sup>=0.608426<br><br>adp=%{x}<br>fantasyPoints=%{y} <b>(trend)</b><extra></extra>",
         "legendgroup": "",
         "marker": {
          "size": 10,
          "symbol": "circle"
         },
         "mode": "lines",
         "name": "",
         "showlegend": false,
         "textfont": {
          "size": 6
         },
         "textposition": "top center",
         "type": "scatter",
         "x": [
          5.9,
          7.4,
          8.4,
          11.7,
          13.3,
          17,
          19,
          21.8,
          25.6,
          28.5,
          30.4,
          35.5,
          40.1,
          41.7,
          42.8,
          46.9,
          47.4,
          50.5,
          52.9,
          53.5,
          56.8,
          60.3,
          61.1,
          64,
          68.6,
          69.2,
          71.2,
          73.9,
          75.2,
          76.2,
          77.6,
          78,
          82.2,
          83.8,
          85.9,
          86.9,
          88.4,
          91.7,
          93.7,
          95.3,
          97.9,
          102.7,
          106.2,
          107.2,
          110,
          114.6,
          115.3,
          116.8,
          119.2,
          120.1,
          125.1,
          127.8,
          132.7,
          133,
          134.9,
          138,
          139,
          141.6,
          143.7,
          146
         ],
         "xaxis": "x",
         "y": [
          276.0626508642027,
          274.60116837723,
          273.62684671924825,
          270.4115852479084,
          268.8526705951376,
          265.24768046060507,
          263.29903714464155,
          260.5709365022926,
          256.8685142019619,
          254.04298139381478,
          252.19177024364942,
          247.22272978794243,
          242.74085016122632,
          241.18193550845547,
          240.11018168467555,
          236.1154628869503,
          235.62830205795942,
          232.60790491821595,
          230.26953293905973,
          229.68493994427067,
          226.46967847293084,
          223.05955266999467,
          222.28009534360925,
          219.45456253546212,
          214.97268290874604,
          214.38808991395695,
          212.43944659799342,
          209.80877812144266,
          208.54215996606638,
          207.56783830808462,
          206.20378798691013,
          205.81405932371743,
          201.721908360194,
          200.1629937074232,
          198.1169182256615,
          197.14259656767973,
          195.68111408070706,
          192.46585260936723,
          190.5172092934037,
          188.95829464063291,
          186.4250583298803,
          181.74831437156786,
          178.33818856863167,
          177.3638669106499,
          174.63576626830096,
          170.15388664158485,
          169.4718614809976,
          168.01037899402496,
          165.6720070148687,
          164.79511752268513,
          159.92350923277633,
          157.29284075622553,
          152.5186646321149,
          152.22636813472036,
          150.37515698455502,
          147.35475984481155,
          146.3804381868298,
          143.8472018760772,
          141.8011263943155,
          139.56018658095743
         ],
         "yaxis": "y"
        }
       ],
       "layout": {
        "coloraxis": {
         "colorbar": {
          "title": {
           "text": "adp"
          }
         },
         "colorscale": [
          [
           0,
           "#0d0887"
          ],
          [
           0.1111111111111111,
           "#46039f"
          ],
          [
           0.2222222222222222,
           "#7201a8"
          ],
          [
           0.3333333333333333,
           "#9c179e"
          ],
          [
           0.4444444444444444,
           "#bd3786"
          ],
          [
           0.5555555555555556,
           "#d8576b"
          ],
          [
           0.6666666666666666,
           "#ed7953"
          ],
          [
           0.7777777777777778,
           "#fb9f3a"
          ],
          [
           0.8888888888888888,
           "#fdca26"
          ],
          [
           1,
           "#f0f921"
          ]
         ]
        },
        "legend": {
         "tracegroupgap": 0
        },
        "template": {
         "data": {
          "bar": [
           {
            "error_x": {
             "color": "#2a3f5f"
            },
            "error_y": {
             "color": "#2a3f5f"
            },
            "marker": {
             "line": {
              "color": "#E5ECF6",
              "width": 0.5
             },
             "pattern": {
              "fillmode": "overlay",
              "size": 10,
              "solidity": 0.2
             }
            },
            "type": "bar"
           }
          ],
          "barpolar": [
           {
            "marker": {
             "line": {
              "color": "#E5ECF6",
              "width": 0.5
             },
             "pattern": {
              "fillmode": "overlay",
              "size": 10,
              "solidity": 0.2
             }
            },
            "type": "barpolar"
           }
          ],
          "carpet": [
           {
            "aaxis": {
             "endlinecolor": "#2a3f5f",
             "gridcolor": "white",
             "linecolor": "white",
             "minorgridcolor": "white",
             "startlinecolor": "#2a3f5f"
            },
            "baxis": {
             "endlinecolor": "#2a3f5f",
             "gridcolor": "white",
             "linecolor": "white",
             "minorgridcolor": "white",
             "startlinecolor": "#2a3f5f"
            },
            "type": "carpet"
           }
          ],
          "choropleth": [
           {
            "colorbar": {
             "outlinewidth": 0,
             "ticks": ""
            },
            "type": "choropleth"
           }
          ],
          "contour": [
           {
            "colorbar": {
             "outlinewidth": 0,
             "ticks": ""
            },
            "colorscale": [
             [
              0,
              "#0d0887"
             ],
             [
              0.1111111111111111,
              "#46039f"
             ],
             [
              0.2222222222222222,
              "#7201a8"
             ],
             [
              0.3333333333333333,
              "#9c179e"
             ],
             [
              0.4444444444444444,
              "#bd3786"
             ],
             [
              0.5555555555555556,
              "#d8576b"
             ],
             [
              0.6666666666666666,
              "#ed7953"
             ],
             [
              0.7777777777777778,
              "#fb9f3a"
             ],
             [
              0.8888888888888888,
              "#fdca26"
             ],
             [
              1,
              "#f0f921"
             ]
            ],
            "type": "contour"
           }
          ],
          "contourcarpet": [
           {
            "colorbar": {
             "outlinewidth": 0,
             "ticks": ""
            },
            "type": "contourcarpet"
           }
          ],
          "heatmap": [
           {
            "colorbar": {
             "outlinewidth": 0,
             "ticks": ""
            },
            "colorscale": [
             [
              0,
              "#0d0887"
             ],
             [
              0.1111111111111111,
              "#46039f"
             ],
             [
              0.2222222222222222,
              "#7201a8"
             ],
             [
              0.3333333333333333,
              "#9c179e"
             ],
             [
              0.4444444444444444,
              "#bd3786"
             ],
             [
              0.5555555555555556,
              "#d8576b"
             ],
             [
              0.6666666666666666,
              "#ed7953"
             ],
             [
              0.7777777777777778,
              "#fb9f3a"
             ],
             [
              0.8888888888888888,
              "#fdca26"
             ],
             [
              1,
              "#f0f921"
             ]
            ],
            "type": "heatmap"
           }
          ],
          "heatmapgl": [
           {
            "colorbar": {
             "outlinewidth": 0,
             "ticks": ""
            },
            "colorscale": [
             [
              0,
              "#0d0887"
             ],
             [
              0.1111111111111111,
              "#46039f"
             ],
             [
              0.2222222222222222,
              "#7201a8"
             ],
             [
              0.3333333333333333,
              "#9c179e"
             ],
             [
              0.4444444444444444,
              "#bd3786"
             ],
             [
              0.5555555555555556,
              "#d8576b"
             ],
             [
              0.6666666666666666,
              "#ed7953"
             ],
             [
              0.7777777777777778,
              "#fb9f3a"
             ],
             [
              0.8888888888888888,
              "#fdca26"
             ],
             [
              1,
              "#f0f921"
             ]
            ],
            "type": "heatmapgl"
           }
          ],
          "histogram": [
           {
            "marker": {
             "pattern": {
              "fillmode": "overlay",
              "size": 10,
              "solidity": 0.2
             }
            },
            "type": "histogram"
           }
          ],
          "histogram2d": [
           {
            "colorbar": {
             "outlinewidth": 0,
             "ticks": ""
            },
            "colorscale": [
             [
              0,
              "#0d0887"
             ],
             [
              0.1111111111111111,
              "#46039f"
             ],
             [
              0.2222222222222222,
              "#7201a8"
             ],
             [
              0.3333333333333333,
              "#9c179e"
             ],
             [
              0.4444444444444444,
              "#bd3786"
             ],
             [
              0.5555555555555556,
              "#d8576b"
             ],
             [
              0.6666666666666666,
              "#ed7953"
             ],
             [
              0.7777777777777778,
              "#fb9f3a"
             ],
             [
              0.8888888888888888,
              "#fdca26"
             ],
             [
              1,
              "#f0f921"
             ]
            ],
            "type": "histogram2d"
           }
          ],
          "histogram2dcontour": [
           {
            "colorbar": {
             "outlinewidth": 0,
             "ticks": ""
            },
            "colorscale": [
             [
              0,
              "#0d0887"
             ],
             [
              0.1111111111111111,
              "#46039f"
             ],
             [
              0.2222222222222222,
              "#7201a8"
             ],
             [
              0.3333333333333333,
              "#9c179e"
             ],
             [
              0.4444444444444444,
              "#bd3786"
             ],
             [
              0.5555555555555556,
              "#d8576b"
             ],
             [
              0.6666666666666666,
              "#ed7953"
             ],
             [
              0.7777777777777778,
              "#fb9f3a"
             ],
             [
              0.8888888888888888,
              "#fdca26"
             ],
             [
              1,
              "#f0f921"
             ]
            ],
            "type": "histogram2dcontour"
           }
          ],
          "mesh3d": [
           {
            "colorbar": {
             "outlinewidth": 0,
             "ticks": ""
            },
            "type": "mesh3d"
           }
          ],
          "parcoords": [
           {
            "line": {
             "colorbar": {
              "outlinewidth": 0,
              "ticks": ""
             }
            },
            "type": "parcoords"
           }
          ],
          "pie": [
           {
            "automargin": true,
            "type": "pie"
           }
          ],
          "scatter": [
           {
            "fillpattern": {
             "fillmode": "overlay",
             "size": 10,
             "solidity": 0.2
            },
            "type": "scatter"
           }
          ],
          "scatter3d": [
           {
            "line": {
             "colorbar": {
              "outlinewidth": 0,
              "ticks": ""
             }
            },
            "marker": {
             "colorbar": {
              "outlinewidth": 0,
              "ticks": ""
             }
            },
            "type": "scatter3d"
           }
          ],
          "scattercarpet": [
           {
            "marker": {
             "colorbar": {
              "outlinewidth": 0,
              "ticks": ""
             }
            },
            "type": "scattercarpet"
           }
          ],
          "scattergeo": [
           {
            "marker": {
             "colorbar": {
              "outlinewidth": 0,
              "ticks": ""
             }
            },
            "type": "scattergeo"
           }
          ],
          "scattergl": [
           {
            "marker": {
             "colorbar": {
              "outlinewidth": 0,
              "ticks": ""
             }
            },
            "type": "scattergl"
           }
          ],
          "scattermapbox": [
           {
            "marker": {
             "colorbar": {
              "outlinewidth": 0,
              "ticks": ""
             }
            },
            "type": "scattermapbox"
           }
          ],
          "scatterpolar": [
           {
            "marker": {
             "colorbar": {
              "outlinewidth": 0,
              "ticks": ""
             }
            },
            "type": "scatterpolar"
           }
          ],
          "scatterpolargl": [
           {
            "marker": {
             "colorbar": {
              "outlinewidth": 0,
              "ticks": ""
             }
            },
            "type": "scatterpolargl"
           }
          ],
          "scatterternary": [
           {
            "marker": {
             "colorbar": {
              "outlinewidth": 0,
              "ticks": ""
             }
            },
            "type": "scatterternary"
           }
          ],
          "surface": [
           {
            "colorbar": {
             "outlinewidth": 0,
             "ticks": ""
            },
            "colorscale": [
             [
              0,
              "#0d0887"
             ],
             [
              0.1111111111111111,
              "#46039f"
             ],
             [
              0.2222222222222222,
              "#7201a8"
             ],
             [
              0.3333333333333333,
              "#9c179e"
             ],
             [
              0.4444444444444444,
              "#bd3786"
             ],
             [
              0.5555555555555556,
              "#d8576b"
             ],
             [
              0.6666666666666666,
              "#ed7953"
             ],
             [
              0.7777777777777778,
              "#fb9f3a"
             ],
             [
              0.8888888888888888,
              "#fdca26"
             ],
             [
              1,
              "#f0f921"
             ]
            ],
            "type": "surface"
           }
          ],
          "table": [
           {
            "cells": {
             "fill": {
              "color": "#EBF0F8"
             },
             "line": {
              "color": "white"
             }
            },
            "header": {
             "fill": {
              "color": "#C8D4E3"
             },
             "line": {
              "color": "white"
             }
            },
            "type": "table"
           }
          ]
         },
         "layout": {
          "annotationdefaults": {
           "arrowcolor": "#2a3f5f",
           "arrowhead": 0,
           "arrowwidth": 1
          },
          "autotypenumbers": "strict",
          "coloraxis": {
           "colorbar": {
            "outlinewidth": 0,
            "ticks": ""
           }
          },
          "colorscale": {
           "diverging": [
            [
             0,
             "#8e0152"
            ],
            [
             0.1,
             "#c51b7d"
            ],
            [
             0.2,
             "#de77ae"
            ],
            [
             0.3,
             "#f1b6da"
            ],
            [
             0.4,
             "#fde0ef"
            ],
            [
             0.5,
             "#f7f7f7"
            ],
            [
             0.6,
             "#e6f5d0"
            ],
            [
             0.7,
             "#b8e186"
            ],
            [
             0.8,
             "#7fbc41"
            ],
            [
             0.9,
             "#4d9221"
            ],
            [
             1,
             "#276419"
            ]
           ],
           "sequential": [
            [
             0,
             "#0d0887"
            ],
            [
             0.1111111111111111,
             "#46039f"
            ],
            [
             0.2222222222222222,
             "#7201a8"
            ],
            [
             0.3333333333333333,
             "#9c179e"
            ],
            [
             0.4444444444444444,
             "#bd3786"
            ],
            [
             0.5555555555555556,
             "#d8576b"
            ],
            [
             0.6666666666666666,
             "#ed7953"
            ],
            [
             0.7777777777777778,
             "#fb9f3a"
            ],
            [
             0.8888888888888888,
             "#fdca26"
            ],
            [
             1,
             "#f0f921"
            ]
           ],
           "sequentialminus": [
            [
             0,
             "#0d0887"
            ],
            [
             0.1111111111111111,
             "#46039f"
            ],
            [
             0.2222222222222222,
             "#7201a8"
            ],
            [
             0.3333333333333333,
             "#9c179e"
            ],
            [
             0.4444444444444444,
             "#bd3786"
            ],
            [
             0.5555555555555556,
             "#d8576b"
            ],
            [
             0.6666666666666666,
             "#ed7953"
            ],
            [
             0.7777777777777778,
             "#fb9f3a"
            ],
            [
             0.8888888888888888,
             "#fdca26"
            ],
            [
             1,
             "#f0f921"
            ]
           ]
          },
          "colorway": [
           "#636efa",
           "#EF553B",
           "#00cc96",
           "#ab63fa",
           "#FFA15A",
           "#19d3f3",
           "#FF6692",
           "#B6E880",
           "#FF97FF",
           "#FECB52"
          ],
          "font": {
           "color": "#2a3f5f"
          },
          "geo": {
           "bgcolor": "white",
           "lakecolor": "white",
           "landcolor": "#E5ECF6",
           "showlakes": true,
           "showland": true,
           "subunitcolor": "white"
          },
          "hoverlabel": {
           "align": "left"
          },
          "hovermode": "closest",
          "mapbox": {
           "style": "light"
          },
          "paper_bgcolor": "white",
          "plot_bgcolor": "#E5ECF6",
          "polar": {
           "angularaxis": {
            "gridcolor": "white",
            "linecolor": "white",
            "ticks": ""
           },
           "bgcolor": "#E5ECF6",
           "radialaxis": {
            "gridcolor": "white",
            "linecolor": "white",
            "ticks": ""
           }
          },
          "scene": {
           "xaxis": {
            "backgroundcolor": "#E5ECF6",
            "gridcolor": "white",
            "gridwidth": 2,
            "linecolor": "white",
            "showbackground": true,
            "ticks": "",
            "zerolinecolor": "white"
           },
           "yaxis": {
            "backgroundcolor": "#E5ECF6",
            "gridcolor": "white",
            "gridwidth": 2,
            "linecolor": "white",
            "showbackground": true,
            "ticks": "",
            "zerolinecolor": "white"
           },
           "zaxis": {
            "backgroundcolor": "#E5ECF6",
            "gridcolor": "white",
            "gridwidth": 2,
            "linecolor": "white",
            "showbackground": true,
            "ticks": "",
            "zerolinecolor": "white"
           }
          },
          "shapedefaults": {
           "line": {
            "color": "#2a3f5f"
           }
          },
          "ternary": {
           "aaxis": {
            "gridcolor": "white",
            "linecolor": "white",
            "ticks": ""
           },
           "baxis": {
            "gridcolor": "white",
            "linecolor": "white",
            "ticks": ""
           },
           "bgcolor": "#E5ECF6",
           "caxis": {
            "gridcolor": "white",
            "linecolor": "white",
            "ticks": ""
           }
          },
          "title": {
           "x": 0.05
          },
          "xaxis": {
           "automargin": true,
           "gridcolor": "white",
           "linecolor": "white",
           "ticks": "",
           "title": {
            "standoff": 15
           },
           "zerolinecolor": "white",
           "zerolinewidth": 2
          },
          "yaxis": {
           "automargin": true,
           "gridcolor": "white",
           "linecolor": "white",
           "ticks": "",
           "title": {
            "standoff": 15
           },
           "zerolinecolor": "white",
           "zerolinewidth": 2
          }
         }
        },
        "title": {
         "text": "Top 60 WRs | ADP vs Projected FP"
        },
        "xaxis": {
         "anchor": "y",
         "domain": [
          0,
          1
         ],
         "title": {
          "text": "adp"
         }
        },
        "yaxis": {
         "anchor": "x",
         "domain": [
          0,
          1
         ],
         "title": {
          "text": "fantasyPoints"
         }
        }
       }
      },
      "text/html": [
       "<div>                            <div id=\"dbab16f3-e9dc-41d2-95b2-f7cdecd2631c\" class=\"plotly-graph-div\" style=\"height:525px; width:100%;\"></div>            <script type=\"text/javascript\">                require([\"plotly\"], function(Plotly) {                    window.PLOTLYENV=window.PLOTLYENV || {};                                    if (document.getElementById(\"dbab16f3-e9dc-41d2-95b2-f7cdecd2631c\")) {                    Plotly.newPlot(                        \"dbab16f3-e9dc-41d2-95b2-f7cdecd2631c\",                        [{\"customdata\":[[\"Cooper Kupp\",\"LAR\"],[\"Justin Jefferson\",\"MIN\"],[\"Ja'Marr Chase\",\"CIN\"],[\"Davante Adams\",\"LV\"],[\"Stefon Diggs\",\"BUF\"],[\"Tyreek Hill\",\"MIA\"],[\"CeeDee Lamb\",\"DAL\"],[\"Deebo Samuel\",\"SF\"],[\"A.J. Brown\",\"PHI\"],[\"Mike Evans\",\"TB\"],[\"Keenan Allen\",\"LAC\"],[\"Tee Higgins\",\"CIN\"],[\"Diontae Johnson\",\"PIT\"],[\"Terry McLaurin\",\"WAS\"],[\"D.K. Metcalf\",\"SEA\"],[\"Jaylen Waddle\",\"MIA\"],[\"D.J. Moore\",\"CAR\"],[\"Amari Cooper\",\"CLE\"],[\"Jerry Jeudy\",\"DEN\"],[\"Chris Godwin\",\"TB\"],[\"Courtland Sutton\",\"DEN\"],[\"Michael Thomas\",\"NO\"],[\"Marquise Brown\",\"ARI\"],[\"Mike Williams\",\"LAC\"],[\"DeAndre Hopkins\",\"ARI\"],[\"Amon-Ra St. Brown\",\"DET\"],[\"Brandin Cooks\",\"HOU\"],[\"Adam Thielen\",\"MIN\"],[\"Treylon Burks\",\"TEN\"],[\"Darnell Mooney\",\"CHI\"],[\"Drake London\",\"ATL\"],[\"JuJu Smith-Schuster\",\"KC\"],[\"DeVonta Smith\",\"PHI\"],[\"Garrett Wilson\",\"NYJ\"],[\"Rashod Bateman\",\"BAL\"],[\"Elijah Moore\",\"NYJ\"],[\"Tyler Lockett\",\"SEA\"],[\"Hunter Renfrow\",\"LV\"],[\"Gabriel Davis\",\"BUF\"],[\"Brandon Aiyuk\",\"SF\"],[\"Chris Olave\",\"NO\"],[\"Robert Woods\",\"TEN\"],[\"Chase Claypool\",\"PIT\"],[\"Christian Watson\",\"GB\"],[\"Christian Kirk\",\"JAX\"],[\"Skyy Moore\",\"KC\"],[\"Jameson Williams\",\"DET\"],[\"Kadarius Toney\",\"NYG\"],[\"Allen Lazard\",\"GB\"],[\"Michael Gallup\",\"DAL\"],[\"Tyler Boyd\",\"CIN\"],[\"Russell Gage\",\"TB\"],[\"Marquez Valdes-Scantling\",\"KC\"],[\"Kenny Golladay\",\"NYG\"],[\"Jarvis Landry\",\"NO\"],[\"George Pickens\",\"PIT\"],[\"Jahan Dotson\",\"WAS\"],[\"Rondale Moore\",\"ARI\"],[\"Jakobi Meyers\",\"NE\"],[\"Tim Patrick\",\"DEN\"]],\"hovertemplate\":\"adp=%{marker.color}<br>fantasyPoints=%{y}<br>playerName=%{customdata[0]}<br>teamName=%{customdata[1]}<extra></extra>\",\"legendgroup\":\"\",\"marker\":{\"color\":[5.9,7.4,8.4,11.7,13.3,17.0,19.0,21.8,25.6,28.5,30.4,35.5,40.1,41.7,42.8,46.9,47.4,50.5,52.9,53.5,56.8,60.3,61.1,64.0,68.6,69.2,71.2,73.9,75.2,76.2,77.6,78.0,82.2,83.8,85.9,86.9,88.4,91.7,93.7,95.3,97.9,102.7,106.2,107.2,110.0,114.6,115.3,116.8,119.2,120.1,125.1,127.8,132.7,133.0,134.9,138.0,139.0,141.6,143.7,146.0],\"coloraxis\":\"coloraxis\",\"symbol\":\"circle\",\"size\":10},\"mode\":\"markers+text\",\"name\":\"\",\"orientation\":\"v\",\"showlegend\":false,\"text\":[\"Cooper Kupp\",\"Justin Jefferson\",\"Ja'Marr Chase\",\"Davante Adams\",\"Stefon Diggs\",\"Tyreek Hill\",\"CeeDee Lamb\",\"Deebo Samuel\",\"A.J. Brown\",\"Mike Evans\",\"Keenan Allen\",\"Tee Higgins\",\"Diontae Johnson\",\"Terry McLaurin\",\"D.K. Metcalf\",\"Jaylen Waddle\",\"D.J. Moore\",\"Amari Cooper\",\"Jerry Jeudy\",\"Chris Godwin\",\"Courtland Sutton\",\"Michael Thomas\",\"Marquise Brown\",\"Mike Williams\",\"DeAndre Hopkins\",\"Amon-Ra St. Brown\",\"Brandin Cooks\",\"Adam Thielen\",\"Treylon Burks\",\"Darnell Mooney\",\"Drake London\",\"JuJu Smith-Schuster\",\"DeVonta Smith\",\"Garrett Wilson\",\"Rashod Bateman\",\"Elijah Moore\",\"Tyler Lockett\",\"Hunter Renfrow\",\"Gabriel Davis\",\"Brandon Aiyuk\",\"Chris Olave\",\"Robert Woods\",\"Chase Claypool\",\"Christian Watson\",\"Christian Kirk\",\"Skyy Moore\",\"Jameson Williams\",\"Kadarius Toney\",\"Allen Lazard\",\"Michael Gallup\",\"Tyler Boyd\",\"Russell Gage\",\"Marquez Valdes-Scantling\",\"Kenny Golladay\",\"Jarvis Landry\",\"George Pickens\",\"Jahan Dotson\",\"Rondale Moore\",\"Jakobi Meyers\",\"Tim Patrick\"],\"x\":[5.9,7.4,8.4,11.7,13.3,17.0,19.0,21.8,25.6,28.5,30.4,35.5,40.1,41.7,42.8,46.9,47.4,50.5,52.9,53.5,56.8,60.3,61.1,64.0,68.6,69.2,71.2,73.9,75.2,76.2,77.6,78.0,82.2,83.8,85.9,86.9,88.4,91.7,93.7,95.3,97.9,102.7,106.2,107.2,110.0,114.6,115.3,116.8,119.2,120.1,125.1,127.8,132.7,133.0,134.9,138.0,139.0,141.6,143.7,146.0],\"xaxis\":\"x\",\"y\":[349.4,330.8,300.1,293.0,294.1,273.9,288.3,257.5,242.6,277.4,248.3,250.1,195.6,247.5,233.9,204.2,252.4,204.0,169.3,178.7,177.8,201.2,185.2,224.3,135.0,212.2,232.8,199.2,209.6,221.9,216.7,180.4,193.3,175.6,213.5,193.0,224.5,205.5,223.4,171.3,178.4,170.6,189.4,147.0,197.4,128.3,140.0,154.0,192.2,154.6,187.1,221.1,197.0,195.2,93.5,109.7,192.6,146.5,182.0,150.9],\"yaxis\":\"y\",\"type\":\"scatter\",\"textfont\":{\"size\":6},\"textposition\":\"top center\"},{\"hovertemplate\":\"<b>OLS trendline</b><br>fantasyPoints = -0.974322 * adp + 281.811<br>R<sup>2</sup>=0.608426<br><br>adp=%{x}<br>fantasyPoints=%{y} <b>(trend)</b><extra></extra>\",\"legendgroup\":\"\",\"marker\":{\"symbol\":\"circle\",\"size\":10},\"mode\":\"lines\",\"name\":\"\",\"showlegend\":false,\"x\":[5.9,7.4,8.4,11.7,13.3,17.0,19.0,21.8,25.6,28.5,30.4,35.5,40.1,41.7,42.8,46.9,47.4,50.5,52.9,53.5,56.8,60.3,61.1,64.0,68.6,69.2,71.2,73.9,75.2,76.2,77.6,78.0,82.2,83.8,85.9,86.9,88.4,91.7,93.7,95.3,97.9,102.7,106.2,107.2,110.0,114.6,115.3,116.8,119.2,120.1,125.1,127.8,132.7,133.0,134.9,138.0,139.0,141.6,143.7,146.0],\"xaxis\":\"x\",\"y\":[276.0626508642027,274.60116837723,273.62684671924825,270.4115852479084,268.8526705951376,265.24768046060507,263.29903714464155,260.5709365022926,256.8685142019619,254.04298139381478,252.19177024364942,247.22272978794243,242.74085016122632,241.18193550845547,240.11018168467555,236.1154628869503,235.62830205795942,232.60790491821595,230.26953293905973,229.68493994427067,226.46967847293084,223.05955266999467,222.28009534360925,219.45456253546212,214.97268290874604,214.38808991395695,212.43944659799342,209.80877812144266,208.54215996606638,207.56783830808462,206.20378798691013,205.81405932371743,201.721908360194,200.1629937074232,198.1169182256615,197.14259656767973,195.68111408070706,192.46585260936723,190.5172092934037,188.95829464063291,186.4250583298803,181.74831437156786,178.33818856863167,177.3638669106499,174.63576626830096,170.15388664158485,169.4718614809976,168.01037899402496,165.6720070148687,164.79511752268513,159.92350923277633,157.29284075622553,152.5186646321149,152.22636813472036,150.37515698455502,147.35475984481155,146.3804381868298,143.8472018760772,141.8011263943155,139.56018658095743],\"yaxis\":\"y\",\"type\":\"scatter\",\"textfont\":{\"size\":6},\"textposition\":\"top center\"}],                        {\"template\":{\"data\":{\"histogram2dcontour\":[{\"type\":\"histogram2dcontour\",\"colorbar\":{\"outlinewidth\":0,\"ticks\":\"\"},\"colorscale\":[[0.0,\"#0d0887\"],[0.1111111111111111,\"#46039f\"],[0.2222222222222222,\"#7201a8\"],[0.3333333333333333,\"#9c179e\"],[0.4444444444444444,\"#bd3786\"],[0.5555555555555556,\"#d8576b\"],[0.6666666666666666,\"#ed7953\"],[0.7777777777777778,\"#fb9f3a\"],[0.8888888888888888,\"#fdca26\"],[1.0,\"#f0f921\"]]}],\"choropleth\":[{\"type\":\"choropleth\",\"colorbar\":{\"outlinewidth\":0,\"ticks\":\"\"}}],\"histogram2d\":[{\"type\":\"histogram2d\",\"colorbar\":{\"outlinewidth\":0,\"ticks\":\"\"},\"colorscale\":[[0.0,\"#0d0887\"],[0.1111111111111111,\"#46039f\"],[0.2222222222222222,\"#7201a8\"],[0.3333333333333333,\"#9c179e\"],[0.4444444444444444,\"#bd3786\"],[0.5555555555555556,\"#d8576b\"],[0.6666666666666666,\"#ed7953\"],[0.7777777777777778,\"#fb9f3a\"],[0.8888888888888888,\"#fdca26\"],[1.0,\"#f0f921\"]]}],\"heatmap\":[{\"type\":\"heatmap\",\"colorbar\":{\"outlinewidth\":0,\"ticks\":\"\"},\"colorscale\":[[0.0,\"#0d0887\"],[0.1111111111111111,\"#46039f\"],[0.2222222222222222,\"#7201a8\"],[0.3333333333333333,\"#9c179e\"],[0.4444444444444444,\"#bd3786\"],[0.5555555555555556,\"#d8576b\"],[0.6666666666666666,\"#ed7953\"],[0.7777777777777778,\"#fb9f3a\"],[0.8888888888888888,\"#fdca26\"],[1.0,\"#f0f921\"]]}],\"heatmapgl\":[{\"type\":\"heatmapgl\",\"colorbar\":{\"outlinewidth\":0,\"ticks\":\"\"},\"colorscale\":[[0.0,\"#0d0887\"],[0.1111111111111111,\"#46039f\"],[0.2222222222222222,\"#7201a8\"],[0.3333333333333333,\"#9c179e\"],[0.4444444444444444,\"#bd3786\"],[0.5555555555555556,\"#d8576b\"],[0.6666666666666666,\"#ed7953\"],[0.7777777777777778,\"#fb9f3a\"],[0.8888888888888888,\"#fdca26\"],[1.0,\"#f0f921\"]]}],\"contourcarpet\":[{\"type\":\"contourcarpet\",\"colorbar\":{\"outlinewidth\":0,\"ticks\":\"\"}}],\"contour\":[{\"type\":\"contour\",\"colorbar\":{\"outlinewidth\":0,\"ticks\":\"\"},\"colorscale\":[[0.0,\"#0d0887\"],[0.1111111111111111,\"#46039f\"],[0.2222222222222222,\"#7201a8\"],[0.3333333333333333,\"#9c179e\"],[0.4444444444444444,\"#bd3786\"],[0.5555555555555556,\"#d8576b\"],[0.6666666666666666,\"#ed7953\"],[0.7777777777777778,\"#fb9f3a\"],[0.8888888888888888,\"#fdca26\"],[1.0,\"#f0f921\"]]}],\"surface\":[{\"type\":\"surface\",\"colorbar\":{\"outlinewidth\":0,\"ticks\":\"\"},\"colorscale\":[[0.0,\"#0d0887\"],[0.1111111111111111,\"#46039f\"],[0.2222222222222222,\"#7201a8\"],[0.3333333333333333,\"#9c179e\"],[0.4444444444444444,\"#bd3786\"],[0.5555555555555556,\"#d8576b\"],[0.6666666666666666,\"#ed7953\"],[0.7777777777777778,\"#fb9f3a\"],[0.8888888888888888,\"#fdca26\"],[1.0,\"#f0f921\"]]}],\"mesh3d\":[{\"type\":\"mesh3d\",\"colorbar\":{\"outlinewidth\":0,\"ticks\":\"\"}}],\"scatter\":[{\"fillpattern\":{\"fillmode\":\"overlay\",\"size\":10,\"solidity\":0.2},\"type\":\"scatter\"}],\"parcoords\":[{\"type\":\"parcoords\",\"line\":{\"colorbar\":{\"outlinewidth\":0,\"ticks\":\"\"}}}],\"scatterpolargl\":[{\"type\":\"scatterpolargl\",\"marker\":{\"colorbar\":{\"outlinewidth\":0,\"ticks\":\"\"}}}],\"bar\":[{\"error_x\":{\"color\":\"#2a3f5f\"},\"error_y\":{\"color\":\"#2a3f5f\"},\"marker\":{\"line\":{\"color\":\"#E5ECF6\",\"width\":0.5},\"pattern\":{\"fillmode\":\"overlay\",\"size\":10,\"solidity\":0.2}},\"type\":\"bar\"}],\"scattergeo\":[{\"type\":\"scattergeo\",\"marker\":{\"colorbar\":{\"outlinewidth\":0,\"ticks\":\"\"}}}],\"scatterpolar\":[{\"type\":\"scatterpolar\",\"marker\":{\"colorbar\":{\"outlinewidth\":0,\"ticks\":\"\"}}}],\"histogram\":[{\"marker\":{\"pattern\":{\"fillmode\":\"overlay\",\"size\":10,\"solidity\":0.2}},\"type\":\"histogram\"}],\"scattergl\":[{\"type\":\"scattergl\",\"marker\":{\"colorbar\":{\"outlinewidth\":0,\"ticks\":\"\"}}}],\"scatter3d\":[{\"type\":\"scatter3d\",\"line\":{\"colorbar\":{\"outlinewidth\":0,\"ticks\":\"\"}},\"marker\":{\"colorbar\":{\"outlinewidth\":0,\"ticks\":\"\"}}}],\"scattermapbox\":[{\"type\":\"scattermapbox\",\"marker\":{\"colorbar\":{\"outlinewidth\":0,\"ticks\":\"\"}}}],\"scatterternary\":[{\"type\":\"scatterternary\",\"marker\":{\"colorbar\":{\"outlinewidth\":0,\"ticks\":\"\"}}}],\"scattercarpet\":[{\"type\":\"scattercarpet\",\"marker\":{\"colorbar\":{\"outlinewidth\":0,\"ticks\":\"\"}}}],\"carpet\":[{\"aaxis\":{\"endlinecolor\":\"#2a3f5f\",\"gridcolor\":\"white\",\"linecolor\":\"white\",\"minorgridcolor\":\"white\",\"startlinecolor\":\"#2a3f5f\"},\"baxis\":{\"endlinecolor\":\"#2a3f5f\",\"gridcolor\":\"white\",\"linecolor\":\"white\",\"minorgridcolor\":\"white\",\"startlinecolor\":\"#2a3f5f\"},\"type\":\"carpet\"}],\"table\":[{\"cells\":{\"fill\":{\"color\":\"#EBF0F8\"},\"line\":{\"color\":\"white\"}},\"header\":{\"fill\":{\"color\":\"#C8D4E3\"},\"line\":{\"color\":\"white\"}},\"type\":\"table\"}],\"barpolar\":[{\"marker\":{\"line\":{\"color\":\"#E5ECF6\",\"width\":0.5},\"pattern\":{\"fillmode\":\"overlay\",\"size\":10,\"solidity\":0.2}},\"type\":\"barpolar\"}],\"pie\":[{\"automargin\":true,\"type\":\"pie\"}]},\"layout\":{\"autotypenumbers\":\"strict\",\"colorway\":[\"#636efa\",\"#EF553B\",\"#00cc96\",\"#ab63fa\",\"#FFA15A\",\"#19d3f3\",\"#FF6692\",\"#B6E880\",\"#FF97FF\",\"#FECB52\"],\"font\":{\"color\":\"#2a3f5f\"},\"hovermode\":\"closest\",\"hoverlabel\":{\"align\":\"left\"},\"paper_bgcolor\":\"white\",\"plot_bgcolor\":\"#E5ECF6\",\"polar\":{\"bgcolor\":\"#E5ECF6\",\"angularaxis\":{\"gridcolor\":\"white\",\"linecolor\":\"white\",\"ticks\":\"\"},\"radialaxis\":{\"gridcolor\":\"white\",\"linecolor\":\"white\",\"ticks\":\"\"}},\"ternary\":{\"bgcolor\":\"#E5ECF6\",\"aaxis\":{\"gridcolor\":\"white\",\"linecolor\":\"white\",\"ticks\":\"\"},\"baxis\":{\"gridcolor\":\"white\",\"linecolor\":\"white\",\"ticks\":\"\"},\"caxis\":{\"gridcolor\":\"white\",\"linecolor\":\"white\",\"ticks\":\"\"}},\"coloraxis\":{\"colorbar\":{\"outlinewidth\":0,\"ticks\":\"\"}},\"colorscale\":{\"sequential\":[[0.0,\"#0d0887\"],[0.1111111111111111,\"#46039f\"],[0.2222222222222222,\"#7201a8\"],[0.3333333333333333,\"#9c179e\"],[0.4444444444444444,\"#bd3786\"],[0.5555555555555556,\"#d8576b\"],[0.6666666666666666,\"#ed7953\"],[0.7777777777777778,\"#fb9f3a\"],[0.8888888888888888,\"#fdca26\"],[1.0,\"#f0f921\"]],\"sequentialminus\":[[0.0,\"#0d0887\"],[0.1111111111111111,\"#46039f\"],[0.2222222222222222,\"#7201a8\"],[0.3333333333333333,\"#9c179e\"],[0.4444444444444444,\"#bd3786\"],[0.5555555555555556,\"#d8576b\"],[0.6666666666666666,\"#ed7953\"],[0.7777777777777778,\"#fb9f3a\"],[0.8888888888888888,\"#fdca26\"],[1.0,\"#f0f921\"]],\"diverging\":[[0,\"#8e0152\"],[0.1,\"#c51b7d\"],[0.2,\"#de77ae\"],[0.3,\"#f1b6da\"],[0.4,\"#fde0ef\"],[0.5,\"#f7f7f7\"],[0.6,\"#e6f5d0\"],[0.7,\"#b8e186\"],[0.8,\"#7fbc41\"],[0.9,\"#4d9221\"],[1,\"#276419\"]]},\"xaxis\":{\"gridcolor\":\"white\",\"linecolor\":\"white\",\"ticks\":\"\",\"title\":{\"standoff\":15},\"zerolinecolor\":\"white\",\"automargin\":true,\"zerolinewidth\":2},\"yaxis\":{\"gridcolor\":\"white\",\"linecolor\":\"white\",\"ticks\":\"\",\"title\":{\"standoff\":15},\"zerolinecolor\":\"white\",\"automargin\":true,\"zerolinewidth\":2},\"scene\":{\"xaxis\":{\"backgroundcolor\":\"#E5ECF6\",\"gridcolor\":\"white\",\"linecolor\":\"white\",\"showbackground\":true,\"ticks\":\"\",\"zerolinecolor\":\"white\",\"gridwidth\":2},\"yaxis\":{\"backgroundcolor\":\"#E5ECF6\",\"gridcolor\":\"white\",\"linecolor\":\"white\",\"showbackground\":true,\"ticks\":\"\",\"zerolinecolor\":\"white\",\"gridwidth\":2},\"zaxis\":{\"backgroundcolor\":\"#E5ECF6\",\"gridcolor\":\"white\",\"linecolor\":\"white\",\"showbackground\":true,\"ticks\":\"\",\"zerolinecolor\":\"white\",\"gridwidth\":2}},\"shapedefaults\":{\"line\":{\"color\":\"#2a3f5f\"}},\"annotationdefaults\":{\"arrowcolor\":\"#2a3f5f\",\"arrowhead\":0,\"arrowwidth\":1},\"geo\":{\"bgcolor\":\"white\",\"landcolor\":\"#E5ECF6\",\"subunitcolor\":\"white\",\"showland\":true,\"showlakes\":true,\"lakecolor\":\"white\"},\"title\":{\"x\":0.05},\"mapbox\":{\"style\":\"light\"}}},\"xaxis\":{\"anchor\":\"y\",\"domain\":[0.0,1.0],\"title\":{\"text\":\"adp\"}},\"yaxis\":{\"anchor\":\"x\",\"domain\":[0.0,1.0],\"title\":{\"text\":\"fantasyPoints\"}},\"coloraxis\":{\"colorbar\":{\"title\":{\"text\":\"adp\"}},\"colorscale\":[[0.0,\"#0d0887\"],[0.1111111111111111,\"#46039f\"],[0.2222222222222222,\"#7201a8\"],[0.3333333333333333,\"#9c179e\"],[0.4444444444444444,\"#bd3786\"],[0.5555555555555556,\"#d8576b\"],[0.6666666666666666,\"#ed7953\"],[0.7777777777777778,\"#fb9f3a\"],[0.8888888888888888,\"#fdca26\"],[1.0,\"#f0f921\"]]},\"legend\":{\"tracegroupgap\":0},\"title\":{\"text\":\"Top 60 WRs | ADP vs Projected FP\"}},                        {\"responsive\": true}                    ).then(function(){\n",
       "                            \n",
       "var gd = document.getElementById('dbab16f3-e9dc-41d2-95b2-f7cdecd2631c');\n",
       "var x = new MutationObserver(function (mutations, observer) {{\n",
       "        var display = window.getComputedStyle(gd).display;\n",
       "        if (!display || display === 'none') {{\n",
       "            console.log([gd, 'removed!']);\n",
       "            Plotly.purge(gd);\n",
       "            observer.disconnect();\n",
       "        }}\n",
       "}});\n",
       "\n",
       "// Listen for the removal of the full notebook cells\n",
       "var notebookContainer = gd.closest('#notebook-container');\n",
       "if (notebookContainer) {{\n",
       "    x.observe(notebookContainer, {childList: true});\n",
       "}}\n",
       "\n",
       "// Listen for the clearing of the current output cell\n",
       "var outputEl = gd.closest('.output');\n",
       "if (outputEl) {{\n",
       "    x.observe(outputEl, {childList: true});\n",
       "}}\n",
       "\n",
       "                        })                };                });            </script>        </div>"
      ]
     },
     "metadata": {},
     "output_type": "display_data"
    }
   ],
   "source": [
    "# create scatterplot comparing adp vs projected fantasy points for top 60 WRs\n",
    "wr_60 = wr.head(60)\n",
    "\n",
    "fig = px.scatter(wr_60, x=\"adp\", y=\"fantasyPoints\", color='adp', text='playerName', hover_data=['playerName', 'teamName'], trendline=\"ols\", title=\"Top 60 WRs | ADP vs Projected FP\")\n",
    "fig.update_traces(marker_size=10)\n",
    "fig.update_traces(textposition='top center', textfont_size=6)\n",
    "fig.show()\n",
    "fig.write_html(\"fig/wr_scatter.html\")\n",
    "fig.write_image(\"images/wr_scatter.png\")"
   ]
  },
  {
   "cell_type": "code",
   "execution_count": 48,
   "id": "33e2172a",
   "metadata": {},
   "outputs": [
    {
     "data": {
      "application/vnd.plotly.v1+json": {
       "config": {
        "plotlyServerURL": "https://plot.ly"
       },
       "data": [
        {
         "customdata": [
          [
           "Travis Kelce",
           "KC"
          ],
          [
           "Mark Andrews",
           "BAL"
          ],
          [
           "Kyle Pitts",
           "ATL"
          ],
          [
           "George Kittle",
           "SF"
          ],
          [
           "Darren Waller",
           "LV"
          ],
          [
           "T.J. Hockenson",
           "DET"
          ],
          [
           "Dalton Schultz",
           "DAL"
          ],
          [
           "Dallas Goedert",
           "PHI"
          ],
          [
           "Dawson Knox",
           "BUF"
          ],
          [
           "Zach Ertz",
           "ARI"
          ],
          [
           "Pat Freiermuth",
           "PIT"
          ],
          [
           "Mike Gesicki",
           "MIA"
          ],
          [
           "Hunter Henry",
           "NE"
          ],
          [
           "Cole Kmet",
           "CHI"
          ],
          [
           "Albert Okwuegbunam",
           "DEN"
          ],
          [
           "Noah Fant",
           "SEA"
          ],
          [
           "David Njoku",
           "CLE"
          ],
          [
           "Tyler Higbee",
           "LAR"
          ],
          [
           "Robert Tonyan",
           "GB"
          ],
          [
           "Hayden Hurst",
           "CIN"
          ],
          [
           "Gerald Everett",
           "LAC"
          ],
          [
           "Evan Engram",
           "JAX"
          ],
          [
           "Logan Thomas",
           "WAS"
          ],
          [
           "Austin Hooper",
           "TEN"
          ]
         ],
         "hovertemplate": "adp=%{marker.color}<br>fantasyPoints=%{y}<br>playerName=%{customdata[0]}<br>teamName=%{customdata[1]}<extra></extra>",
         "legendgroup": "",
         "marker": {
          "color": [
           12.1,
           20.1,
           26.8,
           32.3,
           39.1,
           55.4,
           62.3,
           74.8,
           89,
           92.9,
           101.7,
           103.6,
           122.1,
           123.3,
           130.1,
           143.7,
           148.8,
           151,
           167.7,
           172.6,
           179.2,
           185.2,
           190.4,
           193.1
          ],
          "coloraxis": "coloraxis",
          "size": 10,
          "symbol": "circle"
         },
         "mode": "markers+text",
         "name": "",
         "orientation": "v",
         "showlegend": false,
         "text": [
          "Travis Kelce",
          "Mark Andrews",
          "Kyle Pitts",
          "George Kittle",
          "Darren Waller",
          "T.J. Hockenson",
          "Dalton Schultz",
          "Dallas Goedert",
          "Dawson Knox",
          "Zach Ertz",
          "Pat Freiermuth",
          "Mike Gesicki",
          "Hunter Henry",
          "Cole Kmet",
          "Albert Okwuegbunam",
          "Noah Fant",
          "David Njoku",
          "Tyler Higbee",
          "Robert Tonyan",
          "Hayden Hurst",
          "Gerald Everett",
          "Evan Engram",
          "Logan Thomas",
          "Austin Hooper"
         ],
         "textfont": {
          "size": 6
         },
         "textposition": "top center",
         "type": "scatter",
         "x": [
          12.1,
          20.1,
          26.8,
          32.3,
          39.1,
          55.4,
          62.3,
          74.8,
          89,
          92.9,
          101.7,
          103.6,
          122.1,
          123.3,
          130.1,
          143.7,
          148.8,
          151,
          167.7,
          172.6,
          179.2,
          185.2,
          190.4,
          193.1
         ],
         "xaxis": "x",
         "y": [
          292.1,
          257.8,
          210.2,
          227,
          186.3,
          140.6,
          174.7,
          164.8,
          167.5,
          142.7,
          113.8,
          133,
          126.6,
          148.4,
          93.3,
          138,
          154.8,
          158.5,
          141.4,
          114.5,
          147.6,
          100.4,
          98.6,
          95.1
         ],
         "yaxis": "y"
        },
        {
         "hovertemplate": "<b>OLS trendline</b><br>fantasyPoints = -0.691564 * adp + 230.739<br>R<sup>2</sup>=0.648277<br><br>adp=%{x}<br>fantasyPoints=%{y} <b>(trend)</b><extra></extra>",
         "legendgroup": "",
         "marker": {
          "size": 10,
          "symbol": "circle"
         },
         "mode": "lines",
         "name": "",
         "showlegend": false,
         "textfont": {
          "size": 6
         },
         "textposition": "top center",
         "type": "scatter",
         "x": [
          12.1,
          20.1,
          26.8,
          32.3,
          39.1,
          55.4,
          62.3,
          74.8,
          89,
          92.9,
          101.7,
          103.6,
          122.1,
          123.3,
          130.1,
          143.7,
          148.8,
          151,
          167.7,
          172.6,
          179.2,
          185.2,
          190.4,
          193.1
         ],
         "xaxis": "x",
         "y": [
          222.37086735421343,
          216.83835348081578,
          212.20487311184527,
          208.40126982388438,
          203.6986330314964,
          192.42613601444873,
          187.65434279864326,
          179.00978987145945,
          169.18957774617866,
          166.4924772328973,
          160.4067119721599,
          159.09273992722797,
          146.29880159499595,
          145.46892451398628,
          140.7662877215983,
          131.36101413682235,
          127.83403654253132,
          126.31259522734699,
          114.76347251662942,
          111.37480776917337,
          106.81048382362033,
          102.6610984185721,
          99.06496440086363,
          97.19774096859194
         ],
         "yaxis": "y"
        }
       ],
       "layout": {
        "coloraxis": {
         "colorbar": {
          "title": {
           "text": "adp"
          }
         },
         "colorscale": [
          [
           0,
           "#0d0887"
          ],
          [
           0.1111111111111111,
           "#46039f"
          ],
          [
           0.2222222222222222,
           "#7201a8"
          ],
          [
           0.3333333333333333,
           "#9c179e"
          ],
          [
           0.4444444444444444,
           "#bd3786"
          ],
          [
           0.5555555555555556,
           "#d8576b"
          ],
          [
           0.6666666666666666,
           "#ed7953"
          ],
          [
           0.7777777777777778,
           "#fb9f3a"
          ],
          [
           0.8888888888888888,
           "#fdca26"
          ],
          [
           1,
           "#f0f921"
          ]
         ]
        },
        "legend": {
         "tracegroupgap": 0
        },
        "template": {
         "data": {
          "bar": [
           {
            "error_x": {
             "color": "#2a3f5f"
            },
            "error_y": {
             "color": "#2a3f5f"
            },
            "marker": {
             "line": {
              "color": "#E5ECF6",
              "width": 0.5
             },
             "pattern": {
              "fillmode": "overlay",
              "size": 10,
              "solidity": 0.2
             }
            },
            "type": "bar"
           }
          ],
          "barpolar": [
           {
            "marker": {
             "line": {
              "color": "#E5ECF6",
              "width": 0.5
             },
             "pattern": {
              "fillmode": "overlay",
              "size": 10,
              "solidity": 0.2
             }
            },
            "type": "barpolar"
           }
          ],
          "carpet": [
           {
            "aaxis": {
             "endlinecolor": "#2a3f5f",
             "gridcolor": "white",
             "linecolor": "white",
             "minorgridcolor": "white",
             "startlinecolor": "#2a3f5f"
            },
            "baxis": {
             "endlinecolor": "#2a3f5f",
             "gridcolor": "white",
             "linecolor": "white",
             "minorgridcolor": "white",
             "startlinecolor": "#2a3f5f"
            },
            "type": "carpet"
           }
          ],
          "choropleth": [
           {
            "colorbar": {
             "outlinewidth": 0,
             "ticks": ""
            },
            "type": "choropleth"
           }
          ],
          "contour": [
           {
            "colorbar": {
             "outlinewidth": 0,
             "ticks": ""
            },
            "colorscale": [
             [
              0,
              "#0d0887"
             ],
             [
              0.1111111111111111,
              "#46039f"
             ],
             [
              0.2222222222222222,
              "#7201a8"
             ],
             [
              0.3333333333333333,
              "#9c179e"
             ],
             [
              0.4444444444444444,
              "#bd3786"
             ],
             [
              0.5555555555555556,
              "#d8576b"
             ],
             [
              0.6666666666666666,
              "#ed7953"
             ],
             [
              0.7777777777777778,
              "#fb9f3a"
             ],
             [
              0.8888888888888888,
              "#fdca26"
             ],
             [
              1,
              "#f0f921"
             ]
            ],
            "type": "contour"
           }
          ],
          "contourcarpet": [
           {
            "colorbar": {
             "outlinewidth": 0,
             "ticks": ""
            },
            "type": "contourcarpet"
           }
          ],
          "heatmap": [
           {
            "colorbar": {
             "outlinewidth": 0,
             "ticks": ""
            },
            "colorscale": [
             [
              0,
              "#0d0887"
             ],
             [
              0.1111111111111111,
              "#46039f"
             ],
             [
              0.2222222222222222,
              "#7201a8"
             ],
             [
              0.3333333333333333,
              "#9c179e"
             ],
             [
              0.4444444444444444,
              "#bd3786"
             ],
             [
              0.5555555555555556,
              "#d8576b"
             ],
             [
              0.6666666666666666,
              "#ed7953"
             ],
             [
              0.7777777777777778,
              "#fb9f3a"
             ],
             [
              0.8888888888888888,
              "#fdca26"
             ],
             [
              1,
              "#f0f921"
             ]
            ],
            "type": "heatmap"
           }
          ],
          "heatmapgl": [
           {
            "colorbar": {
             "outlinewidth": 0,
             "ticks": ""
            },
            "colorscale": [
             [
              0,
              "#0d0887"
             ],
             [
              0.1111111111111111,
              "#46039f"
             ],
             [
              0.2222222222222222,
              "#7201a8"
             ],
             [
              0.3333333333333333,
              "#9c179e"
             ],
             [
              0.4444444444444444,
              "#bd3786"
             ],
             [
              0.5555555555555556,
              "#d8576b"
             ],
             [
              0.6666666666666666,
              "#ed7953"
             ],
             [
              0.7777777777777778,
              "#fb9f3a"
             ],
             [
              0.8888888888888888,
              "#fdca26"
             ],
             [
              1,
              "#f0f921"
             ]
            ],
            "type": "heatmapgl"
           }
          ],
          "histogram": [
           {
            "marker": {
             "pattern": {
              "fillmode": "overlay",
              "size": 10,
              "solidity": 0.2
             }
            },
            "type": "histogram"
           }
          ],
          "histogram2d": [
           {
            "colorbar": {
             "outlinewidth": 0,
             "ticks": ""
            },
            "colorscale": [
             [
              0,
              "#0d0887"
             ],
             [
              0.1111111111111111,
              "#46039f"
             ],
             [
              0.2222222222222222,
              "#7201a8"
             ],
             [
              0.3333333333333333,
              "#9c179e"
             ],
             [
              0.4444444444444444,
              "#bd3786"
             ],
             [
              0.5555555555555556,
              "#d8576b"
             ],
             [
              0.6666666666666666,
              "#ed7953"
             ],
             [
              0.7777777777777778,
              "#fb9f3a"
             ],
             [
              0.8888888888888888,
              "#fdca26"
             ],
             [
              1,
              "#f0f921"
             ]
            ],
            "type": "histogram2d"
           }
          ],
          "histogram2dcontour": [
           {
            "colorbar": {
             "outlinewidth": 0,
             "ticks": ""
            },
            "colorscale": [
             [
              0,
              "#0d0887"
             ],
             [
              0.1111111111111111,
              "#46039f"
             ],
             [
              0.2222222222222222,
              "#7201a8"
             ],
             [
              0.3333333333333333,
              "#9c179e"
             ],
             [
              0.4444444444444444,
              "#bd3786"
             ],
             [
              0.5555555555555556,
              "#d8576b"
             ],
             [
              0.6666666666666666,
              "#ed7953"
             ],
             [
              0.7777777777777778,
              "#fb9f3a"
             ],
             [
              0.8888888888888888,
              "#fdca26"
             ],
             [
              1,
              "#f0f921"
             ]
            ],
            "type": "histogram2dcontour"
           }
          ],
          "mesh3d": [
           {
            "colorbar": {
             "outlinewidth": 0,
             "ticks": ""
            },
            "type": "mesh3d"
           }
          ],
          "parcoords": [
           {
            "line": {
             "colorbar": {
              "outlinewidth": 0,
              "ticks": ""
             }
            },
            "type": "parcoords"
           }
          ],
          "pie": [
           {
            "automargin": true,
            "type": "pie"
           }
          ],
          "scatter": [
           {
            "fillpattern": {
             "fillmode": "overlay",
             "size": 10,
             "solidity": 0.2
            },
            "type": "scatter"
           }
          ],
          "scatter3d": [
           {
            "line": {
             "colorbar": {
              "outlinewidth": 0,
              "ticks": ""
             }
            },
            "marker": {
             "colorbar": {
              "outlinewidth": 0,
              "ticks": ""
             }
            },
            "type": "scatter3d"
           }
          ],
          "scattercarpet": [
           {
            "marker": {
             "colorbar": {
              "outlinewidth": 0,
              "ticks": ""
             }
            },
            "type": "scattercarpet"
           }
          ],
          "scattergeo": [
           {
            "marker": {
             "colorbar": {
              "outlinewidth": 0,
              "ticks": ""
             }
            },
            "type": "scattergeo"
           }
          ],
          "scattergl": [
           {
            "marker": {
             "colorbar": {
              "outlinewidth": 0,
              "ticks": ""
             }
            },
            "type": "scattergl"
           }
          ],
          "scattermapbox": [
           {
            "marker": {
             "colorbar": {
              "outlinewidth": 0,
              "ticks": ""
             }
            },
            "type": "scattermapbox"
           }
          ],
          "scatterpolar": [
           {
            "marker": {
             "colorbar": {
              "outlinewidth": 0,
              "ticks": ""
             }
            },
            "type": "scatterpolar"
           }
          ],
          "scatterpolargl": [
           {
            "marker": {
             "colorbar": {
              "outlinewidth": 0,
              "ticks": ""
             }
            },
            "type": "scatterpolargl"
           }
          ],
          "scatterternary": [
           {
            "marker": {
             "colorbar": {
              "outlinewidth": 0,
              "ticks": ""
             }
            },
            "type": "scatterternary"
           }
          ],
          "surface": [
           {
            "colorbar": {
             "outlinewidth": 0,
             "ticks": ""
            },
            "colorscale": [
             [
              0,
              "#0d0887"
             ],
             [
              0.1111111111111111,
              "#46039f"
             ],
             [
              0.2222222222222222,
              "#7201a8"
             ],
             [
              0.3333333333333333,
              "#9c179e"
             ],
             [
              0.4444444444444444,
              "#bd3786"
             ],
             [
              0.5555555555555556,
              "#d8576b"
             ],
             [
              0.6666666666666666,
              "#ed7953"
             ],
             [
              0.7777777777777778,
              "#fb9f3a"
             ],
             [
              0.8888888888888888,
              "#fdca26"
             ],
             [
              1,
              "#f0f921"
             ]
            ],
            "type": "surface"
           }
          ],
          "table": [
           {
            "cells": {
             "fill": {
              "color": "#EBF0F8"
             },
             "line": {
              "color": "white"
             }
            },
            "header": {
             "fill": {
              "color": "#C8D4E3"
             },
             "line": {
              "color": "white"
             }
            },
            "type": "table"
           }
          ]
         },
         "layout": {
          "annotationdefaults": {
           "arrowcolor": "#2a3f5f",
           "arrowhead": 0,
           "arrowwidth": 1
          },
          "autotypenumbers": "strict",
          "coloraxis": {
           "colorbar": {
            "outlinewidth": 0,
            "ticks": ""
           }
          },
          "colorscale": {
           "diverging": [
            [
             0,
             "#8e0152"
            ],
            [
             0.1,
             "#c51b7d"
            ],
            [
             0.2,
             "#de77ae"
            ],
            [
             0.3,
             "#f1b6da"
            ],
            [
             0.4,
             "#fde0ef"
            ],
            [
             0.5,
             "#f7f7f7"
            ],
            [
             0.6,
             "#e6f5d0"
            ],
            [
             0.7,
             "#b8e186"
            ],
            [
             0.8,
             "#7fbc41"
            ],
            [
             0.9,
             "#4d9221"
            ],
            [
             1,
             "#276419"
            ]
           ],
           "sequential": [
            [
             0,
             "#0d0887"
            ],
            [
             0.1111111111111111,
             "#46039f"
            ],
            [
             0.2222222222222222,
             "#7201a8"
            ],
            [
             0.3333333333333333,
             "#9c179e"
            ],
            [
             0.4444444444444444,
             "#bd3786"
            ],
            [
             0.5555555555555556,
             "#d8576b"
            ],
            [
             0.6666666666666666,
             "#ed7953"
            ],
            [
             0.7777777777777778,
             "#fb9f3a"
            ],
            [
             0.8888888888888888,
             "#fdca26"
            ],
            [
             1,
             "#f0f921"
            ]
           ],
           "sequentialminus": [
            [
             0,
             "#0d0887"
            ],
            [
             0.1111111111111111,
             "#46039f"
            ],
            [
             0.2222222222222222,
             "#7201a8"
            ],
            [
             0.3333333333333333,
             "#9c179e"
            ],
            [
             0.4444444444444444,
             "#bd3786"
            ],
            [
             0.5555555555555556,
             "#d8576b"
            ],
            [
             0.6666666666666666,
             "#ed7953"
            ],
            [
             0.7777777777777778,
             "#fb9f3a"
            ],
            [
             0.8888888888888888,
             "#fdca26"
            ],
            [
             1,
             "#f0f921"
            ]
           ]
          },
          "colorway": [
           "#636efa",
           "#EF553B",
           "#00cc96",
           "#ab63fa",
           "#FFA15A",
           "#19d3f3",
           "#FF6692",
           "#B6E880",
           "#FF97FF",
           "#FECB52"
          ],
          "font": {
           "color": "#2a3f5f"
          },
          "geo": {
           "bgcolor": "white",
           "lakecolor": "white",
           "landcolor": "#E5ECF6",
           "showlakes": true,
           "showland": true,
           "subunitcolor": "white"
          },
          "hoverlabel": {
           "align": "left"
          },
          "hovermode": "closest",
          "mapbox": {
           "style": "light"
          },
          "paper_bgcolor": "white",
          "plot_bgcolor": "#E5ECF6",
          "polar": {
           "angularaxis": {
            "gridcolor": "white",
            "linecolor": "white",
            "ticks": ""
           },
           "bgcolor": "#E5ECF6",
           "radialaxis": {
            "gridcolor": "white",
            "linecolor": "white",
            "ticks": ""
           }
          },
          "scene": {
           "xaxis": {
            "backgroundcolor": "#E5ECF6",
            "gridcolor": "white",
            "gridwidth": 2,
            "linecolor": "white",
            "showbackground": true,
            "ticks": "",
            "zerolinecolor": "white"
           },
           "yaxis": {
            "backgroundcolor": "#E5ECF6",
            "gridcolor": "white",
            "gridwidth": 2,
            "linecolor": "white",
            "showbackground": true,
            "ticks": "",
            "zerolinecolor": "white"
           },
           "zaxis": {
            "backgroundcolor": "#E5ECF6",
            "gridcolor": "white",
            "gridwidth": 2,
            "linecolor": "white",
            "showbackground": true,
            "ticks": "",
            "zerolinecolor": "white"
           }
          },
          "shapedefaults": {
           "line": {
            "color": "#2a3f5f"
           }
          },
          "ternary": {
           "aaxis": {
            "gridcolor": "white",
            "linecolor": "white",
            "ticks": ""
           },
           "baxis": {
            "gridcolor": "white",
            "linecolor": "white",
            "ticks": ""
           },
           "bgcolor": "#E5ECF6",
           "caxis": {
            "gridcolor": "white",
            "linecolor": "white",
            "ticks": ""
           }
          },
          "title": {
           "x": 0.05
          },
          "xaxis": {
           "automargin": true,
           "gridcolor": "white",
           "linecolor": "white",
           "ticks": "",
           "title": {
            "standoff": 15
           },
           "zerolinecolor": "white",
           "zerolinewidth": 2
          },
          "yaxis": {
           "automargin": true,
           "gridcolor": "white",
           "linecolor": "white",
           "ticks": "",
           "title": {
            "standoff": 15
           },
           "zerolinecolor": "white",
           "zerolinewidth": 2
          }
         }
        },
        "title": {
         "text": "Top 24 TEs | ADP vs Projected FP"
        },
        "xaxis": {
         "anchor": "y",
         "domain": [
          0,
          1
         ],
         "title": {
          "text": "adp"
         }
        },
        "yaxis": {
         "anchor": "x",
         "domain": [
          0,
          1
         ],
         "title": {
          "text": "fantasyPoints"
         }
        }
       }
      },
      "text/html": [
       "<div>                            <div id=\"b2e86b7d-7512-4890-8053-7140209d5637\" class=\"plotly-graph-div\" style=\"height:525px; width:100%;\"></div>            <script type=\"text/javascript\">                require([\"plotly\"], function(Plotly) {                    window.PLOTLYENV=window.PLOTLYENV || {};                                    if (document.getElementById(\"b2e86b7d-7512-4890-8053-7140209d5637\")) {                    Plotly.newPlot(                        \"b2e86b7d-7512-4890-8053-7140209d5637\",                        [{\"customdata\":[[\"Travis Kelce\",\"KC\"],[\"Mark Andrews\",\"BAL\"],[\"Kyle Pitts\",\"ATL\"],[\"George Kittle\",\"SF\"],[\"Darren Waller\",\"LV\"],[\"T.J. Hockenson\",\"DET\"],[\"Dalton Schultz\",\"DAL\"],[\"Dallas Goedert\",\"PHI\"],[\"Dawson Knox\",\"BUF\"],[\"Zach Ertz\",\"ARI\"],[\"Pat Freiermuth\",\"PIT\"],[\"Mike Gesicki\",\"MIA\"],[\"Hunter Henry\",\"NE\"],[\"Cole Kmet\",\"CHI\"],[\"Albert Okwuegbunam\",\"DEN\"],[\"Noah Fant\",\"SEA\"],[\"David Njoku\",\"CLE\"],[\"Tyler Higbee\",\"LAR\"],[\"Robert Tonyan\",\"GB\"],[\"Hayden Hurst\",\"CIN\"],[\"Gerald Everett\",\"LAC\"],[\"Evan Engram\",\"JAX\"],[\"Logan Thomas\",\"WAS\"],[\"Austin Hooper\",\"TEN\"]],\"hovertemplate\":\"adp=%{marker.color}<br>fantasyPoints=%{y}<br>playerName=%{customdata[0]}<br>teamName=%{customdata[1]}<extra></extra>\",\"legendgroup\":\"\",\"marker\":{\"color\":[12.1,20.1,26.8,32.3,39.1,55.4,62.3,74.8,89.0,92.9,101.7,103.6,122.1,123.3,130.1,143.7,148.8,151.0,167.7,172.6,179.2,185.2,190.4,193.1],\"coloraxis\":\"coloraxis\",\"symbol\":\"circle\",\"size\":10},\"mode\":\"markers+text\",\"name\":\"\",\"orientation\":\"v\",\"showlegend\":false,\"text\":[\"Travis Kelce\",\"Mark Andrews\",\"Kyle Pitts\",\"George Kittle\",\"Darren Waller\",\"T.J. Hockenson\",\"Dalton Schultz\",\"Dallas Goedert\",\"Dawson Knox\",\"Zach Ertz\",\"Pat Freiermuth\",\"Mike Gesicki\",\"Hunter Henry\",\"Cole Kmet\",\"Albert Okwuegbunam\",\"Noah Fant\",\"David Njoku\",\"Tyler Higbee\",\"Robert Tonyan\",\"Hayden Hurst\",\"Gerald Everett\",\"Evan Engram\",\"Logan Thomas\",\"Austin Hooper\"],\"x\":[12.1,20.1,26.8,32.3,39.1,55.4,62.3,74.8,89.0,92.9,101.7,103.6,122.1,123.3,130.1,143.7,148.8,151.0,167.7,172.6,179.2,185.2,190.4,193.1],\"xaxis\":\"x\",\"y\":[292.1,257.8,210.2,227.0,186.3,140.6,174.7,164.8,167.5,142.7,113.8,133.0,126.6,148.4,93.3,138.0,154.8,158.5,141.4,114.5,147.6,100.4,98.6,95.1],\"yaxis\":\"y\",\"type\":\"scatter\",\"textfont\":{\"size\":6},\"textposition\":\"top center\"},{\"hovertemplate\":\"<b>OLS trendline</b><br>fantasyPoints = -0.691564 * adp + 230.739<br>R<sup>2</sup>=0.648277<br><br>adp=%{x}<br>fantasyPoints=%{y} <b>(trend)</b><extra></extra>\",\"legendgroup\":\"\",\"marker\":{\"symbol\":\"circle\",\"size\":10},\"mode\":\"lines\",\"name\":\"\",\"showlegend\":false,\"x\":[12.1,20.1,26.8,32.3,39.1,55.4,62.3,74.8,89.0,92.9,101.7,103.6,122.1,123.3,130.1,143.7,148.8,151.0,167.7,172.6,179.2,185.2,190.4,193.1],\"xaxis\":\"x\",\"y\":[222.37086735421343,216.83835348081578,212.20487311184527,208.40126982388438,203.6986330314964,192.42613601444873,187.65434279864326,179.00978987145945,169.18957774617866,166.4924772328973,160.4067119721599,159.09273992722797,146.29880159499595,145.46892451398628,140.7662877215983,131.36101413682235,127.83403654253132,126.31259522734699,114.76347251662942,111.37480776917337,106.81048382362033,102.6610984185721,99.06496440086363,97.19774096859194],\"yaxis\":\"y\",\"type\":\"scatter\",\"textfont\":{\"size\":6},\"textposition\":\"top center\"}],                        {\"template\":{\"data\":{\"histogram2dcontour\":[{\"type\":\"histogram2dcontour\",\"colorbar\":{\"outlinewidth\":0,\"ticks\":\"\"},\"colorscale\":[[0.0,\"#0d0887\"],[0.1111111111111111,\"#46039f\"],[0.2222222222222222,\"#7201a8\"],[0.3333333333333333,\"#9c179e\"],[0.4444444444444444,\"#bd3786\"],[0.5555555555555556,\"#d8576b\"],[0.6666666666666666,\"#ed7953\"],[0.7777777777777778,\"#fb9f3a\"],[0.8888888888888888,\"#fdca26\"],[1.0,\"#f0f921\"]]}],\"choropleth\":[{\"type\":\"choropleth\",\"colorbar\":{\"outlinewidth\":0,\"ticks\":\"\"}}],\"histogram2d\":[{\"type\":\"histogram2d\",\"colorbar\":{\"outlinewidth\":0,\"ticks\":\"\"},\"colorscale\":[[0.0,\"#0d0887\"],[0.1111111111111111,\"#46039f\"],[0.2222222222222222,\"#7201a8\"],[0.3333333333333333,\"#9c179e\"],[0.4444444444444444,\"#bd3786\"],[0.5555555555555556,\"#d8576b\"],[0.6666666666666666,\"#ed7953\"],[0.7777777777777778,\"#fb9f3a\"],[0.8888888888888888,\"#fdca26\"],[1.0,\"#f0f921\"]]}],\"heatmap\":[{\"type\":\"heatmap\",\"colorbar\":{\"outlinewidth\":0,\"ticks\":\"\"},\"colorscale\":[[0.0,\"#0d0887\"],[0.1111111111111111,\"#46039f\"],[0.2222222222222222,\"#7201a8\"],[0.3333333333333333,\"#9c179e\"],[0.4444444444444444,\"#bd3786\"],[0.5555555555555556,\"#d8576b\"],[0.6666666666666666,\"#ed7953\"],[0.7777777777777778,\"#fb9f3a\"],[0.8888888888888888,\"#fdca26\"],[1.0,\"#f0f921\"]]}],\"heatmapgl\":[{\"type\":\"heatmapgl\",\"colorbar\":{\"outlinewidth\":0,\"ticks\":\"\"},\"colorscale\":[[0.0,\"#0d0887\"],[0.1111111111111111,\"#46039f\"],[0.2222222222222222,\"#7201a8\"],[0.3333333333333333,\"#9c179e\"],[0.4444444444444444,\"#bd3786\"],[0.5555555555555556,\"#d8576b\"],[0.6666666666666666,\"#ed7953\"],[0.7777777777777778,\"#fb9f3a\"],[0.8888888888888888,\"#fdca26\"],[1.0,\"#f0f921\"]]}],\"contourcarpet\":[{\"type\":\"contourcarpet\",\"colorbar\":{\"outlinewidth\":0,\"ticks\":\"\"}}],\"contour\":[{\"type\":\"contour\",\"colorbar\":{\"outlinewidth\":0,\"ticks\":\"\"},\"colorscale\":[[0.0,\"#0d0887\"],[0.1111111111111111,\"#46039f\"],[0.2222222222222222,\"#7201a8\"],[0.3333333333333333,\"#9c179e\"],[0.4444444444444444,\"#bd3786\"],[0.5555555555555556,\"#d8576b\"],[0.6666666666666666,\"#ed7953\"],[0.7777777777777778,\"#fb9f3a\"],[0.8888888888888888,\"#fdca26\"],[1.0,\"#f0f921\"]]}],\"surface\":[{\"type\":\"surface\",\"colorbar\":{\"outlinewidth\":0,\"ticks\":\"\"},\"colorscale\":[[0.0,\"#0d0887\"],[0.1111111111111111,\"#46039f\"],[0.2222222222222222,\"#7201a8\"],[0.3333333333333333,\"#9c179e\"],[0.4444444444444444,\"#bd3786\"],[0.5555555555555556,\"#d8576b\"],[0.6666666666666666,\"#ed7953\"],[0.7777777777777778,\"#fb9f3a\"],[0.8888888888888888,\"#fdca26\"],[1.0,\"#f0f921\"]]}],\"mesh3d\":[{\"type\":\"mesh3d\",\"colorbar\":{\"outlinewidth\":0,\"ticks\":\"\"}}],\"scatter\":[{\"fillpattern\":{\"fillmode\":\"overlay\",\"size\":10,\"solidity\":0.2},\"type\":\"scatter\"}],\"parcoords\":[{\"type\":\"parcoords\",\"line\":{\"colorbar\":{\"outlinewidth\":0,\"ticks\":\"\"}}}],\"scatterpolargl\":[{\"type\":\"scatterpolargl\",\"marker\":{\"colorbar\":{\"outlinewidth\":0,\"ticks\":\"\"}}}],\"bar\":[{\"error_x\":{\"color\":\"#2a3f5f\"},\"error_y\":{\"color\":\"#2a3f5f\"},\"marker\":{\"line\":{\"color\":\"#E5ECF6\",\"width\":0.5},\"pattern\":{\"fillmode\":\"overlay\",\"size\":10,\"solidity\":0.2}},\"type\":\"bar\"}],\"scattergeo\":[{\"type\":\"scattergeo\",\"marker\":{\"colorbar\":{\"outlinewidth\":0,\"ticks\":\"\"}}}],\"scatterpolar\":[{\"type\":\"scatterpolar\",\"marker\":{\"colorbar\":{\"outlinewidth\":0,\"ticks\":\"\"}}}],\"histogram\":[{\"marker\":{\"pattern\":{\"fillmode\":\"overlay\",\"size\":10,\"solidity\":0.2}},\"type\":\"histogram\"}],\"scattergl\":[{\"type\":\"scattergl\",\"marker\":{\"colorbar\":{\"outlinewidth\":0,\"ticks\":\"\"}}}],\"scatter3d\":[{\"type\":\"scatter3d\",\"line\":{\"colorbar\":{\"outlinewidth\":0,\"ticks\":\"\"}},\"marker\":{\"colorbar\":{\"outlinewidth\":0,\"ticks\":\"\"}}}],\"scattermapbox\":[{\"type\":\"scattermapbox\",\"marker\":{\"colorbar\":{\"outlinewidth\":0,\"ticks\":\"\"}}}],\"scatterternary\":[{\"type\":\"scatterternary\",\"marker\":{\"colorbar\":{\"outlinewidth\":0,\"ticks\":\"\"}}}],\"scattercarpet\":[{\"type\":\"scattercarpet\",\"marker\":{\"colorbar\":{\"outlinewidth\":0,\"ticks\":\"\"}}}],\"carpet\":[{\"aaxis\":{\"endlinecolor\":\"#2a3f5f\",\"gridcolor\":\"white\",\"linecolor\":\"white\",\"minorgridcolor\":\"white\",\"startlinecolor\":\"#2a3f5f\"},\"baxis\":{\"endlinecolor\":\"#2a3f5f\",\"gridcolor\":\"white\",\"linecolor\":\"white\",\"minorgridcolor\":\"white\",\"startlinecolor\":\"#2a3f5f\"},\"type\":\"carpet\"}],\"table\":[{\"cells\":{\"fill\":{\"color\":\"#EBF0F8\"},\"line\":{\"color\":\"white\"}},\"header\":{\"fill\":{\"color\":\"#C8D4E3\"},\"line\":{\"color\":\"white\"}},\"type\":\"table\"}],\"barpolar\":[{\"marker\":{\"line\":{\"color\":\"#E5ECF6\",\"width\":0.5},\"pattern\":{\"fillmode\":\"overlay\",\"size\":10,\"solidity\":0.2}},\"type\":\"barpolar\"}],\"pie\":[{\"automargin\":true,\"type\":\"pie\"}]},\"layout\":{\"autotypenumbers\":\"strict\",\"colorway\":[\"#636efa\",\"#EF553B\",\"#00cc96\",\"#ab63fa\",\"#FFA15A\",\"#19d3f3\",\"#FF6692\",\"#B6E880\",\"#FF97FF\",\"#FECB52\"],\"font\":{\"color\":\"#2a3f5f\"},\"hovermode\":\"closest\",\"hoverlabel\":{\"align\":\"left\"},\"paper_bgcolor\":\"white\",\"plot_bgcolor\":\"#E5ECF6\",\"polar\":{\"bgcolor\":\"#E5ECF6\",\"angularaxis\":{\"gridcolor\":\"white\",\"linecolor\":\"white\",\"ticks\":\"\"},\"radialaxis\":{\"gridcolor\":\"white\",\"linecolor\":\"white\",\"ticks\":\"\"}},\"ternary\":{\"bgcolor\":\"#E5ECF6\",\"aaxis\":{\"gridcolor\":\"white\",\"linecolor\":\"white\",\"ticks\":\"\"},\"baxis\":{\"gridcolor\":\"white\",\"linecolor\":\"white\",\"ticks\":\"\"},\"caxis\":{\"gridcolor\":\"white\",\"linecolor\":\"white\",\"ticks\":\"\"}},\"coloraxis\":{\"colorbar\":{\"outlinewidth\":0,\"ticks\":\"\"}},\"colorscale\":{\"sequential\":[[0.0,\"#0d0887\"],[0.1111111111111111,\"#46039f\"],[0.2222222222222222,\"#7201a8\"],[0.3333333333333333,\"#9c179e\"],[0.4444444444444444,\"#bd3786\"],[0.5555555555555556,\"#d8576b\"],[0.6666666666666666,\"#ed7953\"],[0.7777777777777778,\"#fb9f3a\"],[0.8888888888888888,\"#fdca26\"],[1.0,\"#f0f921\"]],\"sequentialminus\":[[0.0,\"#0d0887\"],[0.1111111111111111,\"#46039f\"],[0.2222222222222222,\"#7201a8\"],[0.3333333333333333,\"#9c179e\"],[0.4444444444444444,\"#bd3786\"],[0.5555555555555556,\"#d8576b\"],[0.6666666666666666,\"#ed7953\"],[0.7777777777777778,\"#fb9f3a\"],[0.8888888888888888,\"#fdca26\"],[1.0,\"#f0f921\"]],\"diverging\":[[0,\"#8e0152\"],[0.1,\"#c51b7d\"],[0.2,\"#de77ae\"],[0.3,\"#f1b6da\"],[0.4,\"#fde0ef\"],[0.5,\"#f7f7f7\"],[0.6,\"#e6f5d0\"],[0.7,\"#b8e186\"],[0.8,\"#7fbc41\"],[0.9,\"#4d9221\"],[1,\"#276419\"]]},\"xaxis\":{\"gridcolor\":\"white\",\"linecolor\":\"white\",\"ticks\":\"\",\"title\":{\"standoff\":15},\"zerolinecolor\":\"white\",\"automargin\":true,\"zerolinewidth\":2},\"yaxis\":{\"gridcolor\":\"white\",\"linecolor\":\"white\",\"ticks\":\"\",\"title\":{\"standoff\":15},\"zerolinecolor\":\"white\",\"automargin\":true,\"zerolinewidth\":2},\"scene\":{\"xaxis\":{\"backgroundcolor\":\"#E5ECF6\",\"gridcolor\":\"white\",\"linecolor\":\"white\",\"showbackground\":true,\"ticks\":\"\",\"zerolinecolor\":\"white\",\"gridwidth\":2},\"yaxis\":{\"backgroundcolor\":\"#E5ECF6\",\"gridcolor\":\"white\",\"linecolor\":\"white\",\"showbackground\":true,\"ticks\":\"\",\"zerolinecolor\":\"white\",\"gridwidth\":2},\"zaxis\":{\"backgroundcolor\":\"#E5ECF6\",\"gridcolor\":\"white\",\"linecolor\":\"white\",\"showbackground\":true,\"ticks\":\"\",\"zerolinecolor\":\"white\",\"gridwidth\":2}},\"shapedefaults\":{\"line\":{\"color\":\"#2a3f5f\"}},\"annotationdefaults\":{\"arrowcolor\":\"#2a3f5f\",\"arrowhead\":0,\"arrowwidth\":1},\"geo\":{\"bgcolor\":\"white\",\"landcolor\":\"#E5ECF6\",\"subunitcolor\":\"white\",\"showland\":true,\"showlakes\":true,\"lakecolor\":\"white\"},\"title\":{\"x\":0.05},\"mapbox\":{\"style\":\"light\"}}},\"xaxis\":{\"anchor\":\"y\",\"domain\":[0.0,1.0],\"title\":{\"text\":\"adp\"}},\"yaxis\":{\"anchor\":\"x\",\"domain\":[0.0,1.0],\"title\":{\"text\":\"fantasyPoints\"}},\"coloraxis\":{\"colorbar\":{\"title\":{\"text\":\"adp\"}},\"colorscale\":[[0.0,\"#0d0887\"],[0.1111111111111111,\"#46039f\"],[0.2222222222222222,\"#7201a8\"],[0.3333333333333333,\"#9c179e\"],[0.4444444444444444,\"#bd3786\"],[0.5555555555555556,\"#d8576b\"],[0.6666666666666666,\"#ed7953\"],[0.7777777777777778,\"#fb9f3a\"],[0.8888888888888888,\"#fdca26\"],[1.0,\"#f0f921\"]]},\"legend\":{\"tracegroupgap\":0},\"title\":{\"text\":\"Top 24 TEs | ADP vs Projected FP\"}},                        {\"responsive\": true}                    ).then(function(){\n",
       "                            \n",
       "var gd = document.getElementById('b2e86b7d-7512-4890-8053-7140209d5637');\n",
       "var x = new MutationObserver(function (mutations, observer) {{\n",
       "        var display = window.getComputedStyle(gd).display;\n",
       "        if (!display || display === 'none') {{\n",
       "            console.log([gd, 'removed!']);\n",
       "            Plotly.purge(gd);\n",
       "            observer.disconnect();\n",
       "        }}\n",
       "}});\n",
       "\n",
       "// Listen for the removal of the full notebook cells\n",
       "var notebookContainer = gd.closest('#notebook-container');\n",
       "if (notebookContainer) {{\n",
       "    x.observe(notebookContainer, {childList: true});\n",
       "}}\n",
       "\n",
       "// Listen for the clearing of the current output cell\n",
       "var outputEl = gd.closest('.output');\n",
       "if (outputEl) {{\n",
       "    x.observe(outputEl, {childList: true});\n",
       "}}\n",
       "\n",
       "                        })                };                });            </script>        </div>"
      ]
     },
     "metadata": {},
     "output_type": "display_data"
    },
    {
     "data": {
      "application/vnd.plotly.v1+json": {
       "config": {
        "plotlyServerURL": "https://plot.ly"
       },
       "data": [
        {
         "customdata": [
          [
           "Travis Kelce",
           "KC"
          ],
          [
           "Mark Andrews",
           "BAL"
          ],
          [
           "Kyle Pitts",
           "ATL"
          ],
          [
           "George Kittle",
           "SF"
          ],
          [
           "Darren Waller",
           "LV"
          ],
          [
           "T.J. Hockenson",
           "DET"
          ],
          [
           "Dalton Schultz",
           "DAL"
          ],
          [
           "Dallas Goedert",
           "PHI"
          ],
          [
           "Dawson Knox",
           "BUF"
          ],
          [
           "Zach Ertz",
           "ARI"
          ],
          [
           "Pat Freiermuth",
           "PIT"
          ],
          [
           "Mike Gesicki",
           "MIA"
          ],
          [
           "Hunter Henry",
           "NE"
          ],
          [
           "Cole Kmet",
           "CHI"
          ],
          [
           "Albert Okwuegbunam",
           "DEN"
          ],
          [
           "Noah Fant",
           "SEA"
          ],
          [
           "David Njoku",
           "CLE"
          ],
          [
           "Tyler Higbee",
           "LAR"
          ],
          [
           "Robert Tonyan",
           "GB"
          ],
          [
           "Hayden Hurst",
           "CIN"
          ],
          [
           "Gerald Everett",
           "LAC"
          ],
          [
           "Evan Engram",
           "JAX"
          ],
          [
           "Logan Thomas",
           "WAS"
          ],
          [
           "Austin Hooper",
           "TEN"
          ]
         ],
         "hovertemplate": "adp=%{marker.color}<br>fantasyPoints=%{y}<br>playerName=%{customdata[0]}<br>teamName=%{customdata[1]}<extra></extra>",
         "legendgroup": "",
         "marker": {
          "color": [
           12.1,
           20.1,
           26.8,
           32.3,
           39.1,
           55.4,
           62.3,
           74.8,
           89,
           92.9,
           101.7,
           103.6,
           122.1,
           123.3,
           130.1,
           143.7,
           148.8,
           151,
           167.7,
           172.6,
           179.2,
           185.2,
           190.4,
           193.1
          ],
          "coloraxis": "coloraxis",
          "size": 10,
          "symbol": "circle"
         },
         "mode": "markers+text",
         "name": "",
         "orientation": "v",
         "showlegend": false,
         "text": [
          "Travis Kelce",
          "Mark Andrews",
          "Kyle Pitts",
          "George Kittle",
          "Darren Waller",
          "T.J. Hockenson",
          "Dalton Schultz",
          "Dallas Goedert",
          "Dawson Knox",
          "Zach Ertz",
          "Pat Freiermuth",
          "Mike Gesicki",
          "Hunter Henry",
          "Cole Kmet",
          "Albert Okwuegbunam",
          "Noah Fant",
          "David Njoku",
          "Tyler Higbee",
          "Robert Tonyan",
          "Hayden Hurst",
          "Gerald Everett",
          "Evan Engram",
          "Logan Thomas",
          "Austin Hooper"
         ],
         "textfont": {
          "size": 6
         },
         "textposition": "top center",
         "type": "scatter",
         "x": [
          12.1,
          20.1,
          26.8,
          32.3,
          39.1,
          55.4,
          62.3,
          74.8,
          89,
          92.9,
          101.7,
          103.6,
          122.1,
          123.3,
          130.1,
          143.7,
          148.8,
          151,
          167.7,
          172.6,
          179.2,
          185.2,
          190.4,
          193.1
         ],
         "xaxis": "x",
         "y": [
          292.1,
          257.8,
          210.2,
          227,
          186.3,
          140.6,
          174.7,
          164.8,
          167.5,
          142.7,
          113.8,
          133,
          126.6,
          148.4,
          93.3,
          138,
          154.8,
          158.5,
          141.4,
          114.5,
          147.6,
          100.4,
          98.6,
          95.1
         ],
         "yaxis": "y"
        },
        {
         "hovertemplate": "<b>OLS trendline</b><br>fantasyPoints = -0.691564 * adp + 230.739<br>R<sup>2</sup>=0.648277<br><br>adp=%{x}<br>fantasyPoints=%{y} <b>(trend)</b><extra></extra>",
         "legendgroup": "",
         "marker": {
          "size": 10,
          "symbol": "circle"
         },
         "mode": "lines",
         "name": "",
         "showlegend": false,
         "textfont": {
          "size": 6
         },
         "textposition": "top center",
         "type": "scatter",
         "x": [
          12.1,
          20.1,
          26.8,
          32.3,
          39.1,
          55.4,
          62.3,
          74.8,
          89,
          92.9,
          101.7,
          103.6,
          122.1,
          123.3,
          130.1,
          143.7,
          148.8,
          151,
          167.7,
          172.6,
          179.2,
          185.2,
          190.4,
          193.1
         ],
         "xaxis": "x",
         "y": [
          222.37086735421343,
          216.83835348081578,
          212.20487311184527,
          208.40126982388438,
          203.6986330314964,
          192.42613601444873,
          187.65434279864326,
          179.00978987145945,
          169.18957774617866,
          166.4924772328973,
          160.4067119721599,
          159.09273992722797,
          146.29880159499595,
          145.46892451398628,
          140.7662877215983,
          131.36101413682235,
          127.83403654253132,
          126.31259522734699,
          114.76347251662942,
          111.37480776917337,
          106.81048382362033,
          102.6610984185721,
          99.06496440086363,
          97.19774096859194
         ],
         "yaxis": "y"
        }
       ],
       "layout": {
        "coloraxis": {
         "colorbar": {
          "title": {
           "text": "adp"
          }
         },
         "colorscale": [
          [
           0,
           "#0d0887"
          ],
          [
           0.1111111111111111,
           "#46039f"
          ],
          [
           0.2222222222222222,
           "#7201a8"
          ],
          [
           0.3333333333333333,
           "#9c179e"
          ],
          [
           0.4444444444444444,
           "#bd3786"
          ],
          [
           0.5555555555555556,
           "#d8576b"
          ],
          [
           0.6666666666666666,
           "#ed7953"
          ],
          [
           0.7777777777777778,
           "#fb9f3a"
          ],
          [
           0.8888888888888888,
           "#fdca26"
          ],
          [
           1,
           "#f0f921"
          ]
         ]
        },
        "legend": {
         "tracegroupgap": 0
        },
        "template": {
         "data": {
          "bar": [
           {
            "error_x": {
             "color": "#2a3f5f"
            },
            "error_y": {
             "color": "#2a3f5f"
            },
            "marker": {
             "line": {
              "color": "#E5ECF6",
              "width": 0.5
             },
             "pattern": {
              "fillmode": "overlay",
              "size": 10,
              "solidity": 0.2
             }
            },
            "type": "bar"
           }
          ],
          "barpolar": [
           {
            "marker": {
             "line": {
              "color": "#E5ECF6",
              "width": 0.5
             },
             "pattern": {
              "fillmode": "overlay",
              "size": 10,
              "solidity": 0.2
             }
            },
            "type": "barpolar"
           }
          ],
          "carpet": [
           {
            "aaxis": {
             "endlinecolor": "#2a3f5f",
             "gridcolor": "white",
             "linecolor": "white",
             "minorgridcolor": "white",
             "startlinecolor": "#2a3f5f"
            },
            "baxis": {
             "endlinecolor": "#2a3f5f",
             "gridcolor": "white",
             "linecolor": "white",
             "minorgridcolor": "white",
             "startlinecolor": "#2a3f5f"
            },
            "type": "carpet"
           }
          ],
          "choropleth": [
           {
            "colorbar": {
             "outlinewidth": 0,
             "ticks": ""
            },
            "type": "choropleth"
           }
          ],
          "contour": [
           {
            "colorbar": {
             "outlinewidth": 0,
             "ticks": ""
            },
            "colorscale": [
             [
              0,
              "#0d0887"
             ],
             [
              0.1111111111111111,
              "#46039f"
             ],
             [
              0.2222222222222222,
              "#7201a8"
             ],
             [
              0.3333333333333333,
              "#9c179e"
             ],
             [
              0.4444444444444444,
              "#bd3786"
             ],
             [
              0.5555555555555556,
              "#d8576b"
             ],
             [
              0.6666666666666666,
              "#ed7953"
             ],
             [
              0.7777777777777778,
              "#fb9f3a"
             ],
             [
              0.8888888888888888,
              "#fdca26"
             ],
             [
              1,
              "#f0f921"
             ]
            ],
            "type": "contour"
           }
          ],
          "contourcarpet": [
           {
            "colorbar": {
             "outlinewidth": 0,
             "ticks": ""
            },
            "type": "contourcarpet"
           }
          ],
          "heatmap": [
           {
            "colorbar": {
             "outlinewidth": 0,
             "ticks": ""
            },
            "colorscale": [
             [
              0,
              "#0d0887"
             ],
             [
              0.1111111111111111,
              "#46039f"
             ],
             [
              0.2222222222222222,
              "#7201a8"
             ],
             [
              0.3333333333333333,
              "#9c179e"
             ],
             [
              0.4444444444444444,
              "#bd3786"
             ],
             [
              0.5555555555555556,
              "#d8576b"
             ],
             [
              0.6666666666666666,
              "#ed7953"
             ],
             [
              0.7777777777777778,
              "#fb9f3a"
             ],
             [
              0.8888888888888888,
              "#fdca26"
             ],
             [
              1,
              "#f0f921"
             ]
            ],
            "type": "heatmap"
           }
          ],
          "heatmapgl": [
           {
            "colorbar": {
             "outlinewidth": 0,
             "ticks": ""
            },
            "colorscale": [
             [
              0,
              "#0d0887"
             ],
             [
              0.1111111111111111,
              "#46039f"
             ],
             [
              0.2222222222222222,
              "#7201a8"
             ],
             [
              0.3333333333333333,
              "#9c179e"
             ],
             [
              0.4444444444444444,
              "#bd3786"
             ],
             [
              0.5555555555555556,
              "#d8576b"
             ],
             [
              0.6666666666666666,
              "#ed7953"
             ],
             [
              0.7777777777777778,
              "#fb9f3a"
             ],
             [
              0.8888888888888888,
              "#fdca26"
             ],
             [
              1,
              "#f0f921"
             ]
            ],
            "type": "heatmapgl"
           }
          ],
          "histogram": [
           {
            "marker": {
             "pattern": {
              "fillmode": "overlay",
              "size": 10,
              "solidity": 0.2
             }
            },
            "type": "histogram"
           }
          ],
          "histogram2d": [
           {
            "colorbar": {
             "outlinewidth": 0,
             "ticks": ""
            },
            "colorscale": [
             [
              0,
              "#0d0887"
             ],
             [
              0.1111111111111111,
              "#46039f"
             ],
             [
              0.2222222222222222,
              "#7201a8"
             ],
             [
              0.3333333333333333,
              "#9c179e"
             ],
             [
              0.4444444444444444,
              "#bd3786"
             ],
             [
              0.5555555555555556,
              "#d8576b"
             ],
             [
              0.6666666666666666,
              "#ed7953"
             ],
             [
              0.7777777777777778,
              "#fb9f3a"
             ],
             [
              0.8888888888888888,
              "#fdca26"
             ],
             [
              1,
              "#f0f921"
             ]
            ],
            "type": "histogram2d"
           }
          ],
          "histogram2dcontour": [
           {
            "colorbar": {
             "outlinewidth": 0,
             "ticks": ""
            },
            "colorscale": [
             [
              0,
              "#0d0887"
             ],
             [
              0.1111111111111111,
              "#46039f"
             ],
             [
              0.2222222222222222,
              "#7201a8"
             ],
             [
              0.3333333333333333,
              "#9c179e"
             ],
             [
              0.4444444444444444,
              "#bd3786"
             ],
             [
              0.5555555555555556,
              "#d8576b"
             ],
             [
              0.6666666666666666,
              "#ed7953"
             ],
             [
              0.7777777777777778,
              "#fb9f3a"
             ],
             [
              0.8888888888888888,
              "#fdca26"
             ],
             [
              1,
              "#f0f921"
             ]
            ],
            "type": "histogram2dcontour"
           }
          ],
          "mesh3d": [
           {
            "colorbar": {
             "outlinewidth": 0,
             "ticks": ""
            },
            "type": "mesh3d"
           }
          ],
          "parcoords": [
           {
            "line": {
             "colorbar": {
              "outlinewidth": 0,
              "ticks": ""
             }
            },
            "type": "parcoords"
           }
          ],
          "pie": [
           {
            "automargin": true,
            "type": "pie"
           }
          ],
          "scatter": [
           {
            "fillpattern": {
             "fillmode": "overlay",
             "size": 10,
             "solidity": 0.2
            },
            "type": "scatter"
           }
          ],
          "scatter3d": [
           {
            "line": {
             "colorbar": {
              "outlinewidth": 0,
              "ticks": ""
             }
            },
            "marker": {
             "colorbar": {
              "outlinewidth": 0,
              "ticks": ""
             }
            },
            "type": "scatter3d"
           }
          ],
          "scattercarpet": [
           {
            "marker": {
             "colorbar": {
              "outlinewidth": 0,
              "ticks": ""
             }
            },
            "type": "scattercarpet"
           }
          ],
          "scattergeo": [
           {
            "marker": {
             "colorbar": {
              "outlinewidth": 0,
              "ticks": ""
             }
            },
            "type": "scattergeo"
           }
          ],
          "scattergl": [
           {
            "marker": {
             "colorbar": {
              "outlinewidth": 0,
              "ticks": ""
             }
            },
            "type": "scattergl"
           }
          ],
          "scattermapbox": [
           {
            "marker": {
             "colorbar": {
              "outlinewidth": 0,
              "ticks": ""
             }
            },
            "type": "scattermapbox"
           }
          ],
          "scatterpolar": [
           {
            "marker": {
             "colorbar": {
              "outlinewidth": 0,
              "ticks": ""
             }
            },
            "type": "scatterpolar"
           }
          ],
          "scatterpolargl": [
           {
            "marker": {
             "colorbar": {
              "outlinewidth": 0,
              "ticks": ""
             }
            },
            "type": "scatterpolargl"
           }
          ],
          "scatterternary": [
           {
            "marker": {
             "colorbar": {
              "outlinewidth": 0,
              "ticks": ""
             }
            },
            "type": "scatterternary"
           }
          ],
          "surface": [
           {
            "colorbar": {
             "outlinewidth": 0,
             "ticks": ""
            },
            "colorscale": [
             [
              0,
              "#0d0887"
             ],
             [
              0.1111111111111111,
              "#46039f"
             ],
             [
              0.2222222222222222,
              "#7201a8"
             ],
             [
              0.3333333333333333,
              "#9c179e"
             ],
             [
              0.4444444444444444,
              "#bd3786"
             ],
             [
              0.5555555555555556,
              "#d8576b"
             ],
             [
              0.6666666666666666,
              "#ed7953"
             ],
             [
              0.7777777777777778,
              "#fb9f3a"
             ],
             [
              0.8888888888888888,
              "#fdca26"
             ],
             [
              1,
              "#f0f921"
             ]
            ],
            "type": "surface"
           }
          ],
          "table": [
           {
            "cells": {
             "fill": {
              "color": "#EBF0F8"
             },
             "line": {
              "color": "white"
             }
            },
            "header": {
             "fill": {
              "color": "#C8D4E3"
             },
             "line": {
              "color": "white"
             }
            },
            "type": "table"
           }
          ]
         },
         "layout": {
          "annotationdefaults": {
           "arrowcolor": "#2a3f5f",
           "arrowhead": 0,
           "arrowwidth": 1
          },
          "autotypenumbers": "strict",
          "coloraxis": {
           "colorbar": {
            "outlinewidth": 0,
            "ticks": ""
           }
          },
          "colorscale": {
           "diverging": [
            [
             0,
             "#8e0152"
            ],
            [
             0.1,
             "#c51b7d"
            ],
            [
             0.2,
             "#de77ae"
            ],
            [
             0.3,
             "#f1b6da"
            ],
            [
             0.4,
             "#fde0ef"
            ],
            [
             0.5,
             "#f7f7f7"
            ],
            [
             0.6,
             "#e6f5d0"
            ],
            [
             0.7,
             "#b8e186"
            ],
            [
             0.8,
             "#7fbc41"
            ],
            [
             0.9,
             "#4d9221"
            ],
            [
             1,
             "#276419"
            ]
           ],
           "sequential": [
            [
             0,
             "#0d0887"
            ],
            [
             0.1111111111111111,
             "#46039f"
            ],
            [
             0.2222222222222222,
             "#7201a8"
            ],
            [
             0.3333333333333333,
             "#9c179e"
            ],
            [
             0.4444444444444444,
             "#bd3786"
            ],
            [
             0.5555555555555556,
             "#d8576b"
            ],
            [
             0.6666666666666666,
             "#ed7953"
            ],
            [
             0.7777777777777778,
             "#fb9f3a"
            ],
            [
             0.8888888888888888,
             "#fdca26"
            ],
            [
             1,
             "#f0f921"
            ]
           ],
           "sequentialminus": [
            [
             0,
             "#0d0887"
            ],
            [
             0.1111111111111111,
             "#46039f"
            ],
            [
             0.2222222222222222,
             "#7201a8"
            ],
            [
             0.3333333333333333,
             "#9c179e"
            ],
            [
             0.4444444444444444,
             "#bd3786"
            ],
            [
             0.5555555555555556,
             "#d8576b"
            ],
            [
             0.6666666666666666,
             "#ed7953"
            ],
            [
             0.7777777777777778,
             "#fb9f3a"
            ],
            [
             0.8888888888888888,
             "#fdca26"
            ],
            [
             1,
             "#f0f921"
            ]
           ]
          },
          "colorway": [
           "#636efa",
           "#EF553B",
           "#00cc96",
           "#ab63fa",
           "#FFA15A",
           "#19d3f3",
           "#FF6692",
           "#B6E880",
           "#FF97FF",
           "#FECB52"
          ],
          "font": {
           "color": "#2a3f5f"
          },
          "geo": {
           "bgcolor": "white",
           "lakecolor": "white",
           "landcolor": "#E5ECF6",
           "showlakes": true,
           "showland": true,
           "subunitcolor": "white"
          },
          "hoverlabel": {
           "align": "left"
          },
          "hovermode": "closest",
          "mapbox": {
           "style": "light"
          },
          "paper_bgcolor": "white",
          "plot_bgcolor": "#E5ECF6",
          "polar": {
           "angularaxis": {
            "gridcolor": "white",
            "linecolor": "white",
            "ticks": ""
           },
           "bgcolor": "#E5ECF6",
           "radialaxis": {
            "gridcolor": "white",
            "linecolor": "white",
            "ticks": ""
           }
          },
          "scene": {
           "xaxis": {
            "backgroundcolor": "#E5ECF6",
            "gridcolor": "white",
            "gridwidth": 2,
            "linecolor": "white",
            "showbackground": true,
            "ticks": "",
            "zerolinecolor": "white"
           },
           "yaxis": {
            "backgroundcolor": "#E5ECF6",
            "gridcolor": "white",
            "gridwidth": 2,
            "linecolor": "white",
            "showbackground": true,
            "ticks": "",
            "zerolinecolor": "white"
           },
           "zaxis": {
            "backgroundcolor": "#E5ECF6",
            "gridcolor": "white",
            "gridwidth": 2,
            "linecolor": "white",
            "showbackground": true,
            "ticks": "",
            "zerolinecolor": "white"
           }
          },
          "shapedefaults": {
           "line": {
            "color": "#2a3f5f"
           }
          },
          "ternary": {
           "aaxis": {
            "gridcolor": "white",
            "linecolor": "white",
            "ticks": ""
           },
           "baxis": {
            "gridcolor": "white",
            "linecolor": "white",
            "ticks": ""
           },
           "bgcolor": "#E5ECF6",
           "caxis": {
            "gridcolor": "white",
            "linecolor": "white",
            "ticks": ""
           }
          },
          "title": {
           "x": 0.05
          },
          "xaxis": {
           "automargin": true,
           "gridcolor": "white",
           "linecolor": "white",
           "ticks": "",
           "title": {
            "standoff": 15
           },
           "zerolinecolor": "white",
           "zerolinewidth": 2
          },
          "yaxis": {
           "automargin": true,
           "gridcolor": "white",
           "linecolor": "white",
           "ticks": "",
           "title": {
            "standoff": 15
           },
           "zerolinecolor": "white",
           "zerolinewidth": 2
          }
         }
        },
        "title": {
         "text": "Top 24 TEs | ADP vs Projected FP"
        },
        "xaxis": {
         "anchor": "y",
         "domain": [
          0,
          1
         ],
         "title": {
          "text": "adp"
         }
        },
        "yaxis": {
         "anchor": "x",
         "domain": [
          0,
          1
         ],
         "title": {
          "text": "fantasyPoints"
         }
        }
       }
      },
      "text/html": [
       "<div>                            <div id=\"b2e86b7d-7512-4890-8053-7140209d5637\" class=\"plotly-graph-div\" style=\"height:525px; width:100%;\"></div>            <script type=\"text/javascript\">                require([\"plotly\"], function(Plotly) {                    window.PLOTLYENV=window.PLOTLYENV || {};                                    if (document.getElementById(\"b2e86b7d-7512-4890-8053-7140209d5637\")) {                    Plotly.newPlot(                        \"b2e86b7d-7512-4890-8053-7140209d5637\",                        [{\"customdata\":[[\"Travis Kelce\",\"KC\"],[\"Mark Andrews\",\"BAL\"],[\"Kyle Pitts\",\"ATL\"],[\"George Kittle\",\"SF\"],[\"Darren Waller\",\"LV\"],[\"T.J. Hockenson\",\"DET\"],[\"Dalton Schultz\",\"DAL\"],[\"Dallas Goedert\",\"PHI\"],[\"Dawson Knox\",\"BUF\"],[\"Zach Ertz\",\"ARI\"],[\"Pat Freiermuth\",\"PIT\"],[\"Mike Gesicki\",\"MIA\"],[\"Hunter Henry\",\"NE\"],[\"Cole Kmet\",\"CHI\"],[\"Albert Okwuegbunam\",\"DEN\"],[\"Noah Fant\",\"SEA\"],[\"David Njoku\",\"CLE\"],[\"Tyler Higbee\",\"LAR\"],[\"Robert Tonyan\",\"GB\"],[\"Hayden Hurst\",\"CIN\"],[\"Gerald Everett\",\"LAC\"],[\"Evan Engram\",\"JAX\"],[\"Logan Thomas\",\"WAS\"],[\"Austin Hooper\",\"TEN\"]],\"hovertemplate\":\"adp=%{marker.color}<br>fantasyPoints=%{y}<br>playerName=%{customdata[0]}<br>teamName=%{customdata[1]}<extra></extra>\",\"legendgroup\":\"\",\"marker\":{\"color\":[12.1,20.1,26.8,32.3,39.1,55.4,62.3,74.8,89.0,92.9,101.7,103.6,122.1,123.3,130.1,143.7,148.8,151.0,167.7,172.6,179.2,185.2,190.4,193.1],\"coloraxis\":\"coloraxis\",\"symbol\":\"circle\",\"size\":10},\"mode\":\"markers+text\",\"name\":\"\",\"orientation\":\"v\",\"showlegend\":false,\"text\":[\"Travis Kelce\",\"Mark Andrews\",\"Kyle Pitts\",\"George Kittle\",\"Darren Waller\",\"T.J. Hockenson\",\"Dalton Schultz\",\"Dallas Goedert\",\"Dawson Knox\",\"Zach Ertz\",\"Pat Freiermuth\",\"Mike Gesicki\",\"Hunter Henry\",\"Cole Kmet\",\"Albert Okwuegbunam\",\"Noah Fant\",\"David Njoku\",\"Tyler Higbee\",\"Robert Tonyan\",\"Hayden Hurst\",\"Gerald Everett\",\"Evan Engram\",\"Logan Thomas\",\"Austin Hooper\"],\"x\":[12.1,20.1,26.8,32.3,39.1,55.4,62.3,74.8,89.0,92.9,101.7,103.6,122.1,123.3,130.1,143.7,148.8,151.0,167.7,172.6,179.2,185.2,190.4,193.1],\"xaxis\":\"x\",\"y\":[292.1,257.8,210.2,227.0,186.3,140.6,174.7,164.8,167.5,142.7,113.8,133.0,126.6,148.4,93.3,138.0,154.8,158.5,141.4,114.5,147.6,100.4,98.6,95.1],\"yaxis\":\"y\",\"type\":\"scatter\",\"textfont\":{\"size\":6},\"textposition\":\"top center\"},{\"hovertemplate\":\"<b>OLS trendline</b><br>fantasyPoints = -0.691564 * adp + 230.739<br>R<sup>2</sup>=0.648277<br><br>adp=%{x}<br>fantasyPoints=%{y} <b>(trend)</b><extra></extra>\",\"legendgroup\":\"\",\"marker\":{\"symbol\":\"circle\",\"size\":10},\"mode\":\"lines\",\"name\":\"\",\"showlegend\":false,\"x\":[12.1,20.1,26.8,32.3,39.1,55.4,62.3,74.8,89.0,92.9,101.7,103.6,122.1,123.3,130.1,143.7,148.8,151.0,167.7,172.6,179.2,185.2,190.4,193.1],\"xaxis\":\"x\",\"y\":[222.37086735421343,216.83835348081578,212.20487311184527,208.40126982388438,203.6986330314964,192.42613601444873,187.65434279864326,179.00978987145945,169.18957774617866,166.4924772328973,160.4067119721599,159.09273992722797,146.29880159499595,145.46892451398628,140.7662877215983,131.36101413682235,127.83403654253132,126.31259522734699,114.76347251662942,111.37480776917337,106.81048382362033,102.6610984185721,99.06496440086363,97.19774096859194],\"yaxis\":\"y\",\"type\":\"scatter\",\"textfont\":{\"size\":6},\"textposition\":\"top center\"}],                        {\"template\":{\"data\":{\"histogram2dcontour\":[{\"type\":\"histogram2dcontour\",\"colorbar\":{\"outlinewidth\":0,\"ticks\":\"\"},\"colorscale\":[[0.0,\"#0d0887\"],[0.1111111111111111,\"#46039f\"],[0.2222222222222222,\"#7201a8\"],[0.3333333333333333,\"#9c179e\"],[0.4444444444444444,\"#bd3786\"],[0.5555555555555556,\"#d8576b\"],[0.6666666666666666,\"#ed7953\"],[0.7777777777777778,\"#fb9f3a\"],[0.8888888888888888,\"#fdca26\"],[1.0,\"#f0f921\"]]}],\"choropleth\":[{\"type\":\"choropleth\",\"colorbar\":{\"outlinewidth\":0,\"ticks\":\"\"}}],\"histogram2d\":[{\"type\":\"histogram2d\",\"colorbar\":{\"outlinewidth\":0,\"ticks\":\"\"},\"colorscale\":[[0.0,\"#0d0887\"],[0.1111111111111111,\"#46039f\"],[0.2222222222222222,\"#7201a8\"],[0.3333333333333333,\"#9c179e\"],[0.4444444444444444,\"#bd3786\"],[0.5555555555555556,\"#d8576b\"],[0.6666666666666666,\"#ed7953\"],[0.7777777777777778,\"#fb9f3a\"],[0.8888888888888888,\"#fdca26\"],[1.0,\"#f0f921\"]]}],\"heatmap\":[{\"type\":\"heatmap\",\"colorbar\":{\"outlinewidth\":0,\"ticks\":\"\"},\"colorscale\":[[0.0,\"#0d0887\"],[0.1111111111111111,\"#46039f\"],[0.2222222222222222,\"#7201a8\"],[0.3333333333333333,\"#9c179e\"],[0.4444444444444444,\"#bd3786\"],[0.5555555555555556,\"#d8576b\"],[0.6666666666666666,\"#ed7953\"],[0.7777777777777778,\"#fb9f3a\"],[0.8888888888888888,\"#fdca26\"],[1.0,\"#f0f921\"]]}],\"heatmapgl\":[{\"type\":\"heatmapgl\",\"colorbar\":{\"outlinewidth\":0,\"ticks\":\"\"},\"colorscale\":[[0.0,\"#0d0887\"],[0.1111111111111111,\"#46039f\"],[0.2222222222222222,\"#7201a8\"],[0.3333333333333333,\"#9c179e\"],[0.4444444444444444,\"#bd3786\"],[0.5555555555555556,\"#d8576b\"],[0.6666666666666666,\"#ed7953\"],[0.7777777777777778,\"#fb9f3a\"],[0.8888888888888888,\"#fdca26\"],[1.0,\"#f0f921\"]]}],\"contourcarpet\":[{\"type\":\"contourcarpet\",\"colorbar\":{\"outlinewidth\":0,\"ticks\":\"\"}}],\"contour\":[{\"type\":\"contour\",\"colorbar\":{\"outlinewidth\":0,\"ticks\":\"\"},\"colorscale\":[[0.0,\"#0d0887\"],[0.1111111111111111,\"#46039f\"],[0.2222222222222222,\"#7201a8\"],[0.3333333333333333,\"#9c179e\"],[0.4444444444444444,\"#bd3786\"],[0.5555555555555556,\"#d8576b\"],[0.6666666666666666,\"#ed7953\"],[0.7777777777777778,\"#fb9f3a\"],[0.8888888888888888,\"#fdca26\"],[1.0,\"#f0f921\"]]}],\"surface\":[{\"type\":\"surface\",\"colorbar\":{\"outlinewidth\":0,\"ticks\":\"\"},\"colorscale\":[[0.0,\"#0d0887\"],[0.1111111111111111,\"#46039f\"],[0.2222222222222222,\"#7201a8\"],[0.3333333333333333,\"#9c179e\"],[0.4444444444444444,\"#bd3786\"],[0.5555555555555556,\"#d8576b\"],[0.6666666666666666,\"#ed7953\"],[0.7777777777777778,\"#fb9f3a\"],[0.8888888888888888,\"#fdca26\"],[1.0,\"#f0f921\"]]}],\"mesh3d\":[{\"type\":\"mesh3d\",\"colorbar\":{\"outlinewidth\":0,\"ticks\":\"\"}}],\"scatter\":[{\"fillpattern\":{\"fillmode\":\"overlay\",\"size\":10,\"solidity\":0.2},\"type\":\"scatter\"}],\"parcoords\":[{\"type\":\"parcoords\",\"line\":{\"colorbar\":{\"outlinewidth\":0,\"ticks\":\"\"}}}],\"scatterpolargl\":[{\"type\":\"scatterpolargl\",\"marker\":{\"colorbar\":{\"outlinewidth\":0,\"ticks\":\"\"}}}],\"bar\":[{\"error_x\":{\"color\":\"#2a3f5f\"},\"error_y\":{\"color\":\"#2a3f5f\"},\"marker\":{\"line\":{\"color\":\"#E5ECF6\",\"width\":0.5},\"pattern\":{\"fillmode\":\"overlay\",\"size\":10,\"solidity\":0.2}},\"type\":\"bar\"}],\"scattergeo\":[{\"type\":\"scattergeo\",\"marker\":{\"colorbar\":{\"outlinewidth\":0,\"ticks\":\"\"}}}],\"scatterpolar\":[{\"type\":\"scatterpolar\",\"marker\":{\"colorbar\":{\"outlinewidth\":0,\"ticks\":\"\"}}}],\"histogram\":[{\"marker\":{\"pattern\":{\"fillmode\":\"overlay\",\"size\":10,\"solidity\":0.2}},\"type\":\"histogram\"}],\"scattergl\":[{\"type\":\"scattergl\",\"marker\":{\"colorbar\":{\"outlinewidth\":0,\"ticks\":\"\"}}}],\"scatter3d\":[{\"type\":\"scatter3d\",\"line\":{\"colorbar\":{\"outlinewidth\":0,\"ticks\":\"\"}},\"marker\":{\"colorbar\":{\"outlinewidth\":0,\"ticks\":\"\"}}}],\"scattermapbox\":[{\"type\":\"scattermapbox\",\"marker\":{\"colorbar\":{\"outlinewidth\":0,\"ticks\":\"\"}}}],\"scatterternary\":[{\"type\":\"scatterternary\",\"marker\":{\"colorbar\":{\"outlinewidth\":0,\"ticks\":\"\"}}}],\"scattercarpet\":[{\"type\":\"scattercarpet\",\"marker\":{\"colorbar\":{\"outlinewidth\":0,\"ticks\":\"\"}}}],\"carpet\":[{\"aaxis\":{\"endlinecolor\":\"#2a3f5f\",\"gridcolor\":\"white\",\"linecolor\":\"white\",\"minorgridcolor\":\"white\",\"startlinecolor\":\"#2a3f5f\"},\"baxis\":{\"endlinecolor\":\"#2a3f5f\",\"gridcolor\":\"white\",\"linecolor\":\"white\",\"minorgridcolor\":\"white\",\"startlinecolor\":\"#2a3f5f\"},\"type\":\"carpet\"}],\"table\":[{\"cells\":{\"fill\":{\"color\":\"#EBF0F8\"},\"line\":{\"color\":\"white\"}},\"header\":{\"fill\":{\"color\":\"#C8D4E3\"},\"line\":{\"color\":\"white\"}},\"type\":\"table\"}],\"barpolar\":[{\"marker\":{\"line\":{\"color\":\"#E5ECF6\",\"width\":0.5},\"pattern\":{\"fillmode\":\"overlay\",\"size\":10,\"solidity\":0.2}},\"type\":\"barpolar\"}],\"pie\":[{\"automargin\":true,\"type\":\"pie\"}]},\"layout\":{\"autotypenumbers\":\"strict\",\"colorway\":[\"#636efa\",\"#EF553B\",\"#00cc96\",\"#ab63fa\",\"#FFA15A\",\"#19d3f3\",\"#FF6692\",\"#B6E880\",\"#FF97FF\",\"#FECB52\"],\"font\":{\"color\":\"#2a3f5f\"},\"hovermode\":\"closest\",\"hoverlabel\":{\"align\":\"left\"},\"paper_bgcolor\":\"white\",\"plot_bgcolor\":\"#E5ECF6\",\"polar\":{\"bgcolor\":\"#E5ECF6\",\"angularaxis\":{\"gridcolor\":\"white\",\"linecolor\":\"white\",\"ticks\":\"\"},\"radialaxis\":{\"gridcolor\":\"white\",\"linecolor\":\"white\",\"ticks\":\"\"}},\"ternary\":{\"bgcolor\":\"#E5ECF6\",\"aaxis\":{\"gridcolor\":\"white\",\"linecolor\":\"white\",\"ticks\":\"\"},\"baxis\":{\"gridcolor\":\"white\",\"linecolor\":\"white\",\"ticks\":\"\"},\"caxis\":{\"gridcolor\":\"white\",\"linecolor\":\"white\",\"ticks\":\"\"}},\"coloraxis\":{\"colorbar\":{\"outlinewidth\":0,\"ticks\":\"\"}},\"colorscale\":{\"sequential\":[[0.0,\"#0d0887\"],[0.1111111111111111,\"#46039f\"],[0.2222222222222222,\"#7201a8\"],[0.3333333333333333,\"#9c179e\"],[0.4444444444444444,\"#bd3786\"],[0.5555555555555556,\"#d8576b\"],[0.6666666666666666,\"#ed7953\"],[0.7777777777777778,\"#fb9f3a\"],[0.8888888888888888,\"#fdca26\"],[1.0,\"#f0f921\"]],\"sequentialminus\":[[0.0,\"#0d0887\"],[0.1111111111111111,\"#46039f\"],[0.2222222222222222,\"#7201a8\"],[0.3333333333333333,\"#9c179e\"],[0.4444444444444444,\"#bd3786\"],[0.5555555555555556,\"#d8576b\"],[0.6666666666666666,\"#ed7953\"],[0.7777777777777778,\"#fb9f3a\"],[0.8888888888888888,\"#fdca26\"],[1.0,\"#f0f921\"]],\"diverging\":[[0,\"#8e0152\"],[0.1,\"#c51b7d\"],[0.2,\"#de77ae\"],[0.3,\"#f1b6da\"],[0.4,\"#fde0ef\"],[0.5,\"#f7f7f7\"],[0.6,\"#e6f5d0\"],[0.7,\"#b8e186\"],[0.8,\"#7fbc41\"],[0.9,\"#4d9221\"],[1,\"#276419\"]]},\"xaxis\":{\"gridcolor\":\"white\",\"linecolor\":\"white\",\"ticks\":\"\",\"title\":{\"standoff\":15},\"zerolinecolor\":\"white\",\"automargin\":true,\"zerolinewidth\":2},\"yaxis\":{\"gridcolor\":\"white\",\"linecolor\":\"white\",\"ticks\":\"\",\"title\":{\"standoff\":15},\"zerolinecolor\":\"white\",\"automargin\":true,\"zerolinewidth\":2},\"scene\":{\"xaxis\":{\"backgroundcolor\":\"#E5ECF6\",\"gridcolor\":\"white\",\"linecolor\":\"white\",\"showbackground\":true,\"ticks\":\"\",\"zerolinecolor\":\"white\",\"gridwidth\":2},\"yaxis\":{\"backgroundcolor\":\"#E5ECF6\",\"gridcolor\":\"white\",\"linecolor\":\"white\",\"showbackground\":true,\"ticks\":\"\",\"zerolinecolor\":\"white\",\"gridwidth\":2},\"zaxis\":{\"backgroundcolor\":\"#E5ECF6\",\"gridcolor\":\"white\",\"linecolor\":\"white\",\"showbackground\":true,\"ticks\":\"\",\"zerolinecolor\":\"white\",\"gridwidth\":2}},\"shapedefaults\":{\"line\":{\"color\":\"#2a3f5f\"}},\"annotationdefaults\":{\"arrowcolor\":\"#2a3f5f\",\"arrowhead\":0,\"arrowwidth\":1},\"geo\":{\"bgcolor\":\"white\",\"landcolor\":\"#E5ECF6\",\"subunitcolor\":\"white\",\"showland\":true,\"showlakes\":true,\"lakecolor\":\"white\"},\"title\":{\"x\":0.05},\"mapbox\":{\"style\":\"light\"}}},\"xaxis\":{\"anchor\":\"y\",\"domain\":[0.0,1.0],\"title\":{\"text\":\"adp\"}},\"yaxis\":{\"anchor\":\"x\",\"domain\":[0.0,1.0],\"title\":{\"text\":\"fantasyPoints\"}},\"coloraxis\":{\"colorbar\":{\"title\":{\"text\":\"adp\"}},\"colorscale\":[[0.0,\"#0d0887\"],[0.1111111111111111,\"#46039f\"],[0.2222222222222222,\"#7201a8\"],[0.3333333333333333,\"#9c179e\"],[0.4444444444444444,\"#bd3786\"],[0.5555555555555556,\"#d8576b\"],[0.6666666666666666,\"#ed7953\"],[0.7777777777777778,\"#fb9f3a\"],[0.8888888888888888,\"#fdca26\"],[1.0,\"#f0f921\"]]},\"legend\":{\"tracegroupgap\":0},\"title\":{\"text\":\"Top 24 TEs | ADP vs Projected FP\"}},                        {\"responsive\": true}                    ).then(function(){\n",
       "                            \n",
       "var gd = document.getElementById('b2e86b7d-7512-4890-8053-7140209d5637');\n",
       "var x = new MutationObserver(function (mutations, observer) {{\n",
       "        var display = window.getComputedStyle(gd).display;\n",
       "        if (!display || display === 'none') {{\n",
       "            console.log([gd, 'removed!']);\n",
       "            Plotly.purge(gd);\n",
       "            observer.disconnect();\n",
       "        }}\n",
       "}});\n",
       "\n",
       "// Listen for the removal of the full notebook cells\n",
       "var notebookContainer = gd.closest('#notebook-container');\n",
       "if (notebookContainer) {{\n",
       "    x.observe(notebookContainer, {childList: true});\n",
       "}}\n",
       "\n",
       "// Listen for the clearing of the current output cell\n",
       "var outputEl = gd.closest('.output');\n",
       "if (outputEl) {{\n",
       "    x.observe(outputEl, {childList: true});\n",
       "}}\n",
       "\n",
       "                        })                };                });            </script>        </div>"
      ]
     },
     "metadata": {},
     "output_type": "display_data"
    }
   ],
   "source": [
    "# create scatterplot comparing adp vs projected fantasy points for top 24 TEs\n",
    "te_24 = te.head(24)\n",
    "\n",
    "fig = px.scatter(te_24, x=\"adp\", y=\"fantasyPoints\", color='adp', text='playerName', hover_data=['playerName', 'teamName'], trendline=\"ols\", title=\"Top 24 TEs | ADP vs Projected FP\")\n",
    "fig.update_traces(marker_size=10)\n",
    "fig.update_traces(textposition='top center', textfont_size=6)\n",
    "fig.show()\n",
    "fig.write_html(\"fig/te_scatter.html\")\n",
    "fig.write_image(\"images/te_scatter.png\")"
   ]
  },
  {
   "cell_type": "code",
   "execution_count": 49,
   "id": "e9dedbea",
   "metadata": {},
   "outputs": [
    {
     "data": {
      "application/vnd.plotly.v1+json": {
       "config": {
        "plotlyServerURL": "https://plot.ly"
       },
       "data": [
        {
         "alignmentgroup": "True",
         "customdata": [
          [
           1,
           17.5,
           1,
           415.9
          ],
          [
           2,
           29.9,
           4,
           369.4
          ],
          [
           3,
           33.7,
           6,
           358
          ],
          [
           4,
           49.3,
           2,
           395.7
          ],
          [
           5,
           53.9,
           11,
           329
          ],
          [
           6,
           57,
           7,
           356.4
          ],
          [
           7,
           71.5,
           3,
           387.1
          ],
          [
           8,
           79.3,
           8,
           336.9
          ],
          [
           9,
           80.5,
           13,
           320.2
          ],
          [
           10,
           87.7,
           5,
           361.8
          ],
          [
           11,
           96.6,
           9,
           336.6
          ],
          [
           12,
           98.1,
           10,
           336
          ],
          [
           13,
           109.9,
           12,
           325.9
          ],
          [
           14,
           112.8,
           20,
           303.6
          ],
          [
           15,
           116.7,
           17.5,
           311.9
          ],
          [
           16,
           125.1,
           19,
           306.7
          ],
          [
           17,
           131.7,
           16,
           313
          ],
          [
           18,
           140.5,
           22,
           296.9
          ],
          [
           19,
           150.9,
           21,
           300.6
          ],
          [
           20,
           166.5,
           25,
           285.9
          ],
          [
           21,
           168.3,
           28,
           256.5
          ],
          [
           22,
           173.8,
           24,
           287.4
          ],
          [
           23,
           183.8,
           23,
           288.2
          ],
          [
           24,
           188.4,
           15,
           314.1
          ]
         ],
         "hovertemplate": "playerName=%{x}<br>delta=%{y}<br>adp_rank=%{customdata[0]}<br>adp=%{marker.color}<br>fp_rank=%{customdata[2]}<br>fantasyPoints=%{customdata[3]}<extra></extra>",
         "legendgroup": "",
         "marker": {
          "color": [
           17.5,
           29.9,
           33.7,
           49.3,
           53.9,
           57,
           71.5,
           79.3,
           80.5,
           87.7,
           96.6,
           98.1,
           109.9,
           112.8,
           116.7,
           125.1,
           131.7,
           140.5,
           150.9,
           166.5,
           168.3,
           173.8,
           183.8,
           188.4
          ],
          "coloraxis": "coloraxis",
          "pattern": {
           "shape": ""
          }
         },
         "name": "",
         "offsetgroup": "",
         "orientation": "v",
         "showlegend": false,
         "textposition": "auto",
         "type": "bar",
         "x": [
          "Josh Allen",
          "Patrick Mahomes",
          "Justin Herbert",
          "Lamar Jackson",
          "Joe Burrow",
          "Kyler Murray",
          "Jalen Hurts",
          "Dak Prescott",
          "Russell Wilson",
          "Tom Brady",
          "Aaron Rodgers",
          "Matthew Stafford",
          "Trey Lance",
          "Derek Carr",
          "Deshaun Watson",
          "Kirk Cousins",
          "Tua Tagovailoa",
          "Justin Fields",
          "Trevor Lawrence",
          "Matt Ryan",
          "Jameis Winston",
          "Mac Jones",
          "Zach Wilson",
          "Ryan Tannehill"
         ],
         "xaxis": "x",
         "y": [
          0,
          -2,
          -3,
          2,
          -6,
          -1,
          4,
          0,
          -4,
          5,
          2,
          2,
          1,
          -6,
          -2.5,
          -3,
          1,
          -4,
          -2,
          -5,
          -7,
          -2,
          0,
          9
         ],
         "yaxis": "y"
        }
       ],
       "layout": {
        "barmode": "relative",
        "coloraxis": {
         "colorbar": {
          "title": {
           "text": "adp"
          }
         },
         "colorscale": [
          [
           0,
           "#0d0887"
          ],
          [
           0.1111111111111111,
           "#46039f"
          ],
          [
           0.2222222222222222,
           "#7201a8"
          ],
          [
           0.3333333333333333,
           "#9c179e"
          ],
          [
           0.4444444444444444,
           "#bd3786"
          ],
          [
           0.5555555555555556,
           "#d8576b"
          ],
          [
           0.6666666666666666,
           "#ed7953"
          ],
          [
           0.7777777777777778,
           "#fb9f3a"
          ],
          [
           0.8888888888888888,
           "#fdca26"
          ],
          [
           1,
           "#f0f921"
          ]
         ]
        },
        "height": 600,
        "legend": {
         "tracegroupgap": 0
        },
        "template": {
         "data": {
          "bar": [
           {
            "error_x": {
             "color": "#2a3f5f"
            },
            "error_y": {
             "color": "#2a3f5f"
            },
            "marker": {
             "line": {
              "color": "#E5ECF6",
              "width": 0.5
             },
             "pattern": {
              "fillmode": "overlay",
              "size": 10,
              "solidity": 0.2
             }
            },
            "type": "bar"
           }
          ],
          "barpolar": [
           {
            "marker": {
             "line": {
              "color": "#E5ECF6",
              "width": 0.5
             },
             "pattern": {
              "fillmode": "overlay",
              "size": 10,
              "solidity": 0.2
             }
            },
            "type": "barpolar"
           }
          ],
          "carpet": [
           {
            "aaxis": {
             "endlinecolor": "#2a3f5f",
             "gridcolor": "white",
             "linecolor": "white",
             "minorgridcolor": "white",
             "startlinecolor": "#2a3f5f"
            },
            "baxis": {
             "endlinecolor": "#2a3f5f",
             "gridcolor": "white",
             "linecolor": "white",
             "minorgridcolor": "white",
             "startlinecolor": "#2a3f5f"
            },
            "type": "carpet"
           }
          ],
          "choropleth": [
           {
            "colorbar": {
             "outlinewidth": 0,
             "ticks": ""
            },
            "type": "choropleth"
           }
          ],
          "contour": [
           {
            "colorbar": {
             "outlinewidth": 0,
             "ticks": ""
            },
            "colorscale": [
             [
              0,
              "#0d0887"
             ],
             [
              0.1111111111111111,
              "#46039f"
             ],
             [
              0.2222222222222222,
              "#7201a8"
             ],
             [
              0.3333333333333333,
              "#9c179e"
             ],
             [
              0.4444444444444444,
              "#bd3786"
             ],
             [
              0.5555555555555556,
              "#d8576b"
             ],
             [
              0.6666666666666666,
              "#ed7953"
             ],
             [
              0.7777777777777778,
              "#fb9f3a"
             ],
             [
              0.8888888888888888,
              "#fdca26"
             ],
             [
              1,
              "#f0f921"
             ]
            ],
            "type": "contour"
           }
          ],
          "contourcarpet": [
           {
            "colorbar": {
             "outlinewidth": 0,
             "ticks": ""
            },
            "type": "contourcarpet"
           }
          ],
          "heatmap": [
           {
            "colorbar": {
             "outlinewidth": 0,
             "ticks": ""
            },
            "colorscale": [
             [
              0,
              "#0d0887"
             ],
             [
              0.1111111111111111,
              "#46039f"
             ],
             [
              0.2222222222222222,
              "#7201a8"
             ],
             [
              0.3333333333333333,
              "#9c179e"
             ],
             [
              0.4444444444444444,
              "#bd3786"
             ],
             [
              0.5555555555555556,
              "#d8576b"
             ],
             [
              0.6666666666666666,
              "#ed7953"
             ],
             [
              0.7777777777777778,
              "#fb9f3a"
             ],
             [
              0.8888888888888888,
              "#fdca26"
             ],
             [
              1,
              "#f0f921"
             ]
            ],
            "type": "heatmap"
           }
          ],
          "heatmapgl": [
           {
            "colorbar": {
             "outlinewidth": 0,
             "ticks": ""
            },
            "colorscale": [
             [
              0,
              "#0d0887"
             ],
             [
              0.1111111111111111,
              "#46039f"
             ],
             [
              0.2222222222222222,
              "#7201a8"
             ],
             [
              0.3333333333333333,
              "#9c179e"
             ],
             [
              0.4444444444444444,
              "#bd3786"
             ],
             [
              0.5555555555555556,
              "#d8576b"
             ],
             [
              0.6666666666666666,
              "#ed7953"
             ],
             [
              0.7777777777777778,
              "#fb9f3a"
             ],
             [
              0.8888888888888888,
              "#fdca26"
             ],
             [
              1,
              "#f0f921"
             ]
            ],
            "type": "heatmapgl"
           }
          ],
          "histogram": [
           {
            "marker": {
             "pattern": {
              "fillmode": "overlay",
              "size": 10,
              "solidity": 0.2
             }
            },
            "type": "histogram"
           }
          ],
          "histogram2d": [
           {
            "colorbar": {
             "outlinewidth": 0,
             "ticks": ""
            },
            "colorscale": [
             [
              0,
              "#0d0887"
             ],
             [
              0.1111111111111111,
              "#46039f"
             ],
             [
              0.2222222222222222,
              "#7201a8"
             ],
             [
              0.3333333333333333,
              "#9c179e"
             ],
             [
              0.4444444444444444,
              "#bd3786"
             ],
             [
              0.5555555555555556,
              "#d8576b"
             ],
             [
              0.6666666666666666,
              "#ed7953"
             ],
             [
              0.7777777777777778,
              "#fb9f3a"
             ],
             [
              0.8888888888888888,
              "#fdca26"
             ],
             [
              1,
              "#f0f921"
             ]
            ],
            "type": "histogram2d"
           }
          ],
          "histogram2dcontour": [
           {
            "colorbar": {
             "outlinewidth": 0,
             "ticks": ""
            },
            "colorscale": [
             [
              0,
              "#0d0887"
             ],
             [
              0.1111111111111111,
              "#46039f"
             ],
             [
              0.2222222222222222,
              "#7201a8"
             ],
             [
              0.3333333333333333,
              "#9c179e"
             ],
             [
              0.4444444444444444,
              "#bd3786"
             ],
             [
              0.5555555555555556,
              "#d8576b"
             ],
             [
              0.6666666666666666,
              "#ed7953"
             ],
             [
              0.7777777777777778,
              "#fb9f3a"
             ],
             [
              0.8888888888888888,
              "#fdca26"
             ],
             [
              1,
              "#f0f921"
             ]
            ],
            "type": "histogram2dcontour"
           }
          ],
          "mesh3d": [
           {
            "colorbar": {
             "outlinewidth": 0,
             "ticks": ""
            },
            "type": "mesh3d"
           }
          ],
          "parcoords": [
           {
            "line": {
             "colorbar": {
              "outlinewidth": 0,
              "ticks": ""
             }
            },
            "type": "parcoords"
           }
          ],
          "pie": [
           {
            "automargin": true,
            "type": "pie"
           }
          ],
          "scatter": [
           {
            "fillpattern": {
             "fillmode": "overlay",
             "size": 10,
             "solidity": 0.2
            },
            "type": "scatter"
           }
          ],
          "scatter3d": [
           {
            "line": {
             "colorbar": {
              "outlinewidth": 0,
              "ticks": ""
             }
            },
            "marker": {
             "colorbar": {
              "outlinewidth": 0,
              "ticks": ""
             }
            },
            "type": "scatter3d"
           }
          ],
          "scattercarpet": [
           {
            "marker": {
             "colorbar": {
              "outlinewidth": 0,
              "ticks": ""
             }
            },
            "type": "scattercarpet"
           }
          ],
          "scattergeo": [
           {
            "marker": {
             "colorbar": {
              "outlinewidth": 0,
              "ticks": ""
             }
            },
            "type": "scattergeo"
           }
          ],
          "scattergl": [
           {
            "marker": {
             "colorbar": {
              "outlinewidth": 0,
              "ticks": ""
             }
            },
            "type": "scattergl"
           }
          ],
          "scattermapbox": [
           {
            "marker": {
             "colorbar": {
              "outlinewidth": 0,
              "ticks": ""
             }
            },
            "type": "scattermapbox"
           }
          ],
          "scatterpolar": [
           {
            "marker": {
             "colorbar": {
              "outlinewidth": 0,
              "ticks": ""
             }
            },
            "type": "scatterpolar"
           }
          ],
          "scatterpolargl": [
           {
            "marker": {
             "colorbar": {
              "outlinewidth": 0,
              "ticks": ""
             }
            },
            "type": "scatterpolargl"
           }
          ],
          "scatterternary": [
           {
            "marker": {
             "colorbar": {
              "outlinewidth": 0,
              "ticks": ""
             }
            },
            "type": "scatterternary"
           }
          ],
          "surface": [
           {
            "colorbar": {
             "outlinewidth": 0,
             "ticks": ""
            },
            "colorscale": [
             [
              0,
              "#0d0887"
             ],
             [
              0.1111111111111111,
              "#46039f"
             ],
             [
              0.2222222222222222,
              "#7201a8"
             ],
             [
              0.3333333333333333,
              "#9c179e"
             ],
             [
              0.4444444444444444,
              "#bd3786"
             ],
             [
              0.5555555555555556,
              "#d8576b"
             ],
             [
              0.6666666666666666,
              "#ed7953"
             ],
             [
              0.7777777777777778,
              "#fb9f3a"
             ],
             [
              0.8888888888888888,
              "#fdca26"
             ],
             [
              1,
              "#f0f921"
             ]
            ],
            "type": "surface"
           }
          ],
          "table": [
           {
            "cells": {
             "fill": {
              "color": "#EBF0F8"
             },
             "line": {
              "color": "white"
             }
            },
            "header": {
             "fill": {
              "color": "#C8D4E3"
             },
             "line": {
              "color": "white"
             }
            },
            "type": "table"
           }
          ]
         },
         "layout": {
          "annotationdefaults": {
           "arrowcolor": "#2a3f5f",
           "arrowhead": 0,
           "arrowwidth": 1
          },
          "autotypenumbers": "strict",
          "coloraxis": {
           "colorbar": {
            "outlinewidth": 0,
            "ticks": ""
           }
          },
          "colorscale": {
           "diverging": [
            [
             0,
             "#8e0152"
            ],
            [
             0.1,
             "#c51b7d"
            ],
            [
             0.2,
             "#de77ae"
            ],
            [
             0.3,
             "#f1b6da"
            ],
            [
             0.4,
             "#fde0ef"
            ],
            [
             0.5,
             "#f7f7f7"
            ],
            [
             0.6,
             "#e6f5d0"
            ],
            [
             0.7,
             "#b8e186"
            ],
            [
             0.8,
             "#7fbc41"
            ],
            [
             0.9,
             "#4d9221"
            ],
            [
             1,
             "#276419"
            ]
           ],
           "sequential": [
            [
             0,
             "#0d0887"
            ],
            [
             0.1111111111111111,
             "#46039f"
            ],
            [
             0.2222222222222222,
             "#7201a8"
            ],
            [
             0.3333333333333333,
             "#9c179e"
            ],
            [
             0.4444444444444444,
             "#bd3786"
            ],
            [
             0.5555555555555556,
             "#d8576b"
            ],
            [
             0.6666666666666666,
             "#ed7953"
            ],
            [
             0.7777777777777778,
             "#fb9f3a"
            ],
            [
             0.8888888888888888,
             "#fdca26"
            ],
            [
             1,
             "#f0f921"
            ]
           ],
           "sequentialminus": [
            [
             0,
             "#0d0887"
            ],
            [
             0.1111111111111111,
             "#46039f"
            ],
            [
             0.2222222222222222,
             "#7201a8"
            ],
            [
             0.3333333333333333,
             "#9c179e"
            ],
            [
             0.4444444444444444,
             "#bd3786"
            ],
            [
             0.5555555555555556,
             "#d8576b"
            ],
            [
             0.6666666666666666,
             "#ed7953"
            ],
            [
             0.7777777777777778,
             "#fb9f3a"
            ],
            [
             0.8888888888888888,
             "#fdca26"
            ],
            [
             1,
             "#f0f921"
            ]
           ]
          },
          "colorway": [
           "#636efa",
           "#EF553B",
           "#00cc96",
           "#ab63fa",
           "#FFA15A",
           "#19d3f3",
           "#FF6692",
           "#B6E880",
           "#FF97FF",
           "#FECB52"
          ],
          "font": {
           "color": "#2a3f5f"
          },
          "geo": {
           "bgcolor": "white",
           "lakecolor": "white",
           "landcolor": "#E5ECF6",
           "showlakes": true,
           "showland": true,
           "subunitcolor": "white"
          },
          "hoverlabel": {
           "align": "left"
          },
          "hovermode": "closest",
          "mapbox": {
           "style": "light"
          },
          "paper_bgcolor": "white",
          "plot_bgcolor": "#E5ECF6",
          "polar": {
           "angularaxis": {
            "gridcolor": "white",
            "linecolor": "white",
            "ticks": ""
           },
           "bgcolor": "#E5ECF6",
           "radialaxis": {
            "gridcolor": "white",
            "linecolor": "white",
            "ticks": ""
           }
          },
          "scene": {
           "xaxis": {
            "backgroundcolor": "#E5ECF6",
            "gridcolor": "white",
            "gridwidth": 2,
            "linecolor": "white",
            "showbackground": true,
            "ticks": "",
            "zerolinecolor": "white"
           },
           "yaxis": {
            "backgroundcolor": "#E5ECF6",
            "gridcolor": "white",
            "gridwidth": 2,
            "linecolor": "white",
            "showbackground": true,
            "ticks": "",
            "zerolinecolor": "white"
           },
           "zaxis": {
            "backgroundcolor": "#E5ECF6",
            "gridcolor": "white",
            "gridwidth": 2,
            "linecolor": "white",
            "showbackground": true,
            "ticks": "",
            "zerolinecolor": "white"
           }
          },
          "shapedefaults": {
           "line": {
            "color": "#2a3f5f"
           }
          },
          "ternary": {
           "aaxis": {
            "gridcolor": "white",
            "linecolor": "white",
            "ticks": ""
           },
           "baxis": {
            "gridcolor": "white",
            "linecolor": "white",
            "ticks": ""
           },
           "bgcolor": "#E5ECF6",
           "caxis": {
            "gridcolor": "white",
            "linecolor": "white",
            "ticks": ""
           }
          },
          "title": {
           "x": 0.05
          },
          "xaxis": {
           "automargin": true,
           "gridcolor": "white",
           "linecolor": "white",
           "ticks": "",
           "title": {
            "standoff": 15
           },
           "zerolinecolor": "white",
           "zerolinewidth": 2
          },
          "yaxis": {
           "automargin": true,
           "gridcolor": "white",
           "linecolor": "white",
           "ticks": "",
           "title": {
            "standoff": 15
           },
           "zerolinecolor": "white",
           "zerolinewidth": 2
          }
         }
        },
        "title": {
         "text": "QBs | Difference in ADP Rank and FP Rank"
        },
        "xaxis": {
         "anchor": "y",
         "domain": [
          0,
          1
         ],
         "title": {
          "text": "playerName"
         }
        },
        "yaxis": {
         "anchor": "x",
         "domain": [
          0,
          1
         ],
         "title": {
          "text": "delta"
         }
        }
       }
      },
      "text/html": [
       "<div>                            <div id=\"de5e7e3a-a488-483a-952a-9430805edeec\" class=\"plotly-graph-div\" style=\"height:600px; width:100%;\"></div>            <script type=\"text/javascript\">                require([\"plotly\"], function(Plotly) {                    window.PLOTLYENV=window.PLOTLYENV || {};                                    if (document.getElementById(\"de5e7e3a-a488-483a-952a-9430805edeec\")) {                    Plotly.newPlot(                        \"de5e7e3a-a488-483a-952a-9430805edeec\",                        [{\"alignmentgroup\":\"True\",\"customdata\":[[1.0,17.5,1.0,415.9],[2.0,29.9,4.0,369.4],[3.0,33.7,6.0,358.0],[4.0,49.3,2.0,395.7],[5.0,53.9,11.0,329.0],[6.0,57.0,7.0,356.4],[7.0,71.5,3.0,387.1],[8.0,79.3,8.0,336.9],[9.0,80.5,13.0,320.2],[10.0,87.7,5.0,361.8],[11.0,96.6,9.0,336.6],[12.0,98.1,10.0,336.0],[13.0,109.9,12.0,325.9],[14.0,112.8,20.0,303.6],[15.0,116.7,17.5,311.9],[16.0,125.1,19.0,306.7],[17.0,131.7,16.0,313.0],[18.0,140.5,22.0,296.9],[19.0,150.9,21.0,300.6],[20.0,166.5,25.0,285.9],[21.0,168.3,28.0,256.5],[22.0,173.8,24.0,287.4],[23.0,183.8,23.0,288.2],[24.0,188.4,15.0,314.1]],\"hovertemplate\":\"playerName=%{x}<br>delta=%{y}<br>adp_rank=%{customdata[0]}<br>adp=%{marker.color}<br>fp_rank=%{customdata[2]}<br>fantasyPoints=%{customdata[3]}<extra></extra>\",\"legendgroup\":\"\",\"marker\":{\"color\":[17.5,29.9,33.7,49.3,53.9,57.0,71.5,79.3,80.5,87.7,96.6,98.1,109.9,112.8,116.7,125.1,131.7,140.5,150.9,166.5,168.3,173.8,183.8,188.4],\"coloraxis\":\"coloraxis\",\"pattern\":{\"shape\":\"\"}},\"name\":\"\",\"offsetgroup\":\"\",\"orientation\":\"v\",\"showlegend\":false,\"textposition\":\"auto\",\"x\":[\"Josh Allen\",\"Patrick Mahomes\",\"Justin Herbert\",\"Lamar Jackson\",\"Joe Burrow\",\"Kyler Murray\",\"Jalen Hurts\",\"Dak Prescott\",\"Russell Wilson\",\"Tom Brady\",\"Aaron Rodgers\",\"Matthew Stafford\",\"Trey Lance\",\"Derek Carr\",\"Deshaun Watson\",\"Kirk Cousins\",\"Tua Tagovailoa\",\"Justin Fields\",\"Trevor Lawrence\",\"Matt Ryan\",\"Jameis Winston\",\"Mac Jones\",\"Zach Wilson\",\"Ryan Tannehill\"],\"xaxis\":\"x\",\"y\":[0.0,-2.0,-3.0,2.0,-6.0,-1.0,4.0,0.0,-4.0,5.0,2.0,2.0,1.0,-6.0,-2.5,-3.0,1.0,-4.0,-2.0,-5.0,-7.0,-2.0,0.0,9.0],\"yaxis\":\"y\",\"type\":\"bar\"}],                        {\"template\":{\"data\":{\"histogram2dcontour\":[{\"type\":\"histogram2dcontour\",\"colorbar\":{\"outlinewidth\":0,\"ticks\":\"\"},\"colorscale\":[[0.0,\"#0d0887\"],[0.1111111111111111,\"#46039f\"],[0.2222222222222222,\"#7201a8\"],[0.3333333333333333,\"#9c179e\"],[0.4444444444444444,\"#bd3786\"],[0.5555555555555556,\"#d8576b\"],[0.6666666666666666,\"#ed7953\"],[0.7777777777777778,\"#fb9f3a\"],[0.8888888888888888,\"#fdca26\"],[1.0,\"#f0f921\"]]}],\"choropleth\":[{\"type\":\"choropleth\",\"colorbar\":{\"outlinewidth\":0,\"ticks\":\"\"}}],\"histogram2d\":[{\"type\":\"histogram2d\",\"colorbar\":{\"outlinewidth\":0,\"ticks\":\"\"},\"colorscale\":[[0.0,\"#0d0887\"],[0.1111111111111111,\"#46039f\"],[0.2222222222222222,\"#7201a8\"],[0.3333333333333333,\"#9c179e\"],[0.4444444444444444,\"#bd3786\"],[0.5555555555555556,\"#d8576b\"],[0.6666666666666666,\"#ed7953\"],[0.7777777777777778,\"#fb9f3a\"],[0.8888888888888888,\"#fdca26\"],[1.0,\"#f0f921\"]]}],\"heatmap\":[{\"type\":\"heatmap\",\"colorbar\":{\"outlinewidth\":0,\"ticks\":\"\"},\"colorscale\":[[0.0,\"#0d0887\"],[0.1111111111111111,\"#46039f\"],[0.2222222222222222,\"#7201a8\"],[0.3333333333333333,\"#9c179e\"],[0.4444444444444444,\"#bd3786\"],[0.5555555555555556,\"#d8576b\"],[0.6666666666666666,\"#ed7953\"],[0.7777777777777778,\"#fb9f3a\"],[0.8888888888888888,\"#fdca26\"],[1.0,\"#f0f921\"]]}],\"heatmapgl\":[{\"type\":\"heatmapgl\",\"colorbar\":{\"outlinewidth\":0,\"ticks\":\"\"},\"colorscale\":[[0.0,\"#0d0887\"],[0.1111111111111111,\"#46039f\"],[0.2222222222222222,\"#7201a8\"],[0.3333333333333333,\"#9c179e\"],[0.4444444444444444,\"#bd3786\"],[0.5555555555555556,\"#d8576b\"],[0.6666666666666666,\"#ed7953\"],[0.7777777777777778,\"#fb9f3a\"],[0.8888888888888888,\"#fdca26\"],[1.0,\"#f0f921\"]]}],\"contourcarpet\":[{\"type\":\"contourcarpet\",\"colorbar\":{\"outlinewidth\":0,\"ticks\":\"\"}}],\"contour\":[{\"type\":\"contour\",\"colorbar\":{\"outlinewidth\":0,\"ticks\":\"\"},\"colorscale\":[[0.0,\"#0d0887\"],[0.1111111111111111,\"#46039f\"],[0.2222222222222222,\"#7201a8\"],[0.3333333333333333,\"#9c179e\"],[0.4444444444444444,\"#bd3786\"],[0.5555555555555556,\"#d8576b\"],[0.6666666666666666,\"#ed7953\"],[0.7777777777777778,\"#fb9f3a\"],[0.8888888888888888,\"#fdca26\"],[1.0,\"#f0f921\"]]}],\"surface\":[{\"type\":\"surface\",\"colorbar\":{\"outlinewidth\":0,\"ticks\":\"\"},\"colorscale\":[[0.0,\"#0d0887\"],[0.1111111111111111,\"#46039f\"],[0.2222222222222222,\"#7201a8\"],[0.3333333333333333,\"#9c179e\"],[0.4444444444444444,\"#bd3786\"],[0.5555555555555556,\"#d8576b\"],[0.6666666666666666,\"#ed7953\"],[0.7777777777777778,\"#fb9f3a\"],[0.8888888888888888,\"#fdca26\"],[1.0,\"#f0f921\"]]}],\"mesh3d\":[{\"type\":\"mesh3d\",\"colorbar\":{\"outlinewidth\":0,\"ticks\":\"\"}}],\"scatter\":[{\"fillpattern\":{\"fillmode\":\"overlay\",\"size\":10,\"solidity\":0.2},\"type\":\"scatter\"}],\"parcoords\":[{\"type\":\"parcoords\",\"line\":{\"colorbar\":{\"outlinewidth\":0,\"ticks\":\"\"}}}],\"scatterpolargl\":[{\"type\":\"scatterpolargl\",\"marker\":{\"colorbar\":{\"outlinewidth\":0,\"ticks\":\"\"}}}],\"bar\":[{\"error_x\":{\"color\":\"#2a3f5f\"},\"error_y\":{\"color\":\"#2a3f5f\"},\"marker\":{\"line\":{\"color\":\"#E5ECF6\",\"width\":0.5},\"pattern\":{\"fillmode\":\"overlay\",\"size\":10,\"solidity\":0.2}},\"type\":\"bar\"}],\"scattergeo\":[{\"type\":\"scattergeo\",\"marker\":{\"colorbar\":{\"outlinewidth\":0,\"ticks\":\"\"}}}],\"scatterpolar\":[{\"type\":\"scatterpolar\",\"marker\":{\"colorbar\":{\"outlinewidth\":0,\"ticks\":\"\"}}}],\"histogram\":[{\"marker\":{\"pattern\":{\"fillmode\":\"overlay\",\"size\":10,\"solidity\":0.2}},\"type\":\"histogram\"}],\"scattergl\":[{\"type\":\"scattergl\",\"marker\":{\"colorbar\":{\"outlinewidth\":0,\"ticks\":\"\"}}}],\"scatter3d\":[{\"type\":\"scatter3d\",\"line\":{\"colorbar\":{\"outlinewidth\":0,\"ticks\":\"\"}},\"marker\":{\"colorbar\":{\"outlinewidth\":0,\"ticks\":\"\"}}}],\"scattermapbox\":[{\"type\":\"scattermapbox\",\"marker\":{\"colorbar\":{\"outlinewidth\":0,\"ticks\":\"\"}}}],\"scatterternary\":[{\"type\":\"scatterternary\",\"marker\":{\"colorbar\":{\"outlinewidth\":0,\"ticks\":\"\"}}}],\"scattercarpet\":[{\"type\":\"scattercarpet\",\"marker\":{\"colorbar\":{\"outlinewidth\":0,\"ticks\":\"\"}}}],\"carpet\":[{\"aaxis\":{\"endlinecolor\":\"#2a3f5f\",\"gridcolor\":\"white\",\"linecolor\":\"white\",\"minorgridcolor\":\"white\",\"startlinecolor\":\"#2a3f5f\"},\"baxis\":{\"endlinecolor\":\"#2a3f5f\",\"gridcolor\":\"white\",\"linecolor\":\"white\",\"minorgridcolor\":\"white\",\"startlinecolor\":\"#2a3f5f\"},\"type\":\"carpet\"}],\"table\":[{\"cells\":{\"fill\":{\"color\":\"#EBF0F8\"},\"line\":{\"color\":\"white\"}},\"header\":{\"fill\":{\"color\":\"#C8D4E3\"},\"line\":{\"color\":\"white\"}},\"type\":\"table\"}],\"barpolar\":[{\"marker\":{\"line\":{\"color\":\"#E5ECF6\",\"width\":0.5},\"pattern\":{\"fillmode\":\"overlay\",\"size\":10,\"solidity\":0.2}},\"type\":\"barpolar\"}],\"pie\":[{\"automargin\":true,\"type\":\"pie\"}]},\"layout\":{\"autotypenumbers\":\"strict\",\"colorway\":[\"#636efa\",\"#EF553B\",\"#00cc96\",\"#ab63fa\",\"#FFA15A\",\"#19d3f3\",\"#FF6692\",\"#B6E880\",\"#FF97FF\",\"#FECB52\"],\"font\":{\"color\":\"#2a3f5f\"},\"hovermode\":\"closest\",\"hoverlabel\":{\"align\":\"left\"},\"paper_bgcolor\":\"white\",\"plot_bgcolor\":\"#E5ECF6\",\"polar\":{\"bgcolor\":\"#E5ECF6\",\"angularaxis\":{\"gridcolor\":\"white\",\"linecolor\":\"white\",\"ticks\":\"\"},\"radialaxis\":{\"gridcolor\":\"white\",\"linecolor\":\"white\",\"ticks\":\"\"}},\"ternary\":{\"bgcolor\":\"#E5ECF6\",\"aaxis\":{\"gridcolor\":\"white\",\"linecolor\":\"white\",\"ticks\":\"\"},\"baxis\":{\"gridcolor\":\"white\",\"linecolor\":\"white\",\"ticks\":\"\"},\"caxis\":{\"gridcolor\":\"white\",\"linecolor\":\"white\",\"ticks\":\"\"}},\"coloraxis\":{\"colorbar\":{\"outlinewidth\":0,\"ticks\":\"\"}},\"colorscale\":{\"sequential\":[[0.0,\"#0d0887\"],[0.1111111111111111,\"#46039f\"],[0.2222222222222222,\"#7201a8\"],[0.3333333333333333,\"#9c179e\"],[0.4444444444444444,\"#bd3786\"],[0.5555555555555556,\"#d8576b\"],[0.6666666666666666,\"#ed7953\"],[0.7777777777777778,\"#fb9f3a\"],[0.8888888888888888,\"#fdca26\"],[1.0,\"#f0f921\"]],\"sequentialminus\":[[0.0,\"#0d0887\"],[0.1111111111111111,\"#46039f\"],[0.2222222222222222,\"#7201a8\"],[0.3333333333333333,\"#9c179e\"],[0.4444444444444444,\"#bd3786\"],[0.5555555555555556,\"#d8576b\"],[0.6666666666666666,\"#ed7953\"],[0.7777777777777778,\"#fb9f3a\"],[0.8888888888888888,\"#fdca26\"],[1.0,\"#f0f921\"]],\"diverging\":[[0,\"#8e0152\"],[0.1,\"#c51b7d\"],[0.2,\"#de77ae\"],[0.3,\"#f1b6da\"],[0.4,\"#fde0ef\"],[0.5,\"#f7f7f7\"],[0.6,\"#e6f5d0\"],[0.7,\"#b8e186\"],[0.8,\"#7fbc41\"],[0.9,\"#4d9221\"],[1,\"#276419\"]]},\"xaxis\":{\"gridcolor\":\"white\",\"linecolor\":\"white\",\"ticks\":\"\",\"title\":{\"standoff\":15},\"zerolinecolor\":\"white\",\"automargin\":true,\"zerolinewidth\":2},\"yaxis\":{\"gridcolor\":\"white\",\"linecolor\":\"white\",\"ticks\":\"\",\"title\":{\"standoff\":15},\"zerolinecolor\":\"white\",\"automargin\":true,\"zerolinewidth\":2},\"scene\":{\"xaxis\":{\"backgroundcolor\":\"#E5ECF6\",\"gridcolor\":\"white\",\"linecolor\":\"white\",\"showbackground\":true,\"ticks\":\"\",\"zerolinecolor\":\"white\",\"gridwidth\":2},\"yaxis\":{\"backgroundcolor\":\"#E5ECF6\",\"gridcolor\":\"white\",\"linecolor\":\"white\",\"showbackground\":true,\"ticks\":\"\",\"zerolinecolor\":\"white\",\"gridwidth\":2},\"zaxis\":{\"backgroundcolor\":\"#E5ECF6\",\"gridcolor\":\"white\",\"linecolor\":\"white\",\"showbackground\":true,\"ticks\":\"\",\"zerolinecolor\":\"white\",\"gridwidth\":2}},\"shapedefaults\":{\"line\":{\"color\":\"#2a3f5f\"}},\"annotationdefaults\":{\"arrowcolor\":\"#2a3f5f\",\"arrowhead\":0,\"arrowwidth\":1},\"geo\":{\"bgcolor\":\"white\",\"landcolor\":\"#E5ECF6\",\"subunitcolor\":\"white\",\"showland\":true,\"showlakes\":true,\"lakecolor\":\"white\"},\"title\":{\"x\":0.05},\"mapbox\":{\"style\":\"light\"}}},\"xaxis\":{\"anchor\":\"y\",\"domain\":[0.0,1.0],\"title\":{\"text\":\"playerName\"}},\"yaxis\":{\"anchor\":\"x\",\"domain\":[0.0,1.0],\"title\":{\"text\":\"delta\"}},\"coloraxis\":{\"colorbar\":{\"title\":{\"text\":\"adp\"}},\"colorscale\":[[0.0,\"#0d0887\"],[0.1111111111111111,\"#46039f\"],[0.2222222222222222,\"#7201a8\"],[0.3333333333333333,\"#9c179e\"],[0.4444444444444444,\"#bd3786\"],[0.5555555555555556,\"#d8576b\"],[0.6666666666666666,\"#ed7953\"],[0.7777777777777778,\"#fb9f3a\"],[0.8888888888888888,\"#fdca26\"],[1.0,\"#f0f921\"]]},\"legend\":{\"tracegroupgap\":0},\"title\":{\"text\":\"QBs | Difference in ADP Rank and FP Rank\"},\"barmode\":\"relative\",\"height\":600},                        {\"responsive\": true}                    ).then(function(){\n",
       "                            \n",
       "var gd = document.getElementById('de5e7e3a-a488-483a-952a-9430805edeec');\n",
       "var x = new MutationObserver(function (mutations, observer) {{\n",
       "        var display = window.getComputedStyle(gd).display;\n",
       "        if (!display || display === 'none') {{\n",
       "            console.log([gd, 'removed!']);\n",
       "            Plotly.purge(gd);\n",
       "            observer.disconnect();\n",
       "        }}\n",
       "}});\n",
       "\n",
       "// Listen for the removal of the full notebook cells\n",
       "var notebookContainer = gd.closest('#notebook-container');\n",
       "if (notebookContainer) {{\n",
       "    x.observe(notebookContainer, {childList: true});\n",
       "}}\n",
       "\n",
       "// Listen for the clearing of the current output cell\n",
       "var outputEl = gd.closest('.output');\n",
       "if (outputEl) {{\n",
       "    x.observe(outputEl, {childList: true});\n",
       "}}\n",
       "\n",
       "                        })                };                });            </script>        </div>"
      ]
     },
     "metadata": {},
     "output_type": "display_data"
    },
    {
     "data": {
      "application/vnd.plotly.v1+json": {
       "config": {
        "plotlyServerURL": "https://plot.ly"
       },
       "data": [
        {
         "alignmentgroup": "True",
         "customdata": [
          [
           1,
           17.5,
           1,
           415.9
          ],
          [
           2,
           29.9,
           4,
           369.4
          ],
          [
           3,
           33.7,
           6,
           358
          ],
          [
           4,
           49.3,
           2,
           395.7
          ],
          [
           5,
           53.9,
           11,
           329
          ],
          [
           6,
           57,
           7,
           356.4
          ],
          [
           7,
           71.5,
           3,
           387.1
          ],
          [
           8,
           79.3,
           8,
           336.9
          ],
          [
           9,
           80.5,
           13,
           320.2
          ],
          [
           10,
           87.7,
           5,
           361.8
          ],
          [
           11,
           96.6,
           9,
           336.6
          ],
          [
           12,
           98.1,
           10,
           336
          ],
          [
           13,
           109.9,
           12,
           325.9
          ],
          [
           14,
           112.8,
           20,
           303.6
          ],
          [
           15,
           116.7,
           17.5,
           311.9
          ],
          [
           16,
           125.1,
           19,
           306.7
          ],
          [
           17,
           131.7,
           16,
           313
          ],
          [
           18,
           140.5,
           22,
           296.9
          ],
          [
           19,
           150.9,
           21,
           300.6
          ],
          [
           20,
           166.5,
           25,
           285.9
          ],
          [
           21,
           168.3,
           28,
           256.5
          ],
          [
           22,
           173.8,
           24,
           287.4
          ],
          [
           23,
           183.8,
           23,
           288.2
          ],
          [
           24,
           188.4,
           15,
           314.1
          ]
         ],
         "hovertemplate": "playerName=%{x}<br>delta=%{y}<br>adp_rank=%{customdata[0]}<br>adp=%{marker.color}<br>fp_rank=%{customdata[2]}<br>fantasyPoints=%{customdata[3]}<extra></extra>",
         "legendgroup": "",
         "marker": {
          "color": [
           17.5,
           29.9,
           33.7,
           49.3,
           53.9,
           57,
           71.5,
           79.3,
           80.5,
           87.7,
           96.6,
           98.1,
           109.9,
           112.8,
           116.7,
           125.1,
           131.7,
           140.5,
           150.9,
           166.5,
           168.3,
           173.8,
           183.8,
           188.4
          ],
          "coloraxis": "coloraxis",
          "pattern": {
           "shape": ""
          }
         },
         "name": "",
         "offsetgroup": "",
         "orientation": "v",
         "showlegend": false,
         "textposition": "auto",
         "type": "bar",
         "x": [
          "Josh Allen",
          "Patrick Mahomes",
          "Justin Herbert",
          "Lamar Jackson",
          "Joe Burrow",
          "Kyler Murray",
          "Jalen Hurts",
          "Dak Prescott",
          "Russell Wilson",
          "Tom Brady",
          "Aaron Rodgers",
          "Matthew Stafford",
          "Trey Lance",
          "Derek Carr",
          "Deshaun Watson",
          "Kirk Cousins",
          "Tua Tagovailoa",
          "Justin Fields",
          "Trevor Lawrence",
          "Matt Ryan",
          "Jameis Winston",
          "Mac Jones",
          "Zach Wilson",
          "Ryan Tannehill"
         ],
         "xaxis": "x",
         "y": [
          0,
          -2,
          -3,
          2,
          -6,
          -1,
          4,
          0,
          -4,
          5,
          2,
          2,
          1,
          -6,
          -2.5,
          -3,
          1,
          -4,
          -2,
          -5,
          -7,
          -2,
          0,
          9
         ],
         "yaxis": "y"
        }
       ],
       "layout": {
        "barmode": "relative",
        "coloraxis": {
         "colorbar": {
          "title": {
           "text": "adp"
          }
         },
         "colorscale": [
          [
           0,
           "#0d0887"
          ],
          [
           0.1111111111111111,
           "#46039f"
          ],
          [
           0.2222222222222222,
           "#7201a8"
          ],
          [
           0.3333333333333333,
           "#9c179e"
          ],
          [
           0.4444444444444444,
           "#bd3786"
          ],
          [
           0.5555555555555556,
           "#d8576b"
          ],
          [
           0.6666666666666666,
           "#ed7953"
          ],
          [
           0.7777777777777778,
           "#fb9f3a"
          ],
          [
           0.8888888888888888,
           "#fdca26"
          ],
          [
           1,
           "#f0f921"
          ]
         ]
        },
        "height": 600,
        "legend": {
         "tracegroupgap": 0
        },
        "template": {
         "data": {
          "bar": [
           {
            "error_x": {
             "color": "#2a3f5f"
            },
            "error_y": {
             "color": "#2a3f5f"
            },
            "marker": {
             "line": {
              "color": "#E5ECF6",
              "width": 0.5
             },
             "pattern": {
              "fillmode": "overlay",
              "size": 10,
              "solidity": 0.2
             }
            },
            "type": "bar"
           }
          ],
          "barpolar": [
           {
            "marker": {
             "line": {
              "color": "#E5ECF6",
              "width": 0.5
             },
             "pattern": {
              "fillmode": "overlay",
              "size": 10,
              "solidity": 0.2
             }
            },
            "type": "barpolar"
           }
          ],
          "carpet": [
           {
            "aaxis": {
             "endlinecolor": "#2a3f5f",
             "gridcolor": "white",
             "linecolor": "white",
             "minorgridcolor": "white",
             "startlinecolor": "#2a3f5f"
            },
            "baxis": {
             "endlinecolor": "#2a3f5f",
             "gridcolor": "white",
             "linecolor": "white",
             "minorgridcolor": "white",
             "startlinecolor": "#2a3f5f"
            },
            "type": "carpet"
           }
          ],
          "choropleth": [
           {
            "colorbar": {
             "outlinewidth": 0,
             "ticks": ""
            },
            "type": "choropleth"
           }
          ],
          "contour": [
           {
            "colorbar": {
             "outlinewidth": 0,
             "ticks": ""
            },
            "colorscale": [
             [
              0,
              "#0d0887"
             ],
             [
              0.1111111111111111,
              "#46039f"
             ],
             [
              0.2222222222222222,
              "#7201a8"
             ],
             [
              0.3333333333333333,
              "#9c179e"
             ],
             [
              0.4444444444444444,
              "#bd3786"
             ],
             [
              0.5555555555555556,
              "#d8576b"
             ],
             [
              0.6666666666666666,
              "#ed7953"
             ],
             [
              0.7777777777777778,
              "#fb9f3a"
             ],
             [
              0.8888888888888888,
              "#fdca26"
             ],
             [
              1,
              "#f0f921"
             ]
            ],
            "type": "contour"
           }
          ],
          "contourcarpet": [
           {
            "colorbar": {
             "outlinewidth": 0,
             "ticks": ""
            },
            "type": "contourcarpet"
           }
          ],
          "heatmap": [
           {
            "colorbar": {
             "outlinewidth": 0,
             "ticks": ""
            },
            "colorscale": [
             [
              0,
              "#0d0887"
             ],
             [
              0.1111111111111111,
              "#46039f"
             ],
             [
              0.2222222222222222,
              "#7201a8"
             ],
             [
              0.3333333333333333,
              "#9c179e"
             ],
             [
              0.4444444444444444,
              "#bd3786"
             ],
             [
              0.5555555555555556,
              "#d8576b"
             ],
             [
              0.6666666666666666,
              "#ed7953"
             ],
             [
              0.7777777777777778,
              "#fb9f3a"
             ],
             [
              0.8888888888888888,
              "#fdca26"
             ],
             [
              1,
              "#f0f921"
             ]
            ],
            "type": "heatmap"
           }
          ],
          "heatmapgl": [
           {
            "colorbar": {
             "outlinewidth": 0,
             "ticks": ""
            },
            "colorscale": [
             [
              0,
              "#0d0887"
             ],
             [
              0.1111111111111111,
              "#46039f"
             ],
             [
              0.2222222222222222,
              "#7201a8"
             ],
             [
              0.3333333333333333,
              "#9c179e"
             ],
             [
              0.4444444444444444,
              "#bd3786"
             ],
             [
              0.5555555555555556,
              "#d8576b"
             ],
             [
              0.6666666666666666,
              "#ed7953"
             ],
             [
              0.7777777777777778,
              "#fb9f3a"
             ],
             [
              0.8888888888888888,
              "#fdca26"
             ],
             [
              1,
              "#f0f921"
             ]
            ],
            "type": "heatmapgl"
           }
          ],
          "histogram": [
           {
            "marker": {
             "pattern": {
              "fillmode": "overlay",
              "size": 10,
              "solidity": 0.2
             }
            },
            "type": "histogram"
           }
          ],
          "histogram2d": [
           {
            "colorbar": {
             "outlinewidth": 0,
             "ticks": ""
            },
            "colorscale": [
             [
              0,
              "#0d0887"
             ],
             [
              0.1111111111111111,
              "#46039f"
             ],
             [
              0.2222222222222222,
              "#7201a8"
             ],
             [
              0.3333333333333333,
              "#9c179e"
             ],
             [
              0.4444444444444444,
              "#bd3786"
             ],
             [
              0.5555555555555556,
              "#d8576b"
             ],
             [
              0.6666666666666666,
              "#ed7953"
             ],
             [
              0.7777777777777778,
              "#fb9f3a"
             ],
             [
              0.8888888888888888,
              "#fdca26"
             ],
             [
              1,
              "#f0f921"
             ]
            ],
            "type": "histogram2d"
           }
          ],
          "histogram2dcontour": [
           {
            "colorbar": {
             "outlinewidth": 0,
             "ticks": ""
            },
            "colorscale": [
             [
              0,
              "#0d0887"
             ],
             [
              0.1111111111111111,
              "#46039f"
             ],
             [
              0.2222222222222222,
              "#7201a8"
             ],
             [
              0.3333333333333333,
              "#9c179e"
             ],
             [
              0.4444444444444444,
              "#bd3786"
             ],
             [
              0.5555555555555556,
              "#d8576b"
             ],
             [
              0.6666666666666666,
              "#ed7953"
             ],
             [
              0.7777777777777778,
              "#fb9f3a"
             ],
             [
              0.8888888888888888,
              "#fdca26"
             ],
             [
              1,
              "#f0f921"
             ]
            ],
            "type": "histogram2dcontour"
           }
          ],
          "mesh3d": [
           {
            "colorbar": {
             "outlinewidth": 0,
             "ticks": ""
            },
            "type": "mesh3d"
           }
          ],
          "parcoords": [
           {
            "line": {
             "colorbar": {
              "outlinewidth": 0,
              "ticks": ""
             }
            },
            "type": "parcoords"
           }
          ],
          "pie": [
           {
            "automargin": true,
            "type": "pie"
           }
          ],
          "scatter": [
           {
            "fillpattern": {
             "fillmode": "overlay",
             "size": 10,
             "solidity": 0.2
            },
            "type": "scatter"
           }
          ],
          "scatter3d": [
           {
            "line": {
             "colorbar": {
              "outlinewidth": 0,
              "ticks": ""
             }
            },
            "marker": {
             "colorbar": {
              "outlinewidth": 0,
              "ticks": ""
             }
            },
            "type": "scatter3d"
           }
          ],
          "scattercarpet": [
           {
            "marker": {
             "colorbar": {
              "outlinewidth": 0,
              "ticks": ""
             }
            },
            "type": "scattercarpet"
           }
          ],
          "scattergeo": [
           {
            "marker": {
             "colorbar": {
              "outlinewidth": 0,
              "ticks": ""
             }
            },
            "type": "scattergeo"
           }
          ],
          "scattergl": [
           {
            "marker": {
             "colorbar": {
              "outlinewidth": 0,
              "ticks": ""
             }
            },
            "type": "scattergl"
           }
          ],
          "scattermapbox": [
           {
            "marker": {
             "colorbar": {
              "outlinewidth": 0,
              "ticks": ""
             }
            },
            "type": "scattermapbox"
           }
          ],
          "scatterpolar": [
           {
            "marker": {
             "colorbar": {
              "outlinewidth": 0,
              "ticks": ""
             }
            },
            "type": "scatterpolar"
           }
          ],
          "scatterpolargl": [
           {
            "marker": {
             "colorbar": {
              "outlinewidth": 0,
              "ticks": ""
             }
            },
            "type": "scatterpolargl"
           }
          ],
          "scatterternary": [
           {
            "marker": {
             "colorbar": {
              "outlinewidth": 0,
              "ticks": ""
             }
            },
            "type": "scatterternary"
           }
          ],
          "surface": [
           {
            "colorbar": {
             "outlinewidth": 0,
             "ticks": ""
            },
            "colorscale": [
             [
              0,
              "#0d0887"
             ],
             [
              0.1111111111111111,
              "#46039f"
             ],
             [
              0.2222222222222222,
              "#7201a8"
             ],
             [
              0.3333333333333333,
              "#9c179e"
             ],
             [
              0.4444444444444444,
              "#bd3786"
             ],
             [
              0.5555555555555556,
              "#d8576b"
             ],
             [
              0.6666666666666666,
              "#ed7953"
             ],
             [
              0.7777777777777778,
              "#fb9f3a"
             ],
             [
              0.8888888888888888,
              "#fdca26"
             ],
             [
              1,
              "#f0f921"
             ]
            ],
            "type": "surface"
           }
          ],
          "table": [
           {
            "cells": {
             "fill": {
              "color": "#EBF0F8"
             },
             "line": {
              "color": "white"
             }
            },
            "header": {
             "fill": {
              "color": "#C8D4E3"
             },
             "line": {
              "color": "white"
             }
            },
            "type": "table"
           }
          ]
         },
         "layout": {
          "annotationdefaults": {
           "arrowcolor": "#2a3f5f",
           "arrowhead": 0,
           "arrowwidth": 1
          },
          "autotypenumbers": "strict",
          "coloraxis": {
           "colorbar": {
            "outlinewidth": 0,
            "ticks": ""
           }
          },
          "colorscale": {
           "diverging": [
            [
             0,
             "#8e0152"
            ],
            [
             0.1,
             "#c51b7d"
            ],
            [
             0.2,
             "#de77ae"
            ],
            [
             0.3,
             "#f1b6da"
            ],
            [
             0.4,
             "#fde0ef"
            ],
            [
             0.5,
             "#f7f7f7"
            ],
            [
             0.6,
             "#e6f5d0"
            ],
            [
             0.7,
             "#b8e186"
            ],
            [
             0.8,
             "#7fbc41"
            ],
            [
             0.9,
             "#4d9221"
            ],
            [
             1,
             "#276419"
            ]
           ],
           "sequential": [
            [
             0,
             "#0d0887"
            ],
            [
             0.1111111111111111,
             "#46039f"
            ],
            [
             0.2222222222222222,
             "#7201a8"
            ],
            [
             0.3333333333333333,
             "#9c179e"
            ],
            [
             0.4444444444444444,
             "#bd3786"
            ],
            [
             0.5555555555555556,
             "#d8576b"
            ],
            [
             0.6666666666666666,
             "#ed7953"
            ],
            [
             0.7777777777777778,
             "#fb9f3a"
            ],
            [
             0.8888888888888888,
             "#fdca26"
            ],
            [
             1,
             "#f0f921"
            ]
           ],
           "sequentialminus": [
            [
             0,
             "#0d0887"
            ],
            [
             0.1111111111111111,
             "#46039f"
            ],
            [
             0.2222222222222222,
             "#7201a8"
            ],
            [
             0.3333333333333333,
             "#9c179e"
            ],
            [
             0.4444444444444444,
             "#bd3786"
            ],
            [
             0.5555555555555556,
             "#d8576b"
            ],
            [
             0.6666666666666666,
             "#ed7953"
            ],
            [
             0.7777777777777778,
             "#fb9f3a"
            ],
            [
             0.8888888888888888,
             "#fdca26"
            ],
            [
             1,
             "#f0f921"
            ]
           ]
          },
          "colorway": [
           "#636efa",
           "#EF553B",
           "#00cc96",
           "#ab63fa",
           "#FFA15A",
           "#19d3f3",
           "#FF6692",
           "#B6E880",
           "#FF97FF",
           "#FECB52"
          ],
          "font": {
           "color": "#2a3f5f"
          },
          "geo": {
           "bgcolor": "white",
           "lakecolor": "white",
           "landcolor": "#E5ECF6",
           "showlakes": true,
           "showland": true,
           "subunitcolor": "white"
          },
          "hoverlabel": {
           "align": "left"
          },
          "hovermode": "closest",
          "mapbox": {
           "style": "light"
          },
          "paper_bgcolor": "white",
          "plot_bgcolor": "#E5ECF6",
          "polar": {
           "angularaxis": {
            "gridcolor": "white",
            "linecolor": "white",
            "ticks": ""
           },
           "bgcolor": "#E5ECF6",
           "radialaxis": {
            "gridcolor": "white",
            "linecolor": "white",
            "ticks": ""
           }
          },
          "scene": {
           "xaxis": {
            "backgroundcolor": "#E5ECF6",
            "gridcolor": "white",
            "gridwidth": 2,
            "linecolor": "white",
            "showbackground": true,
            "ticks": "",
            "zerolinecolor": "white"
           },
           "yaxis": {
            "backgroundcolor": "#E5ECF6",
            "gridcolor": "white",
            "gridwidth": 2,
            "linecolor": "white",
            "showbackground": true,
            "ticks": "",
            "zerolinecolor": "white"
           },
           "zaxis": {
            "backgroundcolor": "#E5ECF6",
            "gridcolor": "white",
            "gridwidth": 2,
            "linecolor": "white",
            "showbackground": true,
            "ticks": "",
            "zerolinecolor": "white"
           }
          },
          "shapedefaults": {
           "line": {
            "color": "#2a3f5f"
           }
          },
          "ternary": {
           "aaxis": {
            "gridcolor": "white",
            "linecolor": "white",
            "ticks": ""
           },
           "baxis": {
            "gridcolor": "white",
            "linecolor": "white",
            "ticks": ""
           },
           "bgcolor": "#E5ECF6",
           "caxis": {
            "gridcolor": "white",
            "linecolor": "white",
            "ticks": ""
           }
          },
          "title": {
           "x": 0.05
          },
          "xaxis": {
           "automargin": true,
           "gridcolor": "white",
           "linecolor": "white",
           "ticks": "",
           "title": {
            "standoff": 15
           },
           "zerolinecolor": "white",
           "zerolinewidth": 2
          },
          "yaxis": {
           "automargin": true,
           "gridcolor": "white",
           "linecolor": "white",
           "ticks": "",
           "title": {
            "standoff": 15
           },
           "zerolinecolor": "white",
           "zerolinewidth": 2
          }
         }
        },
        "title": {
         "text": "QBs | Difference in ADP Rank and FP Rank"
        },
        "xaxis": {
         "anchor": "y",
         "domain": [
          0,
          1
         ],
         "title": {
          "text": "playerName"
         }
        },
        "yaxis": {
         "anchor": "x",
         "domain": [
          0,
          1
         ],
         "title": {
          "text": "delta"
         }
        }
       }
      },
      "text/html": [
       "<div>                            <div id=\"de5e7e3a-a488-483a-952a-9430805edeec\" class=\"plotly-graph-div\" style=\"height:600px; width:100%;\"></div>            <script type=\"text/javascript\">                require([\"plotly\"], function(Plotly) {                    window.PLOTLYENV=window.PLOTLYENV || {};                                    if (document.getElementById(\"de5e7e3a-a488-483a-952a-9430805edeec\")) {                    Plotly.newPlot(                        \"de5e7e3a-a488-483a-952a-9430805edeec\",                        [{\"alignmentgroup\":\"True\",\"customdata\":[[1.0,17.5,1.0,415.9],[2.0,29.9,4.0,369.4],[3.0,33.7,6.0,358.0],[4.0,49.3,2.0,395.7],[5.0,53.9,11.0,329.0],[6.0,57.0,7.0,356.4],[7.0,71.5,3.0,387.1],[8.0,79.3,8.0,336.9],[9.0,80.5,13.0,320.2],[10.0,87.7,5.0,361.8],[11.0,96.6,9.0,336.6],[12.0,98.1,10.0,336.0],[13.0,109.9,12.0,325.9],[14.0,112.8,20.0,303.6],[15.0,116.7,17.5,311.9],[16.0,125.1,19.0,306.7],[17.0,131.7,16.0,313.0],[18.0,140.5,22.0,296.9],[19.0,150.9,21.0,300.6],[20.0,166.5,25.0,285.9],[21.0,168.3,28.0,256.5],[22.0,173.8,24.0,287.4],[23.0,183.8,23.0,288.2],[24.0,188.4,15.0,314.1]],\"hovertemplate\":\"playerName=%{x}<br>delta=%{y}<br>adp_rank=%{customdata[0]}<br>adp=%{marker.color}<br>fp_rank=%{customdata[2]}<br>fantasyPoints=%{customdata[3]}<extra></extra>\",\"legendgroup\":\"\",\"marker\":{\"color\":[17.5,29.9,33.7,49.3,53.9,57.0,71.5,79.3,80.5,87.7,96.6,98.1,109.9,112.8,116.7,125.1,131.7,140.5,150.9,166.5,168.3,173.8,183.8,188.4],\"coloraxis\":\"coloraxis\",\"pattern\":{\"shape\":\"\"}},\"name\":\"\",\"offsetgroup\":\"\",\"orientation\":\"v\",\"showlegend\":false,\"textposition\":\"auto\",\"x\":[\"Josh Allen\",\"Patrick Mahomes\",\"Justin Herbert\",\"Lamar Jackson\",\"Joe Burrow\",\"Kyler Murray\",\"Jalen Hurts\",\"Dak Prescott\",\"Russell Wilson\",\"Tom Brady\",\"Aaron Rodgers\",\"Matthew Stafford\",\"Trey Lance\",\"Derek Carr\",\"Deshaun Watson\",\"Kirk Cousins\",\"Tua Tagovailoa\",\"Justin Fields\",\"Trevor Lawrence\",\"Matt Ryan\",\"Jameis Winston\",\"Mac Jones\",\"Zach Wilson\",\"Ryan Tannehill\"],\"xaxis\":\"x\",\"y\":[0.0,-2.0,-3.0,2.0,-6.0,-1.0,4.0,0.0,-4.0,5.0,2.0,2.0,1.0,-6.0,-2.5,-3.0,1.0,-4.0,-2.0,-5.0,-7.0,-2.0,0.0,9.0],\"yaxis\":\"y\",\"type\":\"bar\"}],                        {\"template\":{\"data\":{\"histogram2dcontour\":[{\"type\":\"histogram2dcontour\",\"colorbar\":{\"outlinewidth\":0,\"ticks\":\"\"},\"colorscale\":[[0.0,\"#0d0887\"],[0.1111111111111111,\"#46039f\"],[0.2222222222222222,\"#7201a8\"],[0.3333333333333333,\"#9c179e\"],[0.4444444444444444,\"#bd3786\"],[0.5555555555555556,\"#d8576b\"],[0.6666666666666666,\"#ed7953\"],[0.7777777777777778,\"#fb9f3a\"],[0.8888888888888888,\"#fdca26\"],[1.0,\"#f0f921\"]]}],\"choropleth\":[{\"type\":\"choropleth\",\"colorbar\":{\"outlinewidth\":0,\"ticks\":\"\"}}],\"histogram2d\":[{\"type\":\"histogram2d\",\"colorbar\":{\"outlinewidth\":0,\"ticks\":\"\"},\"colorscale\":[[0.0,\"#0d0887\"],[0.1111111111111111,\"#46039f\"],[0.2222222222222222,\"#7201a8\"],[0.3333333333333333,\"#9c179e\"],[0.4444444444444444,\"#bd3786\"],[0.5555555555555556,\"#d8576b\"],[0.6666666666666666,\"#ed7953\"],[0.7777777777777778,\"#fb9f3a\"],[0.8888888888888888,\"#fdca26\"],[1.0,\"#f0f921\"]]}],\"heatmap\":[{\"type\":\"heatmap\",\"colorbar\":{\"outlinewidth\":0,\"ticks\":\"\"},\"colorscale\":[[0.0,\"#0d0887\"],[0.1111111111111111,\"#46039f\"],[0.2222222222222222,\"#7201a8\"],[0.3333333333333333,\"#9c179e\"],[0.4444444444444444,\"#bd3786\"],[0.5555555555555556,\"#d8576b\"],[0.6666666666666666,\"#ed7953\"],[0.7777777777777778,\"#fb9f3a\"],[0.8888888888888888,\"#fdca26\"],[1.0,\"#f0f921\"]]}],\"heatmapgl\":[{\"type\":\"heatmapgl\",\"colorbar\":{\"outlinewidth\":0,\"ticks\":\"\"},\"colorscale\":[[0.0,\"#0d0887\"],[0.1111111111111111,\"#46039f\"],[0.2222222222222222,\"#7201a8\"],[0.3333333333333333,\"#9c179e\"],[0.4444444444444444,\"#bd3786\"],[0.5555555555555556,\"#d8576b\"],[0.6666666666666666,\"#ed7953\"],[0.7777777777777778,\"#fb9f3a\"],[0.8888888888888888,\"#fdca26\"],[1.0,\"#f0f921\"]]}],\"contourcarpet\":[{\"type\":\"contourcarpet\",\"colorbar\":{\"outlinewidth\":0,\"ticks\":\"\"}}],\"contour\":[{\"type\":\"contour\",\"colorbar\":{\"outlinewidth\":0,\"ticks\":\"\"},\"colorscale\":[[0.0,\"#0d0887\"],[0.1111111111111111,\"#46039f\"],[0.2222222222222222,\"#7201a8\"],[0.3333333333333333,\"#9c179e\"],[0.4444444444444444,\"#bd3786\"],[0.5555555555555556,\"#d8576b\"],[0.6666666666666666,\"#ed7953\"],[0.7777777777777778,\"#fb9f3a\"],[0.8888888888888888,\"#fdca26\"],[1.0,\"#f0f921\"]]}],\"surface\":[{\"type\":\"surface\",\"colorbar\":{\"outlinewidth\":0,\"ticks\":\"\"},\"colorscale\":[[0.0,\"#0d0887\"],[0.1111111111111111,\"#46039f\"],[0.2222222222222222,\"#7201a8\"],[0.3333333333333333,\"#9c179e\"],[0.4444444444444444,\"#bd3786\"],[0.5555555555555556,\"#d8576b\"],[0.6666666666666666,\"#ed7953\"],[0.7777777777777778,\"#fb9f3a\"],[0.8888888888888888,\"#fdca26\"],[1.0,\"#f0f921\"]]}],\"mesh3d\":[{\"type\":\"mesh3d\",\"colorbar\":{\"outlinewidth\":0,\"ticks\":\"\"}}],\"scatter\":[{\"fillpattern\":{\"fillmode\":\"overlay\",\"size\":10,\"solidity\":0.2},\"type\":\"scatter\"}],\"parcoords\":[{\"type\":\"parcoords\",\"line\":{\"colorbar\":{\"outlinewidth\":0,\"ticks\":\"\"}}}],\"scatterpolargl\":[{\"type\":\"scatterpolargl\",\"marker\":{\"colorbar\":{\"outlinewidth\":0,\"ticks\":\"\"}}}],\"bar\":[{\"error_x\":{\"color\":\"#2a3f5f\"},\"error_y\":{\"color\":\"#2a3f5f\"},\"marker\":{\"line\":{\"color\":\"#E5ECF6\",\"width\":0.5},\"pattern\":{\"fillmode\":\"overlay\",\"size\":10,\"solidity\":0.2}},\"type\":\"bar\"}],\"scattergeo\":[{\"type\":\"scattergeo\",\"marker\":{\"colorbar\":{\"outlinewidth\":0,\"ticks\":\"\"}}}],\"scatterpolar\":[{\"type\":\"scatterpolar\",\"marker\":{\"colorbar\":{\"outlinewidth\":0,\"ticks\":\"\"}}}],\"histogram\":[{\"marker\":{\"pattern\":{\"fillmode\":\"overlay\",\"size\":10,\"solidity\":0.2}},\"type\":\"histogram\"}],\"scattergl\":[{\"type\":\"scattergl\",\"marker\":{\"colorbar\":{\"outlinewidth\":0,\"ticks\":\"\"}}}],\"scatter3d\":[{\"type\":\"scatter3d\",\"line\":{\"colorbar\":{\"outlinewidth\":0,\"ticks\":\"\"}},\"marker\":{\"colorbar\":{\"outlinewidth\":0,\"ticks\":\"\"}}}],\"scattermapbox\":[{\"type\":\"scattermapbox\",\"marker\":{\"colorbar\":{\"outlinewidth\":0,\"ticks\":\"\"}}}],\"scatterternary\":[{\"type\":\"scatterternary\",\"marker\":{\"colorbar\":{\"outlinewidth\":0,\"ticks\":\"\"}}}],\"scattercarpet\":[{\"type\":\"scattercarpet\",\"marker\":{\"colorbar\":{\"outlinewidth\":0,\"ticks\":\"\"}}}],\"carpet\":[{\"aaxis\":{\"endlinecolor\":\"#2a3f5f\",\"gridcolor\":\"white\",\"linecolor\":\"white\",\"minorgridcolor\":\"white\",\"startlinecolor\":\"#2a3f5f\"},\"baxis\":{\"endlinecolor\":\"#2a3f5f\",\"gridcolor\":\"white\",\"linecolor\":\"white\",\"minorgridcolor\":\"white\",\"startlinecolor\":\"#2a3f5f\"},\"type\":\"carpet\"}],\"table\":[{\"cells\":{\"fill\":{\"color\":\"#EBF0F8\"},\"line\":{\"color\":\"white\"}},\"header\":{\"fill\":{\"color\":\"#C8D4E3\"},\"line\":{\"color\":\"white\"}},\"type\":\"table\"}],\"barpolar\":[{\"marker\":{\"line\":{\"color\":\"#E5ECF6\",\"width\":0.5},\"pattern\":{\"fillmode\":\"overlay\",\"size\":10,\"solidity\":0.2}},\"type\":\"barpolar\"}],\"pie\":[{\"automargin\":true,\"type\":\"pie\"}]},\"layout\":{\"autotypenumbers\":\"strict\",\"colorway\":[\"#636efa\",\"#EF553B\",\"#00cc96\",\"#ab63fa\",\"#FFA15A\",\"#19d3f3\",\"#FF6692\",\"#B6E880\",\"#FF97FF\",\"#FECB52\"],\"font\":{\"color\":\"#2a3f5f\"},\"hovermode\":\"closest\",\"hoverlabel\":{\"align\":\"left\"},\"paper_bgcolor\":\"white\",\"plot_bgcolor\":\"#E5ECF6\",\"polar\":{\"bgcolor\":\"#E5ECF6\",\"angularaxis\":{\"gridcolor\":\"white\",\"linecolor\":\"white\",\"ticks\":\"\"},\"radialaxis\":{\"gridcolor\":\"white\",\"linecolor\":\"white\",\"ticks\":\"\"}},\"ternary\":{\"bgcolor\":\"#E5ECF6\",\"aaxis\":{\"gridcolor\":\"white\",\"linecolor\":\"white\",\"ticks\":\"\"},\"baxis\":{\"gridcolor\":\"white\",\"linecolor\":\"white\",\"ticks\":\"\"},\"caxis\":{\"gridcolor\":\"white\",\"linecolor\":\"white\",\"ticks\":\"\"}},\"coloraxis\":{\"colorbar\":{\"outlinewidth\":0,\"ticks\":\"\"}},\"colorscale\":{\"sequential\":[[0.0,\"#0d0887\"],[0.1111111111111111,\"#46039f\"],[0.2222222222222222,\"#7201a8\"],[0.3333333333333333,\"#9c179e\"],[0.4444444444444444,\"#bd3786\"],[0.5555555555555556,\"#d8576b\"],[0.6666666666666666,\"#ed7953\"],[0.7777777777777778,\"#fb9f3a\"],[0.8888888888888888,\"#fdca26\"],[1.0,\"#f0f921\"]],\"sequentialminus\":[[0.0,\"#0d0887\"],[0.1111111111111111,\"#46039f\"],[0.2222222222222222,\"#7201a8\"],[0.3333333333333333,\"#9c179e\"],[0.4444444444444444,\"#bd3786\"],[0.5555555555555556,\"#d8576b\"],[0.6666666666666666,\"#ed7953\"],[0.7777777777777778,\"#fb9f3a\"],[0.8888888888888888,\"#fdca26\"],[1.0,\"#f0f921\"]],\"diverging\":[[0,\"#8e0152\"],[0.1,\"#c51b7d\"],[0.2,\"#de77ae\"],[0.3,\"#f1b6da\"],[0.4,\"#fde0ef\"],[0.5,\"#f7f7f7\"],[0.6,\"#e6f5d0\"],[0.7,\"#b8e186\"],[0.8,\"#7fbc41\"],[0.9,\"#4d9221\"],[1,\"#276419\"]]},\"xaxis\":{\"gridcolor\":\"white\",\"linecolor\":\"white\",\"ticks\":\"\",\"title\":{\"standoff\":15},\"zerolinecolor\":\"white\",\"automargin\":true,\"zerolinewidth\":2},\"yaxis\":{\"gridcolor\":\"white\",\"linecolor\":\"white\",\"ticks\":\"\",\"title\":{\"standoff\":15},\"zerolinecolor\":\"white\",\"automargin\":true,\"zerolinewidth\":2},\"scene\":{\"xaxis\":{\"backgroundcolor\":\"#E5ECF6\",\"gridcolor\":\"white\",\"linecolor\":\"white\",\"showbackground\":true,\"ticks\":\"\",\"zerolinecolor\":\"white\",\"gridwidth\":2},\"yaxis\":{\"backgroundcolor\":\"#E5ECF6\",\"gridcolor\":\"white\",\"linecolor\":\"white\",\"showbackground\":true,\"ticks\":\"\",\"zerolinecolor\":\"white\",\"gridwidth\":2},\"zaxis\":{\"backgroundcolor\":\"#E5ECF6\",\"gridcolor\":\"white\",\"linecolor\":\"white\",\"showbackground\":true,\"ticks\":\"\",\"zerolinecolor\":\"white\",\"gridwidth\":2}},\"shapedefaults\":{\"line\":{\"color\":\"#2a3f5f\"}},\"annotationdefaults\":{\"arrowcolor\":\"#2a3f5f\",\"arrowhead\":0,\"arrowwidth\":1},\"geo\":{\"bgcolor\":\"white\",\"landcolor\":\"#E5ECF6\",\"subunitcolor\":\"white\",\"showland\":true,\"showlakes\":true,\"lakecolor\":\"white\"},\"title\":{\"x\":0.05},\"mapbox\":{\"style\":\"light\"}}},\"xaxis\":{\"anchor\":\"y\",\"domain\":[0.0,1.0],\"title\":{\"text\":\"playerName\"}},\"yaxis\":{\"anchor\":\"x\",\"domain\":[0.0,1.0],\"title\":{\"text\":\"delta\"}},\"coloraxis\":{\"colorbar\":{\"title\":{\"text\":\"adp\"}},\"colorscale\":[[0.0,\"#0d0887\"],[0.1111111111111111,\"#46039f\"],[0.2222222222222222,\"#7201a8\"],[0.3333333333333333,\"#9c179e\"],[0.4444444444444444,\"#bd3786\"],[0.5555555555555556,\"#d8576b\"],[0.6666666666666666,\"#ed7953\"],[0.7777777777777778,\"#fb9f3a\"],[0.8888888888888888,\"#fdca26\"],[1.0,\"#f0f921\"]]},\"legend\":{\"tracegroupgap\":0},\"title\":{\"text\":\"QBs | Difference in ADP Rank and FP Rank\"},\"barmode\":\"relative\",\"height\":600},                        {\"responsive\": true}                    ).then(function(){\n",
       "                            \n",
       "var gd = document.getElementById('de5e7e3a-a488-483a-952a-9430805edeec');\n",
       "var x = new MutationObserver(function (mutations, observer) {{\n",
       "        var display = window.getComputedStyle(gd).display;\n",
       "        if (!display || display === 'none') {{\n",
       "            console.log([gd, 'removed!']);\n",
       "            Plotly.purge(gd);\n",
       "            observer.disconnect();\n",
       "        }}\n",
       "}});\n",
       "\n",
       "// Listen for the removal of the full notebook cells\n",
       "var notebookContainer = gd.closest('#notebook-container');\n",
       "if (notebookContainer) {{\n",
       "    x.observe(notebookContainer, {childList: true});\n",
       "}}\n",
       "\n",
       "// Listen for the clearing of the current output cell\n",
       "var outputEl = gd.closest('.output');\n",
       "if (outputEl) {{\n",
       "    x.observe(outputEl, {childList: true});\n",
       "}}\n",
       "\n",
       "                        })                };                });            </script>        </div>"
      ]
     },
     "metadata": {},
     "output_type": "display_data"
    }
   ],
   "source": [
    "# create relative bar chart to show difference in ADP rank and FP rank\n",
    "# a positive delta shows players expected to outperform their ADP\n",
    "# a negative delta show players expected to underperform their ADP\n",
    "\n",
    "fig = px.bar(qb_24, x='playerName', y='delta',\n",
    "             hover_data=['adp_rank', 'adp', 'fp_rank', 'fantasyPoints'], color='adp',\n",
    "             title='QBs | Difference in ADP Rank and FP Rank', height=600, barmode='relative')\n",
    "fig.show()\n",
    "fig.write_html(\"fig/qb_bar.html\")\n",
    "fig.write_image(\"images/qb_bar.png\")"
   ]
  },
  {
   "cell_type": "code",
   "execution_count": 50,
   "id": "2ed66bdf",
   "metadata": {},
   "outputs": [
    {
     "data": {
      "application/vnd.plotly.v1+json": {
       "config": {
        "plotlyServerURL": "https://plot.ly"
       },
       "data": [
        {
         "alignmentgroup": "True",
         "customdata": [
          [
           1,
           1.4,
           6,
           275
          ],
          [
           2,
           2.3,
           1,
           327.8
          ],
          [
           3,
           3.2,
           2,
           314.3
          ],
          [
           4,
           4,
           7,
           272.3
          ],
          [
           5,
           6,
           5,
           294
          ],
          [
           6,
           8.3,
           3,
           296.7
          ],
          [
           7,
           10.5,
           12,
           241.4
          ],
          [
           8,
           14.7,
           9,
           256
          ],
          [
           9,
           15.9,
           16,
           213.5
          ],
          [
           10,
           16.5,
           4,
           295.4
          ],
          [
           11,
           22.3,
           11,
           245.2
          ],
          [
           12,
           23.9,
           18,
           205
          ],
          [
           13,
           24.1,
           13,
           235.7
          ],
          [
           14,
           26.5,
           8,
           268.3
          ],
          [
           15,
           31.5,
           10,
           250.8
          ],
          [
           16,
           34.3,
           22,
           190.6
          ],
          [
           17,
           35.7,
           15,
           223.4
          ],
          [
           18,
           37.2,
           17,
           212.4
          ],
          [
           19,
           38.9,
           24,
           181
          ],
          [
           20,
           43.4,
           31,
           147.3
          ],
          [
           21,
           44.1,
           23,
           186.6
          ],
          [
           22,
           44.9,
           19,
           198.2
          ],
          [
           23,
           48,
           14,
           225.9
          ],
          [
           24,
           58.5,
           25,
           178.4
          ],
          [
           25,
           62.9,
           21,
           193
          ],
          [
           26,
           65.2,
           32,
           145.9
          ],
          [
           27,
           66.9,
           28,
           161.4
          ],
          [
           28,
           70.4,
           27,
           172.3
          ],
          [
           29,
           80.4,
           29,
           160.2
          ],
          [
           30,
           84.4,
           20,
           197.2
          ],
          [
           31,
           89.3,
           26,
           172.9
          ],
          [
           32,
           94.7,
           46,
           107.5
          ],
          [
           33,
           98.5,
           30,
           156.8
          ],
          [
           34,
           100.2,
           35,
           129
          ],
          [
           35,
           104.7,
           33,
           143.2
          ],
          [
           36,
           107.4,
           40,
           120.2
          ],
          [
           37,
           111.7,
           59,
           64.4
          ],
          [
           38,
           113.2,
           50,
           92.5
          ],
          [
           39,
           118.7,
           45,
           110.8
          ],
          [
           40,
           121.4,
           42.5,
           111.6
          ],
          [
           41,
           128.8,
           38.5,
           123.5
          ],
          [
           42,
           129.6,
           51,
           92.3
          ],
          [
           43,
           136,
           48,
           102.6
          ],
          [
           44,
           137.8,
           36,
           125.3
          ],
          [
           45,
           142.6,
           34,
           135
          ],
          [
           46,
           145.7,
           66,
           42.8
          ],
          [
           47,
           152.4,
           49,
           97.2
          ],
          [
           48,
           152.6,
           62,
           54.2
          ],
          [
           49,
           154.2,
           38.5,
           123.5
          ],
          [
           50,
           155,
           44,
           111.3
          ],
          [
           51,
           175.9,
           58,
           66.5
          ],
          [
           52,
           176.2,
           54,
           82.9
          ],
          [
           53,
           177.8,
           52,
           90
          ],
          [
           54,
           186.9,
           37,
           124.9
          ],
          [
           55,
           187.7,
           60,
           59.9
          ],
          [
           56,
           189,
           77,
           12.6
          ],
          [
           57,
           196.1,
           57,
           74.5
          ],
          [
           58,
           199,
           72,
           31.3
          ],
          [
           59,
           224.3,
           75,
           19.8
          ],
          [
           60,
           230.7,
           64,
           47.4
          ]
         ],
         "hovertemplate": "playerName=%{x}<br>delta=%{y}<br>adp_rank=%{customdata[0]}<br>adp=%{marker.color}<br>fp_rank=%{customdata[2]}<br>fantasyPoints=%{customdata[3]}<extra></extra>",
         "legendgroup": "",
         "marker": {
          "color": [
           1.4,
           2.3,
           3.2,
           4,
           6,
           8.3,
           10.5,
           14.7,
           15.9,
           16.5,
           22.3,
           23.9,
           24.1,
           26.5,
           31.5,
           34.3,
           35.7,
           37.2,
           38.9,
           43.4,
           44.1,
           44.9,
           48,
           58.5,
           62.9,
           65.2,
           66.9,
           70.4,
           80.4,
           84.4,
           89.3,
           94.7,
           98.5,
           100.2,
           104.7,
           107.4,
           111.7,
           113.2,
           118.7,
           121.4,
           128.8,
           129.6,
           136,
           137.8,
           142.6,
           145.7,
           152.4,
           152.6,
           154.2,
           155,
           175.9,
           176.2,
           177.8,
           186.9,
           187.7,
           189,
           196.1,
           199,
           224.3,
           230.7
          ],
          "coloraxis": "coloraxis",
          "pattern": {
           "shape": ""
          }
         },
         "name": "",
         "offsetgroup": "",
         "orientation": "v",
         "showlegend": false,
         "textposition": "auto",
         "type": "bar",
         "x": [
          "Jonathan Taylor",
          "Christian McCaffrey",
          "Derrick Henry",
          "Austin Ekeler",
          "Dalvin Cook",
          "Najee Harris",
          "Joe Mixon",
          "D'Andre Swift",
          "Nick Chubb",
          "Alvin Kamara",
          "Saquon Barkley",
          "Javonte Williams",
          "Aaron Jones",
          "Leonard Fournette",
          "Ezekiel Elliott",
          "Cam Akers",
          "James Conner",
          "David Montgomery",
          "Antonio Gibson",
          "Breece Hall",
          "J.K. Dobbins",
          "Josh Jacobs",
          "Travis Etienne",
          "Elijah Mitchell",
          "Clyde Edwards-Helaire",
          "Damien Harris",
          "Miles Sanders",
          "A.J. Dillon",
          "Kareem Hunt",
          "Cordarrelle Patterson",
          "Tony Pollard",
          "Devin Singletary",
          "Chase Edmonds",
          "James Cook",
          "Rashaad Penny",
          "Michael Carter",
          "James Robinson",
          "Isaiah Spiller",
          "Rhamondre Stevenson",
          "Ronald Jones",
          "Dameon Pierce",
          "Alexander Mattison",
          "Rachaad White",
          "Nyheim Hines",
          "Darrell Henderson",
          "Tyler Allgeier",
          "Marlon Mack",
          "Kenneth Gainwell",
          "J.D. McKissic",
          "Raheem Mostert",
          "Khalil Herbert",
          "Darrel Williams",
          "Gus Edwards",
          "Jamaal Williams",
          "Chuba Hubbard",
          "Tyrion Davis-Price",
          "Zamir White",
          "D'Onta Foreman",
          "Myles Gaskin",
          "Keaontay Ingram"
         ],
         "xaxis": "x",
         "y": [
          -5,
          1,
          1,
          -3,
          0,
          3,
          -5,
          -1,
          -7,
          6,
          0,
          -6,
          0,
          6,
          5,
          -6,
          2,
          1,
          -5,
          -11,
          -2,
          3,
          9,
          -1,
          4,
          -6,
          -1,
          1,
          0,
          10,
          5,
          -14,
          3,
          -1,
          2,
          -4,
          -22,
          -12,
          -6,
          -2.5,
          2.5,
          -9,
          -5,
          8,
          11,
          -20,
          -2,
          -14,
          10.5,
          6,
          -7,
          -2,
          1,
          17,
          -5,
          -21,
          0,
          -14,
          -16,
          -4
         ],
         "yaxis": "y"
        }
       ],
       "layout": {
        "barmode": "relative",
        "coloraxis": {
         "colorbar": {
          "title": {
           "text": "adp"
          }
         },
         "colorscale": [
          [
           0,
           "#0d0887"
          ],
          [
           0.1111111111111111,
           "#46039f"
          ],
          [
           0.2222222222222222,
           "#7201a8"
          ],
          [
           0.3333333333333333,
           "#9c179e"
          ],
          [
           0.4444444444444444,
           "#bd3786"
          ],
          [
           0.5555555555555556,
           "#d8576b"
          ],
          [
           0.6666666666666666,
           "#ed7953"
          ],
          [
           0.7777777777777778,
           "#fb9f3a"
          ],
          [
           0.8888888888888888,
           "#fdca26"
          ],
          [
           1,
           "#f0f921"
          ]
         ]
        },
        "height": 600,
        "legend": {
         "tracegroupgap": 0
        },
        "template": {
         "data": {
          "bar": [
           {
            "error_x": {
             "color": "#2a3f5f"
            },
            "error_y": {
             "color": "#2a3f5f"
            },
            "marker": {
             "line": {
              "color": "#E5ECF6",
              "width": 0.5
             },
             "pattern": {
              "fillmode": "overlay",
              "size": 10,
              "solidity": 0.2
             }
            },
            "type": "bar"
           }
          ],
          "barpolar": [
           {
            "marker": {
             "line": {
              "color": "#E5ECF6",
              "width": 0.5
             },
             "pattern": {
              "fillmode": "overlay",
              "size": 10,
              "solidity": 0.2
             }
            },
            "type": "barpolar"
           }
          ],
          "carpet": [
           {
            "aaxis": {
             "endlinecolor": "#2a3f5f",
             "gridcolor": "white",
             "linecolor": "white",
             "minorgridcolor": "white",
             "startlinecolor": "#2a3f5f"
            },
            "baxis": {
             "endlinecolor": "#2a3f5f",
             "gridcolor": "white",
             "linecolor": "white",
             "minorgridcolor": "white",
             "startlinecolor": "#2a3f5f"
            },
            "type": "carpet"
           }
          ],
          "choropleth": [
           {
            "colorbar": {
             "outlinewidth": 0,
             "ticks": ""
            },
            "type": "choropleth"
           }
          ],
          "contour": [
           {
            "colorbar": {
             "outlinewidth": 0,
             "ticks": ""
            },
            "colorscale": [
             [
              0,
              "#0d0887"
             ],
             [
              0.1111111111111111,
              "#46039f"
             ],
             [
              0.2222222222222222,
              "#7201a8"
             ],
             [
              0.3333333333333333,
              "#9c179e"
             ],
             [
              0.4444444444444444,
              "#bd3786"
             ],
             [
              0.5555555555555556,
              "#d8576b"
             ],
             [
              0.6666666666666666,
              "#ed7953"
             ],
             [
              0.7777777777777778,
              "#fb9f3a"
             ],
             [
              0.8888888888888888,
              "#fdca26"
             ],
             [
              1,
              "#f0f921"
             ]
            ],
            "type": "contour"
           }
          ],
          "contourcarpet": [
           {
            "colorbar": {
             "outlinewidth": 0,
             "ticks": ""
            },
            "type": "contourcarpet"
           }
          ],
          "heatmap": [
           {
            "colorbar": {
             "outlinewidth": 0,
             "ticks": ""
            },
            "colorscale": [
             [
              0,
              "#0d0887"
             ],
             [
              0.1111111111111111,
              "#46039f"
             ],
             [
              0.2222222222222222,
              "#7201a8"
             ],
             [
              0.3333333333333333,
              "#9c179e"
             ],
             [
              0.4444444444444444,
              "#bd3786"
             ],
             [
              0.5555555555555556,
              "#d8576b"
             ],
             [
              0.6666666666666666,
              "#ed7953"
             ],
             [
              0.7777777777777778,
              "#fb9f3a"
             ],
             [
              0.8888888888888888,
              "#fdca26"
             ],
             [
              1,
              "#f0f921"
             ]
            ],
            "type": "heatmap"
           }
          ],
          "heatmapgl": [
           {
            "colorbar": {
             "outlinewidth": 0,
             "ticks": ""
            },
            "colorscale": [
             [
              0,
              "#0d0887"
             ],
             [
              0.1111111111111111,
              "#46039f"
             ],
             [
              0.2222222222222222,
              "#7201a8"
             ],
             [
              0.3333333333333333,
              "#9c179e"
             ],
             [
              0.4444444444444444,
              "#bd3786"
             ],
             [
              0.5555555555555556,
              "#d8576b"
             ],
             [
              0.6666666666666666,
              "#ed7953"
             ],
             [
              0.7777777777777778,
              "#fb9f3a"
             ],
             [
              0.8888888888888888,
              "#fdca26"
             ],
             [
              1,
              "#f0f921"
             ]
            ],
            "type": "heatmapgl"
           }
          ],
          "histogram": [
           {
            "marker": {
             "pattern": {
              "fillmode": "overlay",
              "size": 10,
              "solidity": 0.2
             }
            },
            "type": "histogram"
           }
          ],
          "histogram2d": [
           {
            "colorbar": {
             "outlinewidth": 0,
             "ticks": ""
            },
            "colorscale": [
             [
              0,
              "#0d0887"
             ],
             [
              0.1111111111111111,
              "#46039f"
             ],
             [
              0.2222222222222222,
              "#7201a8"
             ],
             [
              0.3333333333333333,
              "#9c179e"
             ],
             [
              0.4444444444444444,
              "#bd3786"
             ],
             [
              0.5555555555555556,
              "#d8576b"
             ],
             [
              0.6666666666666666,
              "#ed7953"
             ],
             [
              0.7777777777777778,
              "#fb9f3a"
             ],
             [
              0.8888888888888888,
              "#fdca26"
             ],
             [
              1,
              "#f0f921"
             ]
            ],
            "type": "histogram2d"
           }
          ],
          "histogram2dcontour": [
           {
            "colorbar": {
             "outlinewidth": 0,
             "ticks": ""
            },
            "colorscale": [
             [
              0,
              "#0d0887"
             ],
             [
              0.1111111111111111,
              "#46039f"
             ],
             [
              0.2222222222222222,
              "#7201a8"
             ],
             [
              0.3333333333333333,
              "#9c179e"
             ],
             [
              0.4444444444444444,
              "#bd3786"
             ],
             [
              0.5555555555555556,
              "#d8576b"
             ],
             [
              0.6666666666666666,
              "#ed7953"
             ],
             [
              0.7777777777777778,
              "#fb9f3a"
             ],
             [
              0.8888888888888888,
              "#fdca26"
             ],
             [
              1,
              "#f0f921"
             ]
            ],
            "type": "histogram2dcontour"
           }
          ],
          "mesh3d": [
           {
            "colorbar": {
             "outlinewidth": 0,
             "ticks": ""
            },
            "type": "mesh3d"
           }
          ],
          "parcoords": [
           {
            "line": {
             "colorbar": {
              "outlinewidth": 0,
              "ticks": ""
             }
            },
            "type": "parcoords"
           }
          ],
          "pie": [
           {
            "automargin": true,
            "type": "pie"
           }
          ],
          "scatter": [
           {
            "fillpattern": {
             "fillmode": "overlay",
             "size": 10,
             "solidity": 0.2
            },
            "type": "scatter"
           }
          ],
          "scatter3d": [
           {
            "line": {
             "colorbar": {
              "outlinewidth": 0,
              "ticks": ""
             }
            },
            "marker": {
             "colorbar": {
              "outlinewidth": 0,
              "ticks": ""
             }
            },
            "type": "scatter3d"
           }
          ],
          "scattercarpet": [
           {
            "marker": {
             "colorbar": {
              "outlinewidth": 0,
              "ticks": ""
             }
            },
            "type": "scattercarpet"
           }
          ],
          "scattergeo": [
           {
            "marker": {
             "colorbar": {
              "outlinewidth": 0,
              "ticks": ""
             }
            },
            "type": "scattergeo"
           }
          ],
          "scattergl": [
           {
            "marker": {
             "colorbar": {
              "outlinewidth": 0,
              "ticks": ""
             }
            },
            "type": "scattergl"
           }
          ],
          "scattermapbox": [
           {
            "marker": {
             "colorbar": {
              "outlinewidth": 0,
              "ticks": ""
             }
            },
            "type": "scattermapbox"
           }
          ],
          "scatterpolar": [
           {
            "marker": {
             "colorbar": {
              "outlinewidth": 0,
              "ticks": ""
             }
            },
            "type": "scatterpolar"
           }
          ],
          "scatterpolargl": [
           {
            "marker": {
             "colorbar": {
              "outlinewidth": 0,
              "ticks": ""
             }
            },
            "type": "scatterpolargl"
           }
          ],
          "scatterternary": [
           {
            "marker": {
             "colorbar": {
              "outlinewidth": 0,
              "ticks": ""
             }
            },
            "type": "scatterternary"
           }
          ],
          "surface": [
           {
            "colorbar": {
             "outlinewidth": 0,
             "ticks": ""
            },
            "colorscale": [
             [
              0,
              "#0d0887"
             ],
             [
              0.1111111111111111,
              "#46039f"
             ],
             [
              0.2222222222222222,
              "#7201a8"
             ],
             [
              0.3333333333333333,
              "#9c179e"
             ],
             [
              0.4444444444444444,
              "#bd3786"
             ],
             [
              0.5555555555555556,
              "#d8576b"
             ],
             [
              0.6666666666666666,
              "#ed7953"
             ],
             [
              0.7777777777777778,
              "#fb9f3a"
             ],
             [
              0.8888888888888888,
              "#fdca26"
             ],
             [
              1,
              "#f0f921"
             ]
            ],
            "type": "surface"
           }
          ],
          "table": [
           {
            "cells": {
             "fill": {
              "color": "#EBF0F8"
             },
             "line": {
              "color": "white"
             }
            },
            "header": {
             "fill": {
              "color": "#C8D4E3"
             },
             "line": {
              "color": "white"
             }
            },
            "type": "table"
           }
          ]
         },
         "layout": {
          "annotationdefaults": {
           "arrowcolor": "#2a3f5f",
           "arrowhead": 0,
           "arrowwidth": 1
          },
          "autotypenumbers": "strict",
          "coloraxis": {
           "colorbar": {
            "outlinewidth": 0,
            "ticks": ""
           }
          },
          "colorscale": {
           "diverging": [
            [
             0,
             "#8e0152"
            ],
            [
             0.1,
             "#c51b7d"
            ],
            [
             0.2,
             "#de77ae"
            ],
            [
             0.3,
             "#f1b6da"
            ],
            [
             0.4,
             "#fde0ef"
            ],
            [
             0.5,
             "#f7f7f7"
            ],
            [
             0.6,
             "#e6f5d0"
            ],
            [
             0.7,
             "#b8e186"
            ],
            [
             0.8,
             "#7fbc41"
            ],
            [
             0.9,
             "#4d9221"
            ],
            [
             1,
             "#276419"
            ]
           ],
           "sequential": [
            [
             0,
             "#0d0887"
            ],
            [
             0.1111111111111111,
             "#46039f"
            ],
            [
             0.2222222222222222,
             "#7201a8"
            ],
            [
             0.3333333333333333,
             "#9c179e"
            ],
            [
             0.4444444444444444,
             "#bd3786"
            ],
            [
             0.5555555555555556,
             "#d8576b"
            ],
            [
             0.6666666666666666,
             "#ed7953"
            ],
            [
             0.7777777777777778,
             "#fb9f3a"
            ],
            [
             0.8888888888888888,
             "#fdca26"
            ],
            [
             1,
             "#f0f921"
            ]
           ],
           "sequentialminus": [
            [
             0,
             "#0d0887"
            ],
            [
             0.1111111111111111,
             "#46039f"
            ],
            [
             0.2222222222222222,
             "#7201a8"
            ],
            [
             0.3333333333333333,
             "#9c179e"
            ],
            [
             0.4444444444444444,
             "#bd3786"
            ],
            [
             0.5555555555555556,
             "#d8576b"
            ],
            [
             0.6666666666666666,
             "#ed7953"
            ],
            [
             0.7777777777777778,
             "#fb9f3a"
            ],
            [
             0.8888888888888888,
             "#fdca26"
            ],
            [
             1,
             "#f0f921"
            ]
           ]
          },
          "colorway": [
           "#636efa",
           "#EF553B",
           "#00cc96",
           "#ab63fa",
           "#FFA15A",
           "#19d3f3",
           "#FF6692",
           "#B6E880",
           "#FF97FF",
           "#FECB52"
          ],
          "font": {
           "color": "#2a3f5f"
          },
          "geo": {
           "bgcolor": "white",
           "lakecolor": "white",
           "landcolor": "#E5ECF6",
           "showlakes": true,
           "showland": true,
           "subunitcolor": "white"
          },
          "hoverlabel": {
           "align": "left"
          },
          "hovermode": "closest",
          "mapbox": {
           "style": "light"
          },
          "paper_bgcolor": "white",
          "plot_bgcolor": "#E5ECF6",
          "polar": {
           "angularaxis": {
            "gridcolor": "white",
            "linecolor": "white",
            "ticks": ""
           },
           "bgcolor": "#E5ECF6",
           "radialaxis": {
            "gridcolor": "white",
            "linecolor": "white",
            "ticks": ""
           }
          },
          "scene": {
           "xaxis": {
            "backgroundcolor": "#E5ECF6",
            "gridcolor": "white",
            "gridwidth": 2,
            "linecolor": "white",
            "showbackground": true,
            "ticks": "",
            "zerolinecolor": "white"
           },
           "yaxis": {
            "backgroundcolor": "#E5ECF6",
            "gridcolor": "white",
            "gridwidth": 2,
            "linecolor": "white",
            "showbackground": true,
            "ticks": "",
            "zerolinecolor": "white"
           },
           "zaxis": {
            "backgroundcolor": "#E5ECF6",
            "gridcolor": "white",
            "gridwidth": 2,
            "linecolor": "white",
            "showbackground": true,
            "ticks": "",
            "zerolinecolor": "white"
           }
          },
          "shapedefaults": {
           "line": {
            "color": "#2a3f5f"
           }
          },
          "ternary": {
           "aaxis": {
            "gridcolor": "white",
            "linecolor": "white",
            "ticks": ""
           },
           "baxis": {
            "gridcolor": "white",
            "linecolor": "white",
            "ticks": ""
           },
           "bgcolor": "#E5ECF6",
           "caxis": {
            "gridcolor": "white",
            "linecolor": "white",
            "ticks": ""
           }
          },
          "title": {
           "x": 0.05
          },
          "xaxis": {
           "automargin": true,
           "gridcolor": "white",
           "linecolor": "white",
           "ticks": "",
           "title": {
            "standoff": 15
           },
           "zerolinecolor": "white",
           "zerolinewidth": 2
          },
          "yaxis": {
           "automargin": true,
           "gridcolor": "white",
           "linecolor": "white",
           "ticks": "",
           "title": {
            "standoff": 15
           },
           "zerolinecolor": "white",
           "zerolinewidth": 2
          }
         }
        },
        "title": {
         "text": "RBs | Difference in ADP Rank and FP Rank"
        },
        "xaxis": {
         "anchor": "y",
         "domain": [
          0,
          1
         ],
         "title": {
          "text": "playerName"
         }
        },
        "yaxis": {
         "anchor": "x",
         "domain": [
          0,
          1
         ],
         "title": {
          "text": "delta"
         }
        }
       }
      },
      "text/html": [
       "<div>                            <div id=\"3e8acd64-fa18-4844-8652-86496e89ced4\" class=\"plotly-graph-div\" style=\"height:600px; width:100%;\"></div>            <script type=\"text/javascript\">                require([\"plotly\"], function(Plotly) {                    window.PLOTLYENV=window.PLOTLYENV || {};                                    if (document.getElementById(\"3e8acd64-fa18-4844-8652-86496e89ced4\")) {                    Plotly.newPlot(                        \"3e8acd64-fa18-4844-8652-86496e89ced4\",                        [{\"alignmentgroup\":\"True\",\"customdata\":[[1.0,1.4,6.0,275.0],[2.0,2.3,1.0,327.8],[3.0,3.2,2.0,314.3],[4.0,4.0,7.0,272.3],[5.0,6.0,5.0,294.0],[6.0,8.3,3.0,296.7],[7.0,10.5,12.0,241.4],[8.0,14.7,9.0,256.0],[9.0,15.9,16.0,213.5],[10.0,16.5,4.0,295.4],[11.0,22.3,11.0,245.2],[12.0,23.9,18.0,205.0],[13.0,24.1,13.0,235.7],[14.0,26.5,8.0,268.3],[15.0,31.5,10.0,250.8],[16.0,34.3,22.0,190.6],[17.0,35.7,15.0,223.4],[18.0,37.2,17.0,212.4],[19.0,38.9,24.0,181.0],[20.0,43.4,31.0,147.3],[21.0,44.1,23.0,186.6],[22.0,44.9,19.0,198.2],[23.0,48.0,14.0,225.9],[24.0,58.5,25.0,178.4],[25.0,62.9,21.0,193.0],[26.0,65.2,32.0,145.9],[27.0,66.9,28.0,161.4],[28.0,70.4,27.0,172.3],[29.0,80.4,29.0,160.2],[30.0,84.4,20.0,197.2],[31.0,89.3,26.0,172.9],[32.0,94.7,46.0,107.5],[33.0,98.5,30.0,156.8],[34.0,100.2,35.0,129.0],[35.0,104.7,33.0,143.2],[36.0,107.4,40.0,120.2],[37.0,111.7,59.0,64.4],[38.0,113.2,50.0,92.5],[39.0,118.7,45.0,110.8],[40.0,121.4,42.5,111.6],[41.0,128.8,38.5,123.5],[42.0,129.6,51.0,92.3],[43.0,136.0,48.0,102.6],[44.0,137.8,36.0,125.3],[45.0,142.6,34.0,135.0],[46.0,145.7,66.0,42.8],[47.0,152.4,49.0,97.2],[48.0,152.6,62.0,54.2],[49.0,154.2,38.5,123.5],[50.0,155.0,44.0,111.3],[51.0,175.9,58.0,66.5],[52.0,176.2,54.0,82.9],[53.0,177.8,52.0,90.0],[54.0,186.9,37.0,124.9],[55.0,187.7,60.0,59.9],[56.0,189.0,77.0,12.6],[57.0,196.1,57.0,74.5],[58.0,199.0,72.0,31.3],[59.0,224.3,75.0,19.8],[60.0,230.7,64.0,47.4]],\"hovertemplate\":\"playerName=%{x}<br>delta=%{y}<br>adp_rank=%{customdata[0]}<br>adp=%{marker.color}<br>fp_rank=%{customdata[2]}<br>fantasyPoints=%{customdata[3]}<extra></extra>\",\"legendgroup\":\"\",\"marker\":{\"color\":[1.4,2.3,3.2,4.0,6.0,8.3,10.5,14.7,15.9,16.5,22.3,23.9,24.1,26.5,31.5,34.3,35.7,37.2,38.9,43.4,44.1,44.9,48.0,58.5,62.9,65.2,66.9,70.4,80.4,84.4,89.3,94.7,98.5,100.2,104.7,107.4,111.7,113.2,118.7,121.4,128.8,129.6,136.0,137.8,142.6,145.7,152.4,152.6,154.2,155.0,175.9,176.2,177.8,186.9,187.7,189.0,196.1,199.0,224.3,230.7],\"coloraxis\":\"coloraxis\",\"pattern\":{\"shape\":\"\"}},\"name\":\"\",\"offsetgroup\":\"\",\"orientation\":\"v\",\"showlegend\":false,\"textposition\":\"auto\",\"x\":[\"Jonathan Taylor\",\"Christian McCaffrey\",\"Derrick Henry\",\"Austin Ekeler\",\"Dalvin Cook\",\"Najee Harris\",\"Joe Mixon\",\"D'Andre Swift\",\"Nick Chubb\",\"Alvin Kamara\",\"Saquon Barkley\",\"Javonte Williams\",\"Aaron Jones\",\"Leonard Fournette\",\"Ezekiel Elliott\",\"Cam Akers\",\"James Conner\",\"David Montgomery\",\"Antonio Gibson\",\"Breece Hall\",\"J.K. Dobbins\",\"Josh Jacobs\",\"Travis Etienne\",\"Elijah Mitchell\",\"Clyde Edwards-Helaire\",\"Damien Harris\",\"Miles Sanders\",\"A.J. Dillon\",\"Kareem Hunt\",\"Cordarrelle Patterson\",\"Tony Pollard\",\"Devin Singletary\",\"Chase Edmonds\",\"James Cook\",\"Rashaad Penny\",\"Michael Carter\",\"James Robinson\",\"Isaiah Spiller\",\"Rhamondre Stevenson\",\"Ronald Jones\",\"Dameon Pierce\",\"Alexander Mattison\",\"Rachaad White\",\"Nyheim Hines\",\"Darrell Henderson\",\"Tyler Allgeier\",\"Marlon Mack\",\"Kenneth Gainwell\",\"J.D. McKissic\",\"Raheem Mostert\",\"Khalil Herbert\",\"Darrel Williams\",\"Gus Edwards\",\"Jamaal Williams\",\"Chuba Hubbard\",\"Tyrion Davis-Price\",\"Zamir White\",\"D'Onta Foreman\",\"Myles Gaskin\",\"Keaontay Ingram\"],\"xaxis\":\"x\",\"y\":[-5.0,1.0,1.0,-3.0,0.0,3.0,-5.0,-1.0,-7.0,6.0,0.0,-6.0,0.0,6.0,5.0,-6.0,2.0,1.0,-5.0,-11.0,-2.0,3.0,9.0,-1.0,4.0,-6.0,-1.0,1.0,0.0,10.0,5.0,-14.0,3.0,-1.0,2.0,-4.0,-22.0,-12.0,-6.0,-2.5,2.5,-9.0,-5.0,8.0,11.0,-20.0,-2.0,-14.0,10.5,6.0,-7.0,-2.0,1.0,17.0,-5.0,-21.0,0.0,-14.0,-16.0,-4.0],\"yaxis\":\"y\",\"type\":\"bar\"}],                        {\"template\":{\"data\":{\"histogram2dcontour\":[{\"type\":\"histogram2dcontour\",\"colorbar\":{\"outlinewidth\":0,\"ticks\":\"\"},\"colorscale\":[[0.0,\"#0d0887\"],[0.1111111111111111,\"#46039f\"],[0.2222222222222222,\"#7201a8\"],[0.3333333333333333,\"#9c179e\"],[0.4444444444444444,\"#bd3786\"],[0.5555555555555556,\"#d8576b\"],[0.6666666666666666,\"#ed7953\"],[0.7777777777777778,\"#fb9f3a\"],[0.8888888888888888,\"#fdca26\"],[1.0,\"#f0f921\"]]}],\"choropleth\":[{\"type\":\"choropleth\",\"colorbar\":{\"outlinewidth\":0,\"ticks\":\"\"}}],\"histogram2d\":[{\"type\":\"histogram2d\",\"colorbar\":{\"outlinewidth\":0,\"ticks\":\"\"},\"colorscale\":[[0.0,\"#0d0887\"],[0.1111111111111111,\"#46039f\"],[0.2222222222222222,\"#7201a8\"],[0.3333333333333333,\"#9c179e\"],[0.4444444444444444,\"#bd3786\"],[0.5555555555555556,\"#d8576b\"],[0.6666666666666666,\"#ed7953\"],[0.7777777777777778,\"#fb9f3a\"],[0.8888888888888888,\"#fdca26\"],[1.0,\"#f0f921\"]]}],\"heatmap\":[{\"type\":\"heatmap\",\"colorbar\":{\"outlinewidth\":0,\"ticks\":\"\"},\"colorscale\":[[0.0,\"#0d0887\"],[0.1111111111111111,\"#46039f\"],[0.2222222222222222,\"#7201a8\"],[0.3333333333333333,\"#9c179e\"],[0.4444444444444444,\"#bd3786\"],[0.5555555555555556,\"#d8576b\"],[0.6666666666666666,\"#ed7953\"],[0.7777777777777778,\"#fb9f3a\"],[0.8888888888888888,\"#fdca26\"],[1.0,\"#f0f921\"]]}],\"heatmapgl\":[{\"type\":\"heatmapgl\",\"colorbar\":{\"outlinewidth\":0,\"ticks\":\"\"},\"colorscale\":[[0.0,\"#0d0887\"],[0.1111111111111111,\"#46039f\"],[0.2222222222222222,\"#7201a8\"],[0.3333333333333333,\"#9c179e\"],[0.4444444444444444,\"#bd3786\"],[0.5555555555555556,\"#d8576b\"],[0.6666666666666666,\"#ed7953\"],[0.7777777777777778,\"#fb9f3a\"],[0.8888888888888888,\"#fdca26\"],[1.0,\"#f0f921\"]]}],\"contourcarpet\":[{\"type\":\"contourcarpet\",\"colorbar\":{\"outlinewidth\":0,\"ticks\":\"\"}}],\"contour\":[{\"type\":\"contour\",\"colorbar\":{\"outlinewidth\":0,\"ticks\":\"\"},\"colorscale\":[[0.0,\"#0d0887\"],[0.1111111111111111,\"#46039f\"],[0.2222222222222222,\"#7201a8\"],[0.3333333333333333,\"#9c179e\"],[0.4444444444444444,\"#bd3786\"],[0.5555555555555556,\"#d8576b\"],[0.6666666666666666,\"#ed7953\"],[0.7777777777777778,\"#fb9f3a\"],[0.8888888888888888,\"#fdca26\"],[1.0,\"#f0f921\"]]}],\"surface\":[{\"type\":\"surface\",\"colorbar\":{\"outlinewidth\":0,\"ticks\":\"\"},\"colorscale\":[[0.0,\"#0d0887\"],[0.1111111111111111,\"#46039f\"],[0.2222222222222222,\"#7201a8\"],[0.3333333333333333,\"#9c179e\"],[0.4444444444444444,\"#bd3786\"],[0.5555555555555556,\"#d8576b\"],[0.6666666666666666,\"#ed7953\"],[0.7777777777777778,\"#fb9f3a\"],[0.8888888888888888,\"#fdca26\"],[1.0,\"#f0f921\"]]}],\"mesh3d\":[{\"type\":\"mesh3d\",\"colorbar\":{\"outlinewidth\":0,\"ticks\":\"\"}}],\"scatter\":[{\"fillpattern\":{\"fillmode\":\"overlay\",\"size\":10,\"solidity\":0.2},\"type\":\"scatter\"}],\"parcoords\":[{\"type\":\"parcoords\",\"line\":{\"colorbar\":{\"outlinewidth\":0,\"ticks\":\"\"}}}],\"scatterpolargl\":[{\"type\":\"scatterpolargl\",\"marker\":{\"colorbar\":{\"outlinewidth\":0,\"ticks\":\"\"}}}],\"bar\":[{\"error_x\":{\"color\":\"#2a3f5f\"},\"error_y\":{\"color\":\"#2a3f5f\"},\"marker\":{\"line\":{\"color\":\"#E5ECF6\",\"width\":0.5},\"pattern\":{\"fillmode\":\"overlay\",\"size\":10,\"solidity\":0.2}},\"type\":\"bar\"}],\"scattergeo\":[{\"type\":\"scattergeo\",\"marker\":{\"colorbar\":{\"outlinewidth\":0,\"ticks\":\"\"}}}],\"scatterpolar\":[{\"type\":\"scatterpolar\",\"marker\":{\"colorbar\":{\"outlinewidth\":0,\"ticks\":\"\"}}}],\"histogram\":[{\"marker\":{\"pattern\":{\"fillmode\":\"overlay\",\"size\":10,\"solidity\":0.2}},\"type\":\"histogram\"}],\"scattergl\":[{\"type\":\"scattergl\",\"marker\":{\"colorbar\":{\"outlinewidth\":0,\"ticks\":\"\"}}}],\"scatter3d\":[{\"type\":\"scatter3d\",\"line\":{\"colorbar\":{\"outlinewidth\":0,\"ticks\":\"\"}},\"marker\":{\"colorbar\":{\"outlinewidth\":0,\"ticks\":\"\"}}}],\"scattermapbox\":[{\"type\":\"scattermapbox\",\"marker\":{\"colorbar\":{\"outlinewidth\":0,\"ticks\":\"\"}}}],\"scatterternary\":[{\"type\":\"scatterternary\",\"marker\":{\"colorbar\":{\"outlinewidth\":0,\"ticks\":\"\"}}}],\"scattercarpet\":[{\"type\":\"scattercarpet\",\"marker\":{\"colorbar\":{\"outlinewidth\":0,\"ticks\":\"\"}}}],\"carpet\":[{\"aaxis\":{\"endlinecolor\":\"#2a3f5f\",\"gridcolor\":\"white\",\"linecolor\":\"white\",\"minorgridcolor\":\"white\",\"startlinecolor\":\"#2a3f5f\"},\"baxis\":{\"endlinecolor\":\"#2a3f5f\",\"gridcolor\":\"white\",\"linecolor\":\"white\",\"minorgridcolor\":\"white\",\"startlinecolor\":\"#2a3f5f\"},\"type\":\"carpet\"}],\"table\":[{\"cells\":{\"fill\":{\"color\":\"#EBF0F8\"},\"line\":{\"color\":\"white\"}},\"header\":{\"fill\":{\"color\":\"#C8D4E3\"},\"line\":{\"color\":\"white\"}},\"type\":\"table\"}],\"barpolar\":[{\"marker\":{\"line\":{\"color\":\"#E5ECF6\",\"width\":0.5},\"pattern\":{\"fillmode\":\"overlay\",\"size\":10,\"solidity\":0.2}},\"type\":\"barpolar\"}],\"pie\":[{\"automargin\":true,\"type\":\"pie\"}]},\"layout\":{\"autotypenumbers\":\"strict\",\"colorway\":[\"#636efa\",\"#EF553B\",\"#00cc96\",\"#ab63fa\",\"#FFA15A\",\"#19d3f3\",\"#FF6692\",\"#B6E880\",\"#FF97FF\",\"#FECB52\"],\"font\":{\"color\":\"#2a3f5f\"},\"hovermode\":\"closest\",\"hoverlabel\":{\"align\":\"left\"},\"paper_bgcolor\":\"white\",\"plot_bgcolor\":\"#E5ECF6\",\"polar\":{\"bgcolor\":\"#E5ECF6\",\"angularaxis\":{\"gridcolor\":\"white\",\"linecolor\":\"white\",\"ticks\":\"\"},\"radialaxis\":{\"gridcolor\":\"white\",\"linecolor\":\"white\",\"ticks\":\"\"}},\"ternary\":{\"bgcolor\":\"#E5ECF6\",\"aaxis\":{\"gridcolor\":\"white\",\"linecolor\":\"white\",\"ticks\":\"\"},\"baxis\":{\"gridcolor\":\"white\",\"linecolor\":\"white\",\"ticks\":\"\"},\"caxis\":{\"gridcolor\":\"white\",\"linecolor\":\"white\",\"ticks\":\"\"}},\"coloraxis\":{\"colorbar\":{\"outlinewidth\":0,\"ticks\":\"\"}},\"colorscale\":{\"sequential\":[[0.0,\"#0d0887\"],[0.1111111111111111,\"#46039f\"],[0.2222222222222222,\"#7201a8\"],[0.3333333333333333,\"#9c179e\"],[0.4444444444444444,\"#bd3786\"],[0.5555555555555556,\"#d8576b\"],[0.6666666666666666,\"#ed7953\"],[0.7777777777777778,\"#fb9f3a\"],[0.8888888888888888,\"#fdca26\"],[1.0,\"#f0f921\"]],\"sequentialminus\":[[0.0,\"#0d0887\"],[0.1111111111111111,\"#46039f\"],[0.2222222222222222,\"#7201a8\"],[0.3333333333333333,\"#9c179e\"],[0.4444444444444444,\"#bd3786\"],[0.5555555555555556,\"#d8576b\"],[0.6666666666666666,\"#ed7953\"],[0.7777777777777778,\"#fb9f3a\"],[0.8888888888888888,\"#fdca26\"],[1.0,\"#f0f921\"]],\"diverging\":[[0,\"#8e0152\"],[0.1,\"#c51b7d\"],[0.2,\"#de77ae\"],[0.3,\"#f1b6da\"],[0.4,\"#fde0ef\"],[0.5,\"#f7f7f7\"],[0.6,\"#e6f5d0\"],[0.7,\"#b8e186\"],[0.8,\"#7fbc41\"],[0.9,\"#4d9221\"],[1,\"#276419\"]]},\"xaxis\":{\"gridcolor\":\"white\",\"linecolor\":\"white\",\"ticks\":\"\",\"title\":{\"standoff\":15},\"zerolinecolor\":\"white\",\"automargin\":true,\"zerolinewidth\":2},\"yaxis\":{\"gridcolor\":\"white\",\"linecolor\":\"white\",\"ticks\":\"\",\"title\":{\"standoff\":15},\"zerolinecolor\":\"white\",\"automargin\":true,\"zerolinewidth\":2},\"scene\":{\"xaxis\":{\"backgroundcolor\":\"#E5ECF6\",\"gridcolor\":\"white\",\"linecolor\":\"white\",\"showbackground\":true,\"ticks\":\"\",\"zerolinecolor\":\"white\",\"gridwidth\":2},\"yaxis\":{\"backgroundcolor\":\"#E5ECF6\",\"gridcolor\":\"white\",\"linecolor\":\"white\",\"showbackground\":true,\"ticks\":\"\",\"zerolinecolor\":\"white\",\"gridwidth\":2},\"zaxis\":{\"backgroundcolor\":\"#E5ECF6\",\"gridcolor\":\"white\",\"linecolor\":\"white\",\"showbackground\":true,\"ticks\":\"\",\"zerolinecolor\":\"white\",\"gridwidth\":2}},\"shapedefaults\":{\"line\":{\"color\":\"#2a3f5f\"}},\"annotationdefaults\":{\"arrowcolor\":\"#2a3f5f\",\"arrowhead\":0,\"arrowwidth\":1},\"geo\":{\"bgcolor\":\"white\",\"landcolor\":\"#E5ECF6\",\"subunitcolor\":\"white\",\"showland\":true,\"showlakes\":true,\"lakecolor\":\"white\"},\"title\":{\"x\":0.05},\"mapbox\":{\"style\":\"light\"}}},\"xaxis\":{\"anchor\":\"y\",\"domain\":[0.0,1.0],\"title\":{\"text\":\"playerName\"}},\"yaxis\":{\"anchor\":\"x\",\"domain\":[0.0,1.0],\"title\":{\"text\":\"delta\"}},\"coloraxis\":{\"colorbar\":{\"title\":{\"text\":\"adp\"}},\"colorscale\":[[0.0,\"#0d0887\"],[0.1111111111111111,\"#46039f\"],[0.2222222222222222,\"#7201a8\"],[0.3333333333333333,\"#9c179e\"],[0.4444444444444444,\"#bd3786\"],[0.5555555555555556,\"#d8576b\"],[0.6666666666666666,\"#ed7953\"],[0.7777777777777778,\"#fb9f3a\"],[0.8888888888888888,\"#fdca26\"],[1.0,\"#f0f921\"]]},\"legend\":{\"tracegroupgap\":0},\"title\":{\"text\":\"RBs | Difference in ADP Rank and FP Rank\"},\"barmode\":\"relative\",\"height\":600},                        {\"responsive\": true}                    ).then(function(){\n",
       "                            \n",
       "var gd = document.getElementById('3e8acd64-fa18-4844-8652-86496e89ced4');\n",
       "var x = new MutationObserver(function (mutations, observer) {{\n",
       "        var display = window.getComputedStyle(gd).display;\n",
       "        if (!display || display === 'none') {{\n",
       "            console.log([gd, 'removed!']);\n",
       "            Plotly.purge(gd);\n",
       "            observer.disconnect();\n",
       "        }}\n",
       "}});\n",
       "\n",
       "// Listen for the removal of the full notebook cells\n",
       "var notebookContainer = gd.closest('#notebook-container');\n",
       "if (notebookContainer) {{\n",
       "    x.observe(notebookContainer, {childList: true});\n",
       "}}\n",
       "\n",
       "// Listen for the clearing of the current output cell\n",
       "var outputEl = gd.closest('.output');\n",
       "if (outputEl) {{\n",
       "    x.observe(outputEl, {childList: true});\n",
       "}}\n",
       "\n",
       "                        })                };                });            </script>        </div>"
      ]
     },
     "metadata": {},
     "output_type": "display_data"
    },
    {
     "data": {
      "application/vnd.plotly.v1+json": {
       "config": {
        "plotlyServerURL": "https://plot.ly"
       },
       "data": [
        {
         "alignmentgroup": "True",
         "customdata": [
          [
           1,
           1.4,
           6,
           275
          ],
          [
           2,
           2.3,
           1,
           327.8
          ],
          [
           3,
           3.2,
           2,
           314.3
          ],
          [
           4,
           4,
           7,
           272.3
          ],
          [
           5,
           6,
           5,
           294
          ],
          [
           6,
           8.3,
           3,
           296.7
          ],
          [
           7,
           10.5,
           12,
           241.4
          ],
          [
           8,
           14.7,
           9,
           256
          ],
          [
           9,
           15.9,
           16,
           213.5
          ],
          [
           10,
           16.5,
           4,
           295.4
          ],
          [
           11,
           22.3,
           11,
           245.2
          ],
          [
           12,
           23.9,
           18,
           205
          ],
          [
           13,
           24.1,
           13,
           235.7
          ],
          [
           14,
           26.5,
           8,
           268.3
          ],
          [
           15,
           31.5,
           10,
           250.8
          ],
          [
           16,
           34.3,
           22,
           190.6
          ],
          [
           17,
           35.7,
           15,
           223.4
          ],
          [
           18,
           37.2,
           17,
           212.4
          ],
          [
           19,
           38.9,
           24,
           181
          ],
          [
           20,
           43.4,
           31,
           147.3
          ],
          [
           21,
           44.1,
           23,
           186.6
          ],
          [
           22,
           44.9,
           19,
           198.2
          ],
          [
           23,
           48,
           14,
           225.9
          ],
          [
           24,
           58.5,
           25,
           178.4
          ],
          [
           25,
           62.9,
           21,
           193
          ],
          [
           26,
           65.2,
           32,
           145.9
          ],
          [
           27,
           66.9,
           28,
           161.4
          ],
          [
           28,
           70.4,
           27,
           172.3
          ],
          [
           29,
           80.4,
           29,
           160.2
          ],
          [
           30,
           84.4,
           20,
           197.2
          ],
          [
           31,
           89.3,
           26,
           172.9
          ],
          [
           32,
           94.7,
           46,
           107.5
          ],
          [
           33,
           98.5,
           30,
           156.8
          ],
          [
           34,
           100.2,
           35,
           129
          ],
          [
           35,
           104.7,
           33,
           143.2
          ],
          [
           36,
           107.4,
           40,
           120.2
          ],
          [
           37,
           111.7,
           59,
           64.4
          ],
          [
           38,
           113.2,
           50,
           92.5
          ],
          [
           39,
           118.7,
           45,
           110.8
          ],
          [
           40,
           121.4,
           42.5,
           111.6
          ],
          [
           41,
           128.8,
           38.5,
           123.5
          ],
          [
           42,
           129.6,
           51,
           92.3
          ],
          [
           43,
           136,
           48,
           102.6
          ],
          [
           44,
           137.8,
           36,
           125.3
          ],
          [
           45,
           142.6,
           34,
           135
          ],
          [
           46,
           145.7,
           66,
           42.8
          ],
          [
           47,
           152.4,
           49,
           97.2
          ],
          [
           48,
           152.6,
           62,
           54.2
          ],
          [
           49,
           154.2,
           38.5,
           123.5
          ],
          [
           50,
           155,
           44,
           111.3
          ],
          [
           51,
           175.9,
           58,
           66.5
          ],
          [
           52,
           176.2,
           54,
           82.9
          ],
          [
           53,
           177.8,
           52,
           90
          ],
          [
           54,
           186.9,
           37,
           124.9
          ],
          [
           55,
           187.7,
           60,
           59.9
          ],
          [
           56,
           189,
           77,
           12.6
          ],
          [
           57,
           196.1,
           57,
           74.5
          ],
          [
           58,
           199,
           72,
           31.3
          ],
          [
           59,
           224.3,
           75,
           19.8
          ],
          [
           60,
           230.7,
           64,
           47.4
          ]
         ],
         "hovertemplate": "playerName=%{x}<br>delta=%{y}<br>adp_rank=%{customdata[0]}<br>adp=%{marker.color}<br>fp_rank=%{customdata[2]}<br>fantasyPoints=%{customdata[3]}<extra></extra>",
         "legendgroup": "",
         "marker": {
          "color": [
           1.4,
           2.3,
           3.2,
           4,
           6,
           8.3,
           10.5,
           14.7,
           15.9,
           16.5,
           22.3,
           23.9,
           24.1,
           26.5,
           31.5,
           34.3,
           35.7,
           37.2,
           38.9,
           43.4,
           44.1,
           44.9,
           48,
           58.5,
           62.9,
           65.2,
           66.9,
           70.4,
           80.4,
           84.4,
           89.3,
           94.7,
           98.5,
           100.2,
           104.7,
           107.4,
           111.7,
           113.2,
           118.7,
           121.4,
           128.8,
           129.6,
           136,
           137.8,
           142.6,
           145.7,
           152.4,
           152.6,
           154.2,
           155,
           175.9,
           176.2,
           177.8,
           186.9,
           187.7,
           189,
           196.1,
           199,
           224.3,
           230.7
          ],
          "coloraxis": "coloraxis",
          "pattern": {
           "shape": ""
          }
         },
         "name": "",
         "offsetgroup": "",
         "orientation": "v",
         "showlegend": false,
         "textposition": "auto",
         "type": "bar",
         "x": [
          "Jonathan Taylor",
          "Christian McCaffrey",
          "Derrick Henry",
          "Austin Ekeler",
          "Dalvin Cook",
          "Najee Harris",
          "Joe Mixon",
          "D'Andre Swift",
          "Nick Chubb",
          "Alvin Kamara",
          "Saquon Barkley",
          "Javonte Williams",
          "Aaron Jones",
          "Leonard Fournette",
          "Ezekiel Elliott",
          "Cam Akers",
          "James Conner",
          "David Montgomery",
          "Antonio Gibson",
          "Breece Hall",
          "J.K. Dobbins",
          "Josh Jacobs",
          "Travis Etienne",
          "Elijah Mitchell",
          "Clyde Edwards-Helaire",
          "Damien Harris",
          "Miles Sanders",
          "A.J. Dillon",
          "Kareem Hunt",
          "Cordarrelle Patterson",
          "Tony Pollard",
          "Devin Singletary",
          "Chase Edmonds",
          "James Cook",
          "Rashaad Penny",
          "Michael Carter",
          "James Robinson",
          "Isaiah Spiller",
          "Rhamondre Stevenson",
          "Ronald Jones",
          "Dameon Pierce",
          "Alexander Mattison",
          "Rachaad White",
          "Nyheim Hines",
          "Darrell Henderson",
          "Tyler Allgeier",
          "Marlon Mack",
          "Kenneth Gainwell",
          "J.D. McKissic",
          "Raheem Mostert",
          "Khalil Herbert",
          "Darrel Williams",
          "Gus Edwards",
          "Jamaal Williams",
          "Chuba Hubbard",
          "Tyrion Davis-Price",
          "Zamir White",
          "D'Onta Foreman",
          "Myles Gaskin",
          "Keaontay Ingram"
         ],
         "xaxis": "x",
         "y": [
          -5,
          1,
          1,
          -3,
          0,
          3,
          -5,
          -1,
          -7,
          6,
          0,
          -6,
          0,
          6,
          5,
          -6,
          2,
          1,
          -5,
          -11,
          -2,
          3,
          9,
          -1,
          4,
          -6,
          -1,
          1,
          0,
          10,
          5,
          -14,
          3,
          -1,
          2,
          -4,
          -22,
          -12,
          -6,
          -2.5,
          2.5,
          -9,
          -5,
          8,
          11,
          -20,
          -2,
          -14,
          10.5,
          6,
          -7,
          -2,
          1,
          17,
          -5,
          -21,
          0,
          -14,
          -16,
          -4
         ],
         "yaxis": "y"
        }
       ],
       "layout": {
        "barmode": "relative",
        "coloraxis": {
         "colorbar": {
          "title": {
           "text": "adp"
          }
         },
         "colorscale": [
          [
           0,
           "#0d0887"
          ],
          [
           0.1111111111111111,
           "#46039f"
          ],
          [
           0.2222222222222222,
           "#7201a8"
          ],
          [
           0.3333333333333333,
           "#9c179e"
          ],
          [
           0.4444444444444444,
           "#bd3786"
          ],
          [
           0.5555555555555556,
           "#d8576b"
          ],
          [
           0.6666666666666666,
           "#ed7953"
          ],
          [
           0.7777777777777778,
           "#fb9f3a"
          ],
          [
           0.8888888888888888,
           "#fdca26"
          ],
          [
           1,
           "#f0f921"
          ]
         ]
        },
        "height": 600,
        "legend": {
         "tracegroupgap": 0
        },
        "template": {
         "data": {
          "bar": [
           {
            "error_x": {
             "color": "#2a3f5f"
            },
            "error_y": {
             "color": "#2a3f5f"
            },
            "marker": {
             "line": {
              "color": "#E5ECF6",
              "width": 0.5
             },
             "pattern": {
              "fillmode": "overlay",
              "size": 10,
              "solidity": 0.2
             }
            },
            "type": "bar"
           }
          ],
          "barpolar": [
           {
            "marker": {
             "line": {
              "color": "#E5ECF6",
              "width": 0.5
             },
             "pattern": {
              "fillmode": "overlay",
              "size": 10,
              "solidity": 0.2
             }
            },
            "type": "barpolar"
           }
          ],
          "carpet": [
           {
            "aaxis": {
             "endlinecolor": "#2a3f5f",
             "gridcolor": "white",
             "linecolor": "white",
             "minorgridcolor": "white",
             "startlinecolor": "#2a3f5f"
            },
            "baxis": {
             "endlinecolor": "#2a3f5f",
             "gridcolor": "white",
             "linecolor": "white",
             "minorgridcolor": "white",
             "startlinecolor": "#2a3f5f"
            },
            "type": "carpet"
           }
          ],
          "choropleth": [
           {
            "colorbar": {
             "outlinewidth": 0,
             "ticks": ""
            },
            "type": "choropleth"
           }
          ],
          "contour": [
           {
            "colorbar": {
             "outlinewidth": 0,
             "ticks": ""
            },
            "colorscale": [
             [
              0,
              "#0d0887"
             ],
             [
              0.1111111111111111,
              "#46039f"
             ],
             [
              0.2222222222222222,
              "#7201a8"
             ],
             [
              0.3333333333333333,
              "#9c179e"
             ],
             [
              0.4444444444444444,
              "#bd3786"
             ],
             [
              0.5555555555555556,
              "#d8576b"
             ],
             [
              0.6666666666666666,
              "#ed7953"
             ],
             [
              0.7777777777777778,
              "#fb9f3a"
             ],
             [
              0.8888888888888888,
              "#fdca26"
             ],
             [
              1,
              "#f0f921"
             ]
            ],
            "type": "contour"
           }
          ],
          "contourcarpet": [
           {
            "colorbar": {
             "outlinewidth": 0,
             "ticks": ""
            },
            "type": "contourcarpet"
           }
          ],
          "heatmap": [
           {
            "colorbar": {
             "outlinewidth": 0,
             "ticks": ""
            },
            "colorscale": [
             [
              0,
              "#0d0887"
             ],
             [
              0.1111111111111111,
              "#46039f"
             ],
             [
              0.2222222222222222,
              "#7201a8"
             ],
             [
              0.3333333333333333,
              "#9c179e"
             ],
             [
              0.4444444444444444,
              "#bd3786"
             ],
             [
              0.5555555555555556,
              "#d8576b"
             ],
             [
              0.6666666666666666,
              "#ed7953"
             ],
             [
              0.7777777777777778,
              "#fb9f3a"
             ],
             [
              0.8888888888888888,
              "#fdca26"
             ],
             [
              1,
              "#f0f921"
             ]
            ],
            "type": "heatmap"
           }
          ],
          "heatmapgl": [
           {
            "colorbar": {
             "outlinewidth": 0,
             "ticks": ""
            },
            "colorscale": [
             [
              0,
              "#0d0887"
             ],
             [
              0.1111111111111111,
              "#46039f"
             ],
             [
              0.2222222222222222,
              "#7201a8"
             ],
             [
              0.3333333333333333,
              "#9c179e"
             ],
             [
              0.4444444444444444,
              "#bd3786"
             ],
             [
              0.5555555555555556,
              "#d8576b"
             ],
             [
              0.6666666666666666,
              "#ed7953"
             ],
             [
              0.7777777777777778,
              "#fb9f3a"
             ],
             [
              0.8888888888888888,
              "#fdca26"
             ],
             [
              1,
              "#f0f921"
             ]
            ],
            "type": "heatmapgl"
           }
          ],
          "histogram": [
           {
            "marker": {
             "pattern": {
              "fillmode": "overlay",
              "size": 10,
              "solidity": 0.2
             }
            },
            "type": "histogram"
           }
          ],
          "histogram2d": [
           {
            "colorbar": {
             "outlinewidth": 0,
             "ticks": ""
            },
            "colorscale": [
             [
              0,
              "#0d0887"
             ],
             [
              0.1111111111111111,
              "#46039f"
             ],
             [
              0.2222222222222222,
              "#7201a8"
             ],
             [
              0.3333333333333333,
              "#9c179e"
             ],
             [
              0.4444444444444444,
              "#bd3786"
             ],
             [
              0.5555555555555556,
              "#d8576b"
             ],
             [
              0.6666666666666666,
              "#ed7953"
             ],
             [
              0.7777777777777778,
              "#fb9f3a"
             ],
             [
              0.8888888888888888,
              "#fdca26"
             ],
             [
              1,
              "#f0f921"
             ]
            ],
            "type": "histogram2d"
           }
          ],
          "histogram2dcontour": [
           {
            "colorbar": {
             "outlinewidth": 0,
             "ticks": ""
            },
            "colorscale": [
             [
              0,
              "#0d0887"
             ],
             [
              0.1111111111111111,
              "#46039f"
             ],
             [
              0.2222222222222222,
              "#7201a8"
             ],
             [
              0.3333333333333333,
              "#9c179e"
             ],
             [
              0.4444444444444444,
              "#bd3786"
             ],
             [
              0.5555555555555556,
              "#d8576b"
             ],
             [
              0.6666666666666666,
              "#ed7953"
             ],
             [
              0.7777777777777778,
              "#fb9f3a"
             ],
             [
              0.8888888888888888,
              "#fdca26"
             ],
             [
              1,
              "#f0f921"
             ]
            ],
            "type": "histogram2dcontour"
           }
          ],
          "mesh3d": [
           {
            "colorbar": {
             "outlinewidth": 0,
             "ticks": ""
            },
            "type": "mesh3d"
           }
          ],
          "parcoords": [
           {
            "line": {
             "colorbar": {
              "outlinewidth": 0,
              "ticks": ""
             }
            },
            "type": "parcoords"
           }
          ],
          "pie": [
           {
            "automargin": true,
            "type": "pie"
           }
          ],
          "scatter": [
           {
            "fillpattern": {
             "fillmode": "overlay",
             "size": 10,
             "solidity": 0.2
            },
            "type": "scatter"
           }
          ],
          "scatter3d": [
           {
            "line": {
             "colorbar": {
              "outlinewidth": 0,
              "ticks": ""
             }
            },
            "marker": {
             "colorbar": {
              "outlinewidth": 0,
              "ticks": ""
             }
            },
            "type": "scatter3d"
           }
          ],
          "scattercarpet": [
           {
            "marker": {
             "colorbar": {
              "outlinewidth": 0,
              "ticks": ""
             }
            },
            "type": "scattercarpet"
           }
          ],
          "scattergeo": [
           {
            "marker": {
             "colorbar": {
              "outlinewidth": 0,
              "ticks": ""
             }
            },
            "type": "scattergeo"
           }
          ],
          "scattergl": [
           {
            "marker": {
             "colorbar": {
              "outlinewidth": 0,
              "ticks": ""
             }
            },
            "type": "scattergl"
           }
          ],
          "scattermapbox": [
           {
            "marker": {
             "colorbar": {
              "outlinewidth": 0,
              "ticks": ""
             }
            },
            "type": "scattermapbox"
           }
          ],
          "scatterpolar": [
           {
            "marker": {
             "colorbar": {
              "outlinewidth": 0,
              "ticks": ""
             }
            },
            "type": "scatterpolar"
           }
          ],
          "scatterpolargl": [
           {
            "marker": {
             "colorbar": {
              "outlinewidth": 0,
              "ticks": ""
             }
            },
            "type": "scatterpolargl"
           }
          ],
          "scatterternary": [
           {
            "marker": {
             "colorbar": {
              "outlinewidth": 0,
              "ticks": ""
             }
            },
            "type": "scatterternary"
           }
          ],
          "surface": [
           {
            "colorbar": {
             "outlinewidth": 0,
             "ticks": ""
            },
            "colorscale": [
             [
              0,
              "#0d0887"
             ],
             [
              0.1111111111111111,
              "#46039f"
             ],
             [
              0.2222222222222222,
              "#7201a8"
             ],
             [
              0.3333333333333333,
              "#9c179e"
             ],
             [
              0.4444444444444444,
              "#bd3786"
             ],
             [
              0.5555555555555556,
              "#d8576b"
             ],
             [
              0.6666666666666666,
              "#ed7953"
             ],
             [
              0.7777777777777778,
              "#fb9f3a"
             ],
             [
              0.8888888888888888,
              "#fdca26"
             ],
             [
              1,
              "#f0f921"
             ]
            ],
            "type": "surface"
           }
          ],
          "table": [
           {
            "cells": {
             "fill": {
              "color": "#EBF0F8"
             },
             "line": {
              "color": "white"
             }
            },
            "header": {
             "fill": {
              "color": "#C8D4E3"
             },
             "line": {
              "color": "white"
             }
            },
            "type": "table"
           }
          ]
         },
         "layout": {
          "annotationdefaults": {
           "arrowcolor": "#2a3f5f",
           "arrowhead": 0,
           "arrowwidth": 1
          },
          "autotypenumbers": "strict",
          "coloraxis": {
           "colorbar": {
            "outlinewidth": 0,
            "ticks": ""
           }
          },
          "colorscale": {
           "diverging": [
            [
             0,
             "#8e0152"
            ],
            [
             0.1,
             "#c51b7d"
            ],
            [
             0.2,
             "#de77ae"
            ],
            [
             0.3,
             "#f1b6da"
            ],
            [
             0.4,
             "#fde0ef"
            ],
            [
             0.5,
             "#f7f7f7"
            ],
            [
             0.6,
             "#e6f5d0"
            ],
            [
             0.7,
             "#b8e186"
            ],
            [
             0.8,
             "#7fbc41"
            ],
            [
             0.9,
             "#4d9221"
            ],
            [
             1,
             "#276419"
            ]
           ],
           "sequential": [
            [
             0,
             "#0d0887"
            ],
            [
             0.1111111111111111,
             "#46039f"
            ],
            [
             0.2222222222222222,
             "#7201a8"
            ],
            [
             0.3333333333333333,
             "#9c179e"
            ],
            [
             0.4444444444444444,
             "#bd3786"
            ],
            [
             0.5555555555555556,
             "#d8576b"
            ],
            [
             0.6666666666666666,
             "#ed7953"
            ],
            [
             0.7777777777777778,
             "#fb9f3a"
            ],
            [
             0.8888888888888888,
             "#fdca26"
            ],
            [
             1,
             "#f0f921"
            ]
           ],
           "sequentialminus": [
            [
             0,
             "#0d0887"
            ],
            [
             0.1111111111111111,
             "#46039f"
            ],
            [
             0.2222222222222222,
             "#7201a8"
            ],
            [
             0.3333333333333333,
             "#9c179e"
            ],
            [
             0.4444444444444444,
             "#bd3786"
            ],
            [
             0.5555555555555556,
             "#d8576b"
            ],
            [
             0.6666666666666666,
             "#ed7953"
            ],
            [
             0.7777777777777778,
             "#fb9f3a"
            ],
            [
             0.8888888888888888,
             "#fdca26"
            ],
            [
             1,
             "#f0f921"
            ]
           ]
          },
          "colorway": [
           "#636efa",
           "#EF553B",
           "#00cc96",
           "#ab63fa",
           "#FFA15A",
           "#19d3f3",
           "#FF6692",
           "#B6E880",
           "#FF97FF",
           "#FECB52"
          ],
          "font": {
           "color": "#2a3f5f"
          },
          "geo": {
           "bgcolor": "white",
           "lakecolor": "white",
           "landcolor": "#E5ECF6",
           "showlakes": true,
           "showland": true,
           "subunitcolor": "white"
          },
          "hoverlabel": {
           "align": "left"
          },
          "hovermode": "closest",
          "mapbox": {
           "style": "light"
          },
          "paper_bgcolor": "white",
          "plot_bgcolor": "#E5ECF6",
          "polar": {
           "angularaxis": {
            "gridcolor": "white",
            "linecolor": "white",
            "ticks": ""
           },
           "bgcolor": "#E5ECF6",
           "radialaxis": {
            "gridcolor": "white",
            "linecolor": "white",
            "ticks": ""
           }
          },
          "scene": {
           "xaxis": {
            "backgroundcolor": "#E5ECF6",
            "gridcolor": "white",
            "gridwidth": 2,
            "linecolor": "white",
            "showbackground": true,
            "ticks": "",
            "zerolinecolor": "white"
           },
           "yaxis": {
            "backgroundcolor": "#E5ECF6",
            "gridcolor": "white",
            "gridwidth": 2,
            "linecolor": "white",
            "showbackground": true,
            "ticks": "",
            "zerolinecolor": "white"
           },
           "zaxis": {
            "backgroundcolor": "#E5ECF6",
            "gridcolor": "white",
            "gridwidth": 2,
            "linecolor": "white",
            "showbackground": true,
            "ticks": "",
            "zerolinecolor": "white"
           }
          },
          "shapedefaults": {
           "line": {
            "color": "#2a3f5f"
           }
          },
          "ternary": {
           "aaxis": {
            "gridcolor": "white",
            "linecolor": "white",
            "ticks": ""
           },
           "baxis": {
            "gridcolor": "white",
            "linecolor": "white",
            "ticks": ""
           },
           "bgcolor": "#E5ECF6",
           "caxis": {
            "gridcolor": "white",
            "linecolor": "white",
            "ticks": ""
           }
          },
          "title": {
           "x": 0.05
          },
          "xaxis": {
           "automargin": true,
           "gridcolor": "white",
           "linecolor": "white",
           "ticks": "",
           "title": {
            "standoff": 15
           },
           "zerolinecolor": "white",
           "zerolinewidth": 2
          },
          "yaxis": {
           "automargin": true,
           "gridcolor": "white",
           "linecolor": "white",
           "ticks": "",
           "title": {
            "standoff": 15
           },
           "zerolinecolor": "white",
           "zerolinewidth": 2
          }
         }
        },
        "title": {
         "text": "RBs | Difference in ADP Rank and FP Rank"
        },
        "xaxis": {
         "anchor": "y",
         "domain": [
          0,
          1
         ],
         "title": {
          "text": "playerName"
         }
        },
        "yaxis": {
         "anchor": "x",
         "domain": [
          0,
          1
         ],
         "title": {
          "text": "delta"
         }
        }
       }
      },
      "text/html": [
       "<div>                            <div id=\"3e8acd64-fa18-4844-8652-86496e89ced4\" class=\"plotly-graph-div\" style=\"height:600px; width:100%;\"></div>            <script type=\"text/javascript\">                require([\"plotly\"], function(Plotly) {                    window.PLOTLYENV=window.PLOTLYENV || {};                                    if (document.getElementById(\"3e8acd64-fa18-4844-8652-86496e89ced4\")) {                    Plotly.newPlot(                        \"3e8acd64-fa18-4844-8652-86496e89ced4\",                        [{\"alignmentgroup\":\"True\",\"customdata\":[[1.0,1.4,6.0,275.0],[2.0,2.3,1.0,327.8],[3.0,3.2,2.0,314.3],[4.0,4.0,7.0,272.3],[5.0,6.0,5.0,294.0],[6.0,8.3,3.0,296.7],[7.0,10.5,12.0,241.4],[8.0,14.7,9.0,256.0],[9.0,15.9,16.0,213.5],[10.0,16.5,4.0,295.4],[11.0,22.3,11.0,245.2],[12.0,23.9,18.0,205.0],[13.0,24.1,13.0,235.7],[14.0,26.5,8.0,268.3],[15.0,31.5,10.0,250.8],[16.0,34.3,22.0,190.6],[17.0,35.7,15.0,223.4],[18.0,37.2,17.0,212.4],[19.0,38.9,24.0,181.0],[20.0,43.4,31.0,147.3],[21.0,44.1,23.0,186.6],[22.0,44.9,19.0,198.2],[23.0,48.0,14.0,225.9],[24.0,58.5,25.0,178.4],[25.0,62.9,21.0,193.0],[26.0,65.2,32.0,145.9],[27.0,66.9,28.0,161.4],[28.0,70.4,27.0,172.3],[29.0,80.4,29.0,160.2],[30.0,84.4,20.0,197.2],[31.0,89.3,26.0,172.9],[32.0,94.7,46.0,107.5],[33.0,98.5,30.0,156.8],[34.0,100.2,35.0,129.0],[35.0,104.7,33.0,143.2],[36.0,107.4,40.0,120.2],[37.0,111.7,59.0,64.4],[38.0,113.2,50.0,92.5],[39.0,118.7,45.0,110.8],[40.0,121.4,42.5,111.6],[41.0,128.8,38.5,123.5],[42.0,129.6,51.0,92.3],[43.0,136.0,48.0,102.6],[44.0,137.8,36.0,125.3],[45.0,142.6,34.0,135.0],[46.0,145.7,66.0,42.8],[47.0,152.4,49.0,97.2],[48.0,152.6,62.0,54.2],[49.0,154.2,38.5,123.5],[50.0,155.0,44.0,111.3],[51.0,175.9,58.0,66.5],[52.0,176.2,54.0,82.9],[53.0,177.8,52.0,90.0],[54.0,186.9,37.0,124.9],[55.0,187.7,60.0,59.9],[56.0,189.0,77.0,12.6],[57.0,196.1,57.0,74.5],[58.0,199.0,72.0,31.3],[59.0,224.3,75.0,19.8],[60.0,230.7,64.0,47.4]],\"hovertemplate\":\"playerName=%{x}<br>delta=%{y}<br>adp_rank=%{customdata[0]}<br>adp=%{marker.color}<br>fp_rank=%{customdata[2]}<br>fantasyPoints=%{customdata[3]}<extra></extra>\",\"legendgroup\":\"\",\"marker\":{\"color\":[1.4,2.3,3.2,4.0,6.0,8.3,10.5,14.7,15.9,16.5,22.3,23.9,24.1,26.5,31.5,34.3,35.7,37.2,38.9,43.4,44.1,44.9,48.0,58.5,62.9,65.2,66.9,70.4,80.4,84.4,89.3,94.7,98.5,100.2,104.7,107.4,111.7,113.2,118.7,121.4,128.8,129.6,136.0,137.8,142.6,145.7,152.4,152.6,154.2,155.0,175.9,176.2,177.8,186.9,187.7,189.0,196.1,199.0,224.3,230.7],\"coloraxis\":\"coloraxis\",\"pattern\":{\"shape\":\"\"}},\"name\":\"\",\"offsetgroup\":\"\",\"orientation\":\"v\",\"showlegend\":false,\"textposition\":\"auto\",\"x\":[\"Jonathan Taylor\",\"Christian McCaffrey\",\"Derrick Henry\",\"Austin Ekeler\",\"Dalvin Cook\",\"Najee Harris\",\"Joe Mixon\",\"D'Andre Swift\",\"Nick Chubb\",\"Alvin Kamara\",\"Saquon Barkley\",\"Javonte Williams\",\"Aaron Jones\",\"Leonard Fournette\",\"Ezekiel Elliott\",\"Cam Akers\",\"James Conner\",\"David Montgomery\",\"Antonio Gibson\",\"Breece Hall\",\"J.K. Dobbins\",\"Josh Jacobs\",\"Travis Etienne\",\"Elijah Mitchell\",\"Clyde Edwards-Helaire\",\"Damien Harris\",\"Miles Sanders\",\"A.J. Dillon\",\"Kareem Hunt\",\"Cordarrelle Patterson\",\"Tony Pollard\",\"Devin Singletary\",\"Chase Edmonds\",\"James Cook\",\"Rashaad Penny\",\"Michael Carter\",\"James Robinson\",\"Isaiah Spiller\",\"Rhamondre Stevenson\",\"Ronald Jones\",\"Dameon Pierce\",\"Alexander Mattison\",\"Rachaad White\",\"Nyheim Hines\",\"Darrell Henderson\",\"Tyler Allgeier\",\"Marlon Mack\",\"Kenneth Gainwell\",\"J.D. McKissic\",\"Raheem Mostert\",\"Khalil Herbert\",\"Darrel Williams\",\"Gus Edwards\",\"Jamaal Williams\",\"Chuba Hubbard\",\"Tyrion Davis-Price\",\"Zamir White\",\"D'Onta Foreman\",\"Myles Gaskin\",\"Keaontay Ingram\"],\"xaxis\":\"x\",\"y\":[-5.0,1.0,1.0,-3.0,0.0,3.0,-5.0,-1.0,-7.0,6.0,0.0,-6.0,0.0,6.0,5.0,-6.0,2.0,1.0,-5.0,-11.0,-2.0,3.0,9.0,-1.0,4.0,-6.0,-1.0,1.0,0.0,10.0,5.0,-14.0,3.0,-1.0,2.0,-4.0,-22.0,-12.0,-6.0,-2.5,2.5,-9.0,-5.0,8.0,11.0,-20.0,-2.0,-14.0,10.5,6.0,-7.0,-2.0,1.0,17.0,-5.0,-21.0,0.0,-14.0,-16.0,-4.0],\"yaxis\":\"y\",\"type\":\"bar\"}],                        {\"template\":{\"data\":{\"histogram2dcontour\":[{\"type\":\"histogram2dcontour\",\"colorbar\":{\"outlinewidth\":0,\"ticks\":\"\"},\"colorscale\":[[0.0,\"#0d0887\"],[0.1111111111111111,\"#46039f\"],[0.2222222222222222,\"#7201a8\"],[0.3333333333333333,\"#9c179e\"],[0.4444444444444444,\"#bd3786\"],[0.5555555555555556,\"#d8576b\"],[0.6666666666666666,\"#ed7953\"],[0.7777777777777778,\"#fb9f3a\"],[0.8888888888888888,\"#fdca26\"],[1.0,\"#f0f921\"]]}],\"choropleth\":[{\"type\":\"choropleth\",\"colorbar\":{\"outlinewidth\":0,\"ticks\":\"\"}}],\"histogram2d\":[{\"type\":\"histogram2d\",\"colorbar\":{\"outlinewidth\":0,\"ticks\":\"\"},\"colorscale\":[[0.0,\"#0d0887\"],[0.1111111111111111,\"#46039f\"],[0.2222222222222222,\"#7201a8\"],[0.3333333333333333,\"#9c179e\"],[0.4444444444444444,\"#bd3786\"],[0.5555555555555556,\"#d8576b\"],[0.6666666666666666,\"#ed7953\"],[0.7777777777777778,\"#fb9f3a\"],[0.8888888888888888,\"#fdca26\"],[1.0,\"#f0f921\"]]}],\"heatmap\":[{\"type\":\"heatmap\",\"colorbar\":{\"outlinewidth\":0,\"ticks\":\"\"},\"colorscale\":[[0.0,\"#0d0887\"],[0.1111111111111111,\"#46039f\"],[0.2222222222222222,\"#7201a8\"],[0.3333333333333333,\"#9c179e\"],[0.4444444444444444,\"#bd3786\"],[0.5555555555555556,\"#d8576b\"],[0.6666666666666666,\"#ed7953\"],[0.7777777777777778,\"#fb9f3a\"],[0.8888888888888888,\"#fdca26\"],[1.0,\"#f0f921\"]]}],\"heatmapgl\":[{\"type\":\"heatmapgl\",\"colorbar\":{\"outlinewidth\":0,\"ticks\":\"\"},\"colorscale\":[[0.0,\"#0d0887\"],[0.1111111111111111,\"#46039f\"],[0.2222222222222222,\"#7201a8\"],[0.3333333333333333,\"#9c179e\"],[0.4444444444444444,\"#bd3786\"],[0.5555555555555556,\"#d8576b\"],[0.6666666666666666,\"#ed7953\"],[0.7777777777777778,\"#fb9f3a\"],[0.8888888888888888,\"#fdca26\"],[1.0,\"#f0f921\"]]}],\"contourcarpet\":[{\"type\":\"contourcarpet\",\"colorbar\":{\"outlinewidth\":0,\"ticks\":\"\"}}],\"contour\":[{\"type\":\"contour\",\"colorbar\":{\"outlinewidth\":0,\"ticks\":\"\"},\"colorscale\":[[0.0,\"#0d0887\"],[0.1111111111111111,\"#46039f\"],[0.2222222222222222,\"#7201a8\"],[0.3333333333333333,\"#9c179e\"],[0.4444444444444444,\"#bd3786\"],[0.5555555555555556,\"#d8576b\"],[0.6666666666666666,\"#ed7953\"],[0.7777777777777778,\"#fb9f3a\"],[0.8888888888888888,\"#fdca26\"],[1.0,\"#f0f921\"]]}],\"surface\":[{\"type\":\"surface\",\"colorbar\":{\"outlinewidth\":0,\"ticks\":\"\"},\"colorscale\":[[0.0,\"#0d0887\"],[0.1111111111111111,\"#46039f\"],[0.2222222222222222,\"#7201a8\"],[0.3333333333333333,\"#9c179e\"],[0.4444444444444444,\"#bd3786\"],[0.5555555555555556,\"#d8576b\"],[0.6666666666666666,\"#ed7953\"],[0.7777777777777778,\"#fb9f3a\"],[0.8888888888888888,\"#fdca26\"],[1.0,\"#f0f921\"]]}],\"mesh3d\":[{\"type\":\"mesh3d\",\"colorbar\":{\"outlinewidth\":0,\"ticks\":\"\"}}],\"scatter\":[{\"fillpattern\":{\"fillmode\":\"overlay\",\"size\":10,\"solidity\":0.2},\"type\":\"scatter\"}],\"parcoords\":[{\"type\":\"parcoords\",\"line\":{\"colorbar\":{\"outlinewidth\":0,\"ticks\":\"\"}}}],\"scatterpolargl\":[{\"type\":\"scatterpolargl\",\"marker\":{\"colorbar\":{\"outlinewidth\":0,\"ticks\":\"\"}}}],\"bar\":[{\"error_x\":{\"color\":\"#2a3f5f\"},\"error_y\":{\"color\":\"#2a3f5f\"},\"marker\":{\"line\":{\"color\":\"#E5ECF6\",\"width\":0.5},\"pattern\":{\"fillmode\":\"overlay\",\"size\":10,\"solidity\":0.2}},\"type\":\"bar\"}],\"scattergeo\":[{\"type\":\"scattergeo\",\"marker\":{\"colorbar\":{\"outlinewidth\":0,\"ticks\":\"\"}}}],\"scatterpolar\":[{\"type\":\"scatterpolar\",\"marker\":{\"colorbar\":{\"outlinewidth\":0,\"ticks\":\"\"}}}],\"histogram\":[{\"marker\":{\"pattern\":{\"fillmode\":\"overlay\",\"size\":10,\"solidity\":0.2}},\"type\":\"histogram\"}],\"scattergl\":[{\"type\":\"scattergl\",\"marker\":{\"colorbar\":{\"outlinewidth\":0,\"ticks\":\"\"}}}],\"scatter3d\":[{\"type\":\"scatter3d\",\"line\":{\"colorbar\":{\"outlinewidth\":0,\"ticks\":\"\"}},\"marker\":{\"colorbar\":{\"outlinewidth\":0,\"ticks\":\"\"}}}],\"scattermapbox\":[{\"type\":\"scattermapbox\",\"marker\":{\"colorbar\":{\"outlinewidth\":0,\"ticks\":\"\"}}}],\"scatterternary\":[{\"type\":\"scatterternary\",\"marker\":{\"colorbar\":{\"outlinewidth\":0,\"ticks\":\"\"}}}],\"scattercarpet\":[{\"type\":\"scattercarpet\",\"marker\":{\"colorbar\":{\"outlinewidth\":0,\"ticks\":\"\"}}}],\"carpet\":[{\"aaxis\":{\"endlinecolor\":\"#2a3f5f\",\"gridcolor\":\"white\",\"linecolor\":\"white\",\"minorgridcolor\":\"white\",\"startlinecolor\":\"#2a3f5f\"},\"baxis\":{\"endlinecolor\":\"#2a3f5f\",\"gridcolor\":\"white\",\"linecolor\":\"white\",\"minorgridcolor\":\"white\",\"startlinecolor\":\"#2a3f5f\"},\"type\":\"carpet\"}],\"table\":[{\"cells\":{\"fill\":{\"color\":\"#EBF0F8\"},\"line\":{\"color\":\"white\"}},\"header\":{\"fill\":{\"color\":\"#C8D4E3\"},\"line\":{\"color\":\"white\"}},\"type\":\"table\"}],\"barpolar\":[{\"marker\":{\"line\":{\"color\":\"#E5ECF6\",\"width\":0.5},\"pattern\":{\"fillmode\":\"overlay\",\"size\":10,\"solidity\":0.2}},\"type\":\"barpolar\"}],\"pie\":[{\"automargin\":true,\"type\":\"pie\"}]},\"layout\":{\"autotypenumbers\":\"strict\",\"colorway\":[\"#636efa\",\"#EF553B\",\"#00cc96\",\"#ab63fa\",\"#FFA15A\",\"#19d3f3\",\"#FF6692\",\"#B6E880\",\"#FF97FF\",\"#FECB52\"],\"font\":{\"color\":\"#2a3f5f\"},\"hovermode\":\"closest\",\"hoverlabel\":{\"align\":\"left\"},\"paper_bgcolor\":\"white\",\"plot_bgcolor\":\"#E5ECF6\",\"polar\":{\"bgcolor\":\"#E5ECF6\",\"angularaxis\":{\"gridcolor\":\"white\",\"linecolor\":\"white\",\"ticks\":\"\"},\"radialaxis\":{\"gridcolor\":\"white\",\"linecolor\":\"white\",\"ticks\":\"\"}},\"ternary\":{\"bgcolor\":\"#E5ECF6\",\"aaxis\":{\"gridcolor\":\"white\",\"linecolor\":\"white\",\"ticks\":\"\"},\"baxis\":{\"gridcolor\":\"white\",\"linecolor\":\"white\",\"ticks\":\"\"},\"caxis\":{\"gridcolor\":\"white\",\"linecolor\":\"white\",\"ticks\":\"\"}},\"coloraxis\":{\"colorbar\":{\"outlinewidth\":0,\"ticks\":\"\"}},\"colorscale\":{\"sequential\":[[0.0,\"#0d0887\"],[0.1111111111111111,\"#46039f\"],[0.2222222222222222,\"#7201a8\"],[0.3333333333333333,\"#9c179e\"],[0.4444444444444444,\"#bd3786\"],[0.5555555555555556,\"#d8576b\"],[0.6666666666666666,\"#ed7953\"],[0.7777777777777778,\"#fb9f3a\"],[0.8888888888888888,\"#fdca26\"],[1.0,\"#f0f921\"]],\"sequentialminus\":[[0.0,\"#0d0887\"],[0.1111111111111111,\"#46039f\"],[0.2222222222222222,\"#7201a8\"],[0.3333333333333333,\"#9c179e\"],[0.4444444444444444,\"#bd3786\"],[0.5555555555555556,\"#d8576b\"],[0.6666666666666666,\"#ed7953\"],[0.7777777777777778,\"#fb9f3a\"],[0.8888888888888888,\"#fdca26\"],[1.0,\"#f0f921\"]],\"diverging\":[[0,\"#8e0152\"],[0.1,\"#c51b7d\"],[0.2,\"#de77ae\"],[0.3,\"#f1b6da\"],[0.4,\"#fde0ef\"],[0.5,\"#f7f7f7\"],[0.6,\"#e6f5d0\"],[0.7,\"#b8e186\"],[0.8,\"#7fbc41\"],[0.9,\"#4d9221\"],[1,\"#276419\"]]},\"xaxis\":{\"gridcolor\":\"white\",\"linecolor\":\"white\",\"ticks\":\"\",\"title\":{\"standoff\":15},\"zerolinecolor\":\"white\",\"automargin\":true,\"zerolinewidth\":2},\"yaxis\":{\"gridcolor\":\"white\",\"linecolor\":\"white\",\"ticks\":\"\",\"title\":{\"standoff\":15},\"zerolinecolor\":\"white\",\"automargin\":true,\"zerolinewidth\":2},\"scene\":{\"xaxis\":{\"backgroundcolor\":\"#E5ECF6\",\"gridcolor\":\"white\",\"linecolor\":\"white\",\"showbackground\":true,\"ticks\":\"\",\"zerolinecolor\":\"white\",\"gridwidth\":2},\"yaxis\":{\"backgroundcolor\":\"#E5ECF6\",\"gridcolor\":\"white\",\"linecolor\":\"white\",\"showbackground\":true,\"ticks\":\"\",\"zerolinecolor\":\"white\",\"gridwidth\":2},\"zaxis\":{\"backgroundcolor\":\"#E5ECF6\",\"gridcolor\":\"white\",\"linecolor\":\"white\",\"showbackground\":true,\"ticks\":\"\",\"zerolinecolor\":\"white\",\"gridwidth\":2}},\"shapedefaults\":{\"line\":{\"color\":\"#2a3f5f\"}},\"annotationdefaults\":{\"arrowcolor\":\"#2a3f5f\",\"arrowhead\":0,\"arrowwidth\":1},\"geo\":{\"bgcolor\":\"white\",\"landcolor\":\"#E5ECF6\",\"subunitcolor\":\"white\",\"showland\":true,\"showlakes\":true,\"lakecolor\":\"white\"},\"title\":{\"x\":0.05},\"mapbox\":{\"style\":\"light\"}}},\"xaxis\":{\"anchor\":\"y\",\"domain\":[0.0,1.0],\"title\":{\"text\":\"playerName\"}},\"yaxis\":{\"anchor\":\"x\",\"domain\":[0.0,1.0],\"title\":{\"text\":\"delta\"}},\"coloraxis\":{\"colorbar\":{\"title\":{\"text\":\"adp\"}},\"colorscale\":[[0.0,\"#0d0887\"],[0.1111111111111111,\"#46039f\"],[0.2222222222222222,\"#7201a8\"],[0.3333333333333333,\"#9c179e\"],[0.4444444444444444,\"#bd3786\"],[0.5555555555555556,\"#d8576b\"],[0.6666666666666666,\"#ed7953\"],[0.7777777777777778,\"#fb9f3a\"],[0.8888888888888888,\"#fdca26\"],[1.0,\"#f0f921\"]]},\"legend\":{\"tracegroupgap\":0},\"title\":{\"text\":\"RBs | Difference in ADP Rank and FP Rank\"},\"barmode\":\"relative\",\"height\":600},                        {\"responsive\": true}                    ).then(function(){\n",
       "                            \n",
       "var gd = document.getElementById('3e8acd64-fa18-4844-8652-86496e89ced4');\n",
       "var x = new MutationObserver(function (mutations, observer) {{\n",
       "        var display = window.getComputedStyle(gd).display;\n",
       "        if (!display || display === 'none') {{\n",
       "            console.log([gd, 'removed!']);\n",
       "            Plotly.purge(gd);\n",
       "            observer.disconnect();\n",
       "        }}\n",
       "}});\n",
       "\n",
       "// Listen for the removal of the full notebook cells\n",
       "var notebookContainer = gd.closest('#notebook-container');\n",
       "if (notebookContainer) {{\n",
       "    x.observe(notebookContainer, {childList: true});\n",
       "}}\n",
       "\n",
       "// Listen for the clearing of the current output cell\n",
       "var outputEl = gd.closest('.output');\n",
       "if (outputEl) {{\n",
       "    x.observe(outputEl, {childList: true});\n",
       "}}\n",
       "\n",
       "                        })                };                });            </script>        </div>"
      ]
     },
     "metadata": {},
     "output_type": "display_data"
    }
   ],
   "source": [
    "# create relative bar chart to show difference in ADP rank and FP rank\n",
    "# a positive delta shows players expected to outperform their ADP\n",
    "# a negative delta show players expected to underperform their ADP\n",
    "\n",
    "fig = px.bar(rb_60, x='playerName', y='delta',\n",
    "             hover_data=['adp_rank', 'adp', 'fp_rank', 'fantasyPoints'], color='adp',\n",
    "             title='RBs | Difference in ADP Rank and FP Rank', height=600, barmode='relative')\n",
    "fig.show()\n",
    "fig.write_html(\"fig/rb_bar.html\")\n",
    "fig.write_image(\"images/rb_bar.png\")"
   ]
  },
  {
   "cell_type": "code",
   "execution_count": 51,
   "id": "13055b89",
   "metadata": {},
   "outputs": [
    {
     "data": {
      "application/vnd.plotly.v1+json": {
       "config": {
        "plotlyServerURL": "https://plot.ly"
       },
       "data": [
        {
         "alignmentgroup": "True",
         "customdata": [
          [
           1,
           5.9,
           1,
           349.4
          ],
          [
           2,
           7.4,
           2,
           330.8
          ],
          [
           3,
           8.4,
           3,
           300.1
          ],
          [
           4,
           11.7,
           5,
           293
          ],
          [
           5,
           13.3,
           4,
           294.1
          ],
          [
           6,
           17,
           8,
           273.9
          ],
          [
           7,
           19,
           6,
           288.3
          ],
          [
           8,
           21.8,
           9,
           257.5
          ],
          [
           9,
           25.6,
           14,
           242.6
          ],
          [
           10,
           28.5,
           7,
           277.4
          ],
          [
           11,
           30.4,
           12,
           248.3
          ],
          [
           12,
           35.5,
           11,
           250.1
          ],
          [
           13,
           40.1,
           33,
           195.6
          ],
          [
           14,
           41.7,
           13,
           247.5
          ],
          [
           15,
           42.8,
           15,
           233.9
          ],
          [
           16,
           46.9,
           27,
           204.2
          ],
          [
           17,
           47.4,
           10,
           252.4
          ],
          [
           18,
           50.5,
           28,
           204
          ],
          [
           19,
           52.9,
           53,
           169.3
          ],
          [
           20,
           53.5,
           45,
           178.7
          ],
          [
           21,
           56.8,
           48,
           177.8
          ],
          [
           22,
           60.3,
           29,
           201.2
          ],
          [
           23,
           61.1,
           41,
           185.2
          ],
          [
           24,
           64,
           18,
           224.3
          ],
          [
           25,
           68.6,
           66,
           135
          ],
          [
           26,
           69.2,
           24,
           212.2
          ],
          [
           27,
           71.2,
           16,
           232.8
          ],
          [
           28,
           73.9,
           30,
           199.2
          ],
          [
           29,
           75.2,
           25,
           209.6
          ],
          [
           30,
           76.2,
           20,
           221.9
          ],
          [
           31,
           77.6,
           22,
           216.7
          ],
          [
           32,
           78,
           44,
           180.4
          ],
          [
           33,
           82.2,
           35,
           193.3
          ],
          [
           34,
           83.8,
           49,
           175.6
          ],
          [
           35,
           85.9,
           23,
           213.5
          ],
          [
           36,
           86.9,
           36,
           193
          ],
          [
           37,
           88.4,
           17,
           224.5
          ],
          [
           38,
           91.7,
           26,
           205.5
          ],
          [
           39,
           93.7,
           19,
           223.4
          ],
          [
           40,
           95.3,
           50,
           171.3
          ],
          [
           41,
           97.9,
           46,
           178.4
          ],
          [
           42,
           102.7,
           51,
           170.6
          ],
          [
           43,
           106.2,
           39,
           189.4
          ],
          [
           44,
           107.2,
           59,
           147
          ],
          [
           45,
           110,
           31,
           197.4
          ],
          [
           46,
           114.6,
           70,
           128.3
          ],
          [
           47,
           115.3,
           62,
           140
          ],
          [
           48,
           116.8,
           56,
           154
          ],
          [
           49,
           119.2,
           38,
           192.2
          ],
          [
           50,
           120.1,
           55,
           154.6
          ],
          [
           51,
           125.1,
           40,
           187.1
          ],
          [
           52,
           127.8,
           21,
           221.1
          ],
          [
           53,
           132.7,
           32,
           197
          ],
          [
           54,
           133,
           34,
           195.2
          ],
          [
           55,
           134.9,
           79,
           93.5
          ],
          [
           56,
           138,
           76,
           109.7
          ],
          [
           57,
           139,
           37,
           192.6
          ],
          [
           58,
           141.6,
           60,
           146.5
          ],
          [
           59,
           143.7,
           42,
           182
          ],
          [
           60,
           146,
           57,
           150.9
          ]
         ],
         "hovertemplate": "playerName=%{x}<br>delta=%{y}<br>adp_rank=%{customdata[0]}<br>adp=%{marker.color}<br>fp_rank=%{customdata[2]}<br>fantasyPoints=%{customdata[3]}<extra></extra>",
         "legendgroup": "",
         "marker": {
          "color": [
           5.9,
           7.4,
           8.4,
           11.7,
           13.3,
           17,
           19,
           21.8,
           25.6,
           28.5,
           30.4,
           35.5,
           40.1,
           41.7,
           42.8,
           46.9,
           47.4,
           50.5,
           52.9,
           53.5,
           56.8,
           60.3,
           61.1,
           64,
           68.6,
           69.2,
           71.2,
           73.9,
           75.2,
           76.2,
           77.6,
           78,
           82.2,
           83.8,
           85.9,
           86.9,
           88.4,
           91.7,
           93.7,
           95.3,
           97.9,
           102.7,
           106.2,
           107.2,
           110,
           114.6,
           115.3,
           116.8,
           119.2,
           120.1,
           125.1,
           127.8,
           132.7,
           133,
           134.9,
           138,
           139,
           141.6,
           143.7,
           146
          ],
          "coloraxis": "coloraxis",
          "pattern": {
           "shape": ""
          }
         },
         "name": "",
         "offsetgroup": "",
         "orientation": "v",
         "showlegend": false,
         "textposition": "auto",
         "type": "bar",
         "x": [
          "Cooper Kupp",
          "Justin Jefferson",
          "Ja'Marr Chase",
          "Davante Adams",
          "Stefon Diggs",
          "Tyreek Hill",
          "CeeDee Lamb",
          "Deebo Samuel",
          "A.J. Brown",
          "Mike Evans",
          "Keenan Allen",
          "Tee Higgins",
          "Diontae Johnson",
          "Terry McLaurin",
          "D.K. Metcalf",
          "Jaylen Waddle",
          "D.J. Moore",
          "Amari Cooper",
          "Jerry Jeudy",
          "Chris Godwin",
          "Courtland Sutton",
          "Michael Thomas",
          "Marquise Brown",
          "Mike Williams",
          "DeAndre Hopkins",
          "Amon-Ra St. Brown",
          "Brandin Cooks",
          "Adam Thielen",
          "Treylon Burks",
          "Darnell Mooney",
          "Drake London",
          "JuJu Smith-Schuster",
          "DeVonta Smith",
          "Garrett Wilson",
          "Rashod Bateman",
          "Elijah Moore",
          "Tyler Lockett",
          "Hunter Renfrow",
          "Gabriel Davis",
          "Brandon Aiyuk",
          "Chris Olave",
          "Robert Woods",
          "Chase Claypool",
          "Christian Watson",
          "Christian Kirk",
          "Skyy Moore",
          "Jameson Williams",
          "Kadarius Toney",
          "Allen Lazard",
          "Michael Gallup",
          "Tyler Boyd",
          "Russell Gage",
          "Marquez Valdes-Scantling",
          "Kenny Golladay",
          "Jarvis Landry",
          "George Pickens",
          "Jahan Dotson",
          "Rondale Moore",
          "Jakobi Meyers",
          "Tim Patrick"
         ],
         "xaxis": "x",
         "y": [
          0,
          0,
          0,
          -1,
          1,
          -2,
          1,
          -1,
          -5,
          3,
          -1,
          1,
          -20,
          1,
          0,
          -11,
          7,
          -10,
          -34,
          -25,
          -27,
          -7,
          -18,
          6,
          -41,
          2,
          11,
          -2,
          4,
          10,
          9,
          -12,
          -2,
          -15,
          12,
          0,
          20,
          12,
          20,
          -10,
          -5,
          -9,
          4,
          -15,
          14,
          -24,
          -15,
          -8,
          11,
          -5,
          11,
          31,
          21,
          20,
          -24,
          -20,
          20,
          -2,
          17,
          3
         ],
         "yaxis": "y"
        }
       ],
       "layout": {
        "barmode": "relative",
        "coloraxis": {
         "colorbar": {
          "title": {
           "text": "adp"
          }
         },
         "colorscale": [
          [
           0,
           "#0d0887"
          ],
          [
           0.1111111111111111,
           "#46039f"
          ],
          [
           0.2222222222222222,
           "#7201a8"
          ],
          [
           0.3333333333333333,
           "#9c179e"
          ],
          [
           0.4444444444444444,
           "#bd3786"
          ],
          [
           0.5555555555555556,
           "#d8576b"
          ],
          [
           0.6666666666666666,
           "#ed7953"
          ],
          [
           0.7777777777777778,
           "#fb9f3a"
          ],
          [
           0.8888888888888888,
           "#fdca26"
          ],
          [
           1,
           "#f0f921"
          ]
         ]
        },
        "height": 600,
        "legend": {
         "tracegroupgap": 0
        },
        "template": {
         "data": {
          "bar": [
           {
            "error_x": {
             "color": "#2a3f5f"
            },
            "error_y": {
             "color": "#2a3f5f"
            },
            "marker": {
             "line": {
              "color": "#E5ECF6",
              "width": 0.5
             },
             "pattern": {
              "fillmode": "overlay",
              "size": 10,
              "solidity": 0.2
             }
            },
            "type": "bar"
           }
          ],
          "barpolar": [
           {
            "marker": {
             "line": {
              "color": "#E5ECF6",
              "width": 0.5
             },
             "pattern": {
              "fillmode": "overlay",
              "size": 10,
              "solidity": 0.2
             }
            },
            "type": "barpolar"
           }
          ],
          "carpet": [
           {
            "aaxis": {
             "endlinecolor": "#2a3f5f",
             "gridcolor": "white",
             "linecolor": "white",
             "minorgridcolor": "white",
             "startlinecolor": "#2a3f5f"
            },
            "baxis": {
             "endlinecolor": "#2a3f5f",
             "gridcolor": "white",
             "linecolor": "white",
             "minorgridcolor": "white",
             "startlinecolor": "#2a3f5f"
            },
            "type": "carpet"
           }
          ],
          "choropleth": [
           {
            "colorbar": {
             "outlinewidth": 0,
             "ticks": ""
            },
            "type": "choropleth"
           }
          ],
          "contour": [
           {
            "colorbar": {
             "outlinewidth": 0,
             "ticks": ""
            },
            "colorscale": [
             [
              0,
              "#0d0887"
             ],
             [
              0.1111111111111111,
              "#46039f"
             ],
             [
              0.2222222222222222,
              "#7201a8"
             ],
             [
              0.3333333333333333,
              "#9c179e"
             ],
             [
              0.4444444444444444,
              "#bd3786"
             ],
             [
              0.5555555555555556,
              "#d8576b"
             ],
             [
              0.6666666666666666,
              "#ed7953"
             ],
             [
              0.7777777777777778,
              "#fb9f3a"
             ],
             [
              0.8888888888888888,
              "#fdca26"
             ],
             [
              1,
              "#f0f921"
             ]
            ],
            "type": "contour"
           }
          ],
          "contourcarpet": [
           {
            "colorbar": {
             "outlinewidth": 0,
             "ticks": ""
            },
            "type": "contourcarpet"
           }
          ],
          "heatmap": [
           {
            "colorbar": {
             "outlinewidth": 0,
             "ticks": ""
            },
            "colorscale": [
             [
              0,
              "#0d0887"
             ],
             [
              0.1111111111111111,
              "#46039f"
             ],
             [
              0.2222222222222222,
              "#7201a8"
             ],
             [
              0.3333333333333333,
              "#9c179e"
             ],
             [
              0.4444444444444444,
              "#bd3786"
             ],
             [
              0.5555555555555556,
              "#d8576b"
             ],
             [
              0.6666666666666666,
              "#ed7953"
             ],
             [
              0.7777777777777778,
              "#fb9f3a"
             ],
             [
              0.8888888888888888,
              "#fdca26"
             ],
             [
              1,
              "#f0f921"
             ]
            ],
            "type": "heatmap"
           }
          ],
          "heatmapgl": [
           {
            "colorbar": {
             "outlinewidth": 0,
             "ticks": ""
            },
            "colorscale": [
             [
              0,
              "#0d0887"
             ],
             [
              0.1111111111111111,
              "#46039f"
             ],
             [
              0.2222222222222222,
              "#7201a8"
             ],
             [
              0.3333333333333333,
              "#9c179e"
             ],
             [
              0.4444444444444444,
              "#bd3786"
             ],
             [
              0.5555555555555556,
              "#d8576b"
             ],
             [
              0.6666666666666666,
              "#ed7953"
             ],
             [
              0.7777777777777778,
              "#fb9f3a"
             ],
             [
              0.8888888888888888,
              "#fdca26"
             ],
             [
              1,
              "#f0f921"
             ]
            ],
            "type": "heatmapgl"
           }
          ],
          "histogram": [
           {
            "marker": {
             "pattern": {
              "fillmode": "overlay",
              "size": 10,
              "solidity": 0.2
             }
            },
            "type": "histogram"
           }
          ],
          "histogram2d": [
           {
            "colorbar": {
             "outlinewidth": 0,
             "ticks": ""
            },
            "colorscale": [
             [
              0,
              "#0d0887"
             ],
             [
              0.1111111111111111,
              "#46039f"
             ],
             [
              0.2222222222222222,
              "#7201a8"
             ],
             [
              0.3333333333333333,
              "#9c179e"
             ],
             [
              0.4444444444444444,
              "#bd3786"
             ],
             [
              0.5555555555555556,
              "#d8576b"
             ],
             [
              0.6666666666666666,
              "#ed7953"
             ],
             [
              0.7777777777777778,
              "#fb9f3a"
             ],
             [
              0.8888888888888888,
              "#fdca26"
             ],
             [
              1,
              "#f0f921"
             ]
            ],
            "type": "histogram2d"
           }
          ],
          "histogram2dcontour": [
           {
            "colorbar": {
             "outlinewidth": 0,
             "ticks": ""
            },
            "colorscale": [
             [
              0,
              "#0d0887"
             ],
             [
              0.1111111111111111,
              "#46039f"
             ],
             [
              0.2222222222222222,
              "#7201a8"
             ],
             [
              0.3333333333333333,
              "#9c179e"
             ],
             [
              0.4444444444444444,
              "#bd3786"
             ],
             [
              0.5555555555555556,
              "#d8576b"
             ],
             [
              0.6666666666666666,
              "#ed7953"
             ],
             [
              0.7777777777777778,
              "#fb9f3a"
             ],
             [
              0.8888888888888888,
              "#fdca26"
             ],
             [
              1,
              "#f0f921"
             ]
            ],
            "type": "histogram2dcontour"
           }
          ],
          "mesh3d": [
           {
            "colorbar": {
             "outlinewidth": 0,
             "ticks": ""
            },
            "type": "mesh3d"
           }
          ],
          "parcoords": [
           {
            "line": {
             "colorbar": {
              "outlinewidth": 0,
              "ticks": ""
             }
            },
            "type": "parcoords"
           }
          ],
          "pie": [
           {
            "automargin": true,
            "type": "pie"
           }
          ],
          "scatter": [
           {
            "fillpattern": {
             "fillmode": "overlay",
             "size": 10,
             "solidity": 0.2
            },
            "type": "scatter"
           }
          ],
          "scatter3d": [
           {
            "line": {
             "colorbar": {
              "outlinewidth": 0,
              "ticks": ""
             }
            },
            "marker": {
             "colorbar": {
              "outlinewidth": 0,
              "ticks": ""
             }
            },
            "type": "scatter3d"
           }
          ],
          "scattercarpet": [
           {
            "marker": {
             "colorbar": {
              "outlinewidth": 0,
              "ticks": ""
             }
            },
            "type": "scattercarpet"
           }
          ],
          "scattergeo": [
           {
            "marker": {
             "colorbar": {
              "outlinewidth": 0,
              "ticks": ""
             }
            },
            "type": "scattergeo"
           }
          ],
          "scattergl": [
           {
            "marker": {
             "colorbar": {
              "outlinewidth": 0,
              "ticks": ""
             }
            },
            "type": "scattergl"
           }
          ],
          "scattermapbox": [
           {
            "marker": {
             "colorbar": {
              "outlinewidth": 0,
              "ticks": ""
             }
            },
            "type": "scattermapbox"
           }
          ],
          "scatterpolar": [
           {
            "marker": {
             "colorbar": {
              "outlinewidth": 0,
              "ticks": ""
             }
            },
            "type": "scatterpolar"
           }
          ],
          "scatterpolargl": [
           {
            "marker": {
             "colorbar": {
              "outlinewidth": 0,
              "ticks": ""
             }
            },
            "type": "scatterpolargl"
           }
          ],
          "scatterternary": [
           {
            "marker": {
             "colorbar": {
              "outlinewidth": 0,
              "ticks": ""
             }
            },
            "type": "scatterternary"
           }
          ],
          "surface": [
           {
            "colorbar": {
             "outlinewidth": 0,
             "ticks": ""
            },
            "colorscale": [
             [
              0,
              "#0d0887"
             ],
             [
              0.1111111111111111,
              "#46039f"
             ],
             [
              0.2222222222222222,
              "#7201a8"
             ],
             [
              0.3333333333333333,
              "#9c179e"
             ],
             [
              0.4444444444444444,
              "#bd3786"
             ],
             [
              0.5555555555555556,
              "#d8576b"
             ],
             [
              0.6666666666666666,
              "#ed7953"
             ],
             [
              0.7777777777777778,
              "#fb9f3a"
             ],
             [
              0.8888888888888888,
              "#fdca26"
             ],
             [
              1,
              "#f0f921"
             ]
            ],
            "type": "surface"
           }
          ],
          "table": [
           {
            "cells": {
             "fill": {
              "color": "#EBF0F8"
             },
             "line": {
              "color": "white"
             }
            },
            "header": {
             "fill": {
              "color": "#C8D4E3"
             },
             "line": {
              "color": "white"
             }
            },
            "type": "table"
           }
          ]
         },
         "layout": {
          "annotationdefaults": {
           "arrowcolor": "#2a3f5f",
           "arrowhead": 0,
           "arrowwidth": 1
          },
          "autotypenumbers": "strict",
          "coloraxis": {
           "colorbar": {
            "outlinewidth": 0,
            "ticks": ""
           }
          },
          "colorscale": {
           "diverging": [
            [
             0,
             "#8e0152"
            ],
            [
             0.1,
             "#c51b7d"
            ],
            [
             0.2,
             "#de77ae"
            ],
            [
             0.3,
             "#f1b6da"
            ],
            [
             0.4,
             "#fde0ef"
            ],
            [
             0.5,
             "#f7f7f7"
            ],
            [
             0.6,
             "#e6f5d0"
            ],
            [
             0.7,
             "#b8e186"
            ],
            [
             0.8,
             "#7fbc41"
            ],
            [
             0.9,
             "#4d9221"
            ],
            [
             1,
             "#276419"
            ]
           ],
           "sequential": [
            [
             0,
             "#0d0887"
            ],
            [
             0.1111111111111111,
             "#46039f"
            ],
            [
             0.2222222222222222,
             "#7201a8"
            ],
            [
             0.3333333333333333,
             "#9c179e"
            ],
            [
             0.4444444444444444,
             "#bd3786"
            ],
            [
             0.5555555555555556,
             "#d8576b"
            ],
            [
             0.6666666666666666,
             "#ed7953"
            ],
            [
             0.7777777777777778,
             "#fb9f3a"
            ],
            [
             0.8888888888888888,
             "#fdca26"
            ],
            [
             1,
             "#f0f921"
            ]
           ],
           "sequentialminus": [
            [
             0,
             "#0d0887"
            ],
            [
             0.1111111111111111,
             "#46039f"
            ],
            [
             0.2222222222222222,
             "#7201a8"
            ],
            [
             0.3333333333333333,
             "#9c179e"
            ],
            [
             0.4444444444444444,
             "#bd3786"
            ],
            [
             0.5555555555555556,
             "#d8576b"
            ],
            [
             0.6666666666666666,
             "#ed7953"
            ],
            [
             0.7777777777777778,
             "#fb9f3a"
            ],
            [
             0.8888888888888888,
             "#fdca26"
            ],
            [
             1,
             "#f0f921"
            ]
           ]
          },
          "colorway": [
           "#636efa",
           "#EF553B",
           "#00cc96",
           "#ab63fa",
           "#FFA15A",
           "#19d3f3",
           "#FF6692",
           "#B6E880",
           "#FF97FF",
           "#FECB52"
          ],
          "font": {
           "color": "#2a3f5f"
          },
          "geo": {
           "bgcolor": "white",
           "lakecolor": "white",
           "landcolor": "#E5ECF6",
           "showlakes": true,
           "showland": true,
           "subunitcolor": "white"
          },
          "hoverlabel": {
           "align": "left"
          },
          "hovermode": "closest",
          "mapbox": {
           "style": "light"
          },
          "paper_bgcolor": "white",
          "plot_bgcolor": "#E5ECF6",
          "polar": {
           "angularaxis": {
            "gridcolor": "white",
            "linecolor": "white",
            "ticks": ""
           },
           "bgcolor": "#E5ECF6",
           "radialaxis": {
            "gridcolor": "white",
            "linecolor": "white",
            "ticks": ""
           }
          },
          "scene": {
           "xaxis": {
            "backgroundcolor": "#E5ECF6",
            "gridcolor": "white",
            "gridwidth": 2,
            "linecolor": "white",
            "showbackground": true,
            "ticks": "",
            "zerolinecolor": "white"
           },
           "yaxis": {
            "backgroundcolor": "#E5ECF6",
            "gridcolor": "white",
            "gridwidth": 2,
            "linecolor": "white",
            "showbackground": true,
            "ticks": "",
            "zerolinecolor": "white"
           },
           "zaxis": {
            "backgroundcolor": "#E5ECF6",
            "gridcolor": "white",
            "gridwidth": 2,
            "linecolor": "white",
            "showbackground": true,
            "ticks": "",
            "zerolinecolor": "white"
           }
          },
          "shapedefaults": {
           "line": {
            "color": "#2a3f5f"
           }
          },
          "ternary": {
           "aaxis": {
            "gridcolor": "white",
            "linecolor": "white",
            "ticks": ""
           },
           "baxis": {
            "gridcolor": "white",
            "linecolor": "white",
            "ticks": ""
           },
           "bgcolor": "#E5ECF6",
           "caxis": {
            "gridcolor": "white",
            "linecolor": "white",
            "ticks": ""
           }
          },
          "title": {
           "x": 0.05
          },
          "xaxis": {
           "automargin": true,
           "gridcolor": "white",
           "linecolor": "white",
           "ticks": "",
           "title": {
            "standoff": 15
           },
           "zerolinecolor": "white",
           "zerolinewidth": 2
          },
          "yaxis": {
           "automargin": true,
           "gridcolor": "white",
           "linecolor": "white",
           "ticks": "",
           "title": {
            "standoff": 15
           },
           "zerolinecolor": "white",
           "zerolinewidth": 2
          }
         }
        },
        "title": {
         "text": "WRs | Difference in ADP Rank and FP Rank"
        },
        "xaxis": {
         "anchor": "y",
         "domain": [
          0,
          1
         ],
         "title": {
          "text": "playerName"
         }
        },
        "yaxis": {
         "anchor": "x",
         "domain": [
          0,
          1
         ],
         "title": {
          "text": "delta"
         }
        }
       }
      },
      "text/html": [
       "<div>                            <div id=\"56aad93a-ad12-4721-8a10-9be1dbd0476c\" class=\"plotly-graph-div\" style=\"height:600px; width:100%;\"></div>            <script type=\"text/javascript\">                require([\"plotly\"], function(Plotly) {                    window.PLOTLYENV=window.PLOTLYENV || {};                                    if (document.getElementById(\"56aad93a-ad12-4721-8a10-9be1dbd0476c\")) {                    Plotly.newPlot(                        \"56aad93a-ad12-4721-8a10-9be1dbd0476c\",                        [{\"alignmentgroup\":\"True\",\"customdata\":[[1.0,5.9,1.0,349.4],[2.0,7.4,2.0,330.8],[3.0,8.4,3.0,300.1],[4.0,11.7,5.0,293.0],[5.0,13.3,4.0,294.1],[6.0,17.0,8.0,273.9],[7.0,19.0,6.0,288.3],[8.0,21.8,9.0,257.5],[9.0,25.6,14.0,242.6],[10.0,28.5,7.0,277.4],[11.0,30.4,12.0,248.3],[12.0,35.5,11.0,250.1],[13.0,40.1,33.0,195.6],[14.0,41.7,13.0,247.5],[15.0,42.8,15.0,233.9],[16.0,46.9,27.0,204.2],[17.0,47.4,10.0,252.4],[18.0,50.5,28.0,204.0],[19.0,52.9,53.0,169.3],[20.0,53.5,45.0,178.7],[21.0,56.8,48.0,177.8],[22.0,60.3,29.0,201.2],[23.0,61.1,41.0,185.2],[24.0,64.0,18.0,224.3],[25.0,68.6,66.0,135.0],[26.0,69.2,24.0,212.2],[27.0,71.2,16.0,232.8],[28.0,73.9,30.0,199.2],[29.0,75.2,25.0,209.6],[30.0,76.2,20.0,221.9],[31.0,77.6,22.0,216.7],[32.0,78.0,44.0,180.4],[33.0,82.2,35.0,193.3],[34.0,83.8,49.0,175.6],[35.0,85.9,23.0,213.5],[36.0,86.9,36.0,193.0],[37.0,88.4,17.0,224.5],[38.0,91.7,26.0,205.5],[39.0,93.7,19.0,223.4],[40.0,95.3,50.0,171.3],[41.0,97.9,46.0,178.4],[42.0,102.7,51.0,170.6],[43.0,106.2,39.0,189.4],[44.0,107.2,59.0,147.0],[45.0,110.0,31.0,197.4],[46.0,114.6,70.0,128.3],[47.0,115.3,62.0,140.0],[48.0,116.8,56.0,154.0],[49.0,119.2,38.0,192.2],[50.0,120.1,55.0,154.6],[51.0,125.1,40.0,187.1],[52.0,127.8,21.0,221.1],[53.0,132.7,32.0,197.0],[54.0,133.0,34.0,195.2],[55.0,134.9,79.0,93.5],[56.0,138.0,76.0,109.7],[57.0,139.0,37.0,192.6],[58.0,141.6,60.0,146.5],[59.0,143.7,42.0,182.0],[60.0,146.0,57.0,150.9]],\"hovertemplate\":\"playerName=%{x}<br>delta=%{y}<br>adp_rank=%{customdata[0]}<br>adp=%{marker.color}<br>fp_rank=%{customdata[2]}<br>fantasyPoints=%{customdata[3]}<extra></extra>\",\"legendgroup\":\"\",\"marker\":{\"color\":[5.9,7.4,8.4,11.7,13.3,17.0,19.0,21.8,25.6,28.5,30.4,35.5,40.1,41.7,42.8,46.9,47.4,50.5,52.9,53.5,56.8,60.3,61.1,64.0,68.6,69.2,71.2,73.9,75.2,76.2,77.6,78.0,82.2,83.8,85.9,86.9,88.4,91.7,93.7,95.3,97.9,102.7,106.2,107.2,110.0,114.6,115.3,116.8,119.2,120.1,125.1,127.8,132.7,133.0,134.9,138.0,139.0,141.6,143.7,146.0],\"coloraxis\":\"coloraxis\",\"pattern\":{\"shape\":\"\"}},\"name\":\"\",\"offsetgroup\":\"\",\"orientation\":\"v\",\"showlegend\":false,\"textposition\":\"auto\",\"x\":[\"Cooper Kupp\",\"Justin Jefferson\",\"Ja'Marr Chase\",\"Davante Adams\",\"Stefon Diggs\",\"Tyreek Hill\",\"CeeDee Lamb\",\"Deebo Samuel\",\"A.J. Brown\",\"Mike Evans\",\"Keenan Allen\",\"Tee Higgins\",\"Diontae Johnson\",\"Terry McLaurin\",\"D.K. Metcalf\",\"Jaylen Waddle\",\"D.J. Moore\",\"Amari Cooper\",\"Jerry Jeudy\",\"Chris Godwin\",\"Courtland Sutton\",\"Michael Thomas\",\"Marquise Brown\",\"Mike Williams\",\"DeAndre Hopkins\",\"Amon-Ra St. Brown\",\"Brandin Cooks\",\"Adam Thielen\",\"Treylon Burks\",\"Darnell Mooney\",\"Drake London\",\"JuJu Smith-Schuster\",\"DeVonta Smith\",\"Garrett Wilson\",\"Rashod Bateman\",\"Elijah Moore\",\"Tyler Lockett\",\"Hunter Renfrow\",\"Gabriel Davis\",\"Brandon Aiyuk\",\"Chris Olave\",\"Robert Woods\",\"Chase Claypool\",\"Christian Watson\",\"Christian Kirk\",\"Skyy Moore\",\"Jameson Williams\",\"Kadarius Toney\",\"Allen Lazard\",\"Michael Gallup\",\"Tyler Boyd\",\"Russell Gage\",\"Marquez Valdes-Scantling\",\"Kenny Golladay\",\"Jarvis Landry\",\"George Pickens\",\"Jahan Dotson\",\"Rondale Moore\",\"Jakobi Meyers\",\"Tim Patrick\"],\"xaxis\":\"x\",\"y\":[0.0,0.0,0.0,-1.0,1.0,-2.0,1.0,-1.0,-5.0,3.0,-1.0,1.0,-20.0,1.0,0.0,-11.0,7.0,-10.0,-34.0,-25.0,-27.0,-7.0,-18.0,6.0,-41.0,2.0,11.0,-2.0,4.0,10.0,9.0,-12.0,-2.0,-15.0,12.0,0.0,20.0,12.0,20.0,-10.0,-5.0,-9.0,4.0,-15.0,14.0,-24.0,-15.0,-8.0,11.0,-5.0,11.0,31.0,21.0,20.0,-24.0,-20.0,20.0,-2.0,17.0,3.0],\"yaxis\":\"y\",\"type\":\"bar\"}],                        {\"template\":{\"data\":{\"histogram2dcontour\":[{\"type\":\"histogram2dcontour\",\"colorbar\":{\"outlinewidth\":0,\"ticks\":\"\"},\"colorscale\":[[0.0,\"#0d0887\"],[0.1111111111111111,\"#46039f\"],[0.2222222222222222,\"#7201a8\"],[0.3333333333333333,\"#9c179e\"],[0.4444444444444444,\"#bd3786\"],[0.5555555555555556,\"#d8576b\"],[0.6666666666666666,\"#ed7953\"],[0.7777777777777778,\"#fb9f3a\"],[0.8888888888888888,\"#fdca26\"],[1.0,\"#f0f921\"]]}],\"choropleth\":[{\"type\":\"choropleth\",\"colorbar\":{\"outlinewidth\":0,\"ticks\":\"\"}}],\"histogram2d\":[{\"type\":\"histogram2d\",\"colorbar\":{\"outlinewidth\":0,\"ticks\":\"\"},\"colorscale\":[[0.0,\"#0d0887\"],[0.1111111111111111,\"#46039f\"],[0.2222222222222222,\"#7201a8\"],[0.3333333333333333,\"#9c179e\"],[0.4444444444444444,\"#bd3786\"],[0.5555555555555556,\"#d8576b\"],[0.6666666666666666,\"#ed7953\"],[0.7777777777777778,\"#fb9f3a\"],[0.8888888888888888,\"#fdca26\"],[1.0,\"#f0f921\"]]}],\"heatmap\":[{\"type\":\"heatmap\",\"colorbar\":{\"outlinewidth\":0,\"ticks\":\"\"},\"colorscale\":[[0.0,\"#0d0887\"],[0.1111111111111111,\"#46039f\"],[0.2222222222222222,\"#7201a8\"],[0.3333333333333333,\"#9c179e\"],[0.4444444444444444,\"#bd3786\"],[0.5555555555555556,\"#d8576b\"],[0.6666666666666666,\"#ed7953\"],[0.7777777777777778,\"#fb9f3a\"],[0.8888888888888888,\"#fdca26\"],[1.0,\"#f0f921\"]]}],\"heatmapgl\":[{\"type\":\"heatmapgl\",\"colorbar\":{\"outlinewidth\":0,\"ticks\":\"\"},\"colorscale\":[[0.0,\"#0d0887\"],[0.1111111111111111,\"#46039f\"],[0.2222222222222222,\"#7201a8\"],[0.3333333333333333,\"#9c179e\"],[0.4444444444444444,\"#bd3786\"],[0.5555555555555556,\"#d8576b\"],[0.6666666666666666,\"#ed7953\"],[0.7777777777777778,\"#fb9f3a\"],[0.8888888888888888,\"#fdca26\"],[1.0,\"#f0f921\"]]}],\"contourcarpet\":[{\"type\":\"contourcarpet\",\"colorbar\":{\"outlinewidth\":0,\"ticks\":\"\"}}],\"contour\":[{\"type\":\"contour\",\"colorbar\":{\"outlinewidth\":0,\"ticks\":\"\"},\"colorscale\":[[0.0,\"#0d0887\"],[0.1111111111111111,\"#46039f\"],[0.2222222222222222,\"#7201a8\"],[0.3333333333333333,\"#9c179e\"],[0.4444444444444444,\"#bd3786\"],[0.5555555555555556,\"#d8576b\"],[0.6666666666666666,\"#ed7953\"],[0.7777777777777778,\"#fb9f3a\"],[0.8888888888888888,\"#fdca26\"],[1.0,\"#f0f921\"]]}],\"surface\":[{\"type\":\"surface\",\"colorbar\":{\"outlinewidth\":0,\"ticks\":\"\"},\"colorscale\":[[0.0,\"#0d0887\"],[0.1111111111111111,\"#46039f\"],[0.2222222222222222,\"#7201a8\"],[0.3333333333333333,\"#9c179e\"],[0.4444444444444444,\"#bd3786\"],[0.5555555555555556,\"#d8576b\"],[0.6666666666666666,\"#ed7953\"],[0.7777777777777778,\"#fb9f3a\"],[0.8888888888888888,\"#fdca26\"],[1.0,\"#f0f921\"]]}],\"mesh3d\":[{\"type\":\"mesh3d\",\"colorbar\":{\"outlinewidth\":0,\"ticks\":\"\"}}],\"scatter\":[{\"fillpattern\":{\"fillmode\":\"overlay\",\"size\":10,\"solidity\":0.2},\"type\":\"scatter\"}],\"parcoords\":[{\"type\":\"parcoords\",\"line\":{\"colorbar\":{\"outlinewidth\":0,\"ticks\":\"\"}}}],\"scatterpolargl\":[{\"type\":\"scatterpolargl\",\"marker\":{\"colorbar\":{\"outlinewidth\":0,\"ticks\":\"\"}}}],\"bar\":[{\"error_x\":{\"color\":\"#2a3f5f\"},\"error_y\":{\"color\":\"#2a3f5f\"},\"marker\":{\"line\":{\"color\":\"#E5ECF6\",\"width\":0.5},\"pattern\":{\"fillmode\":\"overlay\",\"size\":10,\"solidity\":0.2}},\"type\":\"bar\"}],\"scattergeo\":[{\"type\":\"scattergeo\",\"marker\":{\"colorbar\":{\"outlinewidth\":0,\"ticks\":\"\"}}}],\"scatterpolar\":[{\"type\":\"scatterpolar\",\"marker\":{\"colorbar\":{\"outlinewidth\":0,\"ticks\":\"\"}}}],\"histogram\":[{\"marker\":{\"pattern\":{\"fillmode\":\"overlay\",\"size\":10,\"solidity\":0.2}},\"type\":\"histogram\"}],\"scattergl\":[{\"type\":\"scattergl\",\"marker\":{\"colorbar\":{\"outlinewidth\":0,\"ticks\":\"\"}}}],\"scatter3d\":[{\"type\":\"scatter3d\",\"line\":{\"colorbar\":{\"outlinewidth\":0,\"ticks\":\"\"}},\"marker\":{\"colorbar\":{\"outlinewidth\":0,\"ticks\":\"\"}}}],\"scattermapbox\":[{\"type\":\"scattermapbox\",\"marker\":{\"colorbar\":{\"outlinewidth\":0,\"ticks\":\"\"}}}],\"scatterternary\":[{\"type\":\"scatterternary\",\"marker\":{\"colorbar\":{\"outlinewidth\":0,\"ticks\":\"\"}}}],\"scattercarpet\":[{\"type\":\"scattercarpet\",\"marker\":{\"colorbar\":{\"outlinewidth\":0,\"ticks\":\"\"}}}],\"carpet\":[{\"aaxis\":{\"endlinecolor\":\"#2a3f5f\",\"gridcolor\":\"white\",\"linecolor\":\"white\",\"minorgridcolor\":\"white\",\"startlinecolor\":\"#2a3f5f\"},\"baxis\":{\"endlinecolor\":\"#2a3f5f\",\"gridcolor\":\"white\",\"linecolor\":\"white\",\"minorgridcolor\":\"white\",\"startlinecolor\":\"#2a3f5f\"},\"type\":\"carpet\"}],\"table\":[{\"cells\":{\"fill\":{\"color\":\"#EBF0F8\"},\"line\":{\"color\":\"white\"}},\"header\":{\"fill\":{\"color\":\"#C8D4E3\"},\"line\":{\"color\":\"white\"}},\"type\":\"table\"}],\"barpolar\":[{\"marker\":{\"line\":{\"color\":\"#E5ECF6\",\"width\":0.5},\"pattern\":{\"fillmode\":\"overlay\",\"size\":10,\"solidity\":0.2}},\"type\":\"barpolar\"}],\"pie\":[{\"automargin\":true,\"type\":\"pie\"}]},\"layout\":{\"autotypenumbers\":\"strict\",\"colorway\":[\"#636efa\",\"#EF553B\",\"#00cc96\",\"#ab63fa\",\"#FFA15A\",\"#19d3f3\",\"#FF6692\",\"#B6E880\",\"#FF97FF\",\"#FECB52\"],\"font\":{\"color\":\"#2a3f5f\"},\"hovermode\":\"closest\",\"hoverlabel\":{\"align\":\"left\"},\"paper_bgcolor\":\"white\",\"plot_bgcolor\":\"#E5ECF6\",\"polar\":{\"bgcolor\":\"#E5ECF6\",\"angularaxis\":{\"gridcolor\":\"white\",\"linecolor\":\"white\",\"ticks\":\"\"},\"radialaxis\":{\"gridcolor\":\"white\",\"linecolor\":\"white\",\"ticks\":\"\"}},\"ternary\":{\"bgcolor\":\"#E5ECF6\",\"aaxis\":{\"gridcolor\":\"white\",\"linecolor\":\"white\",\"ticks\":\"\"},\"baxis\":{\"gridcolor\":\"white\",\"linecolor\":\"white\",\"ticks\":\"\"},\"caxis\":{\"gridcolor\":\"white\",\"linecolor\":\"white\",\"ticks\":\"\"}},\"coloraxis\":{\"colorbar\":{\"outlinewidth\":0,\"ticks\":\"\"}},\"colorscale\":{\"sequential\":[[0.0,\"#0d0887\"],[0.1111111111111111,\"#46039f\"],[0.2222222222222222,\"#7201a8\"],[0.3333333333333333,\"#9c179e\"],[0.4444444444444444,\"#bd3786\"],[0.5555555555555556,\"#d8576b\"],[0.6666666666666666,\"#ed7953\"],[0.7777777777777778,\"#fb9f3a\"],[0.8888888888888888,\"#fdca26\"],[1.0,\"#f0f921\"]],\"sequentialminus\":[[0.0,\"#0d0887\"],[0.1111111111111111,\"#46039f\"],[0.2222222222222222,\"#7201a8\"],[0.3333333333333333,\"#9c179e\"],[0.4444444444444444,\"#bd3786\"],[0.5555555555555556,\"#d8576b\"],[0.6666666666666666,\"#ed7953\"],[0.7777777777777778,\"#fb9f3a\"],[0.8888888888888888,\"#fdca26\"],[1.0,\"#f0f921\"]],\"diverging\":[[0,\"#8e0152\"],[0.1,\"#c51b7d\"],[0.2,\"#de77ae\"],[0.3,\"#f1b6da\"],[0.4,\"#fde0ef\"],[0.5,\"#f7f7f7\"],[0.6,\"#e6f5d0\"],[0.7,\"#b8e186\"],[0.8,\"#7fbc41\"],[0.9,\"#4d9221\"],[1,\"#276419\"]]},\"xaxis\":{\"gridcolor\":\"white\",\"linecolor\":\"white\",\"ticks\":\"\",\"title\":{\"standoff\":15},\"zerolinecolor\":\"white\",\"automargin\":true,\"zerolinewidth\":2},\"yaxis\":{\"gridcolor\":\"white\",\"linecolor\":\"white\",\"ticks\":\"\",\"title\":{\"standoff\":15},\"zerolinecolor\":\"white\",\"automargin\":true,\"zerolinewidth\":2},\"scene\":{\"xaxis\":{\"backgroundcolor\":\"#E5ECF6\",\"gridcolor\":\"white\",\"linecolor\":\"white\",\"showbackground\":true,\"ticks\":\"\",\"zerolinecolor\":\"white\",\"gridwidth\":2},\"yaxis\":{\"backgroundcolor\":\"#E5ECF6\",\"gridcolor\":\"white\",\"linecolor\":\"white\",\"showbackground\":true,\"ticks\":\"\",\"zerolinecolor\":\"white\",\"gridwidth\":2},\"zaxis\":{\"backgroundcolor\":\"#E5ECF6\",\"gridcolor\":\"white\",\"linecolor\":\"white\",\"showbackground\":true,\"ticks\":\"\",\"zerolinecolor\":\"white\",\"gridwidth\":2}},\"shapedefaults\":{\"line\":{\"color\":\"#2a3f5f\"}},\"annotationdefaults\":{\"arrowcolor\":\"#2a3f5f\",\"arrowhead\":0,\"arrowwidth\":1},\"geo\":{\"bgcolor\":\"white\",\"landcolor\":\"#E5ECF6\",\"subunitcolor\":\"white\",\"showland\":true,\"showlakes\":true,\"lakecolor\":\"white\"},\"title\":{\"x\":0.05},\"mapbox\":{\"style\":\"light\"}}},\"xaxis\":{\"anchor\":\"y\",\"domain\":[0.0,1.0],\"title\":{\"text\":\"playerName\"}},\"yaxis\":{\"anchor\":\"x\",\"domain\":[0.0,1.0],\"title\":{\"text\":\"delta\"}},\"coloraxis\":{\"colorbar\":{\"title\":{\"text\":\"adp\"}},\"colorscale\":[[0.0,\"#0d0887\"],[0.1111111111111111,\"#46039f\"],[0.2222222222222222,\"#7201a8\"],[0.3333333333333333,\"#9c179e\"],[0.4444444444444444,\"#bd3786\"],[0.5555555555555556,\"#d8576b\"],[0.6666666666666666,\"#ed7953\"],[0.7777777777777778,\"#fb9f3a\"],[0.8888888888888888,\"#fdca26\"],[1.0,\"#f0f921\"]]},\"legend\":{\"tracegroupgap\":0},\"title\":{\"text\":\"WRs | Difference in ADP Rank and FP Rank\"},\"barmode\":\"relative\",\"height\":600},                        {\"responsive\": true}                    ).then(function(){\n",
       "                            \n",
       "var gd = document.getElementById('56aad93a-ad12-4721-8a10-9be1dbd0476c');\n",
       "var x = new MutationObserver(function (mutations, observer) {{\n",
       "        var display = window.getComputedStyle(gd).display;\n",
       "        if (!display || display === 'none') {{\n",
       "            console.log([gd, 'removed!']);\n",
       "            Plotly.purge(gd);\n",
       "            observer.disconnect();\n",
       "        }}\n",
       "}});\n",
       "\n",
       "// Listen for the removal of the full notebook cells\n",
       "var notebookContainer = gd.closest('#notebook-container');\n",
       "if (notebookContainer) {{\n",
       "    x.observe(notebookContainer, {childList: true});\n",
       "}}\n",
       "\n",
       "// Listen for the clearing of the current output cell\n",
       "var outputEl = gd.closest('.output');\n",
       "if (outputEl) {{\n",
       "    x.observe(outputEl, {childList: true});\n",
       "}}\n",
       "\n",
       "                        })                };                });            </script>        </div>"
      ]
     },
     "metadata": {},
     "output_type": "display_data"
    },
    {
     "data": {
      "application/vnd.plotly.v1+json": {
       "config": {
        "plotlyServerURL": "https://plot.ly"
       },
       "data": [
        {
         "alignmentgroup": "True",
         "customdata": [
          [
           1,
           5.9,
           1,
           349.4
          ],
          [
           2,
           7.4,
           2,
           330.8
          ],
          [
           3,
           8.4,
           3,
           300.1
          ],
          [
           4,
           11.7,
           5,
           293
          ],
          [
           5,
           13.3,
           4,
           294.1
          ],
          [
           6,
           17,
           8,
           273.9
          ],
          [
           7,
           19,
           6,
           288.3
          ],
          [
           8,
           21.8,
           9,
           257.5
          ],
          [
           9,
           25.6,
           14,
           242.6
          ],
          [
           10,
           28.5,
           7,
           277.4
          ],
          [
           11,
           30.4,
           12,
           248.3
          ],
          [
           12,
           35.5,
           11,
           250.1
          ],
          [
           13,
           40.1,
           33,
           195.6
          ],
          [
           14,
           41.7,
           13,
           247.5
          ],
          [
           15,
           42.8,
           15,
           233.9
          ],
          [
           16,
           46.9,
           27,
           204.2
          ],
          [
           17,
           47.4,
           10,
           252.4
          ],
          [
           18,
           50.5,
           28,
           204
          ],
          [
           19,
           52.9,
           53,
           169.3
          ],
          [
           20,
           53.5,
           45,
           178.7
          ],
          [
           21,
           56.8,
           48,
           177.8
          ],
          [
           22,
           60.3,
           29,
           201.2
          ],
          [
           23,
           61.1,
           41,
           185.2
          ],
          [
           24,
           64,
           18,
           224.3
          ],
          [
           25,
           68.6,
           66,
           135
          ],
          [
           26,
           69.2,
           24,
           212.2
          ],
          [
           27,
           71.2,
           16,
           232.8
          ],
          [
           28,
           73.9,
           30,
           199.2
          ],
          [
           29,
           75.2,
           25,
           209.6
          ],
          [
           30,
           76.2,
           20,
           221.9
          ],
          [
           31,
           77.6,
           22,
           216.7
          ],
          [
           32,
           78,
           44,
           180.4
          ],
          [
           33,
           82.2,
           35,
           193.3
          ],
          [
           34,
           83.8,
           49,
           175.6
          ],
          [
           35,
           85.9,
           23,
           213.5
          ],
          [
           36,
           86.9,
           36,
           193
          ],
          [
           37,
           88.4,
           17,
           224.5
          ],
          [
           38,
           91.7,
           26,
           205.5
          ],
          [
           39,
           93.7,
           19,
           223.4
          ],
          [
           40,
           95.3,
           50,
           171.3
          ],
          [
           41,
           97.9,
           46,
           178.4
          ],
          [
           42,
           102.7,
           51,
           170.6
          ],
          [
           43,
           106.2,
           39,
           189.4
          ],
          [
           44,
           107.2,
           59,
           147
          ],
          [
           45,
           110,
           31,
           197.4
          ],
          [
           46,
           114.6,
           70,
           128.3
          ],
          [
           47,
           115.3,
           62,
           140
          ],
          [
           48,
           116.8,
           56,
           154
          ],
          [
           49,
           119.2,
           38,
           192.2
          ],
          [
           50,
           120.1,
           55,
           154.6
          ],
          [
           51,
           125.1,
           40,
           187.1
          ],
          [
           52,
           127.8,
           21,
           221.1
          ],
          [
           53,
           132.7,
           32,
           197
          ],
          [
           54,
           133,
           34,
           195.2
          ],
          [
           55,
           134.9,
           79,
           93.5
          ],
          [
           56,
           138,
           76,
           109.7
          ],
          [
           57,
           139,
           37,
           192.6
          ],
          [
           58,
           141.6,
           60,
           146.5
          ],
          [
           59,
           143.7,
           42,
           182
          ],
          [
           60,
           146,
           57,
           150.9
          ]
         ],
         "hovertemplate": "playerName=%{x}<br>delta=%{y}<br>adp_rank=%{customdata[0]}<br>adp=%{marker.color}<br>fp_rank=%{customdata[2]}<br>fantasyPoints=%{customdata[3]}<extra></extra>",
         "legendgroup": "",
         "marker": {
          "color": [
           5.9,
           7.4,
           8.4,
           11.7,
           13.3,
           17,
           19,
           21.8,
           25.6,
           28.5,
           30.4,
           35.5,
           40.1,
           41.7,
           42.8,
           46.9,
           47.4,
           50.5,
           52.9,
           53.5,
           56.8,
           60.3,
           61.1,
           64,
           68.6,
           69.2,
           71.2,
           73.9,
           75.2,
           76.2,
           77.6,
           78,
           82.2,
           83.8,
           85.9,
           86.9,
           88.4,
           91.7,
           93.7,
           95.3,
           97.9,
           102.7,
           106.2,
           107.2,
           110,
           114.6,
           115.3,
           116.8,
           119.2,
           120.1,
           125.1,
           127.8,
           132.7,
           133,
           134.9,
           138,
           139,
           141.6,
           143.7,
           146
          ],
          "coloraxis": "coloraxis",
          "pattern": {
           "shape": ""
          }
         },
         "name": "",
         "offsetgroup": "",
         "orientation": "v",
         "showlegend": false,
         "textposition": "auto",
         "type": "bar",
         "x": [
          "Cooper Kupp",
          "Justin Jefferson",
          "Ja'Marr Chase",
          "Davante Adams",
          "Stefon Diggs",
          "Tyreek Hill",
          "CeeDee Lamb",
          "Deebo Samuel",
          "A.J. Brown",
          "Mike Evans",
          "Keenan Allen",
          "Tee Higgins",
          "Diontae Johnson",
          "Terry McLaurin",
          "D.K. Metcalf",
          "Jaylen Waddle",
          "D.J. Moore",
          "Amari Cooper",
          "Jerry Jeudy",
          "Chris Godwin",
          "Courtland Sutton",
          "Michael Thomas",
          "Marquise Brown",
          "Mike Williams",
          "DeAndre Hopkins",
          "Amon-Ra St. Brown",
          "Brandin Cooks",
          "Adam Thielen",
          "Treylon Burks",
          "Darnell Mooney",
          "Drake London",
          "JuJu Smith-Schuster",
          "DeVonta Smith",
          "Garrett Wilson",
          "Rashod Bateman",
          "Elijah Moore",
          "Tyler Lockett",
          "Hunter Renfrow",
          "Gabriel Davis",
          "Brandon Aiyuk",
          "Chris Olave",
          "Robert Woods",
          "Chase Claypool",
          "Christian Watson",
          "Christian Kirk",
          "Skyy Moore",
          "Jameson Williams",
          "Kadarius Toney",
          "Allen Lazard",
          "Michael Gallup",
          "Tyler Boyd",
          "Russell Gage",
          "Marquez Valdes-Scantling",
          "Kenny Golladay",
          "Jarvis Landry",
          "George Pickens",
          "Jahan Dotson",
          "Rondale Moore",
          "Jakobi Meyers",
          "Tim Patrick"
         ],
         "xaxis": "x",
         "y": [
          0,
          0,
          0,
          -1,
          1,
          -2,
          1,
          -1,
          -5,
          3,
          -1,
          1,
          -20,
          1,
          0,
          -11,
          7,
          -10,
          -34,
          -25,
          -27,
          -7,
          -18,
          6,
          -41,
          2,
          11,
          -2,
          4,
          10,
          9,
          -12,
          -2,
          -15,
          12,
          0,
          20,
          12,
          20,
          -10,
          -5,
          -9,
          4,
          -15,
          14,
          -24,
          -15,
          -8,
          11,
          -5,
          11,
          31,
          21,
          20,
          -24,
          -20,
          20,
          -2,
          17,
          3
         ],
         "yaxis": "y"
        }
       ],
       "layout": {
        "barmode": "relative",
        "coloraxis": {
         "colorbar": {
          "title": {
           "text": "adp"
          }
         },
         "colorscale": [
          [
           0,
           "#0d0887"
          ],
          [
           0.1111111111111111,
           "#46039f"
          ],
          [
           0.2222222222222222,
           "#7201a8"
          ],
          [
           0.3333333333333333,
           "#9c179e"
          ],
          [
           0.4444444444444444,
           "#bd3786"
          ],
          [
           0.5555555555555556,
           "#d8576b"
          ],
          [
           0.6666666666666666,
           "#ed7953"
          ],
          [
           0.7777777777777778,
           "#fb9f3a"
          ],
          [
           0.8888888888888888,
           "#fdca26"
          ],
          [
           1,
           "#f0f921"
          ]
         ]
        },
        "height": 600,
        "legend": {
         "tracegroupgap": 0
        },
        "template": {
         "data": {
          "bar": [
           {
            "error_x": {
             "color": "#2a3f5f"
            },
            "error_y": {
             "color": "#2a3f5f"
            },
            "marker": {
             "line": {
              "color": "#E5ECF6",
              "width": 0.5
             },
             "pattern": {
              "fillmode": "overlay",
              "size": 10,
              "solidity": 0.2
             }
            },
            "type": "bar"
           }
          ],
          "barpolar": [
           {
            "marker": {
             "line": {
              "color": "#E5ECF6",
              "width": 0.5
             },
             "pattern": {
              "fillmode": "overlay",
              "size": 10,
              "solidity": 0.2
             }
            },
            "type": "barpolar"
           }
          ],
          "carpet": [
           {
            "aaxis": {
             "endlinecolor": "#2a3f5f",
             "gridcolor": "white",
             "linecolor": "white",
             "minorgridcolor": "white",
             "startlinecolor": "#2a3f5f"
            },
            "baxis": {
             "endlinecolor": "#2a3f5f",
             "gridcolor": "white",
             "linecolor": "white",
             "minorgridcolor": "white",
             "startlinecolor": "#2a3f5f"
            },
            "type": "carpet"
           }
          ],
          "choropleth": [
           {
            "colorbar": {
             "outlinewidth": 0,
             "ticks": ""
            },
            "type": "choropleth"
           }
          ],
          "contour": [
           {
            "colorbar": {
             "outlinewidth": 0,
             "ticks": ""
            },
            "colorscale": [
             [
              0,
              "#0d0887"
             ],
             [
              0.1111111111111111,
              "#46039f"
             ],
             [
              0.2222222222222222,
              "#7201a8"
             ],
             [
              0.3333333333333333,
              "#9c179e"
             ],
             [
              0.4444444444444444,
              "#bd3786"
             ],
             [
              0.5555555555555556,
              "#d8576b"
             ],
             [
              0.6666666666666666,
              "#ed7953"
             ],
             [
              0.7777777777777778,
              "#fb9f3a"
             ],
             [
              0.8888888888888888,
              "#fdca26"
             ],
             [
              1,
              "#f0f921"
             ]
            ],
            "type": "contour"
           }
          ],
          "contourcarpet": [
           {
            "colorbar": {
             "outlinewidth": 0,
             "ticks": ""
            },
            "type": "contourcarpet"
           }
          ],
          "heatmap": [
           {
            "colorbar": {
             "outlinewidth": 0,
             "ticks": ""
            },
            "colorscale": [
             [
              0,
              "#0d0887"
             ],
             [
              0.1111111111111111,
              "#46039f"
             ],
             [
              0.2222222222222222,
              "#7201a8"
             ],
             [
              0.3333333333333333,
              "#9c179e"
             ],
             [
              0.4444444444444444,
              "#bd3786"
             ],
             [
              0.5555555555555556,
              "#d8576b"
             ],
             [
              0.6666666666666666,
              "#ed7953"
             ],
             [
              0.7777777777777778,
              "#fb9f3a"
             ],
             [
              0.8888888888888888,
              "#fdca26"
             ],
             [
              1,
              "#f0f921"
             ]
            ],
            "type": "heatmap"
           }
          ],
          "heatmapgl": [
           {
            "colorbar": {
             "outlinewidth": 0,
             "ticks": ""
            },
            "colorscale": [
             [
              0,
              "#0d0887"
             ],
             [
              0.1111111111111111,
              "#46039f"
             ],
             [
              0.2222222222222222,
              "#7201a8"
             ],
             [
              0.3333333333333333,
              "#9c179e"
             ],
             [
              0.4444444444444444,
              "#bd3786"
             ],
             [
              0.5555555555555556,
              "#d8576b"
             ],
             [
              0.6666666666666666,
              "#ed7953"
             ],
             [
              0.7777777777777778,
              "#fb9f3a"
             ],
             [
              0.8888888888888888,
              "#fdca26"
             ],
             [
              1,
              "#f0f921"
             ]
            ],
            "type": "heatmapgl"
           }
          ],
          "histogram": [
           {
            "marker": {
             "pattern": {
              "fillmode": "overlay",
              "size": 10,
              "solidity": 0.2
             }
            },
            "type": "histogram"
           }
          ],
          "histogram2d": [
           {
            "colorbar": {
             "outlinewidth": 0,
             "ticks": ""
            },
            "colorscale": [
             [
              0,
              "#0d0887"
             ],
             [
              0.1111111111111111,
              "#46039f"
             ],
             [
              0.2222222222222222,
              "#7201a8"
             ],
             [
              0.3333333333333333,
              "#9c179e"
             ],
             [
              0.4444444444444444,
              "#bd3786"
             ],
             [
              0.5555555555555556,
              "#d8576b"
             ],
             [
              0.6666666666666666,
              "#ed7953"
             ],
             [
              0.7777777777777778,
              "#fb9f3a"
             ],
             [
              0.8888888888888888,
              "#fdca26"
             ],
             [
              1,
              "#f0f921"
             ]
            ],
            "type": "histogram2d"
           }
          ],
          "histogram2dcontour": [
           {
            "colorbar": {
             "outlinewidth": 0,
             "ticks": ""
            },
            "colorscale": [
             [
              0,
              "#0d0887"
             ],
             [
              0.1111111111111111,
              "#46039f"
             ],
             [
              0.2222222222222222,
              "#7201a8"
             ],
             [
              0.3333333333333333,
              "#9c179e"
             ],
             [
              0.4444444444444444,
              "#bd3786"
             ],
             [
              0.5555555555555556,
              "#d8576b"
             ],
             [
              0.6666666666666666,
              "#ed7953"
             ],
             [
              0.7777777777777778,
              "#fb9f3a"
             ],
             [
              0.8888888888888888,
              "#fdca26"
             ],
             [
              1,
              "#f0f921"
             ]
            ],
            "type": "histogram2dcontour"
           }
          ],
          "mesh3d": [
           {
            "colorbar": {
             "outlinewidth": 0,
             "ticks": ""
            },
            "type": "mesh3d"
           }
          ],
          "parcoords": [
           {
            "line": {
             "colorbar": {
              "outlinewidth": 0,
              "ticks": ""
             }
            },
            "type": "parcoords"
           }
          ],
          "pie": [
           {
            "automargin": true,
            "type": "pie"
           }
          ],
          "scatter": [
           {
            "fillpattern": {
             "fillmode": "overlay",
             "size": 10,
             "solidity": 0.2
            },
            "type": "scatter"
           }
          ],
          "scatter3d": [
           {
            "line": {
             "colorbar": {
              "outlinewidth": 0,
              "ticks": ""
             }
            },
            "marker": {
             "colorbar": {
              "outlinewidth": 0,
              "ticks": ""
             }
            },
            "type": "scatter3d"
           }
          ],
          "scattercarpet": [
           {
            "marker": {
             "colorbar": {
              "outlinewidth": 0,
              "ticks": ""
             }
            },
            "type": "scattercarpet"
           }
          ],
          "scattergeo": [
           {
            "marker": {
             "colorbar": {
              "outlinewidth": 0,
              "ticks": ""
             }
            },
            "type": "scattergeo"
           }
          ],
          "scattergl": [
           {
            "marker": {
             "colorbar": {
              "outlinewidth": 0,
              "ticks": ""
             }
            },
            "type": "scattergl"
           }
          ],
          "scattermapbox": [
           {
            "marker": {
             "colorbar": {
              "outlinewidth": 0,
              "ticks": ""
             }
            },
            "type": "scattermapbox"
           }
          ],
          "scatterpolar": [
           {
            "marker": {
             "colorbar": {
              "outlinewidth": 0,
              "ticks": ""
             }
            },
            "type": "scatterpolar"
           }
          ],
          "scatterpolargl": [
           {
            "marker": {
             "colorbar": {
              "outlinewidth": 0,
              "ticks": ""
             }
            },
            "type": "scatterpolargl"
           }
          ],
          "scatterternary": [
           {
            "marker": {
             "colorbar": {
              "outlinewidth": 0,
              "ticks": ""
             }
            },
            "type": "scatterternary"
           }
          ],
          "surface": [
           {
            "colorbar": {
             "outlinewidth": 0,
             "ticks": ""
            },
            "colorscale": [
             [
              0,
              "#0d0887"
             ],
             [
              0.1111111111111111,
              "#46039f"
             ],
             [
              0.2222222222222222,
              "#7201a8"
             ],
             [
              0.3333333333333333,
              "#9c179e"
             ],
             [
              0.4444444444444444,
              "#bd3786"
             ],
             [
              0.5555555555555556,
              "#d8576b"
             ],
             [
              0.6666666666666666,
              "#ed7953"
             ],
             [
              0.7777777777777778,
              "#fb9f3a"
             ],
             [
              0.8888888888888888,
              "#fdca26"
             ],
             [
              1,
              "#f0f921"
             ]
            ],
            "type": "surface"
           }
          ],
          "table": [
           {
            "cells": {
             "fill": {
              "color": "#EBF0F8"
             },
             "line": {
              "color": "white"
             }
            },
            "header": {
             "fill": {
              "color": "#C8D4E3"
             },
             "line": {
              "color": "white"
             }
            },
            "type": "table"
           }
          ]
         },
         "layout": {
          "annotationdefaults": {
           "arrowcolor": "#2a3f5f",
           "arrowhead": 0,
           "arrowwidth": 1
          },
          "autotypenumbers": "strict",
          "coloraxis": {
           "colorbar": {
            "outlinewidth": 0,
            "ticks": ""
           }
          },
          "colorscale": {
           "diverging": [
            [
             0,
             "#8e0152"
            ],
            [
             0.1,
             "#c51b7d"
            ],
            [
             0.2,
             "#de77ae"
            ],
            [
             0.3,
             "#f1b6da"
            ],
            [
             0.4,
             "#fde0ef"
            ],
            [
             0.5,
             "#f7f7f7"
            ],
            [
             0.6,
             "#e6f5d0"
            ],
            [
             0.7,
             "#b8e186"
            ],
            [
             0.8,
             "#7fbc41"
            ],
            [
             0.9,
             "#4d9221"
            ],
            [
             1,
             "#276419"
            ]
           ],
           "sequential": [
            [
             0,
             "#0d0887"
            ],
            [
             0.1111111111111111,
             "#46039f"
            ],
            [
             0.2222222222222222,
             "#7201a8"
            ],
            [
             0.3333333333333333,
             "#9c179e"
            ],
            [
             0.4444444444444444,
             "#bd3786"
            ],
            [
             0.5555555555555556,
             "#d8576b"
            ],
            [
             0.6666666666666666,
             "#ed7953"
            ],
            [
             0.7777777777777778,
             "#fb9f3a"
            ],
            [
             0.8888888888888888,
             "#fdca26"
            ],
            [
             1,
             "#f0f921"
            ]
           ],
           "sequentialminus": [
            [
             0,
             "#0d0887"
            ],
            [
             0.1111111111111111,
             "#46039f"
            ],
            [
             0.2222222222222222,
             "#7201a8"
            ],
            [
             0.3333333333333333,
             "#9c179e"
            ],
            [
             0.4444444444444444,
             "#bd3786"
            ],
            [
             0.5555555555555556,
             "#d8576b"
            ],
            [
             0.6666666666666666,
             "#ed7953"
            ],
            [
             0.7777777777777778,
             "#fb9f3a"
            ],
            [
             0.8888888888888888,
             "#fdca26"
            ],
            [
             1,
             "#f0f921"
            ]
           ]
          },
          "colorway": [
           "#636efa",
           "#EF553B",
           "#00cc96",
           "#ab63fa",
           "#FFA15A",
           "#19d3f3",
           "#FF6692",
           "#B6E880",
           "#FF97FF",
           "#FECB52"
          ],
          "font": {
           "color": "#2a3f5f"
          },
          "geo": {
           "bgcolor": "white",
           "lakecolor": "white",
           "landcolor": "#E5ECF6",
           "showlakes": true,
           "showland": true,
           "subunitcolor": "white"
          },
          "hoverlabel": {
           "align": "left"
          },
          "hovermode": "closest",
          "mapbox": {
           "style": "light"
          },
          "paper_bgcolor": "white",
          "plot_bgcolor": "#E5ECF6",
          "polar": {
           "angularaxis": {
            "gridcolor": "white",
            "linecolor": "white",
            "ticks": ""
           },
           "bgcolor": "#E5ECF6",
           "radialaxis": {
            "gridcolor": "white",
            "linecolor": "white",
            "ticks": ""
           }
          },
          "scene": {
           "xaxis": {
            "backgroundcolor": "#E5ECF6",
            "gridcolor": "white",
            "gridwidth": 2,
            "linecolor": "white",
            "showbackground": true,
            "ticks": "",
            "zerolinecolor": "white"
           },
           "yaxis": {
            "backgroundcolor": "#E5ECF6",
            "gridcolor": "white",
            "gridwidth": 2,
            "linecolor": "white",
            "showbackground": true,
            "ticks": "",
            "zerolinecolor": "white"
           },
           "zaxis": {
            "backgroundcolor": "#E5ECF6",
            "gridcolor": "white",
            "gridwidth": 2,
            "linecolor": "white",
            "showbackground": true,
            "ticks": "",
            "zerolinecolor": "white"
           }
          },
          "shapedefaults": {
           "line": {
            "color": "#2a3f5f"
           }
          },
          "ternary": {
           "aaxis": {
            "gridcolor": "white",
            "linecolor": "white",
            "ticks": ""
           },
           "baxis": {
            "gridcolor": "white",
            "linecolor": "white",
            "ticks": ""
           },
           "bgcolor": "#E5ECF6",
           "caxis": {
            "gridcolor": "white",
            "linecolor": "white",
            "ticks": ""
           }
          },
          "title": {
           "x": 0.05
          },
          "xaxis": {
           "automargin": true,
           "gridcolor": "white",
           "linecolor": "white",
           "ticks": "",
           "title": {
            "standoff": 15
           },
           "zerolinecolor": "white",
           "zerolinewidth": 2
          },
          "yaxis": {
           "automargin": true,
           "gridcolor": "white",
           "linecolor": "white",
           "ticks": "",
           "title": {
            "standoff": 15
           },
           "zerolinecolor": "white",
           "zerolinewidth": 2
          }
         }
        },
        "title": {
         "text": "WRs | Difference in ADP Rank and FP Rank"
        },
        "xaxis": {
         "anchor": "y",
         "domain": [
          0,
          1
         ],
         "title": {
          "text": "playerName"
         }
        },
        "yaxis": {
         "anchor": "x",
         "domain": [
          0,
          1
         ],
         "title": {
          "text": "delta"
         }
        }
       }
      },
      "text/html": [
       "<div>                            <div id=\"56aad93a-ad12-4721-8a10-9be1dbd0476c\" class=\"plotly-graph-div\" style=\"height:600px; width:100%;\"></div>            <script type=\"text/javascript\">                require([\"plotly\"], function(Plotly) {                    window.PLOTLYENV=window.PLOTLYENV || {};                                    if (document.getElementById(\"56aad93a-ad12-4721-8a10-9be1dbd0476c\")) {                    Plotly.newPlot(                        \"56aad93a-ad12-4721-8a10-9be1dbd0476c\",                        [{\"alignmentgroup\":\"True\",\"customdata\":[[1.0,5.9,1.0,349.4],[2.0,7.4,2.0,330.8],[3.0,8.4,3.0,300.1],[4.0,11.7,5.0,293.0],[5.0,13.3,4.0,294.1],[6.0,17.0,8.0,273.9],[7.0,19.0,6.0,288.3],[8.0,21.8,9.0,257.5],[9.0,25.6,14.0,242.6],[10.0,28.5,7.0,277.4],[11.0,30.4,12.0,248.3],[12.0,35.5,11.0,250.1],[13.0,40.1,33.0,195.6],[14.0,41.7,13.0,247.5],[15.0,42.8,15.0,233.9],[16.0,46.9,27.0,204.2],[17.0,47.4,10.0,252.4],[18.0,50.5,28.0,204.0],[19.0,52.9,53.0,169.3],[20.0,53.5,45.0,178.7],[21.0,56.8,48.0,177.8],[22.0,60.3,29.0,201.2],[23.0,61.1,41.0,185.2],[24.0,64.0,18.0,224.3],[25.0,68.6,66.0,135.0],[26.0,69.2,24.0,212.2],[27.0,71.2,16.0,232.8],[28.0,73.9,30.0,199.2],[29.0,75.2,25.0,209.6],[30.0,76.2,20.0,221.9],[31.0,77.6,22.0,216.7],[32.0,78.0,44.0,180.4],[33.0,82.2,35.0,193.3],[34.0,83.8,49.0,175.6],[35.0,85.9,23.0,213.5],[36.0,86.9,36.0,193.0],[37.0,88.4,17.0,224.5],[38.0,91.7,26.0,205.5],[39.0,93.7,19.0,223.4],[40.0,95.3,50.0,171.3],[41.0,97.9,46.0,178.4],[42.0,102.7,51.0,170.6],[43.0,106.2,39.0,189.4],[44.0,107.2,59.0,147.0],[45.0,110.0,31.0,197.4],[46.0,114.6,70.0,128.3],[47.0,115.3,62.0,140.0],[48.0,116.8,56.0,154.0],[49.0,119.2,38.0,192.2],[50.0,120.1,55.0,154.6],[51.0,125.1,40.0,187.1],[52.0,127.8,21.0,221.1],[53.0,132.7,32.0,197.0],[54.0,133.0,34.0,195.2],[55.0,134.9,79.0,93.5],[56.0,138.0,76.0,109.7],[57.0,139.0,37.0,192.6],[58.0,141.6,60.0,146.5],[59.0,143.7,42.0,182.0],[60.0,146.0,57.0,150.9]],\"hovertemplate\":\"playerName=%{x}<br>delta=%{y}<br>adp_rank=%{customdata[0]}<br>adp=%{marker.color}<br>fp_rank=%{customdata[2]}<br>fantasyPoints=%{customdata[3]}<extra></extra>\",\"legendgroup\":\"\",\"marker\":{\"color\":[5.9,7.4,8.4,11.7,13.3,17.0,19.0,21.8,25.6,28.5,30.4,35.5,40.1,41.7,42.8,46.9,47.4,50.5,52.9,53.5,56.8,60.3,61.1,64.0,68.6,69.2,71.2,73.9,75.2,76.2,77.6,78.0,82.2,83.8,85.9,86.9,88.4,91.7,93.7,95.3,97.9,102.7,106.2,107.2,110.0,114.6,115.3,116.8,119.2,120.1,125.1,127.8,132.7,133.0,134.9,138.0,139.0,141.6,143.7,146.0],\"coloraxis\":\"coloraxis\",\"pattern\":{\"shape\":\"\"}},\"name\":\"\",\"offsetgroup\":\"\",\"orientation\":\"v\",\"showlegend\":false,\"textposition\":\"auto\",\"x\":[\"Cooper Kupp\",\"Justin Jefferson\",\"Ja'Marr Chase\",\"Davante Adams\",\"Stefon Diggs\",\"Tyreek Hill\",\"CeeDee Lamb\",\"Deebo Samuel\",\"A.J. Brown\",\"Mike Evans\",\"Keenan Allen\",\"Tee Higgins\",\"Diontae Johnson\",\"Terry McLaurin\",\"D.K. Metcalf\",\"Jaylen Waddle\",\"D.J. Moore\",\"Amari Cooper\",\"Jerry Jeudy\",\"Chris Godwin\",\"Courtland Sutton\",\"Michael Thomas\",\"Marquise Brown\",\"Mike Williams\",\"DeAndre Hopkins\",\"Amon-Ra St. Brown\",\"Brandin Cooks\",\"Adam Thielen\",\"Treylon Burks\",\"Darnell Mooney\",\"Drake London\",\"JuJu Smith-Schuster\",\"DeVonta Smith\",\"Garrett Wilson\",\"Rashod Bateman\",\"Elijah Moore\",\"Tyler Lockett\",\"Hunter Renfrow\",\"Gabriel Davis\",\"Brandon Aiyuk\",\"Chris Olave\",\"Robert Woods\",\"Chase Claypool\",\"Christian Watson\",\"Christian Kirk\",\"Skyy Moore\",\"Jameson Williams\",\"Kadarius Toney\",\"Allen Lazard\",\"Michael Gallup\",\"Tyler Boyd\",\"Russell Gage\",\"Marquez Valdes-Scantling\",\"Kenny Golladay\",\"Jarvis Landry\",\"George Pickens\",\"Jahan Dotson\",\"Rondale Moore\",\"Jakobi Meyers\",\"Tim Patrick\"],\"xaxis\":\"x\",\"y\":[0.0,0.0,0.0,-1.0,1.0,-2.0,1.0,-1.0,-5.0,3.0,-1.0,1.0,-20.0,1.0,0.0,-11.0,7.0,-10.0,-34.0,-25.0,-27.0,-7.0,-18.0,6.0,-41.0,2.0,11.0,-2.0,4.0,10.0,9.0,-12.0,-2.0,-15.0,12.0,0.0,20.0,12.0,20.0,-10.0,-5.0,-9.0,4.0,-15.0,14.0,-24.0,-15.0,-8.0,11.0,-5.0,11.0,31.0,21.0,20.0,-24.0,-20.0,20.0,-2.0,17.0,3.0],\"yaxis\":\"y\",\"type\":\"bar\"}],                        {\"template\":{\"data\":{\"histogram2dcontour\":[{\"type\":\"histogram2dcontour\",\"colorbar\":{\"outlinewidth\":0,\"ticks\":\"\"},\"colorscale\":[[0.0,\"#0d0887\"],[0.1111111111111111,\"#46039f\"],[0.2222222222222222,\"#7201a8\"],[0.3333333333333333,\"#9c179e\"],[0.4444444444444444,\"#bd3786\"],[0.5555555555555556,\"#d8576b\"],[0.6666666666666666,\"#ed7953\"],[0.7777777777777778,\"#fb9f3a\"],[0.8888888888888888,\"#fdca26\"],[1.0,\"#f0f921\"]]}],\"choropleth\":[{\"type\":\"choropleth\",\"colorbar\":{\"outlinewidth\":0,\"ticks\":\"\"}}],\"histogram2d\":[{\"type\":\"histogram2d\",\"colorbar\":{\"outlinewidth\":0,\"ticks\":\"\"},\"colorscale\":[[0.0,\"#0d0887\"],[0.1111111111111111,\"#46039f\"],[0.2222222222222222,\"#7201a8\"],[0.3333333333333333,\"#9c179e\"],[0.4444444444444444,\"#bd3786\"],[0.5555555555555556,\"#d8576b\"],[0.6666666666666666,\"#ed7953\"],[0.7777777777777778,\"#fb9f3a\"],[0.8888888888888888,\"#fdca26\"],[1.0,\"#f0f921\"]]}],\"heatmap\":[{\"type\":\"heatmap\",\"colorbar\":{\"outlinewidth\":0,\"ticks\":\"\"},\"colorscale\":[[0.0,\"#0d0887\"],[0.1111111111111111,\"#46039f\"],[0.2222222222222222,\"#7201a8\"],[0.3333333333333333,\"#9c179e\"],[0.4444444444444444,\"#bd3786\"],[0.5555555555555556,\"#d8576b\"],[0.6666666666666666,\"#ed7953\"],[0.7777777777777778,\"#fb9f3a\"],[0.8888888888888888,\"#fdca26\"],[1.0,\"#f0f921\"]]}],\"heatmapgl\":[{\"type\":\"heatmapgl\",\"colorbar\":{\"outlinewidth\":0,\"ticks\":\"\"},\"colorscale\":[[0.0,\"#0d0887\"],[0.1111111111111111,\"#46039f\"],[0.2222222222222222,\"#7201a8\"],[0.3333333333333333,\"#9c179e\"],[0.4444444444444444,\"#bd3786\"],[0.5555555555555556,\"#d8576b\"],[0.6666666666666666,\"#ed7953\"],[0.7777777777777778,\"#fb9f3a\"],[0.8888888888888888,\"#fdca26\"],[1.0,\"#f0f921\"]]}],\"contourcarpet\":[{\"type\":\"contourcarpet\",\"colorbar\":{\"outlinewidth\":0,\"ticks\":\"\"}}],\"contour\":[{\"type\":\"contour\",\"colorbar\":{\"outlinewidth\":0,\"ticks\":\"\"},\"colorscale\":[[0.0,\"#0d0887\"],[0.1111111111111111,\"#46039f\"],[0.2222222222222222,\"#7201a8\"],[0.3333333333333333,\"#9c179e\"],[0.4444444444444444,\"#bd3786\"],[0.5555555555555556,\"#d8576b\"],[0.6666666666666666,\"#ed7953\"],[0.7777777777777778,\"#fb9f3a\"],[0.8888888888888888,\"#fdca26\"],[1.0,\"#f0f921\"]]}],\"surface\":[{\"type\":\"surface\",\"colorbar\":{\"outlinewidth\":0,\"ticks\":\"\"},\"colorscale\":[[0.0,\"#0d0887\"],[0.1111111111111111,\"#46039f\"],[0.2222222222222222,\"#7201a8\"],[0.3333333333333333,\"#9c179e\"],[0.4444444444444444,\"#bd3786\"],[0.5555555555555556,\"#d8576b\"],[0.6666666666666666,\"#ed7953\"],[0.7777777777777778,\"#fb9f3a\"],[0.8888888888888888,\"#fdca26\"],[1.0,\"#f0f921\"]]}],\"mesh3d\":[{\"type\":\"mesh3d\",\"colorbar\":{\"outlinewidth\":0,\"ticks\":\"\"}}],\"scatter\":[{\"fillpattern\":{\"fillmode\":\"overlay\",\"size\":10,\"solidity\":0.2},\"type\":\"scatter\"}],\"parcoords\":[{\"type\":\"parcoords\",\"line\":{\"colorbar\":{\"outlinewidth\":0,\"ticks\":\"\"}}}],\"scatterpolargl\":[{\"type\":\"scatterpolargl\",\"marker\":{\"colorbar\":{\"outlinewidth\":0,\"ticks\":\"\"}}}],\"bar\":[{\"error_x\":{\"color\":\"#2a3f5f\"},\"error_y\":{\"color\":\"#2a3f5f\"},\"marker\":{\"line\":{\"color\":\"#E5ECF6\",\"width\":0.5},\"pattern\":{\"fillmode\":\"overlay\",\"size\":10,\"solidity\":0.2}},\"type\":\"bar\"}],\"scattergeo\":[{\"type\":\"scattergeo\",\"marker\":{\"colorbar\":{\"outlinewidth\":0,\"ticks\":\"\"}}}],\"scatterpolar\":[{\"type\":\"scatterpolar\",\"marker\":{\"colorbar\":{\"outlinewidth\":0,\"ticks\":\"\"}}}],\"histogram\":[{\"marker\":{\"pattern\":{\"fillmode\":\"overlay\",\"size\":10,\"solidity\":0.2}},\"type\":\"histogram\"}],\"scattergl\":[{\"type\":\"scattergl\",\"marker\":{\"colorbar\":{\"outlinewidth\":0,\"ticks\":\"\"}}}],\"scatter3d\":[{\"type\":\"scatter3d\",\"line\":{\"colorbar\":{\"outlinewidth\":0,\"ticks\":\"\"}},\"marker\":{\"colorbar\":{\"outlinewidth\":0,\"ticks\":\"\"}}}],\"scattermapbox\":[{\"type\":\"scattermapbox\",\"marker\":{\"colorbar\":{\"outlinewidth\":0,\"ticks\":\"\"}}}],\"scatterternary\":[{\"type\":\"scatterternary\",\"marker\":{\"colorbar\":{\"outlinewidth\":0,\"ticks\":\"\"}}}],\"scattercarpet\":[{\"type\":\"scattercarpet\",\"marker\":{\"colorbar\":{\"outlinewidth\":0,\"ticks\":\"\"}}}],\"carpet\":[{\"aaxis\":{\"endlinecolor\":\"#2a3f5f\",\"gridcolor\":\"white\",\"linecolor\":\"white\",\"minorgridcolor\":\"white\",\"startlinecolor\":\"#2a3f5f\"},\"baxis\":{\"endlinecolor\":\"#2a3f5f\",\"gridcolor\":\"white\",\"linecolor\":\"white\",\"minorgridcolor\":\"white\",\"startlinecolor\":\"#2a3f5f\"},\"type\":\"carpet\"}],\"table\":[{\"cells\":{\"fill\":{\"color\":\"#EBF0F8\"},\"line\":{\"color\":\"white\"}},\"header\":{\"fill\":{\"color\":\"#C8D4E3\"},\"line\":{\"color\":\"white\"}},\"type\":\"table\"}],\"barpolar\":[{\"marker\":{\"line\":{\"color\":\"#E5ECF6\",\"width\":0.5},\"pattern\":{\"fillmode\":\"overlay\",\"size\":10,\"solidity\":0.2}},\"type\":\"barpolar\"}],\"pie\":[{\"automargin\":true,\"type\":\"pie\"}]},\"layout\":{\"autotypenumbers\":\"strict\",\"colorway\":[\"#636efa\",\"#EF553B\",\"#00cc96\",\"#ab63fa\",\"#FFA15A\",\"#19d3f3\",\"#FF6692\",\"#B6E880\",\"#FF97FF\",\"#FECB52\"],\"font\":{\"color\":\"#2a3f5f\"},\"hovermode\":\"closest\",\"hoverlabel\":{\"align\":\"left\"},\"paper_bgcolor\":\"white\",\"plot_bgcolor\":\"#E5ECF6\",\"polar\":{\"bgcolor\":\"#E5ECF6\",\"angularaxis\":{\"gridcolor\":\"white\",\"linecolor\":\"white\",\"ticks\":\"\"},\"radialaxis\":{\"gridcolor\":\"white\",\"linecolor\":\"white\",\"ticks\":\"\"}},\"ternary\":{\"bgcolor\":\"#E5ECF6\",\"aaxis\":{\"gridcolor\":\"white\",\"linecolor\":\"white\",\"ticks\":\"\"},\"baxis\":{\"gridcolor\":\"white\",\"linecolor\":\"white\",\"ticks\":\"\"},\"caxis\":{\"gridcolor\":\"white\",\"linecolor\":\"white\",\"ticks\":\"\"}},\"coloraxis\":{\"colorbar\":{\"outlinewidth\":0,\"ticks\":\"\"}},\"colorscale\":{\"sequential\":[[0.0,\"#0d0887\"],[0.1111111111111111,\"#46039f\"],[0.2222222222222222,\"#7201a8\"],[0.3333333333333333,\"#9c179e\"],[0.4444444444444444,\"#bd3786\"],[0.5555555555555556,\"#d8576b\"],[0.6666666666666666,\"#ed7953\"],[0.7777777777777778,\"#fb9f3a\"],[0.8888888888888888,\"#fdca26\"],[1.0,\"#f0f921\"]],\"sequentialminus\":[[0.0,\"#0d0887\"],[0.1111111111111111,\"#46039f\"],[0.2222222222222222,\"#7201a8\"],[0.3333333333333333,\"#9c179e\"],[0.4444444444444444,\"#bd3786\"],[0.5555555555555556,\"#d8576b\"],[0.6666666666666666,\"#ed7953\"],[0.7777777777777778,\"#fb9f3a\"],[0.8888888888888888,\"#fdca26\"],[1.0,\"#f0f921\"]],\"diverging\":[[0,\"#8e0152\"],[0.1,\"#c51b7d\"],[0.2,\"#de77ae\"],[0.3,\"#f1b6da\"],[0.4,\"#fde0ef\"],[0.5,\"#f7f7f7\"],[0.6,\"#e6f5d0\"],[0.7,\"#b8e186\"],[0.8,\"#7fbc41\"],[0.9,\"#4d9221\"],[1,\"#276419\"]]},\"xaxis\":{\"gridcolor\":\"white\",\"linecolor\":\"white\",\"ticks\":\"\",\"title\":{\"standoff\":15},\"zerolinecolor\":\"white\",\"automargin\":true,\"zerolinewidth\":2},\"yaxis\":{\"gridcolor\":\"white\",\"linecolor\":\"white\",\"ticks\":\"\",\"title\":{\"standoff\":15},\"zerolinecolor\":\"white\",\"automargin\":true,\"zerolinewidth\":2},\"scene\":{\"xaxis\":{\"backgroundcolor\":\"#E5ECF6\",\"gridcolor\":\"white\",\"linecolor\":\"white\",\"showbackground\":true,\"ticks\":\"\",\"zerolinecolor\":\"white\",\"gridwidth\":2},\"yaxis\":{\"backgroundcolor\":\"#E5ECF6\",\"gridcolor\":\"white\",\"linecolor\":\"white\",\"showbackground\":true,\"ticks\":\"\",\"zerolinecolor\":\"white\",\"gridwidth\":2},\"zaxis\":{\"backgroundcolor\":\"#E5ECF6\",\"gridcolor\":\"white\",\"linecolor\":\"white\",\"showbackground\":true,\"ticks\":\"\",\"zerolinecolor\":\"white\",\"gridwidth\":2}},\"shapedefaults\":{\"line\":{\"color\":\"#2a3f5f\"}},\"annotationdefaults\":{\"arrowcolor\":\"#2a3f5f\",\"arrowhead\":0,\"arrowwidth\":1},\"geo\":{\"bgcolor\":\"white\",\"landcolor\":\"#E5ECF6\",\"subunitcolor\":\"white\",\"showland\":true,\"showlakes\":true,\"lakecolor\":\"white\"},\"title\":{\"x\":0.05},\"mapbox\":{\"style\":\"light\"}}},\"xaxis\":{\"anchor\":\"y\",\"domain\":[0.0,1.0],\"title\":{\"text\":\"playerName\"}},\"yaxis\":{\"anchor\":\"x\",\"domain\":[0.0,1.0],\"title\":{\"text\":\"delta\"}},\"coloraxis\":{\"colorbar\":{\"title\":{\"text\":\"adp\"}},\"colorscale\":[[0.0,\"#0d0887\"],[0.1111111111111111,\"#46039f\"],[0.2222222222222222,\"#7201a8\"],[0.3333333333333333,\"#9c179e\"],[0.4444444444444444,\"#bd3786\"],[0.5555555555555556,\"#d8576b\"],[0.6666666666666666,\"#ed7953\"],[0.7777777777777778,\"#fb9f3a\"],[0.8888888888888888,\"#fdca26\"],[1.0,\"#f0f921\"]]},\"legend\":{\"tracegroupgap\":0},\"title\":{\"text\":\"WRs | Difference in ADP Rank and FP Rank\"},\"barmode\":\"relative\",\"height\":600},                        {\"responsive\": true}                    ).then(function(){\n",
       "                            \n",
       "var gd = document.getElementById('56aad93a-ad12-4721-8a10-9be1dbd0476c');\n",
       "var x = new MutationObserver(function (mutations, observer) {{\n",
       "        var display = window.getComputedStyle(gd).display;\n",
       "        if (!display || display === 'none') {{\n",
       "            console.log([gd, 'removed!']);\n",
       "            Plotly.purge(gd);\n",
       "            observer.disconnect();\n",
       "        }}\n",
       "}});\n",
       "\n",
       "// Listen for the removal of the full notebook cells\n",
       "var notebookContainer = gd.closest('#notebook-container');\n",
       "if (notebookContainer) {{\n",
       "    x.observe(notebookContainer, {childList: true});\n",
       "}}\n",
       "\n",
       "// Listen for the clearing of the current output cell\n",
       "var outputEl = gd.closest('.output');\n",
       "if (outputEl) {{\n",
       "    x.observe(outputEl, {childList: true});\n",
       "}}\n",
       "\n",
       "                        })                };                });            </script>        </div>"
      ]
     },
     "metadata": {},
     "output_type": "display_data"
    }
   ],
   "source": [
    "# create relative bar chart to show difference in ADP rank and FP rank\n",
    "# a positive delta shows players expected to outperform their ADP\n",
    "# a negative delta show players expected to underperform their ADP\n",
    "\n",
    "fig = px.bar(wr_60, x='playerName', y='delta',\n",
    "             hover_data=['adp_rank', 'adp', 'fp_rank', 'fantasyPoints'], color='adp',\n",
    "             title='WRs | Difference in ADP Rank and FP Rank', height=600, barmode='relative')\n",
    "fig.show()\n",
    "fig.write_html(\"fig/wr_bar.html\")\n",
    "fig.write_image(\"images/wr_bar.png\")"
   ]
  },
  {
   "cell_type": "code",
   "execution_count": 52,
   "id": "3f702246",
   "metadata": {},
   "outputs": [
    {
     "data": {
      "application/vnd.plotly.v1+json": {
       "config": {
        "plotlyServerURL": "https://plot.ly"
       },
       "data": [
        {
         "alignmentgroup": "True",
         "customdata": [
          [
           1,
           12.1,
           1,
           292.1
          ],
          [
           2,
           20.1,
           2,
           257.8
          ],
          [
           3,
           26.8,
           4,
           210.2
          ],
          [
           4,
           32.3,
           3,
           227
          ],
          [
           5,
           39.1,
           5,
           186.3
          ],
          [
           6,
           55.4,
           15,
           140.6
          ],
          [
           7,
           62.3,
           6,
           174.7
          ],
          [
           8,
           74.8,
           8,
           164.8
          ],
          [
           9,
           89,
           7,
           167.5
          ],
          [
           10,
           92.9,
           13,
           142.7
          ],
          [
           11,
           101.7,
           20,
           113.8
          ],
          [
           12,
           103.6,
           17,
           133
          ],
          [
           13,
           122.1,
           18,
           126.6
          ],
          [
           14,
           123.3,
           11,
           148.4
          ],
          [
           15,
           130.1,
           26,
           93.3
          ],
          [
           16,
           143.7,
           16,
           138
          ],
          [
           17,
           148.8,
           10,
           154.8
          ],
          [
           18,
           151,
           9,
           158.5
          ],
          [
           19,
           167.7,
           14,
           141.4
          ],
          [
           20,
           172.6,
           19,
           114.5
          ],
          [
           21,
           179.2,
           12,
           147.6
          ],
          [
           22,
           185.2,
           22,
           100.4
          ],
          [
           23,
           190.4,
           23,
           98.6
          ],
          [
           24,
           193.1,
           25,
           95.1
          ]
         ],
         "hovertemplate": "playerName=%{x}<br>delta=%{y}<br>adp_rank=%{customdata[0]}<br>adp=%{marker.color}<br>fp_rank=%{customdata[2]}<br>fantasyPoints=%{customdata[3]}<extra></extra>",
         "legendgroup": "",
         "marker": {
          "color": [
           12.1,
           20.1,
           26.8,
           32.3,
           39.1,
           55.4,
           62.3,
           74.8,
           89,
           92.9,
           101.7,
           103.6,
           122.1,
           123.3,
           130.1,
           143.7,
           148.8,
           151,
           167.7,
           172.6,
           179.2,
           185.2,
           190.4,
           193.1
          ],
          "coloraxis": "coloraxis",
          "pattern": {
           "shape": ""
          }
         },
         "name": "",
         "offsetgroup": "",
         "orientation": "v",
         "showlegend": false,
         "textposition": "auto",
         "type": "bar",
         "x": [
          "Travis Kelce",
          "Mark Andrews",
          "Kyle Pitts",
          "George Kittle",
          "Darren Waller",
          "T.J. Hockenson",
          "Dalton Schultz",
          "Dallas Goedert",
          "Dawson Knox",
          "Zach Ertz",
          "Pat Freiermuth",
          "Mike Gesicki",
          "Hunter Henry",
          "Cole Kmet",
          "Albert Okwuegbunam",
          "Noah Fant",
          "David Njoku",
          "Tyler Higbee",
          "Robert Tonyan",
          "Hayden Hurst",
          "Gerald Everett",
          "Evan Engram",
          "Logan Thomas",
          "Austin Hooper"
         ],
         "xaxis": "x",
         "y": [
          0,
          0,
          -1,
          1,
          0,
          -9,
          1,
          0,
          2,
          -3,
          -9,
          -5,
          -5,
          3,
          -11,
          0,
          7,
          9,
          5,
          1,
          9,
          0,
          0,
          -1
         ],
         "yaxis": "y"
        }
       ],
       "layout": {
        "barmode": "relative",
        "coloraxis": {
         "colorbar": {
          "title": {
           "text": "adp"
          }
         },
         "colorscale": [
          [
           0,
           "#0d0887"
          ],
          [
           0.1111111111111111,
           "#46039f"
          ],
          [
           0.2222222222222222,
           "#7201a8"
          ],
          [
           0.3333333333333333,
           "#9c179e"
          ],
          [
           0.4444444444444444,
           "#bd3786"
          ],
          [
           0.5555555555555556,
           "#d8576b"
          ],
          [
           0.6666666666666666,
           "#ed7953"
          ],
          [
           0.7777777777777778,
           "#fb9f3a"
          ],
          [
           0.8888888888888888,
           "#fdca26"
          ],
          [
           1,
           "#f0f921"
          ]
         ]
        },
        "height": 600,
        "legend": {
         "tracegroupgap": 0
        },
        "template": {
         "data": {
          "bar": [
           {
            "error_x": {
             "color": "#2a3f5f"
            },
            "error_y": {
             "color": "#2a3f5f"
            },
            "marker": {
             "line": {
              "color": "#E5ECF6",
              "width": 0.5
             },
             "pattern": {
              "fillmode": "overlay",
              "size": 10,
              "solidity": 0.2
             }
            },
            "type": "bar"
           }
          ],
          "barpolar": [
           {
            "marker": {
             "line": {
              "color": "#E5ECF6",
              "width": 0.5
             },
             "pattern": {
              "fillmode": "overlay",
              "size": 10,
              "solidity": 0.2
             }
            },
            "type": "barpolar"
           }
          ],
          "carpet": [
           {
            "aaxis": {
             "endlinecolor": "#2a3f5f",
             "gridcolor": "white",
             "linecolor": "white",
             "minorgridcolor": "white",
             "startlinecolor": "#2a3f5f"
            },
            "baxis": {
             "endlinecolor": "#2a3f5f",
             "gridcolor": "white",
             "linecolor": "white",
             "minorgridcolor": "white",
             "startlinecolor": "#2a3f5f"
            },
            "type": "carpet"
           }
          ],
          "choropleth": [
           {
            "colorbar": {
             "outlinewidth": 0,
             "ticks": ""
            },
            "type": "choropleth"
           }
          ],
          "contour": [
           {
            "colorbar": {
             "outlinewidth": 0,
             "ticks": ""
            },
            "colorscale": [
             [
              0,
              "#0d0887"
             ],
             [
              0.1111111111111111,
              "#46039f"
             ],
             [
              0.2222222222222222,
              "#7201a8"
             ],
             [
              0.3333333333333333,
              "#9c179e"
             ],
             [
              0.4444444444444444,
              "#bd3786"
             ],
             [
              0.5555555555555556,
              "#d8576b"
             ],
             [
              0.6666666666666666,
              "#ed7953"
             ],
             [
              0.7777777777777778,
              "#fb9f3a"
             ],
             [
              0.8888888888888888,
              "#fdca26"
             ],
             [
              1,
              "#f0f921"
             ]
            ],
            "type": "contour"
           }
          ],
          "contourcarpet": [
           {
            "colorbar": {
             "outlinewidth": 0,
             "ticks": ""
            },
            "type": "contourcarpet"
           }
          ],
          "heatmap": [
           {
            "colorbar": {
             "outlinewidth": 0,
             "ticks": ""
            },
            "colorscale": [
             [
              0,
              "#0d0887"
             ],
             [
              0.1111111111111111,
              "#46039f"
             ],
             [
              0.2222222222222222,
              "#7201a8"
             ],
             [
              0.3333333333333333,
              "#9c179e"
             ],
             [
              0.4444444444444444,
              "#bd3786"
             ],
             [
              0.5555555555555556,
              "#d8576b"
             ],
             [
              0.6666666666666666,
              "#ed7953"
             ],
             [
              0.7777777777777778,
              "#fb9f3a"
             ],
             [
              0.8888888888888888,
              "#fdca26"
             ],
             [
              1,
              "#f0f921"
             ]
            ],
            "type": "heatmap"
           }
          ],
          "heatmapgl": [
           {
            "colorbar": {
             "outlinewidth": 0,
             "ticks": ""
            },
            "colorscale": [
             [
              0,
              "#0d0887"
             ],
             [
              0.1111111111111111,
              "#46039f"
             ],
             [
              0.2222222222222222,
              "#7201a8"
             ],
             [
              0.3333333333333333,
              "#9c179e"
             ],
             [
              0.4444444444444444,
              "#bd3786"
             ],
             [
              0.5555555555555556,
              "#d8576b"
             ],
             [
              0.6666666666666666,
              "#ed7953"
             ],
             [
              0.7777777777777778,
              "#fb9f3a"
             ],
             [
              0.8888888888888888,
              "#fdca26"
             ],
             [
              1,
              "#f0f921"
             ]
            ],
            "type": "heatmapgl"
           }
          ],
          "histogram": [
           {
            "marker": {
             "pattern": {
              "fillmode": "overlay",
              "size": 10,
              "solidity": 0.2
             }
            },
            "type": "histogram"
           }
          ],
          "histogram2d": [
           {
            "colorbar": {
             "outlinewidth": 0,
             "ticks": ""
            },
            "colorscale": [
             [
              0,
              "#0d0887"
             ],
             [
              0.1111111111111111,
              "#46039f"
             ],
             [
              0.2222222222222222,
              "#7201a8"
             ],
             [
              0.3333333333333333,
              "#9c179e"
             ],
             [
              0.4444444444444444,
              "#bd3786"
             ],
             [
              0.5555555555555556,
              "#d8576b"
             ],
             [
              0.6666666666666666,
              "#ed7953"
             ],
             [
              0.7777777777777778,
              "#fb9f3a"
             ],
             [
              0.8888888888888888,
              "#fdca26"
             ],
             [
              1,
              "#f0f921"
             ]
            ],
            "type": "histogram2d"
           }
          ],
          "histogram2dcontour": [
           {
            "colorbar": {
             "outlinewidth": 0,
             "ticks": ""
            },
            "colorscale": [
             [
              0,
              "#0d0887"
             ],
             [
              0.1111111111111111,
              "#46039f"
             ],
             [
              0.2222222222222222,
              "#7201a8"
             ],
             [
              0.3333333333333333,
              "#9c179e"
             ],
             [
              0.4444444444444444,
              "#bd3786"
             ],
             [
              0.5555555555555556,
              "#d8576b"
             ],
             [
              0.6666666666666666,
              "#ed7953"
             ],
             [
              0.7777777777777778,
              "#fb9f3a"
             ],
             [
              0.8888888888888888,
              "#fdca26"
             ],
             [
              1,
              "#f0f921"
             ]
            ],
            "type": "histogram2dcontour"
           }
          ],
          "mesh3d": [
           {
            "colorbar": {
             "outlinewidth": 0,
             "ticks": ""
            },
            "type": "mesh3d"
           }
          ],
          "parcoords": [
           {
            "line": {
             "colorbar": {
              "outlinewidth": 0,
              "ticks": ""
             }
            },
            "type": "parcoords"
           }
          ],
          "pie": [
           {
            "automargin": true,
            "type": "pie"
           }
          ],
          "scatter": [
           {
            "fillpattern": {
             "fillmode": "overlay",
             "size": 10,
             "solidity": 0.2
            },
            "type": "scatter"
           }
          ],
          "scatter3d": [
           {
            "line": {
             "colorbar": {
              "outlinewidth": 0,
              "ticks": ""
             }
            },
            "marker": {
             "colorbar": {
              "outlinewidth": 0,
              "ticks": ""
             }
            },
            "type": "scatter3d"
           }
          ],
          "scattercarpet": [
           {
            "marker": {
             "colorbar": {
              "outlinewidth": 0,
              "ticks": ""
             }
            },
            "type": "scattercarpet"
           }
          ],
          "scattergeo": [
           {
            "marker": {
             "colorbar": {
              "outlinewidth": 0,
              "ticks": ""
             }
            },
            "type": "scattergeo"
           }
          ],
          "scattergl": [
           {
            "marker": {
             "colorbar": {
              "outlinewidth": 0,
              "ticks": ""
             }
            },
            "type": "scattergl"
           }
          ],
          "scattermapbox": [
           {
            "marker": {
             "colorbar": {
              "outlinewidth": 0,
              "ticks": ""
             }
            },
            "type": "scattermapbox"
           }
          ],
          "scatterpolar": [
           {
            "marker": {
             "colorbar": {
              "outlinewidth": 0,
              "ticks": ""
             }
            },
            "type": "scatterpolar"
           }
          ],
          "scatterpolargl": [
           {
            "marker": {
             "colorbar": {
              "outlinewidth": 0,
              "ticks": ""
             }
            },
            "type": "scatterpolargl"
           }
          ],
          "scatterternary": [
           {
            "marker": {
             "colorbar": {
              "outlinewidth": 0,
              "ticks": ""
             }
            },
            "type": "scatterternary"
           }
          ],
          "surface": [
           {
            "colorbar": {
             "outlinewidth": 0,
             "ticks": ""
            },
            "colorscale": [
             [
              0,
              "#0d0887"
             ],
             [
              0.1111111111111111,
              "#46039f"
             ],
             [
              0.2222222222222222,
              "#7201a8"
             ],
             [
              0.3333333333333333,
              "#9c179e"
             ],
             [
              0.4444444444444444,
              "#bd3786"
             ],
             [
              0.5555555555555556,
              "#d8576b"
             ],
             [
              0.6666666666666666,
              "#ed7953"
             ],
             [
              0.7777777777777778,
              "#fb9f3a"
             ],
             [
              0.8888888888888888,
              "#fdca26"
             ],
             [
              1,
              "#f0f921"
             ]
            ],
            "type": "surface"
           }
          ],
          "table": [
           {
            "cells": {
             "fill": {
              "color": "#EBF0F8"
             },
             "line": {
              "color": "white"
             }
            },
            "header": {
             "fill": {
              "color": "#C8D4E3"
             },
             "line": {
              "color": "white"
             }
            },
            "type": "table"
           }
          ]
         },
         "layout": {
          "annotationdefaults": {
           "arrowcolor": "#2a3f5f",
           "arrowhead": 0,
           "arrowwidth": 1
          },
          "autotypenumbers": "strict",
          "coloraxis": {
           "colorbar": {
            "outlinewidth": 0,
            "ticks": ""
           }
          },
          "colorscale": {
           "diverging": [
            [
             0,
             "#8e0152"
            ],
            [
             0.1,
             "#c51b7d"
            ],
            [
             0.2,
             "#de77ae"
            ],
            [
             0.3,
             "#f1b6da"
            ],
            [
             0.4,
             "#fde0ef"
            ],
            [
             0.5,
             "#f7f7f7"
            ],
            [
             0.6,
             "#e6f5d0"
            ],
            [
             0.7,
             "#b8e186"
            ],
            [
             0.8,
             "#7fbc41"
            ],
            [
             0.9,
             "#4d9221"
            ],
            [
             1,
             "#276419"
            ]
           ],
           "sequential": [
            [
             0,
             "#0d0887"
            ],
            [
             0.1111111111111111,
             "#46039f"
            ],
            [
             0.2222222222222222,
             "#7201a8"
            ],
            [
             0.3333333333333333,
             "#9c179e"
            ],
            [
             0.4444444444444444,
             "#bd3786"
            ],
            [
             0.5555555555555556,
             "#d8576b"
            ],
            [
             0.6666666666666666,
             "#ed7953"
            ],
            [
             0.7777777777777778,
             "#fb9f3a"
            ],
            [
             0.8888888888888888,
             "#fdca26"
            ],
            [
             1,
             "#f0f921"
            ]
           ],
           "sequentialminus": [
            [
             0,
             "#0d0887"
            ],
            [
             0.1111111111111111,
             "#46039f"
            ],
            [
             0.2222222222222222,
             "#7201a8"
            ],
            [
             0.3333333333333333,
             "#9c179e"
            ],
            [
             0.4444444444444444,
             "#bd3786"
            ],
            [
             0.5555555555555556,
             "#d8576b"
            ],
            [
             0.6666666666666666,
             "#ed7953"
            ],
            [
             0.7777777777777778,
             "#fb9f3a"
            ],
            [
             0.8888888888888888,
             "#fdca26"
            ],
            [
             1,
             "#f0f921"
            ]
           ]
          },
          "colorway": [
           "#636efa",
           "#EF553B",
           "#00cc96",
           "#ab63fa",
           "#FFA15A",
           "#19d3f3",
           "#FF6692",
           "#B6E880",
           "#FF97FF",
           "#FECB52"
          ],
          "font": {
           "color": "#2a3f5f"
          },
          "geo": {
           "bgcolor": "white",
           "lakecolor": "white",
           "landcolor": "#E5ECF6",
           "showlakes": true,
           "showland": true,
           "subunitcolor": "white"
          },
          "hoverlabel": {
           "align": "left"
          },
          "hovermode": "closest",
          "mapbox": {
           "style": "light"
          },
          "paper_bgcolor": "white",
          "plot_bgcolor": "#E5ECF6",
          "polar": {
           "angularaxis": {
            "gridcolor": "white",
            "linecolor": "white",
            "ticks": ""
           },
           "bgcolor": "#E5ECF6",
           "radialaxis": {
            "gridcolor": "white",
            "linecolor": "white",
            "ticks": ""
           }
          },
          "scene": {
           "xaxis": {
            "backgroundcolor": "#E5ECF6",
            "gridcolor": "white",
            "gridwidth": 2,
            "linecolor": "white",
            "showbackground": true,
            "ticks": "",
            "zerolinecolor": "white"
           },
           "yaxis": {
            "backgroundcolor": "#E5ECF6",
            "gridcolor": "white",
            "gridwidth": 2,
            "linecolor": "white",
            "showbackground": true,
            "ticks": "",
            "zerolinecolor": "white"
           },
           "zaxis": {
            "backgroundcolor": "#E5ECF6",
            "gridcolor": "white",
            "gridwidth": 2,
            "linecolor": "white",
            "showbackground": true,
            "ticks": "",
            "zerolinecolor": "white"
           }
          },
          "shapedefaults": {
           "line": {
            "color": "#2a3f5f"
           }
          },
          "ternary": {
           "aaxis": {
            "gridcolor": "white",
            "linecolor": "white",
            "ticks": ""
           },
           "baxis": {
            "gridcolor": "white",
            "linecolor": "white",
            "ticks": ""
           },
           "bgcolor": "#E5ECF6",
           "caxis": {
            "gridcolor": "white",
            "linecolor": "white",
            "ticks": ""
           }
          },
          "title": {
           "x": 0.05
          },
          "xaxis": {
           "automargin": true,
           "gridcolor": "white",
           "linecolor": "white",
           "ticks": "",
           "title": {
            "standoff": 15
           },
           "zerolinecolor": "white",
           "zerolinewidth": 2
          },
          "yaxis": {
           "automargin": true,
           "gridcolor": "white",
           "linecolor": "white",
           "ticks": "",
           "title": {
            "standoff": 15
           },
           "zerolinecolor": "white",
           "zerolinewidth": 2
          }
         }
        },
        "title": {
         "text": "TEs | Difference in ADP Rank and FP Rank"
        },
        "xaxis": {
         "anchor": "y",
         "domain": [
          0,
          1
         ],
         "title": {
          "text": "playerName"
         }
        },
        "yaxis": {
         "anchor": "x",
         "domain": [
          0,
          1
         ],
         "title": {
          "text": "delta"
         }
        }
       }
      },
      "text/html": [
       "<div>                            <div id=\"64f792a2-6f19-4684-b8a7-2e9725671741\" class=\"plotly-graph-div\" style=\"height:600px; width:100%;\"></div>            <script type=\"text/javascript\">                require([\"plotly\"], function(Plotly) {                    window.PLOTLYENV=window.PLOTLYENV || {};                                    if (document.getElementById(\"64f792a2-6f19-4684-b8a7-2e9725671741\")) {                    Plotly.newPlot(                        \"64f792a2-6f19-4684-b8a7-2e9725671741\",                        [{\"alignmentgroup\":\"True\",\"customdata\":[[1.0,12.1,1.0,292.1],[2.0,20.1,2.0,257.8],[3.0,26.8,4.0,210.2],[4.0,32.3,3.0,227.0],[5.0,39.1,5.0,186.3],[6.0,55.4,15.0,140.6],[7.0,62.3,6.0,174.7],[8.0,74.8,8.0,164.8],[9.0,89.0,7.0,167.5],[10.0,92.9,13.0,142.7],[11.0,101.7,20.0,113.8],[12.0,103.6,17.0,133.0],[13.0,122.1,18.0,126.6],[14.0,123.3,11.0,148.4],[15.0,130.1,26.0,93.3],[16.0,143.7,16.0,138.0],[17.0,148.8,10.0,154.8],[18.0,151.0,9.0,158.5],[19.0,167.7,14.0,141.4],[20.0,172.6,19.0,114.5],[21.0,179.2,12.0,147.6],[22.0,185.2,22.0,100.4],[23.0,190.4,23.0,98.6],[24.0,193.1,25.0,95.1]],\"hovertemplate\":\"playerName=%{x}<br>delta=%{y}<br>adp_rank=%{customdata[0]}<br>adp=%{marker.color}<br>fp_rank=%{customdata[2]}<br>fantasyPoints=%{customdata[3]}<extra></extra>\",\"legendgroup\":\"\",\"marker\":{\"color\":[12.1,20.1,26.8,32.3,39.1,55.4,62.3,74.8,89.0,92.9,101.7,103.6,122.1,123.3,130.1,143.7,148.8,151.0,167.7,172.6,179.2,185.2,190.4,193.1],\"coloraxis\":\"coloraxis\",\"pattern\":{\"shape\":\"\"}},\"name\":\"\",\"offsetgroup\":\"\",\"orientation\":\"v\",\"showlegend\":false,\"textposition\":\"auto\",\"x\":[\"Travis Kelce\",\"Mark Andrews\",\"Kyle Pitts\",\"George Kittle\",\"Darren Waller\",\"T.J. Hockenson\",\"Dalton Schultz\",\"Dallas Goedert\",\"Dawson Knox\",\"Zach Ertz\",\"Pat Freiermuth\",\"Mike Gesicki\",\"Hunter Henry\",\"Cole Kmet\",\"Albert Okwuegbunam\",\"Noah Fant\",\"David Njoku\",\"Tyler Higbee\",\"Robert Tonyan\",\"Hayden Hurst\",\"Gerald Everett\",\"Evan Engram\",\"Logan Thomas\",\"Austin Hooper\"],\"xaxis\":\"x\",\"y\":[0.0,0.0,-1.0,1.0,0.0,-9.0,1.0,0.0,2.0,-3.0,-9.0,-5.0,-5.0,3.0,-11.0,0.0,7.0,9.0,5.0,1.0,9.0,0.0,0.0,-1.0],\"yaxis\":\"y\",\"type\":\"bar\"}],                        {\"template\":{\"data\":{\"histogram2dcontour\":[{\"type\":\"histogram2dcontour\",\"colorbar\":{\"outlinewidth\":0,\"ticks\":\"\"},\"colorscale\":[[0.0,\"#0d0887\"],[0.1111111111111111,\"#46039f\"],[0.2222222222222222,\"#7201a8\"],[0.3333333333333333,\"#9c179e\"],[0.4444444444444444,\"#bd3786\"],[0.5555555555555556,\"#d8576b\"],[0.6666666666666666,\"#ed7953\"],[0.7777777777777778,\"#fb9f3a\"],[0.8888888888888888,\"#fdca26\"],[1.0,\"#f0f921\"]]}],\"choropleth\":[{\"type\":\"choropleth\",\"colorbar\":{\"outlinewidth\":0,\"ticks\":\"\"}}],\"histogram2d\":[{\"type\":\"histogram2d\",\"colorbar\":{\"outlinewidth\":0,\"ticks\":\"\"},\"colorscale\":[[0.0,\"#0d0887\"],[0.1111111111111111,\"#46039f\"],[0.2222222222222222,\"#7201a8\"],[0.3333333333333333,\"#9c179e\"],[0.4444444444444444,\"#bd3786\"],[0.5555555555555556,\"#d8576b\"],[0.6666666666666666,\"#ed7953\"],[0.7777777777777778,\"#fb9f3a\"],[0.8888888888888888,\"#fdca26\"],[1.0,\"#f0f921\"]]}],\"heatmap\":[{\"type\":\"heatmap\",\"colorbar\":{\"outlinewidth\":0,\"ticks\":\"\"},\"colorscale\":[[0.0,\"#0d0887\"],[0.1111111111111111,\"#46039f\"],[0.2222222222222222,\"#7201a8\"],[0.3333333333333333,\"#9c179e\"],[0.4444444444444444,\"#bd3786\"],[0.5555555555555556,\"#d8576b\"],[0.6666666666666666,\"#ed7953\"],[0.7777777777777778,\"#fb9f3a\"],[0.8888888888888888,\"#fdca26\"],[1.0,\"#f0f921\"]]}],\"heatmapgl\":[{\"type\":\"heatmapgl\",\"colorbar\":{\"outlinewidth\":0,\"ticks\":\"\"},\"colorscale\":[[0.0,\"#0d0887\"],[0.1111111111111111,\"#46039f\"],[0.2222222222222222,\"#7201a8\"],[0.3333333333333333,\"#9c179e\"],[0.4444444444444444,\"#bd3786\"],[0.5555555555555556,\"#d8576b\"],[0.6666666666666666,\"#ed7953\"],[0.7777777777777778,\"#fb9f3a\"],[0.8888888888888888,\"#fdca26\"],[1.0,\"#f0f921\"]]}],\"contourcarpet\":[{\"type\":\"contourcarpet\",\"colorbar\":{\"outlinewidth\":0,\"ticks\":\"\"}}],\"contour\":[{\"type\":\"contour\",\"colorbar\":{\"outlinewidth\":0,\"ticks\":\"\"},\"colorscale\":[[0.0,\"#0d0887\"],[0.1111111111111111,\"#46039f\"],[0.2222222222222222,\"#7201a8\"],[0.3333333333333333,\"#9c179e\"],[0.4444444444444444,\"#bd3786\"],[0.5555555555555556,\"#d8576b\"],[0.6666666666666666,\"#ed7953\"],[0.7777777777777778,\"#fb9f3a\"],[0.8888888888888888,\"#fdca26\"],[1.0,\"#f0f921\"]]}],\"surface\":[{\"type\":\"surface\",\"colorbar\":{\"outlinewidth\":0,\"ticks\":\"\"},\"colorscale\":[[0.0,\"#0d0887\"],[0.1111111111111111,\"#46039f\"],[0.2222222222222222,\"#7201a8\"],[0.3333333333333333,\"#9c179e\"],[0.4444444444444444,\"#bd3786\"],[0.5555555555555556,\"#d8576b\"],[0.6666666666666666,\"#ed7953\"],[0.7777777777777778,\"#fb9f3a\"],[0.8888888888888888,\"#fdca26\"],[1.0,\"#f0f921\"]]}],\"mesh3d\":[{\"type\":\"mesh3d\",\"colorbar\":{\"outlinewidth\":0,\"ticks\":\"\"}}],\"scatter\":[{\"fillpattern\":{\"fillmode\":\"overlay\",\"size\":10,\"solidity\":0.2},\"type\":\"scatter\"}],\"parcoords\":[{\"type\":\"parcoords\",\"line\":{\"colorbar\":{\"outlinewidth\":0,\"ticks\":\"\"}}}],\"scatterpolargl\":[{\"type\":\"scatterpolargl\",\"marker\":{\"colorbar\":{\"outlinewidth\":0,\"ticks\":\"\"}}}],\"bar\":[{\"error_x\":{\"color\":\"#2a3f5f\"},\"error_y\":{\"color\":\"#2a3f5f\"},\"marker\":{\"line\":{\"color\":\"#E5ECF6\",\"width\":0.5},\"pattern\":{\"fillmode\":\"overlay\",\"size\":10,\"solidity\":0.2}},\"type\":\"bar\"}],\"scattergeo\":[{\"type\":\"scattergeo\",\"marker\":{\"colorbar\":{\"outlinewidth\":0,\"ticks\":\"\"}}}],\"scatterpolar\":[{\"type\":\"scatterpolar\",\"marker\":{\"colorbar\":{\"outlinewidth\":0,\"ticks\":\"\"}}}],\"histogram\":[{\"marker\":{\"pattern\":{\"fillmode\":\"overlay\",\"size\":10,\"solidity\":0.2}},\"type\":\"histogram\"}],\"scattergl\":[{\"type\":\"scattergl\",\"marker\":{\"colorbar\":{\"outlinewidth\":0,\"ticks\":\"\"}}}],\"scatter3d\":[{\"type\":\"scatter3d\",\"line\":{\"colorbar\":{\"outlinewidth\":0,\"ticks\":\"\"}},\"marker\":{\"colorbar\":{\"outlinewidth\":0,\"ticks\":\"\"}}}],\"scattermapbox\":[{\"type\":\"scattermapbox\",\"marker\":{\"colorbar\":{\"outlinewidth\":0,\"ticks\":\"\"}}}],\"scatterternary\":[{\"type\":\"scatterternary\",\"marker\":{\"colorbar\":{\"outlinewidth\":0,\"ticks\":\"\"}}}],\"scattercarpet\":[{\"type\":\"scattercarpet\",\"marker\":{\"colorbar\":{\"outlinewidth\":0,\"ticks\":\"\"}}}],\"carpet\":[{\"aaxis\":{\"endlinecolor\":\"#2a3f5f\",\"gridcolor\":\"white\",\"linecolor\":\"white\",\"minorgridcolor\":\"white\",\"startlinecolor\":\"#2a3f5f\"},\"baxis\":{\"endlinecolor\":\"#2a3f5f\",\"gridcolor\":\"white\",\"linecolor\":\"white\",\"minorgridcolor\":\"white\",\"startlinecolor\":\"#2a3f5f\"},\"type\":\"carpet\"}],\"table\":[{\"cells\":{\"fill\":{\"color\":\"#EBF0F8\"},\"line\":{\"color\":\"white\"}},\"header\":{\"fill\":{\"color\":\"#C8D4E3\"},\"line\":{\"color\":\"white\"}},\"type\":\"table\"}],\"barpolar\":[{\"marker\":{\"line\":{\"color\":\"#E5ECF6\",\"width\":0.5},\"pattern\":{\"fillmode\":\"overlay\",\"size\":10,\"solidity\":0.2}},\"type\":\"barpolar\"}],\"pie\":[{\"automargin\":true,\"type\":\"pie\"}]},\"layout\":{\"autotypenumbers\":\"strict\",\"colorway\":[\"#636efa\",\"#EF553B\",\"#00cc96\",\"#ab63fa\",\"#FFA15A\",\"#19d3f3\",\"#FF6692\",\"#B6E880\",\"#FF97FF\",\"#FECB52\"],\"font\":{\"color\":\"#2a3f5f\"},\"hovermode\":\"closest\",\"hoverlabel\":{\"align\":\"left\"},\"paper_bgcolor\":\"white\",\"plot_bgcolor\":\"#E5ECF6\",\"polar\":{\"bgcolor\":\"#E5ECF6\",\"angularaxis\":{\"gridcolor\":\"white\",\"linecolor\":\"white\",\"ticks\":\"\"},\"radialaxis\":{\"gridcolor\":\"white\",\"linecolor\":\"white\",\"ticks\":\"\"}},\"ternary\":{\"bgcolor\":\"#E5ECF6\",\"aaxis\":{\"gridcolor\":\"white\",\"linecolor\":\"white\",\"ticks\":\"\"},\"baxis\":{\"gridcolor\":\"white\",\"linecolor\":\"white\",\"ticks\":\"\"},\"caxis\":{\"gridcolor\":\"white\",\"linecolor\":\"white\",\"ticks\":\"\"}},\"coloraxis\":{\"colorbar\":{\"outlinewidth\":0,\"ticks\":\"\"}},\"colorscale\":{\"sequential\":[[0.0,\"#0d0887\"],[0.1111111111111111,\"#46039f\"],[0.2222222222222222,\"#7201a8\"],[0.3333333333333333,\"#9c179e\"],[0.4444444444444444,\"#bd3786\"],[0.5555555555555556,\"#d8576b\"],[0.6666666666666666,\"#ed7953\"],[0.7777777777777778,\"#fb9f3a\"],[0.8888888888888888,\"#fdca26\"],[1.0,\"#f0f921\"]],\"sequentialminus\":[[0.0,\"#0d0887\"],[0.1111111111111111,\"#46039f\"],[0.2222222222222222,\"#7201a8\"],[0.3333333333333333,\"#9c179e\"],[0.4444444444444444,\"#bd3786\"],[0.5555555555555556,\"#d8576b\"],[0.6666666666666666,\"#ed7953\"],[0.7777777777777778,\"#fb9f3a\"],[0.8888888888888888,\"#fdca26\"],[1.0,\"#f0f921\"]],\"diverging\":[[0,\"#8e0152\"],[0.1,\"#c51b7d\"],[0.2,\"#de77ae\"],[0.3,\"#f1b6da\"],[0.4,\"#fde0ef\"],[0.5,\"#f7f7f7\"],[0.6,\"#e6f5d0\"],[0.7,\"#b8e186\"],[0.8,\"#7fbc41\"],[0.9,\"#4d9221\"],[1,\"#276419\"]]},\"xaxis\":{\"gridcolor\":\"white\",\"linecolor\":\"white\",\"ticks\":\"\",\"title\":{\"standoff\":15},\"zerolinecolor\":\"white\",\"automargin\":true,\"zerolinewidth\":2},\"yaxis\":{\"gridcolor\":\"white\",\"linecolor\":\"white\",\"ticks\":\"\",\"title\":{\"standoff\":15},\"zerolinecolor\":\"white\",\"automargin\":true,\"zerolinewidth\":2},\"scene\":{\"xaxis\":{\"backgroundcolor\":\"#E5ECF6\",\"gridcolor\":\"white\",\"linecolor\":\"white\",\"showbackground\":true,\"ticks\":\"\",\"zerolinecolor\":\"white\",\"gridwidth\":2},\"yaxis\":{\"backgroundcolor\":\"#E5ECF6\",\"gridcolor\":\"white\",\"linecolor\":\"white\",\"showbackground\":true,\"ticks\":\"\",\"zerolinecolor\":\"white\",\"gridwidth\":2},\"zaxis\":{\"backgroundcolor\":\"#E5ECF6\",\"gridcolor\":\"white\",\"linecolor\":\"white\",\"showbackground\":true,\"ticks\":\"\",\"zerolinecolor\":\"white\",\"gridwidth\":2}},\"shapedefaults\":{\"line\":{\"color\":\"#2a3f5f\"}},\"annotationdefaults\":{\"arrowcolor\":\"#2a3f5f\",\"arrowhead\":0,\"arrowwidth\":1},\"geo\":{\"bgcolor\":\"white\",\"landcolor\":\"#E5ECF6\",\"subunitcolor\":\"white\",\"showland\":true,\"showlakes\":true,\"lakecolor\":\"white\"},\"title\":{\"x\":0.05},\"mapbox\":{\"style\":\"light\"}}},\"xaxis\":{\"anchor\":\"y\",\"domain\":[0.0,1.0],\"title\":{\"text\":\"playerName\"}},\"yaxis\":{\"anchor\":\"x\",\"domain\":[0.0,1.0],\"title\":{\"text\":\"delta\"}},\"coloraxis\":{\"colorbar\":{\"title\":{\"text\":\"adp\"}},\"colorscale\":[[0.0,\"#0d0887\"],[0.1111111111111111,\"#46039f\"],[0.2222222222222222,\"#7201a8\"],[0.3333333333333333,\"#9c179e\"],[0.4444444444444444,\"#bd3786\"],[0.5555555555555556,\"#d8576b\"],[0.6666666666666666,\"#ed7953\"],[0.7777777777777778,\"#fb9f3a\"],[0.8888888888888888,\"#fdca26\"],[1.0,\"#f0f921\"]]},\"legend\":{\"tracegroupgap\":0},\"title\":{\"text\":\"TEs | Difference in ADP Rank and FP Rank\"},\"barmode\":\"relative\",\"height\":600},                        {\"responsive\": true}                    ).then(function(){\n",
       "                            \n",
       "var gd = document.getElementById('64f792a2-6f19-4684-b8a7-2e9725671741');\n",
       "var x = new MutationObserver(function (mutations, observer) {{\n",
       "        var display = window.getComputedStyle(gd).display;\n",
       "        if (!display || display === 'none') {{\n",
       "            console.log([gd, 'removed!']);\n",
       "            Plotly.purge(gd);\n",
       "            observer.disconnect();\n",
       "        }}\n",
       "}});\n",
       "\n",
       "// Listen for the removal of the full notebook cells\n",
       "var notebookContainer = gd.closest('#notebook-container');\n",
       "if (notebookContainer) {{\n",
       "    x.observe(notebookContainer, {childList: true});\n",
       "}}\n",
       "\n",
       "// Listen for the clearing of the current output cell\n",
       "var outputEl = gd.closest('.output');\n",
       "if (outputEl) {{\n",
       "    x.observe(outputEl, {childList: true});\n",
       "}}\n",
       "\n",
       "                        })                };                });            </script>        </div>"
      ]
     },
     "metadata": {},
     "output_type": "display_data"
    },
    {
     "data": {
      "application/vnd.plotly.v1+json": {
       "config": {
        "plotlyServerURL": "https://plot.ly"
       },
       "data": [
        {
         "alignmentgroup": "True",
         "customdata": [
          [
           1,
           12.1,
           1,
           292.1
          ],
          [
           2,
           20.1,
           2,
           257.8
          ],
          [
           3,
           26.8,
           4,
           210.2
          ],
          [
           4,
           32.3,
           3,
           227
          ],
          [
           5,
           39.1,
           5,
           186.3
          ],
          [
           6,
           55.4,
           15,
           140.6
          ],
          [
           7,
           62.3,
           6,
           174.7
          ],
          [
           8,
           74.8,
           8,
           164.8
          ],
          [
           9,
           89,
           7,
           167.5
          ],
          [
           10,
           92.9,
           13,
           142.7
          ],
          [
           11,
           101.7,
           20,
           113.8
          ],
          [
           12,
           103.6,
           17,
           133
          ],
          [
           13,
           122.1,
           18,
           126.6
          ],
          [
           14,
           123.3,
           11,
           148.4
          ],
          [
           15,
           130.1,
           26,
           93.3
          ],
          [
           16,
           143.7,
           16,
           138
          ],
          [
           17,
           148.8,
           10,
           154.8
          ],
          [
           18,
           151,
           9,
           158.5
          ],
          [
           19,
           167.7,
           14,
           141.4
          ],
          [
           20,
           172.6,
           19,
           114.5
          ],
          [
           21,
           179.2,
           12,
           147.6
          ],
          [
           22,
           185.2,
           22,
           100.4
          ],
          [
           23,
           190.4,
           23,
           98.6
          ],
          [
           24,
           193.1,
           25,
           95.1
          ]
         ],
         "hovertemplate": "playerName=%{x}<br>delta=%{y}<br>adp_rank=%{customdata[0]}<br>adp=%{marker.color}<br>fp_rank=%{customdata[2]}<br>fantasyPoints=%{customdata[3]}<extra></extra>",
         "legendgroup": "",
         "marker": {
          "color": [
           12.1,
           20.1,
           26.8,
           32.3,
           39.1,
           55.4,
           62.3,
           74.8,
           89,
           92.9,
           101.7,
           103.6,
           122.1,
           123.3,
           130.1,
           143.7,
           148.8,
           151,
           167.7,
           172.6,
           179.2,
           185.2,
           190.4,
           193.1
          ],
          "coloraxis": "coloraxis",
          "pattern": {
           "shape": ""
          }
         },
         "name": "",
         "offsetgroup": "",
         "orientation": "v",
         "showlegend": false,
         "textposition": "auto",
         "type": "bar",
         "x": [
          "Travis Kelce",
          "Mark Andrews",
          "Kyle Pitts",
          "George Kittle",
          "Darren Waller",
          "T.J. Hockenson",
          "Dalton Schultz",
          "Dallas Goedert",
          "Dawson Knox",
          "Zach Ertz",
          "Pat Freiermuth",
          "Mike Gesicki",
          "Hunter Henry",
          "Cole Kmet",
          "Albert Okwuegbunam",
          "Noah Fant",
          "David Njoku",
          "Tyler Higbee",
          "Robert Tonyan",
          "Hayden Hurst",
          "Gerald Everett",
          "Evan Engram",
          "Logan Thomas",
          "Austin Hooper"
         ],
         "xaxis": "x",
         "y": [
          0,
          0,
          -1,
          1,
          0,
          -9,
          1,
          0,
          2,
          -3,
          -9,
          -5,
          -5,
          3,
          -11,
          0,
          7,
          9,
          5,
          1,
          9,
          0,
          0,
          -1
         ],
         "yaxis": "y"
        }
       ],
       "layout": {
        "barmode": "relative",
        "coloraxis": {
         "colorbar": {
          "title": {
           "text": "adp"
          }
         },
         "colorscale": [
          [
           0,
           "#0d0887"
          ],
          [
           0.1111111111111111,
           "#46039f"
          ],
          [
           0.2222222222222222,
           "#7201a8"
          ],
          [
           0.3333333333333333,
           "#9c179e"
          ],
          [
           0.4444444444444444,
           "#bd3786"
          ],
          [
           0.5555555555555556,
           "#d8576b"
          ],
          [
           0.6666666666666666,
           "#ed7953"
          ],
          [
           0.7777777777777778,
           "#fb9f3a"
          ],
          [
           0.8888888888888888,
           "#fdca26"
          ],
          [
           1,
           "#f0f921"
          ]
         ]
        },
        "height": 600,
        "legend": {
         "tracegroupgap": 0
        },
        "template": {
         "data": {
          "bar": [
           {
            "error_x": {
             "color": "#2a3f5f"
            },
            "error_y": {
             "color": "#2a3f5f"
            },
            "marker": {
             "line": {
              "color": "#E5ECF6",
              "width": 0.5
             },
             "pattern": {
              "fillmode": "overlay",
              "size": 10,
              "solidity": 0.2
             }
            },
            "type": "bar"
           }
          ],
          "barpolar": [
           {
            "marker": {
             "line": {
              "color": "#E5ECF6",
              "width": 0.5
             },
             "pattern": {
              "fillmode": "overlay",
              "size": 10,
              "solidity": 0.2
             }
            },
            "type": "barpolar"
           }
          ],
          "carpet": [
           {
            "aaxis": {
             "endlinecolor": "#2a3f5f",
             "gridcolor": "white",
             "linecolor": "white",
             "minorgridcolor": "white",
             "startlinecolor": "#2a3f5f"
            },
            "baxis": {
             "endlinecolor": "#2a3f5f",
             "gridcolor": "white",
             "linecolor": "white",
             "minorgridcolor": "white",
             "startlinecolor": "#2a3f5f"
            },
            "type": "carpet"
           }
          ],
          "choropleth": [
           {
            "colorbar": {
             "outlinewidth": 0,
             "ticks": ""
            },
            "type": "choropleth"
           }
          ],
          "contour": [
           {
            "colorbar": {
             "outlinewidth": 0,
             "ticks": ""
            },
            "colorscale": [
             [
              0,
              "#0d0887"
             ],
             [
              0.1111111111111111,
              "#46039f"
             ],
             [
              0.2222222222222222,
              "#7201a8"
             ],
             [
              0.3333333333333333,
              "#9c179e"
             ],
             [
              0.4444444444444444,
              "#bd3786"
             ],
             [
              0.5555555555555556,
              "#d8576b"
             ],
             [
              0.6666666666666666,
              "#ed7953"
             ],
             [
              0.7777777777777778,
              "#fb9f3a"
             ],
             [
              0.8888888888888888,
              "#fdca26"
             ],
             [
              1,
              "#f0f921"
             ]
            ],
            "type": "contour"
           }
          ],
          "contourcarpet": [
           {
            "colorbar": {
             "outlinewidth": 0,
             "ticks": ""
            },
            "type": "contourcarpet"
           }
          ],
          "heatmap": [
           {
            "colorbar": {
             "outlinewidth": 0,
             "ticks": ""
            },
            "colorscale": [
             [
              0,
              "#0d0887"
             ],
             [
              0.1111111111111111,
              "#46039f"
             ],
             [
              0.2222222222222222,
              "#7201a8"
             ],
             [
              0.3333333333333333,
              "#9c179e"
             ],
             [
              0.4444444444444444,
              "#bd3786"
             ],
             [
              0.5555555555555556,
              "#d8576b"
             ],
             [
              0.6666666666666666,
              "#ed7953"
             ],
             [
              0.7777777777777778,
              "#fb9f3a"
             ],
             [
              0.8888888888888888,
              "#fdca26"
             ],
             [
              1,
              "#f0f921"
             ]
            ],
            "type": "heatmap"
           }
          ],
          "heatmapgl": [
           {
            "colorbar": {
             "outlinewidth": 0,
             "ticks": ""
            },
            "colorscale": [
             [
              0,
              "#0d0887"
             ],
             [
              0.1111111111111111,
              "#46039f"
             ],
             [
              0.2222222222222222,
              "#7201a8"
             ],
             [
              0.3333333333333333,
              "#9c179e"
             ],
             [
              0.4444444444444444,
              "#bd3786"
             ],
             [
              0.5555555555555556,
              "#d8576b"
             ],
             [
              0.6666666666666666,
              "#ed7953"
             ],
             [
              0.7777777777777778,
              "#fb9f3a"
             ],
             [
              0.8888888888888888,
              "#fdca26"
             ],
             [
              1,
              "#f0f921"
             ]
            ],
            "type": "heatmapgl"
           }
          ],
          "histogram": [
           {
            "marker": {
             "pattern": {
              "fillmode": "overlay",
              "size": 10,
              "solidity": 0.2
             }
            },
            "type": "histogram"
           }
          ],
          "histogram2d": [
           {
            "colorbar": {
             "outlinewidth": 0,
             "ticks": ""
            },
            "colorscale": [
             [
              0,
              "#0d0887"
             ],
             [
              0.1111111111111111,
              "#46039f"
             ],
             [
              0.2222222222222222,
              "#7201a8"
             ],
             [
              0.3333333333333333,
              "#9c179e"
             ],
             [
              0.4444444444444444,
              "#bd3786"
             ],
             [
              0.5555555555555556,
              "#d8576b"
             ],
             [
              0.6666666666666666,
              "#ed7953"
             ],
             [
              0.7777777777777778,
              "#fb9f3a"
             ],
             [
              0.8888888888888888,
              "#fdca26"
             ],
             [
              1,
              "#f0f921"
             ]
            ],
            "type": "histogram2d"
           }
          ],
          "histogram2dcontour": [
           {
            "colorbar": {
             "outlinewidth": 0,
             "ticks": ""
            },
            "colorscale": [
             [
              0,
              "#0d0887"
             ],
             [
              0.1111111111111111,
              "#46039f"
             ],
             [
              0.2222222222222222,
              "#7201a8"
             ],
             [
              0.3333333333333333,
              "#9c179e"
             ],
             [
              0.4444444444444444,
              "#bd3786"
             ],
             [
              0.5555555555555556,
              "#d8576b"
             ],
             [
              0.6666666666666666,
              "#ed7953"
             ],
             [
              0.7777777777777778,
              "#fb9f3a"
             ],
             [
              0.8888888888888888,
              "#fdca26"
             ],
             [
              1,
              "#f0f921"
             ]
            ],
            "type": "histogram2dcontour"
           }
          ],
          "mesh3d": [
           {
            "colorbar": {
             "outlinewidth": 0,
             "ticks": ""
            },
            "type": "mesh3d"
           }
          ],
          "parcoords": [
           {
            "line": {
             "colorbar": {
              "outlinewidth": 0,
              "ticks": ""
             }
            },
            "type": "parcoords"
           }
          ],
          "pie": [
           {
            "automargin": true,
            "type": "pie"
           }
          ],
          "scatter": [
           {
            "fillpattern": {
             "fillmode": "overlay",
             "size": 10,
             "solidity": 0.2
            },
            "type": "scatter"
           }
          ],
          "scatter3d": [
           {
            "line": {
             "colorbar": {
              "outlinewidth": 0,
              "ticks": ""
             }
            },
            "marker": {
             "colorbar": {
              "outlinewidth": 0,
              "ticks": ""
             }
            },
            "type": "scatter3d"
           }
          ],
          "scattercarpet": [
           {
            "marker": {
             "colorbar": {
              "outlinewidth": 0,
              "ticks": ""
             }
            },
            "type": "scattercarpet"
           }
          ],
          "scattergeo": [
           {
            "marker": {
             "colorbar": {
              "outlinewidth": 0,
              "ticks": ""
             }
            },
            "type": "scattergeo"
           }
          ],
          "scattergl": [
           {
            "marker": {
             "colorbar": {
              "outlinewidth": 0,
              "ticks": ""
             }
            },
            "type": "scattergl"
           }
          ],
          "scattermapbox": [
           {
            "marker": {
             "colorbar": {
              "outlinewidth": 0,
              "ticks": ""
             }
            },
            "type": "scattermapbox"
           }
          ],
          "scatterpolar": [
           {
            "marker": {
             "colorbar": {
              "outlinewidth": 0,
              "ticks": ""
             }
            },
            "type": "scatterpolar"
           }
          ],
          "scatterpolargl": [
           {
            "marker": {
             "colorbar": {
              "outlinewidth": 0,
              "ticks": ""
             }
            },
            "type": "scatterpolargl"
           }
          ],
          "scatterternary": [
           {
            "marker": {
             "colorbar": {
              "outlinewidth": 0,
              "ticks": ""
             }
            },
            "type": "scatterternary"
           }
          ],
          "surface": [
           {
            "colorbar": {
             "outlinewidth": 0,
             "ticks": ""
            },
            "colorscale": [
             [
              0,
              "#0d0887"
             ],
             [
              0.1111111111111111,
              "#46039f"
             ],
             [
              0.2222222222222222,
              "#7201a8"
             ],
             [
              0.3333333333333333,
              "#9c179e"
             ],
             [
              0.4444444444444444,
              "#bd3786"
             ],
             [
              0.5555555555555556,
              "#d8576b"
             ],
             [
              0.6666666666666666,
              "#ed7953"
             ],
             [
              0.7777777777777778,
              "#fb9f3a"
             ],
             [
              0.8888888888888888,
              "#fdca26"
             ],
             [
              1,
              "#f0f921"
             ]
            ],
            "type": "surface"
           }
          ],
          "table": [
           {
            "cells": {
             "fill": {
              "color": "#EBF0F8"
             },
             "line": {
              "color": "white"
             }
            },
            "header": {
             "fill": {
              "color": "#C8D4E3"
             },
             "line": {
              "color": "white"
             }
            },
            "type": "table"
           }
          ]
         },
         "layout": {
          "annotationdefaults": {
           "arrowcolor": "#2a3f5f",
           "arrowhead": 0,
           "arrowwidth": 1
          },
          "autotypenumbers": "strict",
          "coloraxis": {
           "colorbar": {
            "outlinewidth": 0,
            "ticks": ""
           }
          },
          "colorscale": {
           "diverging": [
            [
             0,
             "#8e0152"
            ],
            [
             0.1,
             "#c51b7d"
            ],
            [
             0.2,
             "#de77ae"
            ],
            [
             0.3,
             "#f1b6da"
            ],
            [
             0.4,
             "#fde0ef"
            ],
            [
             0.5,
             "#f7f7f7"
            ],
            [
             0.6,
             "#e6f5d0"
            ],
            [
             0.7,
             "#b8e186"
            ],
            [
             0.8,
             "#7fbc41"
            ],
            [
             0.9,
             "#4d9221"
            ],
            [
             1,
             "#276419"
            ]
           ],
           "sequential": [
            [
             0,
             "#0d0887"
            ],
            [
             0.1111111111111111,
             "#46039f"
            ],
            [
             0.2222222222222222,
             "#7201a8"
            ],
            [
             0.3333333333333333,
             "#9c179e"
            ],
            [
             0.4444444444444444,
             "#bd3786"
            ],
            [
             0.5555555555555556,
             "#d8576b"
            ],
            [
             0.6666666666666666,
             "#ed7953"
            ],
            [
             0.7777777777777778,
             "#fb9f3a"
            ],
            [
             0.8888888888888888,
             "#fdca26"
            ],
            [
             1,
             "#f0f921"
            ]
           ],
           "sequentialminus": [
            [
             0,
             "#0d0887"
            ],
            [
             0.1111111111111111,
             "#46039f"
            ],
            [
             0.2222222222222222,
             "#7201a8"
            ],
            [
             0.3333333333333333,
             "#9c179e"
            ],
            [
             0.4444444444444444,
             "#bd3786"
            ],
            [
             0.5555555555555556,
             "#d8576b"
            ],
            [
             0.6666666666666666,
             "#ed7953"
            ],
            [
             0.7777777777777778,
             "#fb9f3a"
            ],
            [
             0.8888888888888888,
             "#fdca26"
            ],
            [
             1,
             "#f0f921"
            ]
           ]
          },
          "colorway": [
           "#636efa",
           "#EF553B",
           "#00cc96",
           "#ab63fa",
           "#FFA15A",
           "#19d3f3",
           "#FF6692",
           "#B6E880",
           "#FF97FF",
           "#FECB52"
          ],
          "font": {
           "color": "#2a3f5f"
          },
          "geo": {
           "bgcolor": "white",
           "lakecolor": "white",
           "landcolor": "#E5ECF6",
           "showlakes": true,
           "showland": true,
           "subunitcolor": "white"
          },
          "hoverlabel": {
           "align": "left"
          },
          "hovermode": "closest",
          "mapbox": {
           "style": "light"
          },
          "paper_bgcolor": "white",
          "plot_bgcolor": "#E5ECF6",
          "polar": {
           "angularaxis": {
            "gridcolor": "white",
            "linecolor": "white",
            "ticks": ""
           },
           "bgcolor": "#E5ECF6",
           "radialaxis": {
            "gridcolor": "white",
            "linecolor": "white",
            "ticks": ""
           }
          },
          "scene": {
           "xaxis": {
            "backgroundcolor": "#E5ECF6",
            "gridcolor": "white",
            "gridwidth": 2,
            "linecolor": "white",
            "showbackground": true,
            "ticks": "",
            "zerolinecolor": "white"
           },
           "yaxis": {
            "backgroundcolor": "#E5ECF6",
            "gridcolor": "white",
            "gridwidth": 2,
            "linecolor": "white",
            "showbackground": true,
            "ticks": "",
            "zerolinecolor": "white"
           },
           "zaxis": {
            "backgroundcolor": "#E5ECF6",
            "gridcolor": "white",
            "gridwidth": 2,
            "linecolor": "white",
            "showbackground": true,
            "ticks": "",
            "zerolinecolor": "white"
           }
          },
          "shapedefaults": {
           "line": {
            "color": "#2a3f5f"
           }
          },
          "ternary": {
           "aaxis": {
            "gridcolor": "white",
            "linecolor": "white",
            "ticks": ""
           },
           "baxis": {
            "gridcolor": "white",
            "linecolor": "white",
            "ticks": ""
           },
           "bgcolor": "#E5ECF6",
           "caxis": {
            "gridcolor": "white",
            "linecolor": "white",
            "ticks": ""
           }
          },
          "title": {
           "x": 0.05
          },
          "xaxis": {
           "automargin": true,
           "gridcolor": "white",
           "linecolor": "white",
           "ticks": "",
           "title": {
            "standoff": 15
           },
           "zerolinecolor": "white",
           "zerolinewidth": 2
          },
          "yaxis": {
           "automargin": true,
           "gridcolor": "white",
           "linecolor": "white",
           "ticks": "",
           "title": {
            "standoff": 15
           },
           "zerolinecolor": "white",
           "zerolinewidth": 2
          }
         }
        },
        "title": {
         "text": "TEs | Difference in ADP Rank and FP Rank"
        },
        "xaxis": {
         "anchor": "y",
         "domain": [
          0,
          1
         ],
         "title": {
          "text": "playerName"
         }
        },
        "yaxis": {
         "anchor": "x",
         "domain": [
          0,
          1
         ],
         "title": {
          "text": "delta"
         }
        }
       }
      },
      "text/html": [
       "<div>                            <div id=\"64f792a2-6f19-4684-b8a7-2e9725671741\" class=\"plotly-graph-div\" style=\"height:600px; width:100%;\"></div>            <script type=\"text/javascript\">                require([\"plotly\"], function(Plotly) {                    window.PLOTLYENV=window.PLOTLYENV || {};                                    if (document.getElementById(\"64f792a2-6f19-4684-b8a7-2e9725671741\")) {                    Plotly.newPlot(                        \"64f792a2-6f19-4684-b8a7-2e9725671741\",                        [{\"alignmentgroup\":\"True\",\"customdata\":[[1.0,12.1,1.0,292.1],[2.0,20.1,2.0,257.8],[3.0,26.8,4.0,210.2],[4.0,32.3,3.0,227.0],[5.0,39.1,5.0,186.3],[6.0,55.4,15.0,140.6],[7.0,62.3,6.0,174.7],[8.0,74.8,8.0,164.8],[9.0,89.0,7.0,167.5],[10.0,92.9,13.0,142.7],[11.0,101.7,20.0,113.8],[12.0,103.6,17.0,133.0],[13.0,122.1,18.0,126.6],[14.0,123.3,11.0,148.4],[15.0,130.1,26.0,93.3],[16.0,143.7,16.0,138.0],[17.0,148.8,10.0,154.8],[18.0,151.0,9.0,158.5],[19.0,167.7,14.0,141.4],[20.0,172.6,19.0,114.5],[21.0,179.2,12.0,147.6],[22.0,185.2,22.0,100.4],[23.0,190.4,23.0,98.6],[24.0,193.1,25.0,95.1]],\"hovertemplate\":\"playerName=%{x}<br>delta=%{y}<br>adp_rank=%{customdata[0]}<br>adp=%{marker.color}<br>fp_rank=%{customdata[2]}<br>fantasyPoints=%{customdata[3]}<extra></extra>\",\"legendgroup\":\"\",\"marker\":{\"color\":[12.1,20.1,26.8,32.3,39.1,55.4,62.3,74.8,89.0,92.9,101.7,103.6,122.1,123.3,130.1,143.7,148.8,151.0,167.7,172.6,179.2,185.2,190.4,193.1],\"coloraxis\":\"coloraxis\",\"pattern\":{\"shape\":\"\"}},\"name\":\"\",\"offsetgroup\":\"\",\"orientation\":\"v\",\"showlegend\":false,\"textposition\":\"auto\",\"x\":[\"Travis Kelce\",\"Mark Andrews\",\"Kyle Pitts\",\"George Kittle\",\"Darren Waller\",\"T.J. Hockenson\",\"Dalton Schultz\",\"Dallas Goedert\",\"Dawson Knox\",\"Zach Ertz\",\"Pat Freiermuth\",\"Mike Gesicki\",\"Hunter Henry\",\"Cole Kmet\",\"Albert Okwuegbunam\",\"Noah Fant\",\"David Njoku\",\"Tyler Higbee\",\"Robert Tonyan\",\"Hayden Hurst\",\"Gerald Everett\",\"Evan Engram\",\"Logan Thomas\",\"Austin Hooper\"],\"xaxis\":\"x\",\"y\":[0.0,0.0,-1.0,1.0,0.0,-9.0,1.0,0.0,2.0,-3.0,-9.0,-5.0,-5.0,3.0,-11.0,0.0,7.0,9.0,5.0,1.0,9.0,0.0,0.0,-1.0],\"yaxis\":\"y\",\"type\":\"bar\"}],                        {\"template\":{\"data\":{\"histogram2dcontour\":[{\"type\":\"histogram2dcontour\",\"colorbar\":{\"outlinewidth\":0,\"ticks\":\"\"},\"colorscale\":[[0.0,\"#0d0887\"],[0.1111111111111111,\"#46039f\"],[0.2222222222222222,\"#7201a8\"],[0.3333333333333333,\"#9c179e\"],[0.4444444444444444,\"#bd3786\"],[0.5555555555555556,\"#d8576b\"],[0.6666666666666666,\"#ed7953\"],[0.7777777777777778,\"#fb9f3a\"],[0.8888888888888888,\"#fdca26\"],[1.0,\"#f0f921\"]]}],\"choropleth\":[{\"type\":\"choropleth\",\"colorbar\":{\"outlinewidth\":0,\"ticks\":\"\"}}],\"histogram2d\":[{\"type\":\"histogram2d\",\"colorbar\":{\"outlinewidth\":0,\"ticks\":\"\"},\"colorscale\":[[0.0,\"#0d0887\"],[0.1111111111111111,\"#46039f\"],[0.2222222222222222,\"#7201a8\"],[0.3333333333333333,\"#9c179e\"],[0.4444444444444444,\"#bd3786\"],[0.5555555555555556,\"#d8576b\"],[0.6666666666666666,\"#ed7953\"],[0.7777777777777778,\"#fb9f3a\"],[0.8888888888888888,\"#fdca26\"],[1.0,\"#f0f921\"]]}],\"heatmap\":[{\"type\":\"heatmap\",\"colorbar\":{\"outlinewidth\":0,\"ticks\":\"\"},\"colorscale\":[[0.0,\"#0d0887\"],[0.1111111111111111,\"#46039f\"],[0.2222222222222222,\"#7201a8\"],[0.3333333333333333,\"#9c179e\"],[0.4444444444444444,\"#bd3786\"],[0.5555555555555556,\"#d8576b\"],[0.6666666666666666,\"#ed7953\"],[0.7777777777777778,\"#fb9f3a\"],[0.8888888888888888,\"#fdca26\"],[1.0,\"#f0f921\"]]}],\"heatmapgl\":[{\"type\":\"heatmapgl\",\"colorbar\":{\"outlinewidth\":0,\"ticks\":\"\"},\"colorscale\":[[0.0,\"#0d0887\"],[0.1111111111111111,\"#46039f\"],[0.2222222222222222,\"#7201a8\"],[0.3333333333333333,\"#9c179e\"],[0.4444444444444444,\"#bd3786\"],[0.5555555555555556,\"#d8576b\"],[0.6666666666666666,\"#ed7953\"],[0.7777777777777778,\"#fb9f3a\"],[0.8888888888888888,\"#fdca26\"],[1.0,\"#f0f921\"]]}],\"contourcarpet\":[{\"type\":\"contourcarpet\",\"colorbar\":{\"outlinewidth\":0,\"ticks\":\"\"}}],\"contour\":[{\"type\":\"contour\",\"colorbar\":{\"outlinewidth\":0,\"ticks\":\"\"},\"colorscale\":[[0.0,\"#0d0887\"],[0.1111111111111111,\"#46039f\"],[0.2222222222222222,\"#7201a8\"],[0.3333333333333333,\"#9c179e\"],[0.4444444444444444,\"#bd3786\"],[0.5555555555555556,\"#d8576b\"],[0.6666666666666666,\"#ed7953\"],[0.7777777777777778,\"#fb9f3a\"],[0.8888888888888888,\"#fdca26\"],[1.0,\"#f0f921\"]]}],\"surface\":[{\"type\":\"surface\",\"colorbar\":{\"outlinewidth\":0,\"ticks\":\"\"},\"colorscale\":[[0.0,\"#0d0887\"],[0.1111111111111111,\"#46039f\"],[0.2222222222222222,\"#7201a8\"],[0.3333333333333333,\"#9c179e\"],[0.4444444444444444,\"#bd3786\"],[0.5555555555555556,\"#d8576b\"],[0.6666666666666666,\"#ed7953\"],[0.7777777777777778,\"#fb9f3a\"],[0.8888888888888888,\"#fdca26\"],[1.0,\"#f0f921\"]]}],\"mesh3d\":[{\"type\":\"mesh3d\",\"colorbar\":{\"outlinewidth\":0,\"ticks\":\"\"}}],\"scatter\":[{\"fillpattern\":{\"fillmode\":\"overlay\",\"size\":10,\"solidity\":0.2},\"type\":\"scatter\"}],\"parcoords\":[{\"type\":\"parcoords\",\"line\":{\"colorbar\":{\"outlinewidth\":0,\"ticks\":\"\"}}}],\"scatterpolargl\":[{\"type\":\"scatterpolargl\",\"marker\":{\"colorbar\":{\"outlinewidth\":0,\"ticks\":\"\"}}}],\"bar\":[{\"error_x\":{\"color\":\"#2a3f5f\"},\"error_y\":{\"color\":\"#2a3f5f\"},\"marker\":{\"line\":{\"color\":\"#E5ECF6\",\"width\":0.5},\"pattern\":{\"fillmode\":\"overlay\",\"size\":10,\"solidity\":0.2}},\"type\":\"bar\"}],\"scattergeo\":[{\"type\":\"scattergeo\",\"marker\":{\"colorbar\":{\"outlinewidth\":0,\"ticks\":\"\"}}}],\"scatterpolar\":[{\"type\":\"scatterpolar\",\"marker\":{\"colorbar\":{\"outlinewidth\":0,\"ticks\":\"\"}}}],\"histogram\":[{\"marker\":{\"pattern\":{\"fillmode\":\"overlay\",\"size\":10,\"solidity\":0.2}},\"type\":\"histogram\"}],\"scattergl\":[{\"type\":\"scattergl\",\"marker\":{\"colorbar\":{\"outlinewidth\":0,\"ticks\":\"\"}}}],\"scatter3d\":[{\"type\":\"scatter3d\",\"line\":{\"colorbar\":{\"outlinewidth\":0,\"ticks\":\"\"}},\"marker\":{\"colorbar\":{\"outlinewidth\":0,\"ticks\":\"\"}}}],\"scattermapbox\":[{\"type\":\"scattermapbox\",\"marker\":{\"colorbar\":{\"outlinewidth\":0,\"ticks\":\"\"}}}],\"scatterternary\":[{\"type\":\"scatterternary\",\"marker\":{\"colorbar\":{\"outlinewidth\":0,\"ticks\":\"\"}}}],\"scattercarpet\":[{\"type\":\"scattercarpet\",\"marker\":{\"colorbar\":{\"outlinewidth\":0,\"ticks\":\"\"}}}],\"carpet\":[{\"aaxis\":{\"endlinecolor\":\"#2a3f5f\",\"gridcolor\":\"white\",\"linecolor\":\"white\",\"minorgridcolor\":\"white\",\"startlinecolor\":\"#2a3f5f\"},\"baxis\":{\"endlinecolor\":\"#2a3f5f\",\"gridcolor\":\"white\",\"linecolor\":\"white\",\"minorgridcolor\":\"white\",\"startlinecolor\":\"#2a3f5f\"},\"type\":\"carpet\"}],\"table\":[{\"cells\":{\"fill\":{\"color\":\"#EBF0F8\"},\"line\":{\"color\":\"white\"}},\"header\":{\"fill\":{\"color\":\"#C8D4E3\"},\"line\":{\"color\":\"white\"}},\"type\":\"table\"}],\"barpolar\":[{\"marker\":{\"line\":{\"color\":\"#E5ECF6\",\"width\":0.5},\"pattern\":{\"fillmode\":\"overlay\",\"size\":10,\"solidity\":0.2}},\"type\":\"barpolar\"}],\"pie\":[{\"automargin\":true,\"type\":\"pie\"}]},\"layout\":{\"autotypenumbers\":\"strict\",\"colorway\":[\"#636efa\",\"#EF553B\",\"#00cc96\",\"#ab63fa\",\"#FFA15A\",\"#19d3f3\",\"#FF6692\",\"#B6E880\",\"#FF97FF\",\"#FECB52\"],\"font\":{\"color\":\"#2a3f5f\"},\"hovermode\":\"closest\",\"hoverlabel\":{\"align\":\"left\"},\"paper_bgcolor\":\"white\",\"plot_bgcolor\":\"#E5ECF6\",\"polar\":{\"bgcolor\":\"#E5ECF6\",\"angularaxis\":{\"gridcolor\":\"white\",\"linecolor\":\"white\",\"ticks\":\"\"},\"radialaxis\":{\"gridcolor\":\"white\",\"linecolor\":\"white\",\"ticks\":\"\"}},\"ternary\":{\"bgcolor\":\"#E5ECF6\",\"aaxis\":{\"gridcolor\":\"white\",\"linecolor\":\"white\",\"ticks\":\"\"},\"baxis\":{\"gridcolor\":\"white\",\"linecolor\":\"white\",\"ticks\":\"\"},\"caxis\":{\"gridcolor\":\"white\",\"linecolor\":\"white\",\"ticks\":\"\"}},\"coloraxis\":{\"colorbar\":{\"outlinewidth\":0,\"ticks\":\"\"}},\"colorscale\":{\"sequential\":[[0.0,\"#0d0887\"],[0.1111111111111111,\"#46039f\"],[0.2222222222222222,\"#7201a8\"],[0.3333333333333333,\"#9c179e\"],[0.4444444444444444,\"#bd3786\"],[0.5555555555555556,\"#d8576b\"],[0.6666666666666666,\"#ed7953\"],[0.7777777777777778,\"#fb9f3a\"],[0.8888888888888888,\"#fdca26\"],[1.0,\"#f0f921\"]],\"sequentialminus\":[[0.0,\"#0d0887\"],[0.1111111111111111,\"#46039f\"],[0.2222222222222222,\"#7201a8\"],[0.3333333333333333,\"#9c179e\"],[0.4444444444444444,\"#bd3786\"],[0.5555555555555556,\"#d8576b\"],[0.6666666666666666,\"#ed7953\"],[0.7777777777777778,\"#fb9f3a\"],[0.8888888888888888,\"#fdca26\"],[1.0,\"#f0f921\"]],\"diverging\":[[0,\"#8e0152\"],[0.1,\"#c51b7d\"],[0.2,\"#de77ae\"],[0.3,\"#f1b6da\"],[0.4,\"#fde0ef\"],[0.5,\"#f7f7f7\"],[0.6,\"#e6f5d0\"],[0.7,\"#b8e186\"],[0.8,\"#7fbc41\"],[0.9,\"#4d9221\"],[1,\"#276419\"]]},\"xaxis\":{\"gridcolor\":\"white\",\"linecolor\":\"white\",\"ticks\":\"\",\"title\":{\"standoff\":15},\"zerolinecolor\":\"white\",\"automargin\":true,\"zerolinewidth\":2},\"yaxis\":{\"gridcolor\":\"white\",\"linecolor\":\"white\",\"ticks\":\"\",\"title\":{\"standoff\":15},\"zerolinecolor\":\"white\",\"automargin\":true,\"zerolinewidth\":2},\"scene\":{\"xaxis\":{\"backgroundcolor\":\"#E5ECF6\",\"gridcolor\":\"white\",\"linecolor\":\"white\",\"showbackground\":true,\"ticks\":\"\",\"zerolinecolor\":\"white\",\"gridwidth\":2},\"yaxis\":{\"backgroundcolor\":\"#E5ECF6\",\"gridcolor\":\"white\",\"linecolor\":\"white\",\"showbackground\":true,\"ticks\":\"\",\"zerolinecolor\":\"white\",\"gridwidth\":2},\"zaxis\":{\"backgroundcolor\":\"#E5ECF6\",\"gridcolor\":\"white\",\"linecolor\":\"white\",\"showbackground\":true,\"ticks\":\"\",\"zerolinecolor\":\"white\",\"gridwidth\":2}},\"shapedefaults\":{\"line\":{\"color\":\"#2a3f5f\"}},\"annotationdefaults\":{\"arrowcolor\":\"#2a3f5f\",\"arrowhead\":0,\"arrowwidth\":1},\"geo\":{\"bgcolor\":\"white\",\"landcolor\":\"#E5ECF6\",\"subunitcolor\":\"white\",\"showland\":true,\"showlakes\":true,\"lakecolor\":\"white\"},\"title\":{\"x\":0.05},\"mapbox\":{\"style\":\"light\"}}},\"xaxis\":{\"anchor\":\"y\",\"domain\":[0.0,1.0],\"title\":{\"text\":\"playerName\"}},\"yaxis\":{\"anchor\":\"x\",\"domain\":[0.0,1.0],\"title\":{\"text\":\"delta\"}},\"coloraxis\":{\"colorbar\":{\"title\":{\"text\":\"adp\"}},\"colorscale\":[[0.0,\"#0d0887\"],[0.1111111111111111,\"#46039f\"],[0.2222222222222222,\"#7201a8\"],[0.3333333333333333,\"#9c179e\"],[0.4444444444444444,\"#bd3786\"],[0.5555555555555556,\"#d8576b\"],[0.6666666666666666,\"#ed7953\"],[0.7777777777777778,\"#fb9f3a\"],[0.8888888888888888,\"#fdca26\"],[1.0,\"#f0f921\"]]},\"legend\":{\"tracegroupgap\":0},\"title\":{\"text\":\"TEs | Difference in ADP Rank and FP Rank\"},\"barmode\":\"relative\",\"height\":600},                        {\"responsive\": true}                    ).then(function(){\n",
       "                            \n",
       "var gd = document.getElementById('64f792a2-6f19-4684-b8a7-2e9725671741');\n",
       "var x = new MutationObserver(function (mutations, observer) {{\n",
       "        var display = window.getComputedStyle(gd).display;\n",
       "        if (!display || display === 'none') {{\n",
       "            console.log([gd, 'removed!']);\n",
       "            Plotly.purge(gd);\n",
       "            observer.disconnect();\n",
       "        }}\n",
       "}});\n",
       "\n",
       "// Listen for the removal of the full notebook cells\n",
       "var notebookContainer = gd.closest('#notebook-container');\n",
       "if (notebookContainer) {{\n",
       "    x.observe(notebookContainer, {childList: true});\n",
       "}}\n",
       "\n",
       "// Listen for the clearing of the current output cell\n",
       "var outputEl = gd.closest('.output');\n",
       "if (outputEl) {{\n",
       "    x.observe(outputEl, {childList: true});\n",
       "}}\n",
       "\n",
       "                        })                };                });            </script>        </div>"
      ]
     },
     "metadata": {},
     "output_type": "display_data"
    }
   ],
   "source": [
    "# create relative bar chart to show difference in ADP rank and FP rank\n",
    "# a positive delta shows players expected to outperform their ADP\n",
    "# a negative delta show players expected to underperform their ADP\n",
    "\n",
    "fig = px.bar(te_24, x='playerName', y='delta',\n",
    "             hover_data=['adp_rank', 'adp', 'fp_rank', 'fantasyPoints'], color='adp',\n",
    "             title='TEs | Difference in ADP Rank and FP Rank', height=600, barmode='relative')\n",
    "fig.show()\n",
    "fig.write_html(\"fig/te_bar.html\")\n",
    "fig.write_image(\"images/te_bar.png\")"
   ]
  },
  {
   "cell_type": "code",
   "execution_count": null,
   "id": "e714335f",
   "metadata": {},
   "outputs": [],
   "source": []
  }
 ],
 "metadata": {
  "kernelspec": {
   "display_name": "PythonData",
   "language": "python",
   "name": "pythondata"
  },
  "language_info": {
   "codemirror_mode": {
    "name": "ipython",
    "version": 3
   },
   "file_extension": ".py",
   "mimetype": "text/x-python",
   "name": "python",
   "nbconvert_exporter": "python",
   "pygments_lexer": "ipython3",
   "version": "3.7.11"
  }
 },
 "nbformat": 4,
 "nbformat_minor": 5
}
